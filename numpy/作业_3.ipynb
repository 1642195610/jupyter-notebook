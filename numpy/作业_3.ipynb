{
 "cells": [
  {
   "cell_type": "code",
   "execution_count": 1,
   "metadata": {},
   "outputs": [],
   "source": [
    "import numpy as np"
   ]
  },
  {
   "cell_type": "code",
   "execution_count": 2,
   "metadata": {},
   "outputs": [],
   "source": [
    "arr1 = np.array([[81, 64, 64, 10],\n",
    "       [32, 91, 83, 12],\n",
    "       [69, 78, 67, 17]])"
   ]
  },
  {
   "cell_type": "markdown",
   "metadata": {},
   "source": [
    "# 数组添加元素\n",
    "sss=np.vstack((原数组,想添加的数组)) #添加行,参数要有()   \n",
    "np.vstack((arr1,[81, 64, 64, 10])) #[81, 64, 64, 10]处可以以元组的方式展示   \n",
    "sss=np.hstack((原数组,想添加的数组)) #添加列,参数要有(),数数据要体现出列的关系   \n",
    "np.hstack((arr1,[[1],[2],[3]])) #[1],[2],[3]] 可以用元组，但内部元素不要元组   \n",
    "sss=np.append(原数组,想添加的数组,axis=行为0，列为1) #想添加的数组的维度与原数组维度一致    \n",
    "sss=np.insert(原数组,位置,想添加的list,axis=行为0，列为1) #二维数据  只要长度一致即可    \n",
    "sss=np.insert(原一维数组,位置,想添加的list)#一维数据   "
   ]
  },
  {
   "cell_type": "markdown",
   "metadata": {},
   "source": [
    "### 练习一"
   ]
  },
  {
   "cell_type": "code",
   "execution_count": 40,
   "metadata": {},
   "outputs": [
    {
     "data": {
      "text/plain": [
       "array([[81, 64, 64, 10],\n",
       "       [32, 91, 83, 12],\n",
       "       [69, 78, 67, 17]])"
      ]
     },
     "execution_count": 40,
     "metadata": {},
     "output_type": "execute_result"
    }
   ],
   "source": [
    "arr1"
   ]
  },
  {
   "cell_type": "code",
   "execution_count": 62,
   "metadata": {
    "scrolled": false
   },
   "outputs": [
    {
     "data": {
      "text/plain": [
       "array([[81,  1, 64, 64, 10],\n",
       "       [32,  2, 91, 83, 12],\n",
       "       [69,  3, 78, 67, 17]])"
      ]
     },
     "execution_count": 62,
     "metadata": {},
     "output_type": "execute_result"
    }
   ],
   "source": [
    "#vstack，hstack 实现\n",
    "#1 为arr1 追加一行（内容为第2行的数据）\n",
    "np.vstack((arr1,arr1[2,:]))\n",
    "#2 为arr1 追加两列（内容为第1，2列的数据）\n",
    "np.hstack((arr1,arr1[:,1:3]))\n",
    "#3 为arr1 追加-列（内容如为第三列的数据）\n",
    "np.hstack((arr1,arr1[:,[3]]))\n",
    "\n",
    "#append 实现\n",
    "#1 对arr1进行以行的形式追加arr1\n",
    "np.append(arr1,arr1[:,:],axis = 0)\n",
    "#2 对arr1进行以列的形式追加arr1\n",
    "np.append(arr1,arr1[:,:],axis = 1)\n",
    "#3 对arr1进追加一行内容为 1，2，3，4\n",
    "np.append(arr1,[[1,2,3,4]],axis = 0)\n",
    "#4 对arr1进追加一列内容为 1，2，3\n",
    "np.append(arr1,[[1],[2],[3]],axis = 1)\n",
    "\n",
    "#insert 实现\n",
    "#1 对arr1在第1行后追加一行内容为 1，2，3，4\n",
    "np.insert(arr1,1,[1,2,3,4],axis = 0)\n",
    "# np.insert(arr1,1,[1,2,3,4],axis=0)\n",
    "#2 对arr1在地列后追加一行内容为 1，2，3\n",
    "np.insert(arr1,1,[1,2,3],axis = 1)"
   ]
  },
  {
   "cell_type": "markdown",
   "metadata": {},
   "source": [
    "# 函数\n",
    "               \n",
    "np.multiply(mat1,mat2) #矩阵计算对应位置乘法 arr1 * arr2       \n",
    "np.sort(a,axis=1|0) #排序  ,以第一列对行进行排序，或以第一行对列进行排序  \n",
    "np.argsort(a,axis=1|0) #排序后的索引位置       \n",
    "a.ravel() #数组展开为一维度      \n",
    "np.cumsum(a) #累加函数           \n",
    "np.where(条件,true,false) #等价于excel的if,可嵌套  \n",
    "np.unique(数组）#对数据去重   "
   ]
  },
  {
   "cell_type": "markdown",
   "metadata": {},
   "source": [
    "### 练习二"
   ]
  },
  {
   "cell_type": "code",
   "execution_count": 3,
   "metadata": {},
   "outputs": [
    {
     "data": {
      "text/plain": [
       "2"
      ]
     },
     "execution_count": 3,
     "metadata": {},
     "output_type": "execute_result"
    }
   ],
   "source": [
    "arr1 = np.array([[81, 64, 64, 10],\n",
    "       [32, 91, 83, 12],\n",
    "       [69, 78, 67, 17]])"
   ]
  },
  {
   "cell_type": "markdown",
   "metadata": {},
   "source": [
    "1. 计算arr1各行的平均值并绑定到arr1上\n"
   ]
  },
  {
   "cell_type": "code",
   "execution_count": null,
   "metadata": {},
   "outputs": [],
   "source": []
  },
  {
   "cell_type": "markdown",
   "metadata": {},
   "source": [
    "2. 计算arr1各列的总和并添加到arr1上"
   ]
  },
  {
   "cell_type": "code",
   "execution_count": null,
   "metadata": {},
   "outputs": [],
   "source": []
  },
  {
   "cell_type": "markdown",
   "metadata": {},
   "source": [
    "3. 找到每行最大值所在的列号"
   ]
  },
  {
   "cell_type": "code",
   "execution_count": null,
   "metadata": {},
   "outputs": [],
   "source": []
  },
  {
   "cell_type": "markdown",
   "metadata": {},
   "source": [
    "4. 找到每列最大值所在的行号"
   ]
  },
  {
   "cell_type": "code",
   "execution_count": null,
   "metadata": {},
   "outputs": [],
   "source": []
  },
  {
   "cell_type": "markdown",
   "metadata": {},
   "source": [
    "5. 求每行中各列的累积百分比（比如81占第0行的百分比，81+64占第0行的百分比，以此类推）"
   ]
  },
  {
   "cell_type": "code",
   "execution_count": 5,
   "metadata": {
    "scrolled": true
   },
   "outputs": [
    {
     "data": {
      "text/plain": [
       "array([[ 81, 145, 209, 219],\n",
       "       [ 32, 123, 206, 218],\n",
       "       [ 69, 147, 214, 231]], dtype=int32)"
      ]
     },
     "execution_count": 5,
     "metadata": {},
     "output_type": "execute_result"
    }
   ],
   "source": [
    "# 列方向累加求和\n",
    "np.cumsum(arr1,axis=1)"
   ]
  },
  {
   "cell_type": "code",
   "execution_count": null,
   "metadata": {},
   "outputs": [],
   "source": []
  },
  {
   "cell_type": "markdown",
   "metadata": {},
   "source": [
    "6. 对arr1 进行不及格，及格， 中，良，优的划分 结果为arr2"
   ]
  },
  {
   "cell_type": "code",
   "execution_count": null,
   "metadata": {},
   "outputs": [],
   "source": []
  },
  {
   "cell_type": "markdown",
   "metadata": {},
   "source": [
    "7. 把arr1 变为一维数据"
   ]
  },
  {
   "cell_type": "code",
   "execution_count": null,
   "metadata": {},
   "outputs": [],
   "source": []
  },
  {
   "cell_type": "markdown",
   "metadata": {},
   "source": [
    "8. 对arr2进行去重处理"
   ]
  },
  {
   "cell_type": "code",
   "execution_count": null,
   "metadata": {},
   "outputs": [],
   "source": []
  },
  {
   "cell_type": "code",
   "execution_count": 5,
   "metadata": {},
   "outputs": [],
   "source": [
    "arr1 = np.array([[81, 64, 64, 10],\n",
    "                 [32, 91, 83, 12],\n",
    "                 [69, 78, 67, 17]])"
   ]
  },
  {
   "cell_type": "markdown",
   "metadata": {},
   "source": [
    "### 练习三"
   ]
  },
  {
   "cell_type": "code",
   "execution_count": 16,
   "metadata": {},
   "outputs": [],
   "source": [
    "arr = [[28, 92, 51, 83, 25],\n",
    "       [84, 32, 99, 43, 78],\n",
    "       [55, 42, 30, 48, 43]]\n",
    "#假定 行分别为小明， 小红， 小白\n",
    "#假定列分别为数学，语文，英语，物理, 化学\n",
    "arr = np.array(arr)\n",
    "renming = np.array([\"小明\",\"小红\",\"小白\"])\n",
    "chengji = np.array([\"数学\",\"语文\",\"英语\",\"物理\",\"化学\"])"
   ]
  },
  {
   "cell_type": "code",
   "execution_count": 79,
   "metadata": {},
   "outputs": [
    {
     "data": {
      "text/plain": [
       "array([[20, 90, 50, 80, 20],\n",
       "       [80, 30, 90, 40, 70],\n",
       "       [50, 40, 30, 40, 40]])"
      ]
     },
     "execution_count": 79,
     "metadata": {},
     "output_type": "execute_result"
    }
   ],
   "source": [
    "#1 找到每人最高分的科目\n",
    "\n",
    "#2 找到每科最高分的人名\n",
    "\n",
    "#3 计算每人的不及格科目数\n",
    "\n",
    "#4 按平均分对学生进行排序\n",
    "\n",
    "\n",
    "#5 找出成绩最稳定的人\n",
    "\n",
    "#6 找出成绩最好的科目\n",
    "\n",
    "#7 计算每科的及格率\n",
    "\n",
    "#8 按总分对科目进行排序\n",
    "\n",
    "#9 对成绩进行化整 (如 20，90，50，80，20 等)\n",
    "\n",
    "#10 统计所用几个数，不及格数， 人数，科目数\n"
   ]
  },
  {
   "cell_type": "markdown",
   "metadata": {},
   "source": [
    "### 练习四"
   ]
  },
  {
   "cell_type": "code",
   "execution_count": 14,
   "metadata": {},
   "outputs": [
    {
     "data": {
      "text/plain": [
       "array([[-1, 92, -1, 83, 25],\n",
       "       [84, 32, 99, 43, 78],\n",
       "       [-1, 42, -1, 48, -1]])"
      ]
     },
     "execution_count": 14,
     "metadata": {},
     "output_type": "execute_result"
    }
   ],
   "source": [
    "#1 对arr 随机设计几个-1\n",
    "\n",
    "#2 对arr 的缺失值进行以列的形式进行均值替换-1\n"
   ]
  },
  {
   "cell_type": "code",
   "execution_count": null,
   "metadata": {},
   "outputs": [],
   "source": []
  }
 ],
 "metadata": {
  "kernelspec": {
   "display_name": "Python 3",
   "language": "python",
   "name": "python3"
  },
  "language_info": {
   "codemirror_mode": {
    "name": "ipython",
    "version": 3
   },
   "file_extension": ".py",
   "mimetype": "text/x-python",
   "name": "python",
   "nbconvert_exporter": "python",
   "pygments_lexer": "ipython3",
   "version": "3.8.3"
  }
 },
 "nbformat": 4,
 "nbformat_minor": 2
}

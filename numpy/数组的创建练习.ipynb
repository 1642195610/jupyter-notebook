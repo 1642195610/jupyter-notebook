{
 "cells": [
  {
   "cell_type": "code",
   "execution_count": 5,
   "metadata": {},
   "outputs": [
    {
     "data": {
      "text/plain": [
       "array([0.5488135 , 0.71518937, 0.60276338, 0.54488318, 0.4236548 ,\n",
       "       0.64589411, 0.43758721, 0.891773  , 0.96366276])"
      ]
     },
     "execution_count": 5,
     "metadata": {},
     "output_type": "execute_result"
    }
   ],
   "source": [
    "# 数组的创建\n",
    "import numpy as np\n",
    "\n",
    "# 1.\n",
    "arr1 = np.array([1,2,3])\n",
    "arr1\n",
    "\n",
    "# 2.\n",
    "arr2 = np.arange(3)\n",
    "arr2\n",
    "\n",
    "# 3.\n",
    "arr3 = np.array(list(range(3)))\n",
    "arr3\n",
    "\n",
    "arr_tuple = np.array((1,2,3))\n",
    "arr_tuple\n",
    "\n",
    "# 正态分布的随机数\n",
    "np.random.randn(3)\n",
    "\n",
    "# 整数的随机数\n",
    "np.random.randint(3)\n",
    "\n",
    "# 小数的随机数\n",
    "np.random.random(3)\n",
    "\n",
    "# 单位矩阵\n",
    "arr_zeros = np.zeros(3)\n",
    "arr_zeros\n",
    "\n",
    "arr_ones = np.ones(3)\n",
    "arr_ones\n",
    "\n",
    "# 对角矩阵\n",
    "arr_eye = np.eye(5)\n",
    "arr_eye\n",
    "\n",
    "# 随机数种子\n",
    "np.random.seed(0)\n",
    "np.random.rand(3,3)\n",
    "\n",
    "# 创建\n",
    "\n",
    "import numpy as np\n",
    "\n",
    "# 1.传列表\n",
    "arr1 = np.array([1,2,3])\n",
    "\n",
    "# 2.随机数\n",
    "\n",
    "# 2.1\n",
    "arr2 = np.random.random(10)\n",
    "# 2.2\n",
    "arr3 = np.random.randint(1,10,10).reshape(2,5)\n",
    "# 2.3\n",
    "arr4 = np.zeros([3,3])\n",
    "# 2.4\n",
    "arr5 = np.ones([3,3])\n",
    "# 2.5\n",
    "arr6 = np.zeros_like(arr5)\n",
    "# 2.6\n",
    "arr7 = np.eye(5)\n",
    "# 2.8\n",
    "arr8 = np.arange(1,10,1.1)\n",
    "# 种子\n",
    "np.random.seed(0)\n",
    "np.random.rand(9)"
   ]
  },
  {
   "cell_type": "code",
   "execution_count": null,
   "metadata": {},
   "outputs": [],
   "source": []
  }
 ],
 "metadata": {
  "kernelspec": {
   "display_name": "Python 3",
   "language": "python",
   "name": "python3"
  },
  "language_info": {
   "codemirror_mode": {
    "name": "ipython",
    "version": 3
   },
   "file_extension": ".py",
   "mimetype": "text/x-python",
   "name": "python",
   "nbconvert_exporter": "python",
   "pygments_lexer": "ipython3",
   "version": "3.8.3"
  }
 },
 "nbformat": 4,
 "nbformat_minor": 4
}

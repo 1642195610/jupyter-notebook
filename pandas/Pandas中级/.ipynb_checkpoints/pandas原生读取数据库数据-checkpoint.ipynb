{
 "cells": [
  {
   "cell_type": "code",
   "execution_count": 1,
   "metadata": {},
   "outputs": [],
   "source": [
    "import pandas as pd"
   ]
  },
  {
   "cell_type": "code",
   "execution_count": 2,
   "metadata": {},
   "outputs": [],
   "source": [
    "import pymysql"
   ]
  },
  {
   "cell_type": "code",
   "execution_count": 3,
   "metadata": {},
   "outputs": [],
   "source": [
    "ini = {\n",
    "    \"host\":\"localhost\",\n",
    "    \"user\":\"root\",\n",
    "    \"password\":\"7758258\",\n",
    "    \"port\":3306,\n",
    "    \"database\":\"db\",\n",
    "    \"charset\":\"utf8\"\n",
    "         }"
   ]
  },
  {
   "cell_type": "code",
   "execution_count": 4,
   "metadata": {},
   "outputs": [],
   "source": [
    "connect = pymysql.connect(**ini)"
   ]
  },
  {
   "cell_type": "code",
   "execution_count": 5,
   "metadata": {},
   "outputs": [],
   "source": [
    "data = pd.read_sql(\n",
    "    \"select * from 贷款表\",\n",
    "    connect\n",
    "                  )"
   ]
  },
  {
   "cell_type": "code",
   "execution_count": 6,
   "metadata": {
    "scrolled": true
   },
   "outputs": [
    {
     "data": {
      "text/html": [
       "<div>\n",
       "<style scoped>\n",
       "    .dataframe tbody tr th:only-of-type {\n",
       "        vertical-align: middle;\n",
       "    }\n",
       "\n",
       "    .dataframe tbody tr th {\n",
       "        vertical-align: top;\n",
       "    }\n",
       "\n",
       "    .dataframe thead th {\n",
       "        text-align: right;\n",
       "    }\n",
       "</style>\n",
       "<table border=\"1\" class=\"dataframe\">\n",
       "  <thead>\n",
       "    <tr style=\"text-align: right;\">\n",
       "      <th></th>\n",
       "      <th>大区</th>\n",
       "      <th>脱敏手机</th>\n",
       "      <th>脱敏姓名</th>\n",
       "      <th>借款类型</th>\n",
       "      <th>上线时间</th>\n",
       "      <th>金额</th>\n",
       "      <th>所属销售</th>\n",
       "      <th>test</th>\n",
       "    </tr>\n",
       "  </thead>\n",
       "  <tbody>\n",
       "    <tr>\n",
       "      <th>22</th>\n",
       "      <td>华北</td>\n",
       "      <td>133****4061</td>\n",
       "      <td>刘**</td>\n",
       "      <td>工薪类</td>\n",
       "      <td>2019-08-07</td>\n",
       "      <td>7000.0</td>\n",
       "      <td>李文静</td>\n",
       "      <td>abc</td>\n",
       "    </tr>\n",
       "    <tr>\n",
       "      <th>23</th>\n",
       "      <td>华西</td>\n",
       "      <td>137****2572</td>\n",
       "      <td>李**</td>\n",
       "      <td>精英类</td>\n",
       "      <td>2019-08-02</td>\n",
       "      <td>NaN</td>\n",
       "      <td>王伟伟</td>\n",
       "      <td>abc</td>\n",
       "    </tr>\n",
       "    <tr>\n",
       "      <th>24</th>\n",
       "      <td>华中</td>\n",
       "      <td>180****9592</td>\n",
       "      <td>张**</td>\n",
       "      <td>精英A类</td>\n",
       "      <td>2019-08-05</td>\n",
       "      <td>NaN</td>\n",
       "      <td>王伟伟</td>\n",
       "      <td>abc</td>\n",
       "    </tr>\n",
       "    <tr>\n",
       "      <th>25</th>\n",
       "      <td>华西</td>\n",
       "      <td>159****1734</td>\n",
       "      <td>王**</td>\n",
       "      <td>工薪类</td>\n",
       "      <td>2019-08-02</td>\n",
       "      <td>7000.0</td>\n",
       "      <td>李文静</td>\n",
       "      <td>abc</td>\n",
       "    </tr>\n",
       "    <tr>\n",
       "      <th>26</th>\n",
       "      <td>华东</td>\n",
       "      <td>137****2572</td>\n",
       "      <td>李**</td>\n",
       "      <td>公积金类</td>\n",
       "      <td>None</td>\n",
       "      <td>NaN</td>\n",
       "      <td>None</td>\n",
       "      <td>None</td>\n",
       "    </tr>\n",
       "  </tbody>\n",
       "</table>\n",
       "</div>"
      ],
      "text/plain": [
       "    大区         脱敏手机 脱敏姓名  借款类型        上线时间      金额  所属销售  test\n",
       "22  华北  133****4061  刘**   工薪类  2019-08-07  7000.0   李文静   abc\n",
       "23  华西  137****2572  李**   精英类  2019-08-02     NaN   王伟伟   abc\n",
       "24  华中  180****9592  张**  精英A类  2019-08-05     NaN   王伟伟   abc\n",
       "25  华西  159****1734  王**   工薪类  2019-08-02  7000.0   李文静   abc\n",
       "26  华东  137****2572  李**  公积金类        None     NaN  None  None"
      ]
     },
     "execution_count": 6,
     "metadata": {},
     "output_type": "execute_result"
    }
   ],
   "source": [
    "data.tail()"
   ]
  },
  {
   "cell_type": "code",
   "execution_count": null,
   "metadata": {},
   "outputs": [],
   "source": []
  },
  {
   "cell_type": "code",
   "execution_count": null,
   "metadata": {},
   "outputs": [],
   "source": []
  }
 ],
 "metadata": {
  "kernelspec": {
   "display_name": "Python 3",
   "language": "python",
   "name": "python3"
  },
  "language_info": {
   "codemirror_mode": {
    "name": "ipython",
    "version": 3
   },
   "file_extension": ".py",
   "mimetype": "text/x-python",
   "name": "python",
   "nbconvert_exporter": "python",
   "pygments_lexer": "ipython3",
   "version": "3.8.3"
  }
 },
 "nbformat": 4,
 "nbformat_minor": 4
}

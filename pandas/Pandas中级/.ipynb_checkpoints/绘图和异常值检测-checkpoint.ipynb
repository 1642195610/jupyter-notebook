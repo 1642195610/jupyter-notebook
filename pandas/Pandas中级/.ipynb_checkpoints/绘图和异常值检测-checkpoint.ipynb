{
 "cells": [
  {
   "cell_type": "code",
   "execution_count": 177,
   "metadata": {},
   "outputs": [],
   "source": [
    "import pandas as pd"
   ]
  },
  {
   "cell_type": "code",
   "execution_count": 178,
   "metadata": {},
   "outputs": [],
   "source": [
    "import numpy as np"
   ]
  },
  {
   "cell_type": "code",
   "execution_count": 179,
   "metadata": {},
   "outputs": [],
   "source": [
    "df = pd.read_csv('sec_cars.csv')"
   ]
  },
  {
   "cell_type": "code",
   "execution_count": 180,
   "metadata": {
    "scrolled": true
   },
   "outputs": [
    {
     "data": {
      "text/html": [
       "<div>\n",
       "<style scoped>\n",
       "    .dataframe tbody tr th:only-of-type {\n",
       "        vertical-align: middle;\n",
       "    }\n",
       "\n",
       "    .dataframe tbody tr th {\n",
       "        vertical-align: top;\n",
       "    }\n",
       "\n",
       "    .dataframe thead th {\n",
       "        text-align: right;\n",
       "    }\n",
       "</style>\n",
       "<table border=\"1\" class=\"dataframe\">\n",
       "  <thead>\n",
       "    <tr style=\"text-align: right;\">\n",
       "      <th></th>\n",
       "      <th>Brand</th>\n",
       "      <th>Name</th>\n",
       "      <th>Boarding_time</th>\n",
       "      <th>Km(W)</th>\n",
       "      <th>Discharge</th>\n",
       "      <th>Sec_price</th>\n",
       "      <th>New_price</th>\n",
       "    </tr>\n",
       "  </thead>\n",
       "  <tbody>\n",
       "    <tr>\n",
       "      <th>0</th>\n",
       "      <td>众泰</td>\n",
       "      <td>众泰T600 2016款 1.5T 手动 豪华型</td>\n",
       "      <td>2016年5月</td>\n",
       "      <td>3.96</td>\n",
       "      <td>国4</td>\n",
       "      <td>6.8</td>\n",
       "      <td>9.42万</td>\n",
       "    </tr>\n",
       "    <tr>\n",
       "      <th>1</th>\n",
       "      <td>众泰</td>\n",
       "      <td>众泰Z700 2016款 1.8T 手动 典雅型</td>\n",
       "      <td>2017年8月</td>\n",
       "      <td>0.08</td>\n",
       "      <td>国4,国5</td>\n",
       "      <td>8.8</td>\n",
       "      <td>11.92万</td>\n",
       "    </tr>\n",
       "    <tr>\n",
       "      <th>2</th>\n",
       "      <td>众泰</td>\n",
       "      <td>大迈X5 2015款 1.5T 手动 豪华型</td>\n",
       "      <td>2016年9月</td>\n",
       "      <td>0.80</td>\n",
       "      <td>国4</td>\n",
       "      <td>5.8</td>\n",
       "      <td>8.56万</td>\n",
       "    </tr>\n",
       "    <tr>\n",
       "      <th>3</th>\n",
       "      <td>众泰</td>\n",
       "      <td>众泰T600 2017款 1.5T 手动 精英贺岁版</td>\n",
       "      <td>2017年3月</td>\n",
       "      <td>0.30</td>\n",
       "      <td>国5</td>\n",
       "      <td>6.2</td>\n",
       "      <td>8.66万</td>\n",
       "    </tr>\n",
       "    <tr>\n",
       "      <th>4</th>\n",
       "      <td>众泰</td>\n",
       "      <td>众泰T600 2016款 1.5T 手动 旗舰型</td>\n",
       "      <td>2016年2月</td>\n",
       "      <td>1.70</td>\n",
       "      <td>国4</td>\n",
       "      <td>7.0</td>\n",
       "      <td>11.59万</td>\n",
       "    </tr>\n",
       "  </tbody>\n",
       "</table>\n",
       "</div>"
      ],
      "text/plain": [
       "  Brand                        Name Boarding_time  Km(W) Discharge  Sec_price  \\\n",
       "0    众泰    众泰T600 2016款 1.5T 手动 豪华型       2016年5月   3.96        国4        6.8   \n",
       "1    众泰    众泰Z700 2016款 1.8T 手动 典雅型       2017年8月   0.08     国4,国5        8.8   \n",
       "2    众泰      大迈X5 2015款 1.5T 手动 豪华型       2016年9月   0.80        国4        5.8   \n",
       "3    众泰  众泰T600 2017款 1.5T 手动 精英贺岁版       2017年3月   0.30        国5        6.2   \n",
       "4    众泰    众泰T600 2016款 1.5T 手动 旗舰型       2016年2月   1.70        国4        7.0   \n",
       "\n",
       "  New_price  \n",
       "0     9.42万  \n",
       "1    11.92万  \n",
       "2     8.56万  \n",
       "3     8.66万  \n",
       "4    11.59万  "
      ]
     },
     "execution_count": 180,
     "metadata": {},
     "output_type": "execute_result"
    }
   ],
   "source": [
    "df.head()"
   ]
  },
  {
   "cell_type": "code",
   "execution_count": 181,
   "metadata": {},
   "outputs": [
    {
     "data": {
      "text/plain": [
       "Index(['Brand', 'Name', 'Boarding_time', 'Km(W)', 'Discharge', 'Sec_price',\n",
       "       'New_price'],\n",
       "      dtype='object')"
      ]
     },
     "execution_count": 181,
     "metadata": {},
     "output_type": "execute_result"
    }
   ],
   "source": [
    "df.columns"
   ]
  },
  {
   "cell_type": "code",
   "execution_count": 182,
   "metadata": {},
   "outputs": [
    {
     "name": "stdout",
     "output_type": "stream",
     "text": [
      "<class 'pandas.core.frame.DataFrame'>\n",
      "RangeIndex: 11125 entries, 0 to 11124\n",
      "Data columns (total 7 columns):\n",
      " #   Column         Non-Null Count  Dtype  \n",
      "---  ------         --------------  -----  \n",
      " 0   Brand          11125 non-null  object \n",
      " 1   Name           11125 non-null  object \n",
      " 2   Boarding_time  11125 non-null  object \n",
      " 3   Km(W)          11125 non-null  float64\n",
      " 4   Discharge      11125 non-null  object \n",
      " 5   Sec_price      11125 non-null  float64\n",
      " 6   New_price      11125 non-null  object \n",
      "dtypes: float64(2), object(5)\n",
      "memory usage: 608.5+ KB\n"
     ]
    }
   ],
   "source": [
    "df.info()"
   ]
  },
  {
   "cell_type": "code",
   "execution_count": 183,
   "metadata": {},
   "outputs": [],
   "source": [
    "df['Boarding_time'] =  \\\n",
    "pd.to_datetime(df['Boarding_time'],\n",
    "               format = '%Y年%m月' )"
   ]
  },
  {
   "cell_type": "code",
   "execution_count": 184,
   "metadata": {},
   "outputs": [
    {
     "name": "stdout",
     "output_type": "stream",
     "text": [
      "<class 'pandas.core.frame.DataFrame'>\n",
      "RangeIndex: 11125 entries, 0 to 11124\n",
      "Data columns (total 7 columns):\n",
      " #   Column         Non-Null Count  Dtype         \n",
      "---  ------         --------------  -----         \n",
      " 0   Brand          11125 non-null  object        \n",
      " 1   Name           11125 non-null  object        \n",
      " 2   Boarding_time  11125 non-null  datetime64[ns]\n",
      " 3   Km(W)          11125 non-null  float64       \n",
      " 4   Discharge      11125 non-null  object        \n",
      " 5   Sec_price      11125 non-null  float64       \n",
      " 6   New_price      11125 non-null  object        \n",
      "dtypes: datetime64[ns](1), float64(2), object(4)\n",
      "memory usage: 608.5+ KB\n"
     ]
    }
   ],
   "source": [
    "df.info()"
   ]
  },
  {
   "cell_type": "code",
   "execution_count": 185,
   "metadata": {
    "scrolled": true
   },
   "outputs": [
    {
     "data": {
      "text/html": [
       "<div>\n",
       "<style scoped>\n",
       "    .dataframe tbody tr th:only-of-type {\n",
       "        vertical-align: middle;\n",
       "    }\n",
       "\n",
       "    .dataframe tbody tr th {\n",
       "        vertical-align: top;\n",
       "    }\n",
       "\n",
       "    .dataframe thead th {\n",
       "        text-align: right;\n",
       "    }\n",
       "</style>\n",
       "<table border=\"1\" class=\"dataframe\">\n",
       "  <thead>\n",
       "    <tr style=\"text-align: right;\">\n",
       "      <th></th>\n",
       "      <th>Brand</th>\n",
       "      <th>Name</th>\n",
       "      <th>Boarding_time</th>\n",
       "      <th>Km(W)</th>\n",
       "      <th>Discharge</th>\n",
       "      <th>Sec_price</th>\n",
       "      <th>New_price</th>\n",
       "    </tr>\n",
       "  </thead>\n",
       "  <tbody>\n",
       "    <tr>\n",
       "      <th>11120</th>\n",
       "      <td>DS</td>\n",
       "      <td>DS 3 2012款 1.6L 手自一体 风尚版</td>\n",
       "      <td>2013-06-01</td>\n",
       "      <td>1.90</td>\n",
       "      <td>欧5</td>\n",
       "      <td>10.80</td>\n",
       "      <td>23.86万</td>\n",
       "    </tr>\n",
       "    <tr>\n",
       "      <th>11121</th>\n",
       "      <td>DS</td>\n",
       "      <td>DS 3 2012款 1.6L 手自一体 风尚版</td>\n",
       "      <td>2013-06-01</td>\n",
       "      <td>1.92</td>\n",
       "      <td>欧5</td>\n",
       "      <td>9.50</td>\n",
       "      <td>23.86万</td>\n",
       "    </tr>\n",
       "    <tr>\n",
       "      <th>11122</th>\n",
       "      <td>DS</td>\n",
       "      <td>DS 5LS 2015款 1.6T 手自一体 THP160雅致版</td>\n",
       "      <td>2016-05-01</td>\n",
       "      <td>1.51</td>\n",
       "      <td>国4,国5</td>\n",
       "      <td>12.30</td>\n",
       "      <td>20.28万</td>\n",
       "    </tr>\n",
       "    <tr>\n",
       "      <th>11123</th>\n",
       "      <td>DS</td>\n",
       "      <td>DS 5 2015款 1.8T 手自一体 THP200 豪华版</td>\n",
       "      <td>2016-03-01</td>\n",
       "      <td>3.00</td>\n",
       "      <td>国4,国5</td>\n",
       "      <td>17.99</td>\n",
       "      <td>28.65万</td>\n",
       "    </tr>\n",
       "    <tr>\n",
       "      <th>11124</th>\n",
       "      <td>DS</td>\n",
       "      <td>DS 6 2016款 1.6T 豪华版THP160</td>\n",
       "      <td>2017-01-01</td>\n",
       "      <td>1.37</td>\n",
       "      <td>国4,国5</td>\n",
       "      <td>16.00</td>\n",
       "      <td>24.95万</td>\n",
       "    </tr>\n",
       "  </tbody>\n",
       "</table>\n",
       "</div>"
      ],
      "text/plain": [
       "      Brand                              Name Boarding_time  Km(W) Discharge  \\\n",
       "11120    DS          DS 3 2012款 1.6L 手自一体 风尚版    2013-06-01   1.90        欧5   \n",
       "11121    DS          DS 3 2012款 1.6L 手自一体 风尚版    2013-06-01   1.92        欧5   \n",
       "11122    DS  DS 5LS 2015款 1.6T 手自一体 THP160雅致版    2016-05-01   1.51     国4,国5   \n",
       "11123    DS   DS 5 2015款 1.8T 手自一体 THP200 豪华版    2016-03-01   3.00     国4,国5   \n",
       "11124    DS         DS 6 2016款 1.6T 豪华版THP160    2017-01-01   1.37     国4,国5   \n",
       "\n",
       "       Sec_price New_price  \n",
       "11120      10.80    23.86万  \n",
       "11121       9.50    23.86万  \n",
       "11122      12.30    20.28万  \n",
       "11123      17.99    28.65万  \n",
       "11124      16.00    24.95万  "
      ]
     },
     "execution_count": 185,
     "metadata": {},
     "output_type": "execute_result"
    }
   ],
   "source": [
    "df.tail()"
   ]
  },
  {
   "cell_type": "code",
   "execution_count": 186,
   "metadata": {},
   "outputs": [],
   "source": [
    "df = df[df['New_price'] != \"暂无\"]"
   ]
  },
  {
   "cell_type": "code",
   "execution_count": 187,
   "metadata": {
    "scrolled": true
   },
   "outputs": [
    {
     "data": {
      "text/html": [
       "<div>\n",
       "<style scoped>\n",
       "    .dataframe tbody tr th:only-of-type {\n",
       "        vertical-align: middle;\n",
       "    }\n",
       "\n",
       "    .dataframe tbody tr th {\n",
       "        vertical-align: top;\n",
       "    }\n",
       "\n",
       "    .dataframe thead th {\n",
       "        text-align: right;\n",
       "    }\n",
       "</style>\n",
       "<table border=\"1\" class=\"dataframe\">\n",
       "  <thead>\n",
       "    <tr style=\"text-align: right;\">\n",
       "      <th></th>\n",
       "      <th>Brand</th>\n",
       "      <th>Name</th>\n",
       "      <th>Boarding_time</th>\n",
       "      <th>Km(W)</th>\n",
       "      <th>Discharge</th>\n",
       "      <th>Sec_price</th>\n",
       "      <th>New_price</th>\n",
       "    </tr>\n",
       "  </thead>\n",
       "  <tbody>\n",
       "    <tr>\n",
       "      <th>0</th>\n",
       "      <td>众泰</td>\n",
       "      <td>众泰T600 2016款 1.5T 手动 豪华型</td>\n",
       "      <td>2016-05-01</td>\n",
       "      <td>3.96</td>\n",
       "      <td>国4</td>\n",
       "      <td>6.8</td>\n",
       "      <td>9.42万</td>\n",
       "    </tr>\n",
       "    <tr>\n",
       "      <th>1</th>\n",
       "      <td>众泰</td>\n",
       "      <td>众泰Z700 2016款 1.8T 手动 典雅型</td>\n",
       "      <td>2017-08-01</td>\n",
       "      <td>0.08</td>\n",
       "      <td>国4,国5</td>\n",
       "      <td>8.8</td>\n",
       "      <td>11.92万</td>\n",
       "    </tr>\n",
       "    <tr>\n",
       "      <th>2</th>\n",
       "      <td>众泰</td>\n",
       "      <td>大迈X5 2015款 1.5T 手动 豪华型</td>\n",
       "      <td>2016-09-01</td>\n",
       "      <td>0.80</td>\n",
       "      <td>国4</td>\n",
       "      <td>5.8</td>\n",
       "      <td>8.56万</td>\n",
       "    </tr>\n",
       "    <tr>\n",
       "      <th>3</th>\n",
       "      <td>众泰</td>\n",
       "      <td>众泰T600 2017款 1.5T 手动 精英贺岁版</td>\n",
       "      <td>2017-03-01</td>\n",
       "      <td>0.30</td>\n",
       "      <td>国5</td>\n",
       "      <td>6.2</td>\n",
       "      <td>8.66万</td>\n",
       "    </tr>\n",
       "    <tr>\n",
       "      <th>4</th>\n",
       "      <td>众泰</td>\n",
       "      <td>众泰T600 2016款 1.5T 手动 旗舰型</td>\n",
       "      <td>2016-02-01</td>\n",
       "      <td>1.70</td>\n",
       "      <td>国4</td>\n",
       "      <td>7.0</td>\n",
       "      <td>11.59万</td>\n",
       "    </tr>\n",
       "  </tbody>\n",
       "</table>\n",
       "</div>"
      ],
      "text/plain": [
       "  Brand                        Name Boarding_time  Km(W) Discharge  Sec_price  \\\n",
       "0    众泰    众泰T600 2016款 1.5T 手动 豪华型    2016-05-01   3.96        国4        6.8   \n",
       "1    众泰    众泰Z700 2016款 1.8T 手动 典雅型    2017-08-01   0.08     国4,国5        8.8   \n",
       "2    众泰      大迈X5 2015款 1.5T 手动 豪华型    2016-09-01   0.80        国4        5.8   \n",
       "3    众泰  众泰T600 2017款 1.5T 手动 精英贺岁版    2017-03-01   0.30        国5        6.2   \n",
       "4    众泰    众泰T600 2016款 1.5T 手动 旗舰型    2016-02-01   1.70        国4        7.0   \n",
       "\n",
       "  New_price  \n",
       "0     9.42万  \n",
       "1    11.92万  \n",
       "2     8.56万  \n",
       "3     8.66万  \n",
       "4    11.59万  "
      ]
     },
     "execution_count": 187,
     "metadata": {},
     "output_type": "execute_result"
    }
   ],
   "source": [
    "df.head()"
   ]
  },
  {
   "cell_type": "code",
   "execution_count": 188,
   "metadata": {
    "scrolled": true
   },
   "outputs": [],
   "source": [
    "# 第一种\n",
    "df['New_price'] = df['New_price']. \\\n",
    "apply(lambda x:x[:-1])"
   ]
  },
  {
   "cell_type": "code",
   "execution_count": 189,
   "metadata": {
    "scrolled": true
   },
   "outputs": [],
   "source": [
    "# 第二种\n",
    "df['New_price'] = df['New_price']. \\\n",
    "apply(lambda x:x.replace(\"万\",\"\"))"
   ]
  },
  {
   "cell_type": "code",
   "execution_count": 190,
   "metadata": {
    "scrolled": true
   },
   "outputs": [],
   "source": [
    "# 第三种\n",
    "df['New_price'] = df['New_price']. \\\n",
    "apply(lambda x:x.split(\"万\")[0])"
   ]
  },
  {
   "cell_type": "code",
   "execution_count": 191,
   "metadata": {
    "scrolled": true
   },
   "outputs": [
    {
     "data": {
      "text/html": [
       "<div>\n",
       "<style scoped>\n",
       "    .dataframe tbody tr th:only-of-type {\n",
       "        vertical-align: middle;\n",
       "    }\n",
       "\n",
       "    .dataframe tbody tr th {\n",
       "        vertical-align: top;\n",
       "    }\n",
       "\n",
       "    .dataframe thead th {\n",
       "        text-align: right;\n",
       "    }\n",
       "</style>\n",
       "<table border=\"1\" class=\"dataframe\">\n",
       "  <thead>\n",
       "    <tr style=\"text-align: right;\">\n",
       "      <th></th>\n",
       "      <th>New_price</th>\n",
       "    </tr>\n",
       "  </thead>\n",
       "  <tbody>\n",
       "    <tr>\n",
       "      <th>11120</th>\n",
       "      <td>23.86</td>\n",
       "    </tr>\n",
       "    <tr>\n",
       "      <th>11121</th>\n",
       "      <td>23.86</td>\n",
       "    </tr>\n",
       "    <tr>\n",
       "      <th>11122</th>\n",
       "      <td>20.28</td>\n",
       "    </tr>\n",
       "    <tr>\n",
       "      <th>11123</th>\n",
       "      <td>28.65</td>\n",
       "    </tr>\n",
       "    <tr>\n",
       "      <th>11124</th>\n",
       "      <td>24.95</td>\n",
       "    </tr>\n",
       "  </tbody>\n",
       "</table>\n",
       "</div>"
      ],
      "text/plain": [
       "      New_price\n",
       "11120     23.86\n",
       "11121     23.86\n",
       "11122     20.28\n",
       "11123     28.65\n",
       "11124     24.95"
      ]
     },
     "execution_count": 191,
     "metadata": {},
     "output_type": "execute_result"
    }
   ],
   "source": [
    "df[['New_price']].tail()"
   ]
  },
  {
   "cell_type": "code",
   "execution_count": 192,
   "metadata": {
    "scrolled": true
   },
   "outputs": [],
   "source": [
    "df['New_price'] = df['New_price'].astype(np.float64)"
   ]
  },
  {
   "cell_type": "code",
   "execution_count": 193,
   "metadata": {
    "scrolled": true
   },
   "outputs": [
    {
     "name": "stdout",
     "output_type": "stream",
     "text": [
      "<class 'pandas.core.frame.DataFrame'>\n",
      "Int64Index: 10984 entries, 0 to 11124\n",
      "Data columns (total 7 columns):\n",
      " #   Column         Non-Null Count  Dtype         \n",
      "---  ------         --------------  -----         \n",
      " 0   Brand          10984 non-null  object        \n",
      " 1   Name           10984 non-null  object        \n",
      " 2   Boarding_time  10984 non-null  datetime64[ns]\n",
      " 3   Km(W)          10984 non-null  float64       \n",
      " 4   Discharge      10984 non-null  object        \n",
      " 5   Sec_price      10984 non-null  float64       \n",
      " 6   New_price      10984 non-null  float64       \n",
      "dtypes: datetime64[ns](1), float64(3), object(3)\n",
      "memory usage: 686.5+ KB\n"
     ]
    }
   ],
   "source": [
    "df.info()"
   ]
  },
  {
   "cell_type": "code",
   "execution_count": 194,
   "metadata": {
    "scrolled": true
   },
   "outputs": [
    {
     "data": {
      "text/html": [
       "<div>\n",
       "<style scoped>\n",
       "    .dataframe tbody tr th:only-of-type {\n",
       "        vertical-align: middle;\n",
       "    }\n",
       "\n",
       "    .dataframe tbody tr th {\n",
       "        vertical-align: top;\n",
       "    }\n",
       "\n",
       "    .dataframe thead th {\n",
       "        text-align: right;\n",
       "    }\n",
       "</style>\n",
       "<table border=\"1\" class=\"dataframe\">\n",
       "  <thead>\n",
       "    <tr style=\"text-align: right;\">\n",
       "      <th></th>\n",
       "      <th>Brand</th>\n",
       "      <th>Name</th>\n",
       "      <th>Boarding_time</th>\n",
       "      <th>Km(W)</th>\n",
       "      <th>Discharge</th>\n",
       "      <th>Sec_price</th>\n",
       "      <th>New_price</th>\n",
       "    </tr>\n",
       "  </thead>\n",
       "  <tbody>\n",
       "    <tr>\n",
       "      <th>0</th>\n",
       "      <td>众泰</td>\n",
       "      <td>众泰T600 2016款 1.5T 手动 豪华型</td>\n",
       "      <td>2016-05-01</td>\n",
       "      <td>3.96</td>\n",
       "      <td>国4</td>\n",
       "      <td>6.80</td>\n",
       "      <td>9.42</td>\n",
       "    </tr>\n",
       "    <tr>\n",
       "      <th>2</th>\n",
       "      <td>众泰</td>\n",
       "      <td>大迈X5 2015款 1.5T 手动 豪华型</td>\n",
       "      <td>2016-09-01</td>\n",
       "      <td>0.80</td>\n",
       "      <td>国4</td>\n",
       "      <td>5.80</td>\n",
       "      <td>8.56</td>\n",
       "    </tr>\n",
       "    <tr>\n",
       "      <th>4</th>\n",
       "      <td>众泰</td>\n",
       "      <td>众泰T600 2016款 1.5T 手动 旗舰型</td>\n",
       "      <td>2016-02-01</td>\n",
       "      <td>1.70</td>\n",
       "      <td>国4</td>\n",
       "      <td>7.00</td>\n",
       "      <td>11.59</td>\n",
       "    </tr>\n",
       "    <tr>\n",
       "      <th>5</th>\n",
       "      <td>众泰</td>\n",
       "      <td>众泰T600 2015款 1.5T 手动 尊贵型</td>\n",
       "      <td>2015-12-01</td>\n",
       "      <td>0.75</td>\n",
       "      <td>国4</td>\n",
       "      <td>8.00</td>\n",
       "      <td>10.72</td>\n",
       "    </tr>\n",
       "    <tr>\n",
       "      <th>8</th>\n",
       "      <td>众泰</td>\n",
       "      <td>大迈X5 2015款 1.5T 手动 豪华型</td>\n",
       "      <td>2016-09-01</td>\n",
       "      <td>0.80</td>\n",
       "      <td>国4</td>\n",
       "      <td>6.00</td>\n",
       "      <td>8.56</td>\n",
       "    </tr>\n",
       "    <tr>\n",
       "      <th>...</th>\n",
       "      <td>...</td>\n",
       "      <td>...</td>\n",
       "      <td>...</td>\n",
       "      <td>...</td>\n",
       "      <td>...</td>\n",
       "      <td>...</td>\n",
       "      <td>...</td>\n",
       "    </tr>\n",
       "    <tr>\n",
       "      <th>11077</th>\n",
       "      <td>Jeep</td>\n",
       "      <td>牧马人 2013款 3.6L 自动 两门Sahara</td>\n",
       "      <td>2013-06-01</td>\n",
       "      <td>5.20</td>\n",
       "      <td>国4</td>\n",
       "      <td>31.70</td>\n",
       "      <td>46.66</td>\n",
       "    </tr>\n",
       "    <tr>\n",
       "      <th>11083</th>\n",
       "      <td>Jeep</td>\n",
       "      <td>牧马人 2015款 2.8TD 自动 四门舒享版Sahara 柴油</td>\n",
       "      <td>2016-05-01</td>\n",
       "      <td>2.00</td>\n",
       "      <td>国4</td>\n",
       "      <td>58.58</td>\n",
       "      <td>46.62</td>\n",
       "    </tr>\n",
       "    <tr>\n",
       "      <th>11085</th>\n",
       "      <td>Jeep</td>\n",
       "      <td>牧马人 2015款 3.6L 自动 两门Rubicon</td>\n",
       "      <td>2016-09-01</td>\n",
       "      <td>0.46</td>\n",
       "      <td>国4</td>\n",
       "      <td>39.80</td>\n",
       "      <td>53.18</td>\n",
       "    </tr>\n",
       "    <tr>\n",
       "      <th>11091</th>\n",
       "      <td>Jeep</td>\n",
       "      <td>大切诺基(进口) 2014款 3.0L 舒享导航版</td>\n",
       "      <td>2015-01-01</td>\n",
       "      <td>5.40</td>\n",
       "      <td>国4</td>\n",
       "      <td>40.80</td>\n",
       "      <td>62.95</td>\n",
       "    </tr>\n",
       "    <tr>\n",
       "      <th>11116</th>\n",
       "      <td>DS</td>\n",
       "      <td>DS 5 2013款 1.6T 手自一体 THP200 豪华版</td>\n",
       "      <td>2013-11-01</td>\n",
       "      <td>3.00</td>\n",
       "      <td>国4</td>\n",
       "      <td>14.60</td>\n",
       "      <td>28.32</td>\n",
       "    </tr>\n",
       "  </tbody>\n",
       "</table>\n",
       "<p>4262 rows × 7 columns</p>\n",
       "</div>"
      ],
      "text/plain": [
       "      Brand                               Name Boarding_time  Km(W) Discharge  \\\n",
       "0        众泰           众泰T600 2016款 1.5T 手动 豪华型    2016-05-01   3.96        国4   \n",
       "2        众泰             大迈X5 2015款 1.5T 手动 豪华型    2016-09-01   0.80        国4   \n",
       "4        众泰           众泰T600 2016款 1.5T 手动 旗舰型    2016-02-01   1.70        国4   \n",
       "5        众泰           众泰T600 2015款 1.5T 手动 尊贵型    2015-12-01   0.75        国4   \n",
       "8        众泰             大迈X5 2015款 1.5T 手动 豪华型    2016-09-01   0.80        国4   \n",
       "...     ...                                ...           ...    ...       ...   \n",
       "11077  Jeep         牧马人 2013款 3.6L 自动 两门Sahara    2013-06-01   5.20        国4   \n",
       "11083  Jeep  牧马人 2015款 2.8TD 自动 四门舒享版Sahara 柴油    2016-05-01   2.00        国4   \n",
       "11085  Jeep        牧马人 2015款 3.6L 自动 两门Rubicon    2016-09-01   0.46        国4   \n",
       "11091  Jeep          大切诺基(进口) 2014款 3.0L 舒享导航版    2015-01-01   5.40        国4   \n",
       "11116    DS    DS 5 2013款 1.6T 手自一体 THP200 豪华版    2013-11-01   3.00        国4   \n",
       "\n",
       "       Sec_price  New_price  \n",
       "0           6.80       9.42  \n",
       "2           5.80       8.56  \n",
       "4           7.00      11.59  \n",
       "5           8.00      10.72  \n",
       "8           6.00       8.56  \n",
       "...          ...        ...  \n",
       "11077      31.70      46.66  \n",
       "11083      58.58      46.62  \n",
       "11085      39.80      53.18  \n",
       "11091      40.80      62.95  \n",
       "11116      14.60      28.32  \n",
       "\n",
       "[4262 rows x 7 columns]"
      ]
     },
     "execution_count": 194,
     "metadata": {},
     "output_type": "execute_result"
    }
   ],
   "source": [
    "df[df['Discharge'] == '国4']"
   ]
  },
  {
   "cell_type": "code",
   "execution_count": 195,
   "metadata": {
    "scrolled": true
   },
   "outputs": [
    {
     "data": {
      "text/html": [
       "<div>\n",
       "<style scoped>\n",
       "    .dataframe tbody tr th:only-of-type {\n",
       "        vertical-align: middle;\n",
       "    }\n",
       "\n",
       "    .dataframe tbody tr th {\n",
       "        vertical-align: top;\n",
       "    }\n",
       "\n",
       "    .dataframe thead th {\n",
       "        text-align: right;\n",
       "    }\n",
       "</style>\n",
       "<table border=\"1\" class=\"dataframe\">\n",
       "  <thead>\n",
       "    <tr style=\"text-align: right;\">\n",
       "      <th></th>\n",
       "      <th>Brand</th>\n",
       "      <th>Name</th>\n",
       "      <th>Boarding_time</th>\n",
       "      <th>Km(W)</th>\n",
       "      <th>Discharge</th>\n",
       "      <th>Sec_price</th>\n",
       "      <th>New_price</th>\n",
       "    </tr>\n",
       "  </thead>\n",
       "  <tbody>\n",
       "    <tr>\n",
       "      <th>0</th>\n",
       "      <td>众泰</td>\n",
       "      <td>众泰T600 2016款 1.5T 手动 豪华型</td>\n",
       "      <td>2016-05-01</td>\n",
       "      <td>3.96</td>\n",
       "      <td>国4</td>\n",
       "      <td>6.8</td>\n",
       "      <td>9.42</td>\n",
       "    </tr>\n",
       "    <tr>\n",
       "      <th>2</th>\n",
       "      <td>众泰</td>\n",
       "      <td>大迈X5 2015款 1.5T 手动 豪华型</td>\n",
       "      <td>2016-09-01</td>\n",
       "      <td>0.80</td>\n",
       "      <td>国4</td>\n",
       "      <td>5.8</td>\n",
       "      <td>8.56</td>\n",
       "    </tr>\n",
       "    <tr>\n",
       "      <th>4</th>\n",
       "      <td>众泰</td>\n",
       "      <td>众泰T600 2016款 1.5T 手动 旗舰型</td>\n",
       "      <td>2016-02-01</td>\n",
       "      <td>1.70</td>\n",
       "      <td>国4</td>\n",
       "      <td>7.0</td>\n",
       "      <td>11.59</td>\n",
       "    </tr>\n",
       "    <tr>\n",
       "      <th>5</th>\n",
       "      <td>众泰</td>\n",
       "      <td>众泰T600 2015款 1.5T 手动 尊贵型</td>\n",
       "      <td>2015-12-01</td>\n",
       "      <td>0.75</td>\n",
       "      <td>国4</td>\n",
       "      <td>8.0</td>\n",
       "      <td>10.72</td>\n",
       "    </tr>\n",
       "    <tr>\n",
       "      <th>8</th>\n",
       "      <td>众泰</td>\n",
       "      <td>大迈X5 2015款 1.5T 手动 豪华型</td>\n",
       "      <td>2016-09-01</td>\n",
       "      <td>0.80</td>\n",
       "      <td>国4</td>\n",
       "      <td>6.0</td>\n",
       "      <td>8.56</td>\n",
       "    </tr>\n",
       "    <tr>\n",
       "      <th>11</th>\n",
       "      <td>众泰</td>\n",
       "      <td>众泰T600 2016款 1.5T 手动 豪华型</td>\n",
       "      <td>2016-05-01</td>\n",
       "      <td>3.96</td>\n",
       "      <td>国4</td>\n",
       "      <td>6.8</td>\n",
       "      <td>9.42</td>\n",
       "    </tr>\n",
       "  </tbody>\n",
       "</table>\n",
       "</div>"
      ],
      "text/plain": [
       "   Brand                      Name Boarding_time  Km(W) Discharge  Sec_price  \\\n",
       "0     众泰  众泰T600 2016款 1.5T 手动 豪华型    2016-05-01   3.96        国4        6.8   \n",
       "2     众泰    大迈X5 2015款 1.5T 手动 豪华型    2016-09-01   0.80        国4        5.8   \n",
       "4     众泰  众泰T600 2016款 1.5T 手动 旗舰型    2016-02-01   1.70        国4        7.0   \n",
       "5     众泰  众泰T600 2015款 1.5T 手动 尊贵型    2015-12-01   0.75        国4        8.0   \n",
       "8     众泰    大迈X5 2015款 1.5T 手动 豪华型    2016-09-01   0.80        国4        6.0   \n",
       "11    众泰  众泰T600 2016款 1.5T 手动 豪华型    2016-05-01   3.96        国4        6.8   \n",
       "\n",
       "    New_price  \n",
       "0        9.42  \n",
       "2        8.56  \n",
       "4       11.59  \n",
       "5       10.72  \n",
       "8        8.56  \n",
       "11       9.42  "
      ]
     },
     "execution_count": 195,
     "metadata": {},
     "output_type": "execute_result"
    }
   ],
   "source": [
    "df[(df['Discharge'] == '国4') & \\\n",
    "   (df['Brand'] == '众泰')]"
   ]
  },
  {
   "cell_type": "code",
   "execution_count": 196,
   "metadata": {},
   "outputs": [],
   "source": [
    "boolval = df['Discharge'].isin(['国4','国4,国5'])"
   ]
  },
  {
   "cell_type": "code",
   "execution_count": 197,
   "metadata": {
    "scrolled": true
   },
   "outputs": [
    {
     "data": {
      "text/html": [
       "<div>\n",
       "<style scoped>\n",
       "    .dataframe tbody tr th:only-of-type {\n",
       "        vertical-align: middle;\n",
       "    }\n",
       "\n",
       "    .dataframe tbody tr th {\n",
       "        vertical-align: top;\n",
       "    }\n",
       "\n",
       "    .dataframe thead th {\n",
       "        text-align: right;\n",
       "    }\n",
       "</style>\n",
       "<table border=\"1\" class=\"dataframe\">\n",
       "  <thead>\n",
       "    <tr style=\"text-align: right;\">\n",
       "      <th></th>\n",
       "      <th>Brand</th>\n",
       "      <th>Name</th>\n",
       "      <th>Boarding_time</th>\n",
       "      <th>Km(W)</th>\n",
       "      <th>Discharge</th>\n",
       "      <th>Sec_price</th>\n",
       "      <th>New_price</th>\n",
       "    </tr>\n",
       "  </thead>\n",
       "  <tbody>\n",
       "    <tr>\n",
       "      <th>0</th>\n",
       "      <td>众泰</td>\n",
       "      <td>众泰T600 2016款 1.5T 手动 豪华型</td>\n",
       "      <td>2016-05-01</td>\n",
       "      <td>3.96</td>\n",
       "      <td>国4</td>\n",
       "      <td>6.8</td>\n",
       "      <td>9.42</td>\n",
       "    </tr>\n",
       "    <tr>\n",
       "      <th>1</th>\n",
       "      <td>众泰</td>\n",
       "      <td>众泰Z700 2016款 1.8T 手动 典雅型</td>\n",
       "      <td>2017-08-01</td>\n",
       "      <td>0.08</td>\n",
       "      <td>国4,国5</td>\n",
       "      <td>8.8</td>\n",
       "      <td>11.92</td>\n",
       "    </tr>\n",
       "    <tr>\n",
       "      <th>2</th>\n",
       "      <td>众泰</td>\n",
       "      <td>大迈X5 2015款 1.5T 手动 豪华型</td>\n",
       "      <td>2016-09-01</td>\n",
       "      <td>0.80</td>\n",
       "      <td>国4</td>\n",
       "      <td>5.8</td>\n",
       "      <td>8.56</td>\n",
       "    </tr>\n",
       "    <tr>\n",
       "      <th>4</th>\n",
       "      <td>众泰</td>\n",
       "      <td>众泰T600 2016款 1.5T 手动 旗舰型</td>\n",
       "      <td>2016-02-01</td>\n",
       "      <td>1.70</td>\n",
       "      <td>国4</td>\n",
       "      <td>7.0</td>\n",
       "      <td>11.59</td>\n",
       "    </tr>\n",
       "    <tr>\n",
       "      <th>5</th>\n",
       "      <td>众泰</td>\n",
       "      <td>众泰T600 2015款 1.5T 手动 尊贵型</td>\n",
       "      <td>2015-12-01</td>\n",
       "      <td>0.75</td>\n",
       "      <td>国4</td>\n",
       "      <td>8.0</td>\n",
       "      <td>10.72</td>\n",
       "    </tr>\n",
       "    <tr>\n",
       "      <th>7</th>\n",
       "      <td>众泰</td>\n",
       "      <td>众泰Z700 2016款 1.8T 手动 典雅型</td>\n",
       "      <td>2017-08-01</td>\n",
       "      <td>0.08</td>\n",
       "      <td>国4,国5</td>\n",
       "      <td>9.3</td>\n",
       "      <td>11.92</td>\n",
       "    </tr>\n",
       "    <tr>\n",
       "      <th>8</th>\n",
       "      <td>众泰</td>\n",
       "      <td>大迈X5 2015款 1.5T 手动 豪华型</td>\n",
       "      <td>2016-09-01</td>\n",
       "      <td>0.80</td>\n",
       "      <td>国4</td>\n",
       "      <td>6.0</td>\n",
       "      <td>8.56</td>\n",
       "    </tr>\n",
       "    <tr>\n",
       "      <th>11</th>\n",
       "      <td>众泰</td>\n",
       "      <td>众泰T600 2016款 1.5T 手动 豪华型</td>\n",
       "      <td>2016-05-01</td>\n",
       "      <td>3.96</td>\n",
       "      <td>国4</td>\n",
       "      <td>6.8</td>\n",
       "      <td>9.42</td>\n",
       "    </tr>\n",
       "  </tbody>\n",
       "</table>\n",
       "</div>"
      ],
      "text/plain": [
       "   Brand                      Name Boarding_time  Km(W) Discharge  Sec_price  \\\n",
       "0     众泰  众泰T600 2016款 1.5T 手动 豪华型    2016-05-01   3.96        国4        6.8   \n",
       "1     众泰  众泰Z700 2016款 1.8T 手动 典雅型    2017-08-01   0.08     国4,国5        8.8   \n",
       "2     众泰    大迈X5 2015款 1.5T 手动 豪华型    2016-09-01   0.80        国4        5.8   \n",
       "4     众泰  众泰T600 2016款 1.5T 手动 旗舰型    2016-02-01   1.70        国4        7.0   \n",
       "5     众泰  众泰T600 2015款 1.5T 手动 尊贵型    2015-12-01   0.75        国4        8.0   \n",
       "7     众泰  众泰Z700 2016款 1.8T 手动 典雅型    2017-08-01   0.08     国4,国5        9.3   \n",
       "8     众泰    大迈X5 2015款 1.5T 手动 豪华型    2016-09-01   0.80        国4        6.0   \n",
       "11    众泰  众泰T600 2016款 1.5T 手动 豪华型    2016-05-01   3.96        国4        6.8   \n",
       "\n",
       "    New_price  \n",
       "0        9.42  \n",
       "1       11.92  \n",
       "2        8.56  \n",
       "4       11.59  \n",
       "5       10.72  \n",
       "7       11.92  \n",
       "8        8.56  \n",
       "11       9.42  "
      ]
     },
     "execution_count": 197,
     "metadata": {},
     "output_type": "execute_result"
    }
   ],
   "source": [
    "df[boolval & (df['Brand'] == '众泰')]"
   ]
  },
  {
   "cell_type": "code",
   "execution_count": 198,
   "metadata": {},
   "outputs": [
    {
     "data": {
      "text/plain": [
       "0         True\n",
       "1         True\n",
       "2         True\n",
       "3        False\n",
       "4         True\n",
       "         ...  \n",
       "11120    False\n",
       "11121    False\n",
       "11122     True\n",
       "11123     True\n",
       "11124     True\n",
       "Name: Discharge, Length: 10984, dtype: bool"
      ]
     },
     "execution_count": 198,
     "metadata": {},
     "output_type": "execute_result"
    }
   ],
   "source": [
    "bo = df.Discharge.apply(lambda x:\"国4\" in x)\n",
    "bo"
   ]
  },
  {
   "cell_type": "code",
   "execution_count": 199,
   "metadata": {
    "scrolled": true
   },
   "outputs": [
    {
     "data": {
      "text/html": [
       "<div>\n",
       "<style scoped>\n",
       "    .dataframe tbody tr th:only-of-type {\n",
       "        vertical-align: middle;\n",
       "    }\n",
       "\n",
       "    .dataframe tbody tr th {\n",
       "        vertical-align: top;\n",
       "    }\n",
       "\n",
       "    .dataframe thead th {\n",
       "        text-align: right;\n",
       "    }\n",
       "</style>\n",
       "<table border=\"1\" class=\"dataframe\">\n",
       "  <thead>\n",
       "    <tr style=\"text-align: right;\">\n",
       "      <th></th>\n",
       "      <th>Brand</th>\n",
       "      <th>Name</th>\n",
       "      <th>Boarding_time</th>\n",
       "      <th>Km(W)</th>\n",
       "      <th>Discharge</th>\n",
       "      <th>Sec_price</th>\n",
       "      <th>New_price</th>\n",
       "    </tr>\n",
       "  </thead>\n",
       "  <tbody>\n",
       "    <tr>\n",
       "      <th>0</th>\n",
       "      <td>众泰</td>\n",
       "      <td>众泰T600 2016款 1.5T 手动 豪华型</td>\n",
       "      <td>2016-05-01</td>\n",
       "      <td>3.96</td>\n",
       "      <td>国4</td>\n",
       "      <td>6.8</td>\n",
       "      <td>9.42</td>\n",
       "    </tr>\n",
       "    <tr>\n",
       "      <th>1</th>\n",
       "      <td>众泰</td>\n",
       "      <td>众泰Z700 2016款 1.8T 手动 典雅型</td>\n",
       "      <td>2017-08-01</td>\n",
       "      <td>0.08</td>\n",
       "      <td>国4,国5</td>\n",
       "      <td>8.8</td>\n",
       "      <td>11.92</td>\n",
       "    </tr>\n",
       "    <tr>\n",
       "      <th>2</th>\n",
       "      <td>众泰</td>\n",
       "      <td>大迈X5 2015款 1.5T 手动 豪华型</td>\n",
       "      <td>2016-09-01</td>\n",
       "      <td>0.80</td>\n",
       "      <td>国4</td>\n",
       "      <td>5.8</td>\n",
       "      <td>8.56</td>\n",
       "    </tr>\n",
       "    <tr>\n",
       "      <th>4</th>\n",
       "      <td>众泰</td>\n",
       "      <td>众泰T600 2016款 1.5T 手动 旗舰型</td>\n",
       "      <td>2016-02-01</td>\n",
       "      <td>1.70</td>\n",
       "      <td>国4</td>\n",
       "      <td>7.0</td>\n",
       "      <td>11.59</td>\n",
       "    </tr>\n",
       "    <tr>\n",
       "      <th>5</th>\n",
       "      <td>众泰</td>\n",
       "      <td>众泰T600 2015款 1.5T 手动 尊贵型</td>\n",
       "      <td>2015-12-01</td>\n",
       "      <td>0.75</td>\n",
       "      <td>国4</td>\n",
       "      <td>8.0</td>\n",
       "      <td>10.72</td>\n",
       "    </tr>\n",
       "    <tr>\n",
       "      <th>7</th>\n",
       "      <td>众泰</td>\n",
       "      <td>众泰Z700 2016款 1.8T 手动 典雅型</td>\n",
       "      <td>2017-08-01</td>\n",
       "      <td>0.08</td>\n",
       "      <td>国4,国5</td>\n",
       "      <td>9.3</td>\n",
       "      <td>11.92</td>\n",
       "    </tr>\n",
       "    <tr>\n",
       "      <th>8</th>\n",
       "      <td>众泰</td>\n",
       "      <td>大迈X5 2015款 1.5T 手动 豪华型</td>\n",
       "      <td>2016-09-01</td>\n",
       "      <td>0.80</td>\n",
       "      <td>国4</td>\n",
       "      <td>6.0</td>\n",
       "      <td>8.56</td>\n",
       "    </tr>\n",
       "    <tr>\n",
       "      <th>11</th>\n",
       "      <td>众泰</td>\n",
       "      <td>众泰T600 2016款 1.5T 手动 豪华型</td>\n",
       "      <td>2016-05-01</td>\n",
       "      <td>3.96</td>\n",
       "      <td>国4</td>\n",
       "      <td>6.8</td>\n",
       "      <td>9.42</td>\n",
       "    </tr>\n",
       "  </tbody>\n",
       "</table>\n",
       "</div>"
      ],
      "text/plain": [
       "   Brand                      Name Boarding_time  Km(W) Discharge  Sec_price  \\\n",
       "0     众泰  众泰T600 2016款 1.5T 手动 豪华型    2016-05-01   3.96        国4        6.8   \n",
       "1     众泰  众泰Z700 2016款 1.8T 手动 典雅型    2017-08-01   0.08     国4,国5        8.8   \n",
       "2     众泰    大迈X5 2015款 1.5T 手动 豪华型    2016-09-01   0.80        国4        5.8   \n",
       "4     众泰  众泰T600 2016款 1.5T 手动 旗舰型    2016-02-01   1.70        国4        7.0   \n",
       "5     众泰  众泰T600 2015款 1.5T 手动 尊贵型    2015-12-01   0.75        国4        8.0   \n",
       "7     众泰  众泰Z700 2016款 1.8T 手动 典雅型    2017-08-01   0.08     国4,国5        9.3   \n",
       "8     众泰    大迈X5 2015款 1.5T 手动 豪华型    2016-09-01   0.80        国4        6.0   \n",
       "11    众泰  众泰T600 2016款 1.5T 手动 豪华型    2016-05-01   3.96        国4        6.8   \n",
       "\n",
       "    New_price  \n",
       "0        9.42  \n",
       "1       11.92  \n",
       "2        8.56  \n",
       "4       11.59  \n",
       "5       10.72  \n",
       "7       11.92  \n",
       "8        8.56  \n",
       "11       9.42  "
      ]
     },
     "execution_count": 199,
     "metadata": {},
     "output_type": "execute_result"
    }
   ],
   "source": [
    "df[bo & (df['Brand'] == '众泰')]"
   ]
  },
  {
   "cell_type": "code",
   "execution_count": 200,
   "metadata": {},
   "outputs": [],
   "source": [
    "df['year'] = df['Boarding_time'].dt.year"
   ]
  },
  {
   "cell_type": "code",
   "execution_count": 201,
   "metadata": {
    "scrolled": true
   },
   "outputs": [
    {
     "data": {
      "text/html": [
       "<div>\n",
       "<style scoped>\n",
       "    .dataframe tbody tr th:only-of-type {\n",
       "        vertical-align: middle;\n",
       "    }\n",
       "\n",
       "    .dataframe tbody tr th {\n",
       "        vertical-align: top;\n",
       "    }\n",
       "\n",
       "    .dataframe thead th {\n",
       "        text-align: right;\n",
       "    }\n",
       "</style>\n",
       "<table border=\"1\" class=\"dataframe\">\n",
       "  <thead>\n",
       "    <tr style=\"text-align: right;\">\n",
       "      <th></th>\n",
       "      <th>year</th>\n",
       "    </tr>\n",
       "  </thead>\n",
       "  <tbody>\n",
       "    <tr>\n",
       "      <th>0</th>\n",
       "      <td>2016</td>\n",
       "    </tr>\n",
       "    <tr>\n",
       "      <th>1</th>\n",
       "      <td>2017</td>\n",
       "    </tr>\n",
       "    <tr>\n",
       "      <th>2</th>\n",
       "      <td>2016</td>\n",
       "    </tr>\n",
       "    <tr>\n",
       "      <th>3</th>\n",
       "      <td>2017</td>\n",
       "    </tr>\n",
       "    <tr>\n",
       "      <th>4</th>\n",
       "      <td>2016</td>\n",
       "    </tr>\n",
       "    <tr>\n",
       "      <th>...</th>\n",
       "      <td>...</td>\n",
       "    </tr>\n",
       "    <tr>\n",
       "      <th>11120</th>\n",
       "      <td>2013</td>\n",
       "    </tr>\n",
       "    <tr>\n",
       "      <th>11121</th>\n",
       "      <td>2013</td>\n",
       "    </tr>\n",
       "    <tr>\n",
       "      <th>11122</th>\n",
       "      <td>2016</td>\n",
       "    </tr>\n",
       "    <tr>\n",
       "      <th>11123</th>\n",
       "      <td>2016</td>\n",
       "    </tr>\n",
       "    <tr>\n",
       "      <th>11124</th>\n",
       "      <td>2017</td>\n",
       "    </tr>\n",
       "  </tbody>\n",
       "</table>\n",
       "<p>10984 rows × 1 columns</p>\n",
       "</div>"
      ],
      "text/plain": [
       "       year\n",
       "0      2016\n",
       "1      2017\n",
       "2      2016\n",
       "3      2017\n",
       "4      2016\n",
       "...     ...\n",
       "11120  2013\n",
       "11121  2013\n",
       "11122  2016\n",
       "11123  2016\n",
       "11124  2017\n",
       "\n",
       "[10984 rows x 1 columns]"
      ]
     },
     "execution_count": 201,
     "metadata": {},
     "output_type": "execute_result"
    }
   ],
   "source": [
    "df[['year']]"
   ]
  },
  {
   "cell_type": "code",
   "execution_count": 202,
   "metadata": {},
   "outputs": [],
   "source": [
    "df['month'] = df['Boarding_time'].dt.month"
   ]
  },
  {
   "cell_type": "code",
   "execution_count": 203,
   "metadata": {
    "scrolled": true
   },
   "outputs": [
    {
     "data": {
      "text/html": [
       "<div>\n",
       "<style scoped>\n",
       "    .dataframe tbody tr th:only-of-type {\n",
       "        vertical-align: middle;\n",
       "    }\n",
       "\n",
       "    .dataframe tbody tr th {\n",
       "        vertical-align: top;\n",
       "    }\n",
       "\n",
       "    .dataframe thead th {\n",
       "        text-align: right;\n",
       "    }\n",
       "</style>\n",
       "<table border=\"1\" class=\"dataframe\">\n",
       "  <thead>\n",
       "    <tr style=\"text-align: right;\">\n",
       "      <th></th>\n",
       "      <th>month</th>\n",
       "    </tr>\n",
       "  </thead>\n",
       "  <tbody>\n",
       "    <tr>\n",
       "      <th>0</th>\n",
       "      <td>5</td>\n",
       "    </tr>\n",
       "    <tr>\n",
       "      <th>1</th>\n",
       "      <td>8</td>\n",
       "    </tr>\n",
       "    <tr>\n",
       "      <th>2</th>\n",
       "      <td>9</td>\n",
       "    </tr>\n",
       "    <tr>\n",
       "      <th>3</th>\n",
       "      <td>3</td>\n",
       "    </tr>\n",
       "    <tr>\n",
       "      <th>4</th>\n",
       "      <td>2</td>\n",
       "    </tr>\n",
       "    <tr>\n",
       "      <th>...</th>\n",
       "      <td>...</td>\n",
       "    </tr>\n",
       "    <tr>\n",
       "      <th>11120</th>\n",
       "      <td>6</td>\n",
       "    </tr>\n",
       "    <tr>\n",
       "      <th>11121</th>\n",
       "      <td>6</td>\n",
       "    </tr>\n",
       "    <tr>\n",
       "      <th>11122</th>\n",
       "      <td>5</td>\n",
       "    </tr>\n",
       "    <tr>\n",
       "      <th>11123</th>\n",
       "      <td>3</td>\n",
       "    </tr>\n",
       "    <tr>\n",
       "      <th>11124</th>\n",
       "      <td>1</td>\n",
       "    </tr>\n",
       "  </tbody>\n",
       "</table>\n",
       "<p>10984 rows × 1 columns</p>\n",
       "</div>"
      ],
      "text/plain": [
       "       month\n",
       "0          5\n",
       "1          8\n",
       "2          9\n",
       "3          3\n",
       "4          2\n",
       "...      ...\n",
       "11120      6\n",
       "11121      6\n",
       "11122      5\n",
       "11123      3\n",
       "11124      1\n",
       "\n",
       "[10984 rows x 1 columns]"
      ]
     },
     "execution_count": 203,
     "metadata": {},
     "output_type": "execute_result"
    }
   ],
   "source": [
    "df[['month']]"
   ]
  },
  {
   "cell_type": "code",
   "execution_count": 204,
   "metadata": {},
   "outputs": [],
   "source": [
    "def season(month):\n",
    "    if month in [3,4,5]:\n",
    "        return \"春季\"\n",
    "    elif month in [6,7,8]:\n",
    "        return \"夏季\"\n",
    "    elif month in [9,10,11]:\n",
    "        return \"秋季\"\n",
    "    else:\n",
    "        return \"冬季\""
   ]
  },
  {
   "cell_type": "code",
   "execution_count": 205,
   "metadata": {},
   "outputs": [],
   "source": [
    "# def season(month):\n",
    "    "
   ]
  },
  {
   "cell_type": "code",
   "execution_count": 206,
   "metadata": {
    "scrolled": true
   },
   "outputs": [
    {
     "data": {
      "text/plain": [
       "0        春季\n",
       "1        夏季\n",
       "2        秋季\n",
       "3        春季\n",
       "4        冬季\n",
       "         ..\n",
       "11120    夏季\n",
       "11121    夏季\n",
       "11122    春季\n",
       "11123    春季\n",
       "11124    冬季\n",
       "Name: Boarding_time, Length: 10984, dtype: object"
      ]
     },
     "execution_count": 206,
     "metadata": {},
     "output_type": "execute_result"
    }
   ],
   "source": [
    "df['Boarding_time'].dt.month.apply(season)"
   ]
  },
  {
   "cell_type": "code",
   "execution_count": 207,
   "metadata": {},
   "outputs": [],
   "source": [
    "df['season'] = \\\n",
    "df['Boarding_time'].dt.month.apply(season)"
   ]
  },
  {
   "cell_type": "code",
   "execution_count": 208,
   "metadata": {
    "scrolled": true
   },
   "outputs": [
    {
     "data": {
      "text/html": [
       "<div>\n",
       "<style scoped>\n",
       "    .dataframe tbody tr th:only-of-type {\n",
       "        vertical-align: middle;\n",
       "    }\n",
       "\n",
       "    .dataframe tbody tr th {\n",
       "        vertical-align: top;\n",
       "    }\n",
       "\n",
       "    .dataframe thead th {\n",
       "        text-align: right;\n",
       "    }\n",
       "</style>\n",
       "<table border=\"1\" class=\"dataframe\">\n",
       "  <thead>\n",
       "    <tr style=\"text-align: right;\">\n",
       "      <th></th>\n",
       "      <th>season</th>\n",
       "    </tr>\n",
       "  </thead>\n",
       "  <tbody>\n",
       "    <tr>\n",
       "      <th>0</th>\n",
       "      <td>春季</td>\n",
       "    </tr>\n",
       "    <tr>\n",
       "      <th>1</th>\n",
       "      <td>夏季</td>\n",
       "    </tr>\n",
       "    <tr>\n",
       "      <th>2</th>\n",
       "      <td>秋季</td>\n",
       "    </tr>\n",
       "    <tr>\n",
       "      <th>3</th>\n",
       "      <td>春季</td>\n",
       "    </tr>\n",
       "    <tr>\n",
       "      <th>4</th>\n",
       "      <td>冬季</td>\n",
       "    </tr>\n",
       "    <tr>\n",
       "      <th>...</th>\n",
       "      <td>...</td>\n",
       "    </tr>\n",
       "    <tr>\n",
       "      <th>11120</th>\n",
       "      <td>夏季</td>\n",
       "    </tr>\n",
       "    <tr>\n",
       "      <th>11121</th>\n",
       "      <td>夏季</td>\n",
       "    </tr>\n",
       "    <tr>\n",
       "      <th>11122</th>\n",
       "      <td>春季</td>\n",
       "    </tr>\n",
       "    <tr>\n",
       "      <th>11123</th>\n",
       "      <td>春季</td>\n",
       "    </tr>\n",
       "    <tr>\n",
       "      <th>11124</th>\n",
       "      <td>冬季</td>\n",
       "    </tr>\n",
       "  </tbody>\n",
       "</table>\n",
       "<p>10984 rows × 1 columns</p>\n",
       "</div>"
      ],
      "text/plain": [
       "      season\n",
       "0         春季\n",
       "1         夏季\n",
       "2         秋季\n",
       "3         春季\n",
       "4         冬季\n",
       "...      ...\n",
       "11120     夏季\n",
       "11121     夏季\n",
       "11122     春季\n",
       "11123     春季\n",
       "11124     冬季\n",
       "\n",
       "[10984 rows x 1 columns]"
      ]
     },
     "execution_count": 208,
     "metadata": {},
     "output_type": "execute_result"
    }
   ],
   "source": [
    "df[['season']]"
   ]
  },
  {
   "cell_type": "code",
   "execution_count": 209,
   "metadata": {
    "scrolled": true
   },
   "outputs": [
    {
     "data": {
      "text/plain": [
       "Index(['Brand', 'Name', 'Boarding_time', 'Km(W)', 'Discharge', 'Sec_price',\n",
       "       'New_price', 'year', 'month', 'season'],\n",
       "      dtype='object')"
      ]
     },
     "execution_count": 209,
     "metadata": {},
     "output_type": "execute_result"
    }
   ],
   "source": [
    "df.columns"
   ]
  },
  {
   "cell_type": "code",
   "execution_count": 210,
   "metadata": {
    "scrolled": true
   },
   "outputs": [
    {
     "data": {
      "text/html": [
       "<div>\n",
       "<style scoped>\n",
       "    .dataframe tbody tr th:only-of-type {\n",
       "        vertical-align: middle;\n",
       "    }\n",
       "\n",
       "    .dataframe tbody tr th {\n",
       "        vertical-align: top;\n",
       "    }\n",
       "\n",
       "    .dataframe thead th {\n",
       "        text-align: right;\n",
       "    }\n",
       "</style>\n",
       "<table border=\"1\" class=\"dataframe\">\n",
       "  <thead>\n",
       "    <tr style=\"text-align: right;\">\n",
       "      <th></th>\n",
       "      <th>Brand</th>\n",
       "      <th>Name</th>\n",
       "      <th>Boarding_time</th>\n",
       "      <th>Km(W)</th>\n",
       "      <th>Discharge</th>\n",
       "      <th>Sec_price</th>\n",
       "      <th>New_price</th>\n",
       "      <th>year</th>\n",
       "      <th>month</th>\n",
       "      <th>season</th>\n",
       "    </tr>\n",
       "  </thead>\n",
       "  <tbody>\n",
       "    <tr>\n",
       "      <th>0</th>\n",
       "      <td>众泰</td>\n",
       "      <td>众泰T600 2016款 1.5T 手动 豪华型</td>\n",
       "      <td>2016-05-01</td>\n",
       "      <td>3.96</td>\n",
       "      <td>国4</td>\n",
       "      <td>6.8</td>\n",
       "      <td>9.42</td>\n",
       "      <td>2016</td>\n",
       "      <td>5</td>\n",
       "      <td>春季</td>\n",
       "    </tr>\n",
       "    <tr>\n",
       "      <th>1</th>\n",
       "      <td>众泰</td>\n",
       "      <td>众泰Z700 2016款 1.8T 手动 典雅型</td>\n",
       "      <td>2017-08-01</td>\n",
       "      <td>0.08</td>\n",
       "      <td>国4,国5</td>\n",
       "      <td>8.8</td>\n",
       "      <td>11.92</td>\n",
       "      <td>2017</td>\n",
       "      <td>8</td>\n",
       "      <td>夏季</td>\n",
       "    </tr>\n",
       "    <tr>\n",
       "      <th>2</th>\n",
       "      <td>众泰</td>\n",
       "      <td>大迈X5 2015款 1.5T 手动 豪华型</td>\n",
       "      <td>2016-09-01</td>\n",
       "      <td>0.80</td>\n",
       "      <td>国4</td>\n",
       "      <td>5.8</td>\n",
       "      <td>8.56</td>\n",
       "      <td>2016</td>\n",
       "      <td>9</td>\n",
       "      <td>秋季</td>\n",
       "    </tr>\n",
       "    <tr>\n",
       "      <th>3</th>\n",
       "      <td>众泰</td>\n",
       "      <td>众泰T600 2017款 1.5T 手动 精英贺岁版</td>\n",
       "      <td>2017-03-01</td>\n",
       "      <td>0.30</td>\n",
       "      <td>国5</td>\n",
       "      <td>6.2</td>\n",
       "      <td>8.66</td>\n",
       "      <td>2017</td>\n",
       "      <td>3</td>\n",
       "      <td>春季</td>\n",
       "    </tr>\n",
       "    <tr>\n",
       "      <th>4</th>\n",
       "      <td>众泰</td>\n",
       "      <td>众泰T600 2016款 1.5T 手动 旗舰型</td>\n",
       "      <td>2016-02-01</td>\n",
       "      <td>1.70</td>\n",
       "      <td>国4</td>\n",
       "      <td>7.0</td>\n",
       "      <td>11.59</td>\n",
       "      <td>2016</td>\n",
       "      <td>2</td>\n",
       "      <td>冬季</td>\n",
       "    </tr>\n",
       "  </tbody>\n",
       "</table>\n",
       "</div>"
      ],
      "text/plain": [
       "  Brand                        Name Boarding_time  Km(W) Discharge  Sec_price  \\\n",
       "0    众泰    众泰T600 2016款 1.5T 手动 豪华型    2016-05-01   3.96        国4        6.8   \n",
       "1    众泰    众泰Z700 2016款 1.8T 手动 典雅型    2017-08-01   0.08     国4,国5        8.8   \n",
       "2    众泰      大迈X5 2015款 1.5T 手动 豪华型    2016-09-01   0.80        国4        5.8   \n",
       "3    众泰  众泰T600 2017款 1.5T 手动 精英贺岁版    2017-03-01   0.30        国5        6.2   \n",
       "4    众泰    众泰T600 2016款 1.5T 手动 旗舰型    2016-02-01   1.70        国4        7.0   \n",
       "\n",
       "   New_price  year  month season  \n",
       "0       9.42  2016      5     春季  \n",
       "1      11.92  2017      8     夏季  \n",
       "2       8.56  2016      9     秋季  \n",
       "3       8.66  2017      3     春季  \n",
       "4      11.59  2016      2     冬季  "
      ]
     },
     "execution_count": 210,
     "metadata": {},
     "output_type": "execute_result"
    }
   ],
   "source": [
    "df.head()"
   ]
  },
  {
   "cell_type": "code",
   "execution_count": 211,
   "metadata": {},
   "outputs": [
    {
     "data": {
      "text/plain": [
       "夏季    3350\n",
       "秋季    2684\n",
       "春季    2493\n",
       "冬季    2457\n",
       "Name: season, dtype: int64"
      ]
     },
     "execution_count": 211,
     "metadata": {},
     "output_type": "execute_result"
    }
   ],
   "source": [
    "df.season.value_counts() # 值计数"
   ]
  },
  {
   "cell_type": "code",
   "execution_count": 212,
   "metadata": {},
   "outputs": [],
   "source": [
    "import matplotlib.pyplot as plt"
   ]
  },
  {
   "cell_type": "code",
   "execution_count": 213,
   "metadata": {},
   "outputs": [],
   "source": [
    "plt.rcParams['font.sans-serif'] = ['SimHei']\n",
    "# 设置字体"
   ]
  },
  {
   "cell_type": "code",
   "execution_count": 214,
   "metadata": {},
   "outputs": [
    {
     "data": {
      "image/png": "[encoded data removed]",
      "text/plain": [
       "<Figure size 432x288 with 1 Axes>"
      ]
     },
     "metadata": {
      "needs_background": "light"
     },
     "output_type": "display_data"
    }
   ],
   "source": [
    "df.season.value_counts().plot(kind = 'bar')\n",
    "# 条形图 kind = bar\n",
    "plt.show()"
   ]
  },
  {
   "cell_type": "code",
   "execution_count": 215,
   "metadata": {},
   "outputs": [
    {
     "data": {
      "text/plain": [
       "Index(['Brand', 'Name', 'Boarding_time', 'Km(W)', 'Discharge', 'Sec_price',\n",
       "       'New_price', 'year', 'month', 'season'],\n",
       "      dtype='object')"
      ]
     },
     "execution_count": 215,
     "metadata": {},
     "output_type": "execute_result"
    }
   ],
   "source": [
    "df.columns"
   ]
  },
  {
   "cell_type": "code",
   "execution_count": 216,
   "metadata": {},
   "outputs": [
    {
     "data": {
      "image/png": "[encoded data removed]",
      "text/plain": [
       "<Figure size 432x288 with 1 Axes>"
      ]
     },
     "metadata": {},
     "output_type": "display_data"
    }
   ],
   "source": [
    "df.season.value_counts().plot(kind = 'pie')\n",
    "# 饼图 kind = pie\n",
    "plt.show()"
   ]
  },
  {
   "cell_type": "code",
   "execution_count": 217,
   "metadata": {},
   "outputs": [
    {
     "data": {
      "image/png": "[encoded data removed]",
      "text/plain": [
       "<Figure size 432x288 with 1 Axes>"
      ]
     },
     "metadata": {
      "needs_background": "light"
     },
     "output_type": "display_data"
    }
   ],
   "source": [
    "df.season.value_counts().plot(kind = 'line')\n",
    "# 折线图 kind = line\n",
    "plt.show()"
   ]
  },
  {
   "cell_type": "code",
   "execution_count": 218,
   "metadata": {},
   "outputs": [
    {
     "data": {
      "image/png": "[encoded data removed]",
      "text/plain": [
       "<Figure size 432x288 with 1 Axes>"
      ]
     },
     "metadata": {
      "needs_background": "light"
     },
     "output_type": "display_data"
    }
   ],
   "source": [
    "df.season.value_counts().plot(kind = 'barh')\n",
    "# 条形图 kind = barh\n",
    "plt.show()"
   ]
  },
  {
   "cell_type": "code",
   "execution_count": 219,
   "metadata": {},
   "outputs": [
    {
     "data": {
      "image/png": "[encoded data removed]",
      "text/plain": [
       "<Figure size 432x288 with 1 Axes>"
      ]
     },
     "metadata": {
      "needs_background": "light"
     },
     "output_type": "display_data"
    }
   ],
   "source": [
    "df.season.value_counts().plot(kind = 'hist')\n",
    "# 条形图 kind = hist\n",
    "plt.show()"
   ]
  },
  {
   "cell_type": "code",
   "execution_count": 220,
   "metadata": {},
   "outputs": [
    {
     "data": {
      "image/png": "[encoded data removed]",
      "text/plain": [
       "<Figure size 432x288 with 1 Axes>"
      ]
     },
     "metadata": {
      "needs_background": "light"
     },
     "output_type": "display_data"
    }
   ],
   "source": [
    "df.season.value_counts().plot(kind = 'box')\n",
    "# 箱线图 kind = box\n",
    "plt.show()"
   ]
  },
  {
   "cell_type": "code",
   "execution_count": 221,
   "metadata": {},
   "outputs": [
    {
     "data": {
      "image/png": "[encoded data removed]",
      "text/plain": [
       "<Figure size 432x288 with 1 Axes>"
      ]
     },
     "metadata": {
      "needs_background": "light"
     },
     "output_type": "display_data"
    }
   ],
   "source": [
    "df.season.value_counts().plot(kind = 'kde')\n",
    "# 平滑曲线图 kind = kde\n",
    "plt.show()"
   ]
  },
  {
   "cell_type": "code",
   "execution_count": 222,
   "metadata": {},
   "outputs": [
    {
     "data": {
      "image/png": "[encoded data removed]",
      "text/plain": [
       "<Figure size 432x288 with 1 Axes>"
      ]
     },
     "metadata": {
      "needs_background": "light"
     },
     "output_type": "display_data"
    }
   ],
   "source": [
    "df.season.value_counts().plot(kind = 'density')\n",
    "# 平滑曲线图 kind = density\n",
    "plt.show()"
   ]
  },
  {
   "cell_type": "code",
   "execution_count": 223,
   "metadata": {
    "scrolled": true
   },
   "outputs": [
    {
     "data": {
      "image/png": "[encoded data removed]",
      "text/plain": [
       "<Figure size 432x288 with 1 Axes>"
      ]
     },
     "metadata": {
      "needs_background": "light"
     },
     "output_type": "display_data"
    }
   ],
   "source": [
    "df.season.value_counts().plot(kind = 'area')\n",
    "# 面积图 kind = area\n",
    "plt.show()"
   ]
  },
  {
   "cell_type": "code",
   "execution_count": null,
   "metadata": {},
   "outputs": [],
   "source": []
  },
  {
   "cell_type": "code",
   "execution_count": 224,
   "metadata": {},
   "outputs": [
    {
     "data": {
      "text/plain": [
       "\"\\nkind = \\n    - 'line' : line plot (default)\\n    - 'bar' : vertical bar plot\\n    - 'barh' : horizontal bar plot\\n    - 'hist' : histogram\\n    - 'box' : boxplot\\n    - 'kde' : Kernel Density Estimation plot\\n    - 'density' : same as 'kde'\\n    - 'area' : area plot\\n    - 'pie' : pie plot\\n    - 'scatter' : scatter plot\\n    - 'hexbin'\\n\""
      ]
     },
     "execution_count": 224,
     "metadata": {},
     "output_type": "execute_result"
    }
   ],
   "source": [
    "\"\"\"\n",
    "kind = \n",
    "    - 'line' : line plot (default)\n",
    "    - 'bar' : vertical bar plot\n",
    "    - 'barh' : horizontal bar plot\n",
    "    - 'hist' : histogram\n",
    "    - 'box' : boxplot\n",
    "    - 'kde' : Kernel Density Estimation plot\n",
    "    - 'density' : same as 'kde'\n",
    "    - 'area' : area plot\n",
    "    - 'pie' : pie plot\n",
    "    - 'scatter' : scatter plot\n",
    "    - 'hexbin'\n",
    "\"\"\""
   ]
  },
  {
   "cell_type": "code",
   "execution_count": 225,
   "metadata": {},
   "outputs": [
    {
     "data": {
      "text/plain": [
       "Brand            False\n",
       "Name             False\n",
       "Boarding_time     True\n",
       "Km(W)             True\n",
       "Discharge        False\n",
       "Sec_price         True\n",
       "New_price         True\n",
       "year              True\n",
       "month             True\n",
       "season           False\n",
       "dtype: bool"
      ]
     },
     "execution_count": 225,
     "metadata": {},
     "output_type": "execute_result"
    }
   ],
   "source": [
    "df.dtypes != 'object'"
   ]
  },
  {
   "cell_type": "code",
   "execution_count": 226,
   "metadata": {},
   "outputs": [
    {
     "data": {
      "text/plain": [
       "Brand                    object\n",
       "Name                     object\n",
       "Boarding_time    datetime64[ns]\n",
       "Km(W)                   float64\n",
       "Discharge                object\n",
       "Sec_price               float64\n",
       "New_price               float64\n",
       "year                      int64\n",
       "month                     int64\n",
       "season                   object\n",
       "dtype: object"
      ]
     },
     "execution_count": 226,
     "metadata": {},
     "output_type": "execute_result"
    }
   ],
   "source": [
    "df.dtypes"
   ]
  },
  {
   "cell_type": "code",
   "execution_count": 227,
   "metadata": {},
   "outputs": [],
   "source": [
    "# 找到不是字符串的列\n",
    "new_pf = df.columns[(df.dtypes != 'object') & \\\n",
    "                   (df.dtypes != 'datetime64[ns]')]"
   ]
  },
  {
   "cell_type": "code",
   "execution_count": 228,
   "metadata": {},
   "outputs": [
    {
     "data": {
      "text/plain": [
       "pandas.core.indexes.base.Index"
      ]
     },
     "execution_count": 228,
     "metadata": {},
     "output_type": "execute_result"
    }
   ],
   "source": [
    "type(new_pf)"
   ]
  },
  {
   "cell_type": "code",
   "execution_count": 229,
   "metadata": {
    "scrolled": true
   },
   "outputs": [
    {
     "data": {
      "text/html": [
       "<div>\n",
       "<style scoped>\n",
       "    .dataframe tbody tr th:only-of-type {\n",
       "        vertical-align: middle;\n",
       "    }\n",
       "\n",
       "    .dataframe tbody tr th {\n",
       "        vertical-align: top;\n",
       "    }\n",
       "\n",
       "    .dataframe thead th {\n",
       "        text-align: right;\n",
       "    }\n",
       "</style>\n",
       "<table border=\"1\" class=\"dataframe\">\n",
       "  <thead>\n",
       "    <tr style=\"text-align: right;\">\n",
       "      <th></th>\n",
       "      <th>Km(W)</th>\n",
       "      <th>Sec_price</th>\n",
       "      <th>New_price</th>\n",
       "      <th>year</th>\n",
       "      <th>month</th>\n",
       "    </tr>\n",
       "  </thead>\n",
       "  <tbody>\n",
       "    <tr>\n",
       "      <th>0</th>\n",
       "      <td>3.96</td>\n",
       "      <td>6.80</td>\n",
       "      <td>9.42</td>\n",
       "      <td>2016</td>\n",
       "      <td>5</td>\n",
       "    </tr>\n",
       "    <tr>\n",
       "      <th>1</th>\n",
       "      <td>0.08</td>\n",
       "      <td>8.80</td>\n",
       "      <td>11.92</td>\n",
       "      <td>2017</td>\n",
       "      <td>8</td>\n",
       "    </tr>\n",
       "    <tr>\n",
       "      <th>2</th>\n",
       "      <td>0.80</td>\n",
       "      <td>5.80</td>\n",
       "      <td>8.56</td>\n",
       "      <td>2016</td>\n",
       "      <td>9</td>\n",
       "    </tr>\n",
       "    <tr>\n",
       "      <th>3</th>\n",
       "      <td>0.30</td>\n",
       "      <td>6.20</td>\n",
       "      <td>8.66</td>\n",
       "      <td>2017</td>\n",
       "      <td>3</td>\n",
       "    </tr>\n",
       "    <tr>\n",
       "      <th>4</th>\n",
       "      <td>1.70</td>\n",
       "      <td>7.00</td>\n",
       "      <td>11.59</td>\n",
       "      <td>2016</td>\n",
       "      <td>2</td>\n",
       "    </tr>\n",
       "    <tr>\n",
       "      <th>...</th>\n",
       "      <td>...</td>\n",
       "      <td>...</td>\n",
       "      <td>...</td>\n",
       "      <td>...</td>\n",
       "      <td>...</td>\n",
       "    </tr>\n",
       "    <tr>\n",
       "      <th>11120</th>\n",
       "      <td>1.90</td>\n",
       "      <td>10.80</td>\n",
       "      <td>23.86</td>\n",
       "      <td>2013</td>\n",
       "      <td>6</td>\n",
       "    </tr>\n",
       "    <tr>\n",
       "      <th>11121</th>\n",
       "      <td>1.92</td>\n",
       "      <td>9.50</td>\n",
       "      <td>23.86</td>\n",
       "      <td>2013</td>\n",
       "      <td>6</td>\n",
       "    </tr>\n",
       "    <tr>\n",
       "      <th>11122</th>\n",
       "      <td>1.51</td>\n",
       "      <td>12.30</td>\n",
       "      <td>20.28</td>\n",
       "      <td>2016</td>\n",
       "      <td>5</td>\n",
       "    </tr>\n",
       "    <tr>\n",
       "      <th>11123</th>\n",
       "      <td>3.00</td>\n",
       "      <td>17.99</td>\n",
       "      <td>28.65</td>\n",
       "      <td>2016</td>\n",
       "      <td>3</td>\n",
       "    </tr>\n",
       "    <tr>\n",
       "      <th>11124</th>\n",
       "      <td>1.37</td>\n",
       "      <td>16.00</td>\n",
       "      <td>24.95</td>\n",
       "      <td>2017</td>\n",
       "      <td>1</td>\n",
       "    </tr>\n",
       "  </tbody>\n",
       "</table>\n",
       "<p>10984 rows × 5 columns</p>\n",
       "</div>"
      ],
      "text/plain": [
       "       Km(W)  Sec_price  New_price  year  month\n",
       "0       3.96       6.80       9.42  2016      5\n",
       "1       0.08       8.80      11.92  2017      8\n",
       "2       0.80       5.80       8.56  2016      9\n",
       "3       0.30       6.20       8.66  2017      3\n",
       "4       1.70       7.00      11.59  2016      2\n",
       "...      ...        ...        ...   ...    ...\n",
       "11120   1.90      10.80      23.86  2013      6\n",
       "11121   1.92       9.50      23.86  2013      6\n",
       "11122   1.51      12.30      20.28  2016      5\n",
       "11123   3.00      17.99      28.65  2016      3\n",
       "11124   1.37      16.00      24.95  2017      1\n",
       "\n",
       "[10984 rows x 5 columns]"
      ]
     },
     "execution_count": 229,
     "metadata": {},
     "output_type": "execute_result"
    }
   ],
   "source": [
    "df[new_pf]"
   ]
  },
  {
   "cell_type": "code",
   "execution_count": 233,
   "metadata": {},
   "outputs": [
    {
     "data": {
      "text/html": [
       "<div>\n",
       "<style scoped>\n",
       "    .dataframe tbody tr th:only-of-type {\n",
       "        vertical-align: middle;\n",
       "    }\n",
       "\n",
       "    .dataframe tbody tr th {\n",
       "        vertical-align: top;\n",
       "    }\n",
       "\n",
       "    .dataframe thead th {\n",
       "        text-align: right;\n",
       "    }\n",
       "</style>\n",
       "<table border=\"1\" class=\"dataframe\">\n",
       "  <thead>\n",
       "    <tr style=\"text-align: right;\">\n",
       "      <th></th>\n",
       "      <th>Km(W)</th>\n",
       "      <th>Sec_price</th>\n",
       "      <th>New_price</th>\n",
       "      <th>year</th>\n",
       "      <th>month</th>\n",
       "    </tr>\n",
       "  </thead>\n",
       "  <tbody>\n",
       "    <tr>\n",
       "      <th>count</th>\n",
       "      <td>10984.000000</td>\n",
       "      <td>10984.000000</td>\n",
       "      <td>10984.000000</td>\n",
       "      <td>10984.000000</td>\n",
       "      <td>10984.000000</td>\n",
       "    </tr>\n",
       "    <tr>\n",
       "      <th>mean</th>\n",
       "      <td>6.266357</td>\n",
       "      <td>25.652192</td>\n",
       "      <td>51.326006</td>\n",
       "      <td>2011.639476</td>\n",
       "      <td>6.651129</td>\n",
       "    </tr>\n",
       "    <tr>\n",
       "      <th>std</th>\n",
       "      <td>3.480678</td>\n",
       "      <td>52.770268</td>\n",
       "      <td>79.682066</td>\n",
       "      <td>2.986301</td>\n",
       "      <td>3.349951</td>\n",
       "    </tr>\n",
       "    <tr>\n",
       "      <th>min</th>\n",
       "      <td>0.020000</td>\n",
       "      <td>0.650000</td>\n",
       "      <td>2.910000</td>\n",
       "      <td>1997.000000</td>\n",
       "      <td>1.000000</td>\n",
       "    </tr>\n",
       "    <tr>\n",
       "      <th>25%</th>\n",
       "      <td>4.000000</td>\n",
       "      <td>5.200000</td>\n",
       "      <td>16.050000</td>\n",
       "      <td>2010.000000</td>\n",
       "      <td>4.000000</td>\n",
       "    </tr>\n",
       "    <tr>\n",
       "      <th>50%</th>\n",
       "      <td>6.000000</td>\n",
       "      <td>10.200000</td>\n",
       "      <td>26.690000</td>\n",
       "      <td>2012.000000</td>\n",
       "      <td>7.000000</td>\n",
       "    </tr>\n",
       "    <tr>\n",
       "      <th>75%</th>\n",
       "      <td>8.200000</td>\n",
       "      <td>23.800000</td>\n",
       "      <td>52.210000</td>\n",
       "      <td>2014.000000</td>\n",
       "      <td>9.000000</td>\n",
       "    </tr>\n",
       "    <tr>\n",
       "      <th>max</th>\n",
       "      <td>34.600000</td>\n",
       "      <td>808.000000</td>\n",
       "      <td>976.920000</td>\n",
       "      <td>2017.000000</td>\n",
       "      <td>12.000000</td>\n",
       "    </tr>\n",
       "  </tbody>\n",
       "</table>\n",
       "</div>"
      ],
      "text/plain": [
       "              Km(W)     Sec_price     New_price          year         month\n",
       "count  10984.000000  10984.000000  10984.000000  10984.000000  10984.000000\n",
       "mean       6.266357     25.652192     51.326006   2011.639476      6.651129\n",
       "std        3.480678     52.770268     79.682066      2.986301      3.349951\n",
       "min        0.020000      0.650000      2.910000   1997.000000      1.000000\n",
       "25%        4.000000      5.200000     16.050000   2010.000000      4.000000\n",
       "50%        6.000000     10.200000     26.690000   2012.000000      7.000000\n",
       "75%        8.200000     23.800000     52.210000   2014.000000      9.000000\n",
       "max       34.600000    808.000000    976.920000   2017.000000     12.000000"
      ]
     },
     "execution_count": 233,
     "metadata": {},
     "output_type": "execute_result"
    }
   ],
   "source": [
    "df.describe()"
   ]
  },
  {
   "cell_type": "code",
   "execution_count": 234,
   "metadata": {},
   "outputs": [
    {
     "data": {
      "text/html": [
       "<div>\n",
       "<style scoped>\n",
       "    .dataframe tbody tr th:only-of-type {\n",
       "        vertical-align: middle;\n",
       "    }\n",
       "\n",
       "    .dataframe tbody tr th {\n",
       "        vertical-align: top;\n",
       "    }\n",
       "\n",
       "    .dataframe thead th {\n",
       "        text-align: right;\n",
       "    }\n",
       "</style>\n",
       "<table border=\"1\" class=\"dataframe\">\n",
       "  <thead>\n",
       "    <tr style=\"text-align: right;\">\n",
       "      <th></th>\n",
       "      <th>Brand</th>\n",
       "      <th>Name</th>\n",
       "      <th>Discharge</th>\n",
       "      <th>season</th>\n",
       "    </tr>\n",
       "  </thead>\n",
       "  <tbody>\n",
       "    <tr>\n",
       "      <th>count</th>\n",
       "      <td>10984</td>\n",
       "      <td>10984</td>\n",
       "      <td>10984</td>\n",
       "      <td>10984</td>\n",
       "    </tr>\n",
       "    <tr>\n",
       "      <th>unique</th>\n",
       "      <td>104</td>\n",
       "      <td>4374</td>\n",
       "      <td>33</td>\n",
       "      <td>4</td>\n",
       "    </tr>\n",
       "    <tr>\n",
       "      <th>top</th>\n",
       "      <td>别克</td>\n",
       "      <td>经典全顺 2010款 柴油 短轴 多功能 中顶 6座</td>\n",
       "      <td>国4</td>\n",
       "      <td>夏季</td>\n",
       "    </tr>\n",
       "    <tr>\n",
       "      <th>freq</th>\n",
       "      <td>1346</td>\n",
       "      <td>126</td>\n",
       "      <td>4262</td>\n",
       "      <td>3350</td>\n",
       "    </tr>\n",
       "  </tbody>\n",
       "</table>\n",
       "</div>"
      ],
      "text/plain": [
       "        Brand                        Name Discharge season\n",
       "count   10984                       10984     10984  10984\n",
       "unique    104                        4374        33      4\n",
       "top        别克  经典全顺 2010款 柴油 短轴 多功能 中顶 6座        国4     夏季\n",
       "freq     1346                         126      4262   3350"
      ]
     },
     "execution_count": 234,
     "metadata": {},
     "output_type": "execute_result"
    }
   ],
   "source": [
    "df.describe(include = ['object'])"
   ]
  },
  {
   "cell_type": "markdown",
   "metadata": {},
   "source": [
    "# 异常值检测"
   ]
  },
  {
   "cell_type": "code",
   "execution_count": 236,
   "metadata": {
    "scrolled": true
   },
   "outputs": [
    {
     "data": {
      "text/html": [
       "<div>\n",
       "<style scoped>\n",
       "    .dataframe tbody tr th:only-of-type {\n",
       "        vertical-align: middle;\n",
       "    }\n",
       "\n",
       "    .dataframe tbody tr th {\n",
       "        vertical-align: top;\n",
       "    }\n",
       "\n",
       "    .dataframe thead th {\n",
       "        text-align: right;\n",
       "    }\n",
       "</style>\n",
       "<table border=\"1\" class=\"dataframe\">\n",
       "  <thead>\n",
       "    <tr style=\"text-align: right;\">\n",
       "      <th></th>\n",
       "      <th>year</th>\n",
       "      <th>counts</th>\n",
       "    </tr>\n",
       "  </thead>\n",
       "  <tbody>\n",
       "    <tr>\n",
       "      <th>0</th>\n",
       "      <td>1700</td>\n",
       "      <td>5.0</td>\n",
       "    </tr>\n",
       "    <tr>\n",
       "      <th>1</th>\n",
       "      <td>1701</td>\n",
       "      <td>11.0</td>\n",
       "    </tr>\n",
       "    <tr>\n",
       "      <th>2</th>\n",
       "      <td>1702</td>\n",
       "      <td>16.0</td>\n",
       "    </tr>\n",
       "    <tr>\n",
       "      <th>3</th>\n",
       "      <td>1703</td>\n",
       "      <td>23.0</td>\n",
       "    </tr>\n",
       "    <tr>\n",
       "      <th>4</th>\n",
       "      <td>1704</td>\n",
       "      <td>36.0</td>\n",
       "    </tr>\n",
       "    <tr>\n",
       "      <th>...</th>\n",
       "      <td>...</td>\n",
       "      <td>...</td>\n",
       "    </tr>\n",
       "    <tr>\n",
       "      <th>284</th>\n",
       "      <td>1984</td>\n",
       "      <td>45.9</td>\n",
       "    </tr>\n",
       "    <tr>\n",
       "      <th>285</th>\n",
       "      <td>1985</td>\n",
       "      <td>17.9</td>\n",
       "    </tr>\n",
       "    <tr>\n",
       "      <th>286</th>\n",
       "      <td>1986</td>\n",
       "      <td>13.4</td>\n",
       "    </tr>\n",
       "    <tr>\n",
       "      <th>287</th>\n",
       "      <td>1987</td>\n",
       "      <td>29.2</td>\n",
       "    </tr>\n",
       "    <tr>\n",
       "      <th>288</th>\n",
       "      <td>1988</td>\n",
       "      <td>100.2</td>\n",
       "    </tr>\n",
       "  </tbody>\n",
       "</table>\n",
       "<p>289 rows × 2 columns</p>\n",
       "</div>"
      ],
      "text/plain": [
       "     year  counts\n",
       "0    1700     5.0\n",
       "1    1701    11.0\n",
       "2    1702    16.0\n",
       "3    1703    23.0\n",
       "4    1704    36.0\n",
       "..    ...     ...\n",
       "284  1984    45.9\n",
       "285  1985    17.9\n",
       "286  1986    13.4\n",
       "287  1987    29.2\n",
       "288  1988   100.2\n",
       "\n",
       "[289 rows x 2 columns]"
      ]
     },
     "execution_count": 236,
     "metadata": {},
     "output_type": "execute_result"
    }
   ],
   "source": [
    "s = pd.read_csv('sunspots.csv')\n",
    "s"
   ]
  },
  {
   "cell_type": "code",
   "execution_count": 255,
   "metadata": {},
   "outputs": [],
   "source": [
    "arr = np.array([False,True,True,True])"
   ]
  },
  {
   "cell_type": "code",
   "execution_count": 256,
   "metadata": {},
   "outputs": [],
   "source": [
    "arr1 = np.array([False,False,False,True])"
   ]
  },
  {
   "cell_type": "code",
   "execution_count": 257,
   "metadata": {},
   "outputs": [],
   "source": [
    "arr2 = np.array([False,False,False,False])"
   ]
  },
  {
   "cell_type": "code",
   "execution_count": 258,
   "metadata": {},
   "outputs": [
    {
     "data": {
      "text/plain": [
       "array([False,  True,  True,  True])"
      ]
     },
     "execution_count": 258,
     "metadata": {},
     "output_type": "execute_result"
    }
   ],
   "source": [
    "arr"
   ]
  },
  {
   "cell_type": "code",
   "execution_count": 259,
   "metadata": {},
   "outputs": [
    {
     "data": {
      "text/plain": [
       "array([False, False, False,  True])"
      ]
     },
     "execution_count": 259,
     "metadata": {},
     "output_type": "execute_result"
    }
   ],
   "source": [
    "arr1"
   ]
  },
  {
   "cell_type": "code",
   "execution_count": 260,
   "metadata": {},
   "outputs": [
    {
     "data": {
      "text/plain": [
       "array([False, False, False, False])"
      ]
     },
     "execution_count": 260,
     "metadata": {},
     "output_type": "execute_result"
    }
   ],
   "source": [
    "arr2"
   ]
  },
  {
   "cell_type": "code",
   "execution_count": 261,
   "metadata": {},
   "outputs": [
    {
     "data": {
      "text/plain": [
       "True"
      ]
     },
     "execution_count": 261,
     "metadata": {},
     "output_type": "execute_result"
    }
   ],
   "source": [
    "any(arr)"
   ]
  },
  {
   "cell_type": "code",
   "execution_count": 262,
   "metadata": {},
   "outputs": [
    {
     "data": {
      "text/plain": [
       "True"
      ]
     },
     "execution_count": 262,
     "metadata": {},
     "output_type": "execute_result"
    }
   ],
   "source": [
    "any(arr1)"
   ]
  },
  {
   "cell_type": "code",
   "execution_count": 263,
   "metadata": {},
   "outputs": [
    {
     "data": {
      "text/plain": [
       "False"
      ]
     },
     "execution_count": 263,
     "metadata": {},
     "output_type": "execute_result"
    }
   ],
   "source": [
    "any(arr2)"
   ]
  },
  {
   "cell_type": "markdown",
   "metadata": {},
   "source": [
    "# 基于统计学"
   ]
  },
  {
   "cell_type": "code",
   "execution_count": 270,
   "metadata": {},
   "outputs": [],
   "source": [
    "xbar = s.counts.mean()\n",
    "xstd = s.counts.std()"
   ]
  },
  {
   "cell_type": "code",
   "execution_count": 271,
   "metadata": {},
   "outputs": [
    {
     "name": "stdout",
     "output_type": "stream",
     "text": [
      "标准差异常值上限检测: \n",
      " True\n"
     ]
    }
   ],
   "source": [
    "print(\"标准差异常值上限检测: \\n\", \\\n",
    "     any(s.counts>xbar+3*xstd))"
   ]
  },
  {
   "cell_type": "code",
   "execution_count": 272,
   "metadata": {},
   "outputs": [
    {
     "name": "stdout",
     "output_type": "stream",
     "text": [
      "标准差异常值下限检测: \n",
      " False\n"
     ]
    }
   ],
   "source": [
    "print(\"标准差异常值下限检测: \\n\", \\\n",
    "     any(s.counts<xbar-3*xstd))"
   ]
  },
  {
   "cell_type": "code",
   "execution_count": 273,
   "metadata": {},
   "outputs": [],
   "source": [
    "q1 = s.counts.quantile(q = 0.25)\n",
    "q3 = s.counts.quantile(q = 0.75)\n",
    "IQR = q3 - q1"
   ]
  },
  {
   "cell_type": "code",
   "execution_count": 274,
   "metadata": {},
   "outputs": [
    {
     "name": "stdout",
     "output_type": "stream",
     "text": [
      "标准差异常值上限检测: \n",
      " True\n"
     ]
    }
   ],
   "source": [
    "print(\"标准差异常值上限检测: \\n\", \\\n",
    "     any(s.counts>q3+1.5*IQR))"
   ]
  },
  {
   "cell_type": "code",
   "execution_count": 275,
   "metadata": {},
   "outputs": [
    {
     "name": "stdout",
     "output_type": "stream",
     "text": [
      "标准差异常值下限检测: \n",
      " False\n"
     ]
    }
   ],
   "source": [
    "print(\"标准差异常值下限检测: \\n\", \\\n",
    "     any(s.counts<q1-1.5*IQR))"
   ]
  },
  {
   "cell_type": "code",
   "execution_count": 279,
   "metadata": {
    "scrolled": true
   },
   "outputs": [
    {
     "data": {
      "image/png": "[encoded data removed]",
      "text/plain": [
       "<Figure size 432x288 with 1 Axes>"
      ]
     },
     "metadata": {
      "needs_background": "light"
     },
     "output_type": "display_data"
    }
   ],
   "source": [
    "s.counts.plot(kind = 'box')\n",
    "# kind = box 箱线图\n",
    "plt.show()"
   ]
  },
  {
   "cell_type": "code",
   "execution_count": null,
   "metadata": {},
   "outputs": [],
   "source": []
  }
 ],
 "metadata": {
  "kernelspec": {
   "display_name": "Python 3",
   "language": "python",
   "name": "python3"
  },
  "language_info": {
   "codemirror_mode": {
    "name": "ipython",
    "version": 3
   },
   "file_extension": ".py",
   "mimetype": "text/x-python",
   "name": "python",
   "nbconvert_exporter": "python",
   "pygments_lexer": "ipython3",
   "version": "3.8.3"
  }
 },
 "nbformat": 4,
 "nbformat_minor": 4
}

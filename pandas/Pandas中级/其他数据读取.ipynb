{
 "cells": [
  {
   "cell_type": "markdown",
   "metadata": {},
   "source": [
    "# 第一种"
   ]
  },
  {
   "cell_type": "code",
   "execution_count": 1,
   "metadata": {},
   "outputs": [
    {
     "name": "stdout",
     "output_type": "stream",
     "text": [
      "line1: This is line1\n",
      "line2: This is line2\n"
     ]
    }
   ],
   "source": [
    "file = 'text.txt'\n",
    "with open(file,'r')as f:\n",
    "    lines = f.read()\n",
    "    print(lines)"
   ]
  },
  {
   "cell_type": "markdown",
   "metadata": {},
   "source": [
    "# 第二种"
   ]
  },
  {
   "cell_type": "code",
   "execution_count": 2,
   "metadata": {},
   "outputs": [
    {
     "name": "stdout",
     "output_type": "stream",
     "text": [
      "['line1: This is line1\\n', 'line2: This is line2']\n"
     ]
    }
   ],
   "source": [
    "with open(file,'r')as f:\n",
    "    line = f.readlines()\n",
    "    print(line)"
   ]
  },
  {
   "cell_type": "markdown",
   "metadata": {},
   "source": [
    "# 第三种"
   ]
  },
  {
   "cell_type": "code",
   "execution_count": 3,
   "metadata": {},
   "outputs": [
    {
     "name": "stdout",
     "output_type": "stream",
     "text": [
      "0\n",
      "22\n",
      "line1: This is line1\n",
      "\n",
      "42\n",
      "line2: This is line2\n"
     ]
    }
   ],
   "source": [
    "with open(file,'r')as f:\n",
    "    print(f.tell())\n",
    "    line = f.readline()\n",
    "    while line:\n",
    "        print(f.tell())\n",
    "        print(line)\n",
    "        line = f.readline()"
   ]
  },
  {
   "cell_type": "markdown",
   "metadata": {},
   "source": [
    "# 从数据库读取文件"
   ]
  },
  {
   "cell_type": "code",
   "execution_count": 17,
   "metadata": {},
   "outputs": [],
   "source": [
    "ini = {\n",
    "    \"host\":\"localhost\",\n",
    "    \"user\":\"root\",\n",
    "    \"password\":\"7758258\",\n",
    "    \"port\":3306,\n",
    "    \"database\":\"db\",\n",
    "    \"charset\":\"utf8\"\n",
    "         }"
   ]
  },
  {
   "cell_type": "code",
   "execution_count": 18,
   "metadata": {},
   "outputs": [],
   "source": [
    "sql = \"select * from 贷款表\""
   ]
  },
  {
   "cell_type": "code",
   "execution_count": 19,
   "metadata": {},
   "outputs": [],
   "source": [
    "import pymysql"
   ]
  },
  {
   "cell_type": "code",
   "execution_count": 20,
   "metadata": {},
   "outputs": [],
   "source": [
    "import pandas as pd"
   ]
  },
  {
   "cell_type": "code",
   "execution_count": 21,
   "metadata": {
    "scrolled": true
   },
   "outputs": [],
   "source": [
    "# 创建链接\n",
    "connect = pymysql.connect(**ini)"
   ]
  },
  {
   "cell_type": "code",
   "execution_count": 22,
   "metadata": {},
   "outputs": [],
   "source": [
    "# 获得游标\n",
    "cursor = connect.cursor()"
   ]
  },
  {
   "cell_type": "code",
   "execution_count": 23,
   "metadata": {},
   "outputs": [
    {
     "data": {
      "text/plain": [
       "27"
      ]
     },
     "execution_count": 23,
     "metadata": {},
     "output_type": "execute_result"
    }
   ],
   "source": [
    "# 执行SQL语句\n",
    "cursor.execute(sql)"
   ]
  },
  {
   "cell_type": "code",
   "execution_count": 24,
   "metadata": {},
   "outputs": [],
   "source": [
    "# 获得数据\n",
    "data = cursor.fetchall()"
   ]
  },
  {
   "cell_type": "code",
   "execution_count": 25,
   "metadata": {},
   "outputs": [],
   "source": [
    "# 遍历数据\n",
    "df = pd.DataFrame(list(data))"
   ]
  },
  {
   "cell_type": "code",
   "execution_count": 26,
   "metadata": {
    "scrolled": true
   },
   "outputs": [
    {
     "data": {
      "text/html": [
       "<div>\n",
       "<style scoped>\n",
       "    .dataframe tbody tr th:only-of-type {\n",
       "        vertical-align: middle;\n",
       "    }\n",
       "\n",
       "    .dataframe tbody tr th {\n",
       "        vertical-align: top;\n",
       "    }\n",
       "\n",
       "    .dataframe thead th {\n",
       "        text-align: right;\n",
       "    }\n",
       "</style>\n",
       "<table border=\"1\" class=\"dataframe\">\n",
       "  <thead>\n",
       "    <tr style=\"text-align: right;\">\n",
       "      <th></th>\n",
       "      <th>0</th>\n",
       "      <th>1</th>\n",
       "      <th>2</th>\n",
       "      <th>3</th>\n",
       "      <th>4</th>\n",
       "      <th>5</th>\n",
       "      <th>6</th>\n",
       "      <th>7</th>\n",
       "    </tr>\n",
       "  </thead>\n",
       "  <tbody>\n",
       "    <tr>\n",
       "      <th>0</th>\n",
       "      <td>华东</td>\n",
       "      <td>137****2572</td>\n",
       "      <td>李**</td>\n",
       "      <td>公积金类</td>\n",
       "      <td>2019-08-04</td>\n",
       "      <td>NaN</td>\n",
       "      <td>王伟伟</td>\n",
       "      <td>abc</td>\n",
       "    </tr>\n",
       "    <tr>\n",
       "      <th>1</th>\n",
       "      <td>华西</td>\n",
       "      <td>183****5772</td>\n",
       "      <td>汪**</td>\n",
       "      <td>精英类</td>\n",
       "      <td>2019-08-01</td>\n",
       "      <td>7000.0</td>\n",
       "      <td>刘雨</td>\n",
       "      <td>abc</td>\n",
       "    </tr>\n",
       "    <tr>\n",
       "      <th>2</th>\n",
       "      <td>华中</td>\n",
       "      <td>183****2391</td>\n",
       "      <td>蔡**</td>\n",
       "      <td>精英类</td>\n",
       "      <td>2019-08-04</td>\n",
       "      <td>NaN</td>\n",
       "      <td>王伟伟</td>\n",
       "      <td>abc</td>\n",
       "    </tr>\n",
       "    <tr>\n",
       "      <th>3</th>\n",
       "      <td>华中</td>\n",
       "      <td>183****5772</td>\n",
       "      <td>汪**</td>\n",
       "      <td>精英类</td>\n",
       "      <td>2019-08-03</td>\n",
       "      <td>7000.0</td>\n",
       "      <td>刘雨</td>\n",
       "      <td>abc</td>\n",
       "    </tr>\n",
       "    <tr>\n",
       "      <th>4</th>\n",
       "      <td>华东</td>\n",
       "      <td>180****9590</td>\n",
       "      <td>张**</td>\n",
       "      <td>公积金类</td>\n",
       "      <td>2019-08-08</td>\n",
       "      <td>5000.0</td>\n",
       "      <td>刘雨</td>\n",
       "      <td>abc</td>\n",
       "    </tr>\n",
       "  </tbody>\n",
       "</table>\n",
       "</div>"
      ],
      "text/plain": [
       "    0            1    2     3           4       5    6    7\n",
       "0  华东  137****2572  李**  公积金类  2019-08-04     NaN  王伟伟  abc\n",
       "1  华西  183****5772  汪**   精英类  2019-08-01  7000.0   刘雨  abc\n",
       "2  华中  183****2391  蔡**   精英类  2019-08-04     NaN  王伟伟  abc\n",
       "3  华中  183****5772  汪**   精英类  2019-08-03  7000.0   刘雨  abc\n",
       "4  华东  180****9590  张**  公积金类  2019-08-08  5000.0   刘雨  abc"
      ]
     },
     "execution_count": 26,
     "metadata": {},
     "output_type": "execute_result"
    }
   ],
   "source": [
    "df.head()"
   ]
  },
  {
   "cell_type": "code",
   "execution_count": 27,
   "metadata": {},
   "outputs": [],
   "source": [
    "# 关闭游标\n",
    "cursor.close()"
   ]
  },
  {
   "cell_type": "code",
   "execution_count": 28,
   "metadata": {},
   "outputs": [],
   "source": [
    "# 关闭连接\n",
    "connect.close()"
   ]
  },
  {
   "cell_type": "code",
   "execution_count": 48,
   "metadata": {},
   "outputs": [],
   "source": [
    "connect2 = pymysql.connect(**ini)"
   ]
  },
  {
   "cell_type": "code",
   "execution_count": 49,
   "metadata": {},
   "outputs": [],
   "source": [
    "cursor2 = connect2.cursor()"
   ]
  },
  {
   "cell_type": "code",
   "execution_count": 50,
   "metadata": {
    "scrolled": true
   },
   "outputs": [
    {
     "data": {
      "text/plain": [
       "27"
      ]
     },
     "execution_count": 50,
     "metadata": {},
     "output_type": "execute_result"
    }
   ],
   "source": [
    "cursor2.execute(sql)"
   ]
  },
  {
   "cell_type": "code",
   "execution_count": 51,
   "metadata": {},
   "outputs": [],
   "source": [
    "file = cursor2.fetchall()"
   ]
  },
  {
   "cell_type": "code",
   "execution_count": 52,
   "metadata": {},
   "outputs": [],
   "source": [
    "df2 = pd.DataFrame(list(file))"
   ]
  },
  {
   "cell_type": "code",
   "execution_count": 53,
   "metadata": {},
   "outputs": [
    {
     "data": {
      "text/html": [
       "<div>\n",
       "<style scoped>\n",
       "    .dataframe tbody tr th:only-of-type {\n",
       "        vertical-align: middle;\n",
       "    }\n",
       "\n",
       "    .dataframe tbody tr th {\n",
       "        vertical-align: top;\n",
       "    }\n",
       "\n",
       "    .dataframe thead th {\n",
       "        text-align: right;\n",
       "    }\n",
       "</style>\n",
       "<table border=\"1\" class=\"dataframe\">\n",
       "  <thead>\n",
       "    <tr style=\"text-align: right;\">\n",
       "      <th></th>\n",
       "      <th>0</th>\n",
       "      <th>1</th>\n",
       "      <th>2</th>\n",
       "      <th>3</th>\n",
       "      <th>4</th>\n",
       "      <th>5</th>\n",
       "      <th>6</th>\n",
       "      <th>7</th>\n",
       "    </tr>\n",
       "  </thead>\n",
       "  <tbody>\n",
       "    <tr>\n",
       "      <th>0</th>\n",
       "      <td>华东</td>\n",
       "      <td>137****2572</td>\n",
       "      <td>李**</td>\n",
       "      <td>公积金类</td>\n",
       "      <td>2019-08-04</td>\n",
       "      <td>NaN</td>\n",
       "      <td>王伟伟</td>\n",
       "      <td>abc</td>\n",
       "    </tr>\n",
       "    <tr>\n",
       "      <th>1</th>\n",
       "      <td>华西</td>\n",
       "      <td>183****5772</td>\n",
       "      <td>汪**</td>\n",
       "      <td>精英类</td>\n",
       "      <td>2019-08-01</td>\n",
       "      <td>7000.0</td>\n",
       "      <td>刘雨</td>\n",
       "      <td>abc</td>\n",
       "    </tr>\n",
       "    <tr>\n",
       "      <th>2</th>\n",
       "      <td>华中</td>\n",
       "      <td>183****2391</td>\n",
       "      <td>蔡**</td>\n",
       "      <td>精英类</td>\n",
       "      <td>2019-08-04</td>\n",
       "      <td>NaN</td>\n",
       "      <td>王伟伟</td>\n",
       "      <td>abc</td>\n",
       "    </tr>\n",
       "    <tr>\n",
       "      <th>3</th>\n",
       "      <td>华中</td>\n",
       "      <td>183****5772</td>\n",
       "      <td>汪**</td>\n",
       "      <td>精英类</td>\n",
       "      <td>2019-08-03</td>\n",
       "      <td>7000.0</td>\n",
       "      <td>刘雨</td>\n",
       "      <td>abc</td>\n",
       "    </tr>\n",
       "    <tr>\n",
       "      <th>4</th>\n",
       "      <td>华东</td>\n",
       "      <td>180****9590</td>\n",
       "      <td>张**</td>\n",
       "      <td>公积金类</td>\n",
       "      <td>2019-08-08</td>\n",
       "      <td>5000.0</td>\n",
       "      <td>刘雨</td>\n",
       "      <td>abc</td>\n",
       "    </tr>\n",
       "  </tbody>\n",
       "</table>\n",
       "</div>"
      ],
      "text/plain": [
       "    0            1    2     3           4       5    6    7\n",
       "0  华东  137****2572  李**  公积金类  2019-08-04     NaN  王伟伟  abc\n",
       "1  华西  183****5772  汪**   精英类  2019-08-01  7000.0   刘雨  abc\n",
       "2  华中  183****2391  蔡**   精英类  2019-08-04     NaN  王伟伟  abc\n",
       "3  华中  183****5772  汪**   精英类  2019-08-03  7000.0   刘雨  abc\n",
       "4  华东  180****9590  张**  公积金类  2019-08-08  5000.0   刘雨  abc"
      ]
     },
     "execution_count": 53,
     "metadata": {},
     "output_type": "execute_result"
    }
   ],
   "source": [
    "df2.head()"
   ]
  },
  {
   "cell_type": "code",
   "execution_count": 54,
   "metadata": {},
   "outputs": [],
   "source": [
    "cursor2.close()"
   ]
  },
  {
   "cell_type": "code",
   "execution_count": 55,
   "metadata": {},
   "outputs": [],
   "source": [
    "connect2.close()"
   ]
  },
  {
   "cell_type": "code",
   "execution_count": 12,
   "metadata": {},
   "outputs": [],
   "source": [
    "def connect_c(host,\n",
    "              user,\n",
    "              password,\n",
    "              post,\n",
    "              database,\n",
    "              charset,\n",
    "              sql):\n",
    "    import pymysql\n",
    "    import pandas as pd\n",
    "    ini = {\n",
    "        'host':host,\n",
    "        'user':user,\n",
    "        'password':password,\n",
    "        'port':post,\n",
    "        'database':database,\n",
    "        'charset':charset\n",
    "             }\n",
    "    sql = sql\n",
    "    connect = pymysql.connect(**ini)\n",
    "    cursor = connect.cursor()\n",
    "    cursor.execute(sql)\n",
    "    data = cursor.fetchall()\n",
    "    df = pd.DataFrame(list(data))\n",
    "    return df\n",
    "    cursor.colse()\n",
    "    connect.colse()"
   ]
  },
  {
   "cell_type": "code",
   "execution_count": 13,
   "metadata": {
    "scrolled": true
   },
   "outputs": [
    {
     "data": {
      "text/html": [
       "<div>\n",
       "<style scoped>\n",
       "    .dataframe tbody tr th:only-of-type {\n",
       "        vertical-align: middle;\n",
       "    }\n",
       "\n",
       "    .dataframe tbody tr th {\n",
       "        vertical-align: top;\n",
       "    }\n",
       "\n",
       "    .dataframe thead th {\n",
       "        text-align: right;\n",
       "    }\n",
       "</style>\n",
       "<table border=\"1\" class=\"dataframe\">\n",
       "  <thead>\n",
       "    <tr style=\"text-align: right;\">\n",
       "      <th></th>\n",
       "      <th>0</th>\n",
       "      <th>1</th>\n",
       "      <th>2</th>\n",
       "      <th>3</th>\n",
       "      <th>4</th>\n",
       "      <th>5</th>\n",
       "      <th>6</th>\n",
       "      <th>7</th>\n",
       "    </tr>\n",
       "  </thead>\n",
       "  <tbody>\n",
       "    <tr>\n",
       "      <th>22</th>\n",
       "      <td>华北</td>\n",
       "      <td>133****4061</td>\n",
       "      <td>刘**</td>\n",
       "      <td>工薪类</td>\n",
       "      <td>2019-08-07</td>\n",
       "      <td>7000.0</td>\n",
       "      <td>李文静</td>\n",
       "      <td>abc</td>\n",
       "    </tr>\n",
       "    <tr>\n",
       "      <th>23</th>\n",
       "      <td>华西</td>\n",
       "      <td>137****2572</td>\n",
       "      <td>李**</td>\n",
       "      <td>精英类</td>\n",
       "      <td>2019-08-02</td>\n",
       "      <td>NaN</td>\n",
       "      <td>王伟伟</td>\n",
       "      <td>abc</td>\n",
       "    </tr>\n",
       "    <tr>\n",
       "      <th>24</th>\n",
       "      <td>华中</td>\n",
       "      <td>180****9592</td>\n",
       "      <td>张**</td>\n",
       "      <td>精英A类</td>\n",
       "      <td>2019-08-05</td>\n",
       "      <td>NaN</td>\n",
       "      <td>王伟伟</td>\n",
       "      <td>abc</td>\n",
       "    </tr>\n",
       "    <tr>\n",
       "      <th>25</th>\n",
       "      <td>华西</td>\n",
       "      <td>159****1734</td>\n",
       "      <td>王**</td>\n",
       "      <td>工薪类</td>\n",
       "      <td>2019-08-02</td>\n",
       "      <td>7000.0</td>\n",
       "      <td>李文静</td>\n",
       "      <td>abc</td>\n",
       "    </tr>\n",
       "    <tr>\n",
       "      <th>26</th>\n",
       "      <td>华东</td>\n",
       "      <td>137****2572</td>\n",
       "      <td>李**</td>\n",
       "      <td>公积金类</td>\n",
       "      <td>None</td>\n",
       "      <td>NaN</td>\n",
       "      <td>None</td>\n",
       "      <td>None</td>\n",
       "    </tr>\n",
       "  </tbody>\n",
       "</table>\n",
       "</div>"
      ],
      "text/plain": [
       "     0            1    2     3           4       5     6     7\n",
       "22  华北  133****4061  刘**   工薪类  2019-08-07  7000.0   李文静   abc\n",
       "23  华西  137****2572  李**   精英类  2019-08-02     NaN   王伟伟   abc\n",
       "24  华中  180****9592  张**  精英A类  2019-08-05     NaN   王伟伟   abc\n",
       "25  华西  159****1734  王**   工薪类  2019-08-02  7000.0   李文静   abc\n",
       "26  华东  137****2572  李**  公积金类        None     NaN  None  None"
      ]
     },
     "execution_count": 13,
     "metadata": {},
     "output_type": "execute_result"
    }
   ],
   "source": [
    "connect_c(\n",
    "    'localhost',\n",
    "    'root',\n",
    "    '7758258',\n",
    "    3306,\n",
    "    'db',\n",
    "    'utf8',\n",
    "    'select * from 贷款表'\n",
    "          ).tail()"
   ]
  },
  {
   "cell_type": "markdown",
   "metadata": {},
   "source": [
    "# json"
   ]
  },
  {
   "cell_type": "code",
   "execution_count": 56,
   "metadata": {},
   "outputs": [],
   "source": [
    "import requests"
   ]
  },
  {
   "cell_type": "code",
   "execution_count": 76,
   "metadata": {},
   "outputs": [],
   "source": [
    "add = '北京艺术传媒学院'"
   ]
  },
  {
   "cell_type": "code",
   "execution_count": 77,
   "metadata": {},
   "outputs": [],
   "source": [
    "mykey = \"DdOyOKo0VZBgdDFQnyhINKYDGkzBkuQr\""
   ]
  },
  {
   "cell_type": "code",
   "execution_count": 78,
   "metadata": {},
   "outputs": [],
   "source": [
    "url = \"http://api.map.baidu.com/geocoder/v2/?address=%s&output=json&ak=%s\""
   ]
  },
  {
   "cell_type": "code",
   "execution_count": 79,
   "metadata": {},
   "outputs": [],
   "source": [
    "res = requests.get(url % (add, mykey))"
   ]
  },
  {
   "cell_type": "code",
   "execution_count": 80,
   "metadata": {},
   "outputs": [
    {
     "data": {
      "text/plain": [
       "'{\"status\":0,\"result\":{\"location\":{\"lng\":116.4133836971231,\"lat\":39.910924547299568},\"precise\":0,\"confidence\":20,\"comprehension\":100,\"level\":\"城市\"}}'"
      ]
     },
     "execution_count": 80,
     "metadata": {},
     "output_type": "execute_result"
    }
   ],
   "source": [
    "res.text"
   ]
  },
  {
   "cell_type": "code",
   "execution_count": 73,
   "metadata": {},
   "outputs": [],
   "source": [
    "import json"
   ]
  },
  {
   "cell_type": "code",
   "execution_count": 74,
   "metadata": {},
   "outputs": [],
   "source": [
    "add_json = json.loads(res.text)"
   ]
  },
  {
   "cell_type": "code",
   "execution_count": 75,
   "metadata": {},
   "outputs": [
    {
     "data": {
      "text/plain": [
       "{'status': 0,\n",
       " 'result': {'location': {'lng': 116.4133836971231, 'lat': 39.910924547299565},\n",
       "  'precise': 0,\n",
       "  'confidence': 20,\n",
       "  'comprehension': 100,\n",
       "  'level': '城市'}}"
      ]
     },
     "execution_count": 75,
     "metadata": {},
     "output_type": "execute_result"
    }
   ],
   "source": [
    "add_json"
   ]
  },
  {
   "cell_type": "code",
   "execution_count": 81,
   "metadata": {},
   "outputs": [
    {
     "data": {
      "text/plain": [
       "dict"
      ]
     },
     "execution_count": 81,
     "metadata": {},
     "output_type": "execute_result"
    }
   ],
   "source": [
    "type(add_json)"
   ]
  },
  {
   "cell_type": "code",
   "execution_count": 82,
   "metadata": {},
   "outputs": [],
   "source": [
    "lng = add_json['result']['location']"
   ]
  },
  {
   "cell_type": "code",
   "execution_count": 83,
   "metadata": {},
   "outputs": [
    {
     "data": {
      "text/plain": [
       "{'lng': 116.4133836971231, 'lat': 39.910924547299565}"
      ]
     },
     "execution_count": 83,
     "metadata": {},
     "output_type": "execute_result"
    }
   ],
   "source": [
    "lng"
   ]
  },
  {
   "cell_type": "markdown",
   "metadata": {},
   "source": [
    "# xml"
   ]
  },
  {
   "cell_type": "code",
   "execution_count": 87,
   "metadata": {},
   "outputs": [],
   "source": [
    "url = \"http://api.map.baidu.com/geocoder/v2/?address=%s&output=xml&ak=%s\""
   ]
  },
  {
   "cell_type": "code",
   "execution_count": 88,
   "metadata": {},
   "outputs": [],
   "source": [
    "res = requests.get(url % (add, mykey))"
   ]
  },
  {
   "cell_type": "code",
   "execution_count": 89,
   "metadata": {},
   "outputs": [
    {
     "data": {
      "text/plain": [
       "'<?xml version=\"1.0\" encoding=\"utf-8\"?>\\n<GeocoderSearchResponse>\\n\\t<status>0</status>\\n\\t<result>\\n\\t\\t<location>\\n\\t\\t\\t<lng>116.413383697</lng>\\n\\t\\t\\t<lat>39.9109245473</lat>\\n\\t\\t</location>\\n\\t\\t<precise>0</precise>\\n\\t\\t<confidence>20</confidence>\\n\\t\\t<comprehension>100</comprehension>\\n\\t\\t<level>城市</level>\\n\\t</result>\\n</GeocoderSearchResponse>\\n\\n'"
      ]
     },
     "execution_count": 89,
     "metadata": {},
     "output_type": "execute_result"
    }
   ],
   "source": [
    "res.text"
   ]
  },
  {
   "cell_type": "code",
   "execution_count": 90,
   "metadata": {},
   "outputs": [],
   "source": [
    "import xml.etree.ElementTree as Etree"
   ]
  },
  {
   "cell_type": "code",
   "execution_count": 91,
   "metadata": {},
   "outputs": [],
   "source": [
    "root = Etree.fromstring(res.text)"
   ]
  },
  {
   "cell_type": "code",
   "execution_count": 92,
   "metadata": {},
   "outputs": [],
   "source": [
    "lng = root[1][0][0].text"
   ]
  },
  {
   "cell_type": "code",
   "execution_count": 93,
   "metadata": {},
   "outputs": [],
   "source": [
    "lat = root[1][0][1].text"
   ]
  },
  {
   "cell_type": "code",
   "execution_count": 95,
   "metadata": {},
   "outputs": [
    {
     "name": "stdout",
     "output_type": "stream",
     "text": [
      "lng: 116.413383697\n",
      "lat: 39.9109245473\n"
     ]
    }
   ],
   "source": [
    "print(f\"lng: {lng}\")\n",
    "print(f\"lat: {lat}\")"
   ]
  },
  {
   "cell_type": "code",
   "execution_count": null,
   "metadata": {},
   "outputs": [],
   "source": []
  }
 ],
 "metadata": {
  "kernelspec": {
   "display_name": "Python 3",
   "language": "python",
   "name": "python3"
  },
  "language_info": {
   "codemirror_mode": {
    "name": "ipython",
    "version": 3
   },
   "file_extension": ".py",
   "mimetype": "text/x-python",
   "name": "python",
   "nbconvert_exporter": "python",
   "pygments_lexer": "ipython3",
   "version": "3.8.3"
  }
 },
 "nbformat": 4,
 "nbformat_minor": 4
}

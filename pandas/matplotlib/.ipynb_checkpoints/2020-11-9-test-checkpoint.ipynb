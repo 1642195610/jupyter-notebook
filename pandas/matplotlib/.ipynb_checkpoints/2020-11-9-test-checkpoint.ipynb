{
 "cells": [
  {
   "cell_type": "code",
   "execution_count": null,
   "metadata": {},
   "outputs": [],
   "source": [
    "plt\n",
    "    .line 线图\n",
    "    (\n",
    "        x,\n",
    "        y,\n",
    "        kerger,\n",
    "        lw,\n",
    "        color,\n",
    "        label,\n",
    "        alpha\n",
    "        \n",
    "    )\n",
    "    .hist 柱状图\n",
    "    (\n",
    "        data,\n",
    "        bins,\n",
    "        alpha\n",
    "    )\n",
    "    .bar 条形图\n",
    "    (\n",
    "        data_label,\n",
    "        bins,\n",
    "        bottom\n",
    "    )\n",
    "    .scatter 散点图\n",
    "    (\n",
    "        x,\n",
    "        y,\n",
    "        \n",
    "    )\n",
    "    .subplot 子图\n",
    "    "
   ]
  }
 ],
 "metadata": {
  "kernelspec": {
   "display_name": "Python 3",
   "language": "python",
   "name": "python3"
  },
  "language_info": {
   "codemirror_mode": {
    "name": "ipython",
    "version": 3
   },
   "file_extension": ".py",
   "mimetype": "text/x-python",
   "name": "python",
   "nbconvert_exporter": "python",
   "pygments_lexer": "ipython3",
   "version": "3.8.3"
  }
 },
 "nbformat": 4,
 "nbformat_minor": 4
}

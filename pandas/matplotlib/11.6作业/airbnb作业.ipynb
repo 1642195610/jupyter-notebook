{
 "cells": [
  {
   "cell_type": "code",
   "execution_count": 16,
   "metadata": {},
   "outputs": [],
   "source": [
    "import datetime\n",
    "import os\n",
    "import pickle\n",
    "\n",
    "import numpy as np\n",
    "import pandas as pd\n",
    "import matplotlib.pyplot as plt\n",
    "import seaborn as sns\n",
    "%matplotlib inline"
   ]
  },
  {
   "cell_type": "markdown",
   "metadata": {},
   "source": [
    "### train_users_2.csv - the training set of users （训练数据）\n",
    "\n",
    "### test_users.csv - the test set of users （测试数据）\n",
    "\n",
    "#### 数据字典\n",
    "1. id: user id （用户id）\n",
    "\n",
    "2. date_account_created（帐号注册时间）: the date of account creation\n",
    "\n",
    "3. timestamp_first_active（首次活跃时间）: timestamp of the first activity, note that it can be earlier than date_account_created or date_first_booking because a user can search before signing up\n",
    "\n",
    "4. date_first_booking（首次订房时间）: date of first booking\n",
    "\n",
    "5. gender（性别）\n",
    "\n",
    "6. age（年龄）\n",
    "\n",
    "7. signup_method（注册方式）\n",
    "\n",
    "8. signup_flow（注册页面）: the page a user came to signup up from\n",
    "\n",
    "9. language（语言）: international language preference\n",
    "\n",
    "10. affiliate_channel（付费市场渠道）: what kind of paid marketing\n",
    "\n",
    "11. affiliate_provider（付费市场渠道名称）: where the marketing is e.g. google, craigslist, other\n",
    "\n",
    "12. first_affiliate_tracked（注册前第一个接触的市场渠道）: whats the first marketing the user interacted with before the signing up\n",
    "\n",
    "13. signup_app（注册app）\n",
    "\n",
    "14. first_device_type(设备类型)\n",
    "\n",
    "15. first_browser（浏览器类型）\n",
    "\n",
    "16. country_destination（订房国家-需要预测的量）: this is the target variable you are to predict\n",
    "\n",
    "\n",
    "### sessions.csv - web sessions log for users（网页浏览数据）\n",
    "#### 数据字典\n",
    "\n",
    "1. user_id（用户id）: to be joined with the column ‘id’ in users table\n",
    "\n",
    "2. action(用户行为)\n",
    "\n",
    "3. action_type（用户行为类型）\n",
    "\n",
    "4. action_detail（用户行为具体）\n",
    "\n",
    "5. device_type（设备类型）\n",
    "\n",
    "6. secs_elapsed（停留时长）\n"
   ]
  },
  {
   "cell_type": "code",
   "execution_count": 17,
   "metadata": {},
   "outputs": [],
   "source": [
    "train = pd.read_csv(\"train_users_2.csv\")\n",
    "test = pd.read_csv(\"test_users.csv\")"
   ]
  },
  {
   "cell_type": "code",
   "execution_count": 18,
   "metadata": {},
   "outputs": [
    {
     "data": {
      "text/html": [
       "<div>\n",
       "<style scoped>\n",
       "    .dataframe tbody tr th:only-of-type {\n",
       "        vertical-align: middle;\n",
       "    }\n",
       "\n",
       "    .dataframe tbody tr th {\n",
       "        vertical-align: top;\n",
       "    }\n",
       "\n",
       "    .dataframe thead th {\n",
       "        text-align: right;\n",
       "    }\n",
       "</style>\n",
       "<table border=\"1\" class=\"dataframe\">\n",
       "  <thead>\n",
       "    <tr style=\"text-align: right;\">\n",
       "      <th></th>\n",
       "      <th>id</th>\n",
       "      <th>date_account_created</th>\n",
       "      <th>timestamp_first_active</th>\n",
       "      <th>date_first_booking</th>\n",
       "      <th>gender</th>\n",
       "      <th>age</th>\n",
       "      <th>signup_method</th>\n",
       "      <th>signup_flow</th>\n",
       "      <th>language</th>\n",
       "      <th>affiliate_channel</th>\n",
       "      <th>affiliate_provider</th>\n",
       "      <th>first_affiliate_tracked</th>\n",
       "      <th>signup_app</th>\n",
       "      <th>first_device_type</th>\n",
       "      <th>first_browser</th>\n",
       "      <th>country_destination</th>\n",
       "    </tr>\n",
       "  </thead>\n",
       "  <tbody>\n",
       "    <tr>\n",
       "      <th>0</th>\n",
       "      <td>gxn3p5htnn</td>\n",
       "      <td>2010-06-28</td>\n",
       "      <td>20090319043255</td>\n",
       "      <td>NaN</td>\n",
       "      <td>-unknown-</td>\n",
       "      <td>NaN</td>\n",
       "      <td>facebook</td>\n",
       "      <td>0</td>\n",
       "      <td>en</td>\n",
       "      <td>direct</td>\n",
       "      <td>direct</td>\n",
       "      <td>untracked</td>\n",
       "      <td>Web</td>\n",
       "      <td>Mac Desktop</td>\n",
       "      <td>Chrome</td>\n",
       "      <td>NDF</td>\n",
       "    </tr>\n",
       "    <tr>\n",
       "      <th>1</th>\n",
       "      <td>820tgsjxq7</td>\n",
       "      <td>2011-05-25</td>\n",
       "      <td>20090523174809</td>\n",
       "      <td>NaN</td>\n",
       "      <td>MALE</td>\n",
       "      <td>38.0</td>\n",
       "      <td>facebook</td>\n",
       "      <td>0</td>\n",
       "      <td>en</td>\n",
       "      <td>seo</td>\n",
       "      <td>google</td>\n",
       "      <td>untracked</td>\n",
       "      <td>Web</td>\n",
       "      <td>Mac Desktop</td>\n",
       "      <td>Chrome</td>\n",
       "      <td>NDF</td>\n",
       "    </tr>\n",
       "    <tr>\n",
       "      <th>2</th>\n",
       "      <td>4ft3gnwmtx</td>\n",
       "      <td>2010-09-28</td>\n",
       "      <td>20090609231247</td>\n",
       "      <td>2010-08-02</td>\n",
       "      <td>FEMALE</td>\n",
       "      <td>56.0</td>\n",
       "      <td>basic</td>\n",
       "      <td>3</td>\n",
       "      <td>en</td>\n",
       "      <td>direct</td>\n",
       "      <td>direct</td>\n",
       "      <td>untracked</td>\n",
       "      <td>Web</td>\n",
       "      <td>Windows Desktop</td>\n",
       "      <td>IE</td>\n",
       "      <td>US</td>\n",
       "    </tr>\n",
       "    <tr>\n",
       "      <th>3</th>\n",
       "      <td>bjjt8pjhuk</td>\n",
       "      <td>2011-12-05</td>\n",
       "      <td>20091031060129</td>\n",
       "      <td>2012-09-08</td>\n",
       "      <td>FEMALE</td>\n",
       "      <td>42.0</td>\n",
       "      <td>facebook</td>\n",
       "      <td>0</td>\n",
       "      <td>en</td>\n",
       "      <td>direct</td>\n",
       "      <td>direct</td>\n",
       "      <td>untracked</td>\n",
       "      <td>Web</td>\n",
       "      <td>Mac Desktop</td>\n",
       "      <td>Firefox</td>\n",
       "      <td>other</td>\n",
       "    </tr>\n",
       "    <tr>\n",
       "      <th>4</th>\n",
       "      <td>87mebub9p4</td>\n",
       "      <td>2010-09-14</td>\n",
       "      <td>20091208061105</td>\n",
       "      <td>2010-02-18</td>\n",
       "      <td>-unknown-</td>\n",
       "      <td>41.0</td>\n",
       "      <td>basic</td>\n",
       "      <td>0</td>\n",
       "      <td>en</td>\n",
       "      <td>direct</td>\n",
       "      <td>direct</td>\n",
       "      <td>untracked</td>\n",
       "      <td>Web</td>\n",
       "      <td>Mac Desktop</td>\n",
       "      <td>Chrome</td>\n",
       "      <td>US</td>\n",
       "    </tr>\n",
       "  </tbody>\n",
       "</table>\n",
       "</div>"
      ],
      "text/plain": [
       "           id date_account_created  timestamp_first_active date_first_booking  \\\n",
       "0  gxn3p5htnn           2010-06-28          20090319043255                NaN   \n",
       "1  820tgsjxq7           2011-05-25          20090523174809                NaN   \n",
       "2  4ft3gnwmtx           2010-09-28          20090609231247         2010-08-02   \n",
       "3  bjjt8pjhuk           2011-12-05          20091031060129         2012-09-08   \n",
       "4  87mebub9p4           2010-09-14          20091208061105         2010-02-18   \n",
       "\n",
       "      gender   age signup_method  signup_flow language affiliate_channel  \\\n",
       "0  -unknown-   NaN      facebook            0       en            direct   \n",
       "1       MALE  38.0      facebook            0       en               seo   \n",
       "2     FEMALE  56.0         basic            3       en            direct   \n",
       "3     FEMALE  42.0      facebook            0       en            direct   \n",
       "4  -unknown-  41.0         basic            0       en            direct   \n",
       "\n",
       "  affiliate_provider first_affiliate_tracked signup_app first_device_type  \\\n",
       "0             direct               untracked        Web       Mac Desktop   \n",
       "1             google               untracked        Web       Mac Desktop   \n",
       "2             direct               untracked        Web   Windows Desktop   \n",
       "3             direct               untracked        Web       Mac Desktop   \n",
       "4             direct               untracked        Web       Mac Desktop   \n",
       "\n",
       "  first_browser country_destination  \n",
       "0        Chrome                 NDF  \n",
       "1        Chrome                 NDF  \n",
       "2            IE                  US  \n",
       "3       Firefox               other  \n",
       "4        Chrome                  US  "
      ]
     },
     "execution_count": 18,
     "metadata": {},
     "output_type": "execute_result"
    }
   ],
   "source": [
    "train.head()"
   ]
  },
  {
   "cell_type": "code",
   "execution_count": 19,
   "metadata": {
    "scrolled": true
   },
   "outputs": [
    {
     "name": "stdout",
     "output_type": "stream",
     "text": [
      "The columns name of training dataset:\n",
      " Index(['id', 'date_account_created', 'timestamp_first_active',\n",
      "       'date_first_booking', 'gender', 'age', 'signup_method', 'signup_flow',\n",
      "       'language', 'affiliate_channel', 'affiliate_provider',\n",
      "       'first_affiliate_tracked', 'signup_app', 'first_device_type',\n",
      "       'first_browser', 'country_destination'],\n",
      "      dtype='object') (213451, 16)\n",
      "===========================================\n",
      "The columns name of test dataset:\n",
      " Index(['id', 'date_account_created', 'timestamp_first_active',\n",
      "       'date_first_booking', 'gender', 'age', 'signup_method', 'signup_flow',\n",
      "       'language', 'affiliate_channel', 'affiliate_provider',\n",
      "       'first_affiliate_tracked', 'signup_app', 'first_device_type',\n",
      "       'first_browser'],\n",
      "      dtype='object') (62096, 15)\n"
     ]
    }
   ],
   "source": [
    "print('The columns name of training dataset:\\n',train.columns,train.shape)\n",
    "print(\"===========================================\")\n",
    "print('The columns name of test dataset:\\n',test.columns,test.shape)"
   ]
  },
  {
   "cell_type": "markdown",
   "metadata": {},
   "source": [
    "### 绘制用户增长曲线"
   ]
  },
  {
   "cell_type": "code",
   "execution_count": 20,
   "metadata": {},
   "outputs": [],
   "source": [
    "# 更改账户创建时间格式\n",
    "train['date_account_created'] = \n",
    "test['date_account_created'] = "
   ]
  },
  {
   "cell_type": "code",
   "execution_count": 21,
   "metadata": {},
   "outputs": [
    {
     "data": {
      "text/html": [
       "<div>\n",
       "<style scoped>\n",
       "    .dataframe tbody tr th:only-of-type {\n",
       "        vertical-align: middle;\n",
       "    }\n",
       "\n",
       "    .dataframe tbody tr th {\n",
       "        vertical-align: top;\n",
       "    }\n",
       "\n",
       "    .dataframe thead th {\n",
       "        text-align: right;\n",
       "    }\n",
       "</style>\n",
       "<table border=\"1\" class=\"dataframe\">\n",
       "  <thead>\n",
       "    <tr style=\"text-align: right;\">\n",
       "      <th></th>\n",
       "      <th>date_account_created</th>\n",
       "      <th>id</th>\n",
       "    </tr>\n",
       "  </thead>\n",
       "  <tbody>\n",
       "    <tr>\n",
       "      <th>0</th>\n",
       "      <td>2010-01-01</td>\n",
       "      <td>1</td>\n",
       "    </tr>\n",
       "    <tr>\n",
       "      <th>1</th>\n",
       "      <td>2010-01-02</td>\n",
       "      <td>2</td>\n",
       "    </tr>\n",
       "    <tr>\n",
       "      <th>2</th>\n",
       "      <td>2010-01-03</td>\n",
       "      <td>3</td>\n",
       "    </tr>\n",
       "    <tr>\n",
       "      <th>3</th>\n",
       "      <td>2010-01-04</td>\n",
       "      <td>6</td>\n",
       "    </tr>\n",
       "    <tr>\n",
       "      <th>4</th>\n",
       "      <td>2010-01-05</td>\n",
       "      <td>9</td>\n",
       "    </tr>\n",
       "  </tbody>\n",
       "</table>\n",
       "</div>"
      ],
      "text/plain": [
       "  date_account_created  id\n",
       "0           2010-01-01   1\n",
       "1           2010-01-02   2\n",
       "2           2010-01-03   3\n",
       "3           2010-01-04   6\n",
       "4           2010-01-05   9"
      ]
     },
     "execution_count": 21,
     "metadata": {},
     "output_type": "execute_result"
    }
   ],
   "source": [
    "# 创建客户量的累积数量，计算当天的客户量加上前面所有的客户量\n",
    "acc_cum = \n",
    "acc_cum.head()"
   ]
  },
  {
   "cell_type": "code",
   "execution_count": 22,
   "metadata": {
    "scrolled": true
   },
   "outputs": [
    {
     "data": {
      "text/html": [
       "<div>\n",
       "<style scoped>\n",
       "    .dataframe tbody tr th:only-of-type {\n",
       "        vertical-align: middle;\n",
       "    }\n",
       "\n",
       "    .dataframe tbody tr th {\n",
       "        vertical-align: top;\n",
       "    }\n",
       "\n",
       "    .dataframe thead th {\n",
       "        text-align: right;\n",
       "    }\n",
       "</style>\n",
       "<table border=\"1\" class=\"dataframe\">\n",
       "  <thead>\n",
       "    <tr style=\"text-align: right;\">\n",
       "      <th></th>\n",
       "      <th>date_account_created</th>\n",
       "      <th>id</th>\n",
       "      <th>days</th>\n",
       "    </tr>\n",
       "  </thead>\n",
       "  <tbody>\n",
       "    <tr>\n",
       "      <th>0</th>\n",
       "      <td>2010-01-01</td>\n",
       "      <td>1</td>\n",
       "      <td>0</td>\n",
       "    </tr>\n",
       "    <tr>\n",
       "      <th>1</th>\n",
       "      <td>2010-01-02</td>\n",
       "      <td>2</td>\n",
       "      <td>1</td>\n",
       "    </tr>\n",
       "    <tr>\n",
       "      <th>2</th>\n",
       "      <td>2010-01-03</td>\n",
       "      <td>3</td>\n",
       "      <td>2</td>\n",
       "    </tr>\n",
       "    <tr>\n",
       "      <th>3</th>\n",
       "      <td>2010-01-04</td>\n",
       "      <td>6</td>\n",
       "      <td>3</td>\n",
       "    </tr>\n",
       "    <tr>\n",
       "      <th>4</th>\n",
       "      <td>2010-01-05</td>\n",
       "      <td>9</td>\n",
       "      <td>4</td>\n",
       "    </tr>\n",
       "    <tr>\n",
       "      <th>5</th>\n",
       "      <td>2010-01-07</td>\n",
       "      <td>13</td>\n",
       "      <td>6</td>\n",
       "    </tr>\n",
       "    <tr>\n",
       "      <th>6</th>\n",
       "      <td>2010-01-08</td>\n",
       "      <td>14</td>\n",
       "      <td>7</td>\n",
       "    </tr>\n",
       "    <tr>\n",
       "      <th>7</th>\n",
       "      <td>2010-01-10</td>\n",
       "      <td>17</td>\n",
       "      <td>9</td>\n",
       "    </tr>\n",
       "    <tr>\n",
       "      <th>8</th>\n",
       "      <td>2010-01-11</td>\n",
       "      <td>20</td>\n",
       "      <td>10</td>\n",
       "    </tr>\n",
       "    <tr>\n",
       "      <th>9</th>\n",
       "      <td>2010-01-12</td>\n",
       "      <td>23</td>\n",
       "      <td>11</td>\n",
       "    </tr>\n",
       "    <tr>\n",
       "      <th>10</th>\n",
       "      <td>2010-01-13</td>\n",
       "      <td>25</td>\n",
       "      <td>12</td>\n",
       "    </tr>\n",
       "    <tr>\n",
       "      <th>11</th>\n",
       "      <td>2010-01-14</td>\n",
       "      <td>29</td>\n",
       "      <td>13</td>\n",
       "    </tr>\n",
       "    <tr>\n",
       "      <th>12</th>\n",
       "      <td>2010-01-15</td>\n",
       "      <td>34</td>\n",
       "      <td>14</td>\n",
       "    </tr>\n",
       "    <tr>\n",
       "      <th>13</th>\n",
       "      <td>2010-01-16</td>\n",
       "      <td>36</td>\n",
       "      <td>15</td>\n",
       "    </tr>\n",
       "    <tr>\n",
       "      <th>14</th>\n",
       "      <td>2010-01-19</td>\n",
       "      <td>37</td>\n",
       "      <td>18</td>\n",
       "    </tr>\n",
       "    <tr>\n",
       "      <th>15</th>\n",
       "      <td>2010-01-21</td>\n",
       "      <td>39</td>\n",
       "      <td>20</td>\n",
       "    </tr>\n",
       "    <tr>\n",
       "      <th>16</th>\n",
       "      <td>2010-01-23</td>\n",
       "      <td>40</td>\n",
       "      <td>22</td>\n",
       "    </tr>\n",
       "    <tr>\n",
       "      <th>17</th>\n",
       "      <td>2010-01-24</td>\n",
       "      <td>44</td>\n",
       "      <td>23</td>\n",
       "    </tr>\n",
       "    <tr>\n",
       "      <th>18</th>\n",
       "      <td>2010-01-25</td>\n",
       "      <td>47</td>\n",
       "      <td>24</td>\n",
       "    </tr>\n",
       "    <tr>\n",
       "      <th>19</th>\n",
       "      <td>2010-01-26</td>\n",
       "      <td>50</td>\n",
       "      <td>25</td>\n",
       "    </tr>\n",
       "    <tr>\n",
       "      <th>20</th>\n",
       "      <td>2010-01-27</td>\n",
       "      <td>53</td>\n",
       "      <td>26</td>\n",
       "    </tr>\n",
       "    <tr>\n",
       "      <th>21</th>\n",
       "      <td>2010-01-28</td>\n",
       "      <td>54</td>\n",
       "      <td>27</td>\n",
       "    </tr>\n",
       "    <tr>\n",
       "      <th>22</th>\n",
       "      <td>2010-01-29</td>\n",
       "      <td>58</td>\n",
       "      <td>28</td>\n",
       "    </tr>\n",
       "    <tr>\n",
       "      <th>23</th>\n",
       "      <td>2010-01-30</td>\n",
       "      <td>60</td>\n",
       "      <td>29</td>\n",
       "    </tr>\n",
       "    <tr>\n",
       "      <th>24</th>\n",
       "      <td>2010-01-31</td>\n",
       "      <td>61</td>\n",
       "      <td>30</td>\n",
       "    </tr>\n",
       "    <tr>\n",
       "      <th>25</th>\n",
       "      <td>2010-02-01</td>\n",
       "      <td>64</td>\n",
       "      <td>31</td>\n",
       "    </tr>\n",
       "    <tr>\n",
       "      <th>26</th>\n",
       "      <td>2010-02-02</td>\n",
       "      <td>69</td>\n",
       "      <td>32</td>\n",
       "    </tr>\n",
       "    <tr>\n",
       "      <th>27</th>\n",
       "      <td>2010-02-03</td>\n",
       "      <td>71</td>\n",
       "      <td>33</td>\n",
       "    </tr>\n",
       "    <tr>\n",
       "      <th>28</th>\n",
       "      <td>2010-02-04</td>\n",
       "      <td>73</td>\n",
       "      <td>34</td>\n",
       "    </tr>\n",
       "    <tr>\n",
       "      <th>29</th>\n",
       "      <td>2010-02-06</td>\n",
       "      <td>78</td>\n",
       "      <td>36</td>\n",
       "    </tr>\n",
       "    <tr>\n",
       "      <th>...</th>\n",
       "      <td>...</td>\n",
       "      <td>...</td>\n",
       "      <td>...</td>\n",
       "    </tr>\n",
       "    <tr>\n",
       "      <th>1604</th>\n",
       "      <td>2014-06-01</td>\n",
       "      <td>198104</td>\n",
       "      <td>1612</td>\n",
       "    </tr>\n",
       "    <tr>\n",
       "      <th>1605</th>\n",
       "      <td>2014-06-02</td>\n",
       "      <td>198638</td>\n",
       "      <td>1613</td>\n",
       "    </tr>\n",
       "    <tr>\n",
       "      <th>1606</th>\n",
       "      <td>2014-06-03</td>\n",
       "      <td>199240</td>\n",
       "      <td>1614</td>\n",
       "    </tr>\n",
       "    <tr>\n",
       "      <th>1607</th>\n",
       "      <td>2014-06-04</td>\n",
       "      <td>199802</td>\n",
       "      <td>1615</td>\n",
       "    </tr>\n",
       "    <tr>\n",
       "      <th>1608</th>\n",
       "      <td>2014-06-05</td>\n",
       "      <td>200352</td>\n",
       "      <td>1616</td>\n",
       "    </tr>\n",
       "    <tr>\n",
       "      <th>1609</th>\n",
       "      <td>2014-06-06</td>\n",
       "      <td>200783</td>\n",
       "      <td>1617</td>\n",
       "    </tr>\n",
       "    <tr>\n",
       "      <th>1610</th>\n",
       "      <td>2014-06-07</td>\n",
       "      <td>201173</td>\n",
       "      <td>1618</td>\n",
       "    </tr>\n",
       "    <tr>\n",
       "      <th>1611</th>\n",
       "      <td>2014-06-08</td>\n",
       "      <td>201595</td>\n",
       "      <td>1619</td>\n",
       "    </tr>\n",
       "    <tr>\n",
       "      <th>1612</th>\n",
       "      <td>2014-06-09</td>\n",
       "      <td>202172</td>\n",
       "      <td>1620</td>\n",
       "    </tr>\n",
       "    <tr>\n",
       "      <th>1613</th>\n",
       "      <td>2014-06-10</td>\n",
       "      <td>202727</td>\n",
       "      <td>1621</td>\n",
       "    </tr>\n",
       "    <tr>\n",
       "      <th>1614</th>\n",
       "      <td>2014-06-11</td>\n",
       "      <td>203320</td>\n",
       "      <td>1622</td>\n",
       "    </tr>\n",
       "    <tr>\n",
       "      <th>1615</th>\n",
       "      <td>2014-06-12</td>\n",
       "      <td>203844</td>\n",
       "      <td>1623</td>\n",
       "    </tr>\n",
       "    <tr>\n",
       "      <th>1616</th>\n",
       "      <td>2014-06-13</td>\n",
       "      <td>204340</td>\n",
       "      <td>1624</td>\n",
       "    </tr>\n",
       "    <tr>\n",
       "      <th>1617</th>\n",
       "      <td>2014-06-14</td>\n",
       "      <td>204733</td>\n",
       "      <td>1625</td>\n",
       "    </tr>\n",
       "    <tr>\n",
       "      <th>1618</th>\n",
       "      <td>2014-06-15</td>\n",
       "      <td>205131</td>\n",
       "      <td>1626</td>\n",
       "    </tr>\n",
       "    <tr>\n",
       "      <th>1619</th>\n",
       "      <td>2014-06-16</td>\n",
       "      <td>205729</td>\n",
       "      <td>1627</td>\n",
       "    </tr>\n",
       "    <tr>\n",
       "      <th>1620</th>\n",
       "      <td>2014-06-17</td>\n",
       "      <td>206277</td>\n",
       "      <td>1628</td>\n",
       "    </tr>\n",
       "    <tr>\n",
       "      <th>1621</th>\n",
       "      <td>2014-06-18</td>\n",
       "      <td>206841</td>\n",
       "      <td>1629</td>\n",
       "    </tr>\n",
       "    <tr>\n",
       "      <th>1622</th>\n",
       "      <td>2014-06-19</td>\n",
       "      <td>207405</td>\n",
       "      <td>1630</td>\n",
       "    </tr>\n",
       "    <tr>\n",
       "      <th>1623</th>\n",
       "      <td>2014-06-20</td>\n",
       "      <td>207949</td>\n",
       "      <td>1631</td>\n",
       "    </tr>\n",
       "    <tr>\n",
       "      <th>1624</th>\n",
       "      <td>2014-06-21</td>\n",
       "      <td>208375</td>\n",
       "      <td>1632</td>\n",
       "    </tr>\n",
       "    <tr>\n",
       "      <th>1625</th>\n",
       "      <td>2014-06-22</td>\n",
       "      <td>208880</td>\n",
       "      <td>1633</td>\n",
       "    </tr>\n",
       "    <tr>\n",
       "      <th>1626</th>\n",
       "      <td>2014-06-23</td>\n",
       "      <td>209466</td>\n",
       "      <td>1634</td>\n",
       "    </tr>\n",
       "    <tr>\n",
       "      <th>1627</th>\n",
       "      <td>2014-06-24</td>\n",
       "      <td>210136</td>\n",
       "      <td>1635</td>\n",
       "    </tr>\n",
       "    <tr>\n",
       "      <th>1628</th>\n",
       "      <td>2014-06-25</td>\n",
       "      <td>210772</td>\n",
       "      <td>1636</td>\n",
       "    </tr>\n",
       "    <tr>\n",
       "      <th>1629</th>\n",
       "      <td>2014-06-26</td>\n",
       "      <td>211359</td>\n",
       "      <td>1637</td>\n",
       "    </tr>\n",
       "    <tr>\n",
       "      <th>1630</th>\n",
       "      <td>2014-06-27</td>\n",
       "      <td>211916</td>\n",
       "      <td>1638</td>\n",
       "    </tr>\n",
       "    <tr>\n",
       "      <th>1631</th>\n",
       "      <td>2014-06-28</td>\n",
       "      <td>212377</td>\n",
       "      <td>1639</td>\n",
       "    </tr>\n",
       "    <tr>\n",
       "      <th>1632</th>\n",
       "      <td>2014-06-29</td>\n",
       "      <td>212861</td>\n",
       "      <td>1640</td>\n",
       "    </tr>\n",
       "    <tr>\n",
       "      <th>1633</th>\n",
       "      <td>2014-06-30</td>\n",
       "      <td>213451</td>\n",
       "      <td>1641</td>\n",
       "    </tr>\n",
       "  </tbody>\n",
       "</table>\n",
       "<p>1634 rows × 3 columns</p>\n",
       "</div>"
      ],
      "text/plain": [
       "     date_account_created      id  days\n",
       "0              2010-01-01       1     0\n",
       "1              2010-01-02       2     1\n",
       "2              2010-01-03       3     2\n",
       "3              2010-01-04       6     3\n",
       "4              2010-01-05       9     4\n",
       "5              2010-01-07      13     6\n",
       "6              2010-01-08      14     7\n",
       "7              2010-01-10      17     9\n",
       "8              2010-01-11      20    10\n",
       "9              2010-01-12      23    11\n",
       "10             2010-01-13      25    12\n",
       "11             2010-01-14      29    13\n",
       "12             2010-01-15      34    14\n",
       "13             2010-01-16      36    15\n",
       "14             2010-01-19      37    18\n",
       "15             2010-01-21      39    20\n",
       "16             2010-01-23      40    22\n",
       "17             2010-01-24      44    23\n",
       "18             2010-01-25      47    24\n",
       "19             2010-01-26      50    25\n",
       "20             2010-01-27      53    26\n",
       "21             2010-01-28      54    27\n",
       "22             2010-01-29      58    28\n",
       "23             2010-01-30      60    29\n",
       "24             2010-01-31      61    30\n",
       "25             2010-02-01      64    31\n",
       "26             2010-02-02      69    32\n",
       "27             2010-02-03      71    33\n",
       "28             2010-02-04      73    34\n",
       "29             2010-02-06      78    36\n",
       "...                   ...     ...   ...\n",
       "1604           2014-06-01  198104  1612\n",
       "1605           2014-06-02  198638  1613\n",
       "1606           2014-06-03  199240  1614\n",
       "1607           2014-06-04  199802  1615\n",
       "1608           2014-06-05  200352  1616\n",
       "1609           2014-06-06  200783  1617\n",
       "1610           2014-06-07  201173  1618\n",
       "1611           2014-06-08  201595  1619\n",
       "1612           2014-06-09  202172  1620\n",
       "1613           2014-06-10  202727  1621\n",
       "1614           2014-06-11  203320  1622\n",
       "1615           2014-06-12  203844  1623\n",
       "1616           2014-06-13  204340  1624\n",
       "1617           2014-06-14  204733  1625\n",
       "1618           2014-06-15  205131  1626\n",
       "1619           2014-06-16  205729  1627\n",
       "1620           2014-06-17  206277  1628\n",
       "1621           2014-06-18  206841  1629\n",
       "1622           2014-06-19  207405  1630\n",
       "1623           2014-06-20  207949  1631\n",
       "1624           2014-06-21  208375  1632\n",
       "1625           2014-06-22  208880  1633\n",
       "1626           2014-06-23  209466  1634\n",
       "1627           2014-06-24  210136  1635\n",
       "1628           2014-06-25  210772  1636\n",
       "1629           2014-06-26  211359  1637\n",
       "1630           2014-06-27  211916  1638\n",
       "1631           2014-06-28  212377  1639\n",
       "1632           2014-06-29  212861  1640\n",
       "1633           2014-06-30  213451  1641\n",
       "\n",
       "[1634 rows x 3 columns]"
      ]
     },
     "execution_count": 22,
     "metadata": {},
     "output_type": "execute_result"
    }
   ],
   "source": [
    "# 计算注册日期距离初始日期的天数\n",
    "acc_cum['days'] = \n",
    "acc_cum.head()"
   ]
  },
  {
   "cell_type": "code",
   "execution_count": 23,
   "metadata": {
    "scrolled": true
   },
   "outputs": [
    {
     "data": {
      "text/plain": [
       "<matplotlib.axes._subplots.AxesSubplot at 0x197937b2e48>"
      ]
     },
     "execution_count": 23,
     "metadata": {},
     "output_type": "execute_result"
    },
    {
     "data": {
      "image/png": "[encoded data removed]",
      "text/plain": [
       "<Figure size 432x288 with 1 Axes>"
      ]
     },
     "metadata": {
      "needs_background": "light"
     },
     "output_type": "display_data"
    }
   ],
   "source": [
    "# 画出来每天累积的用户量\n"
   ]
  },
  {
   "cell_type": "markdown",
   "metadata": {},
   "source": [
    "### 绘制日注册数量曲线 "
   ]
  },
  {
   "cell_type": "code",
   "execution_count": 24,
   "metadata": {
    "scrolled": true
   },
   "outputs": [
    {
     "name": "stdout",
     "output_type": "stream",
     "text": [
      "<class 'pandas.core.frame.DataFrame'>\n",
      "RangeIndex: 213451 entries, 0 to 213450\n",
      "Data columns (total 16 columns):\n",
      "id                         213451 non-null object\n",
      "date_account_created       213451 non-null datetime64[ns]\n",
      "timestamp_first_active     213451 non-null int64\n",
      "date_first_booking         88908 non-null object\n",
      "gender                     213451 non-null object\n",
      "age                        125461 non-null float64\n",
      "signup_method              213451 non-null object\n",
      "signup_flow                213451 non-null int64\n",
      "language                   213451 non-null object\n",
      "affiliate_channel          213451 non-null object\n",
      "affiliate_provider         213451 non-null object\n",
      "first_affiliate_tracked    207386 non-null object\n",
      "signup_app                 213451 non-null object\n",
      "first_device_type          213451 non-null object\n",
      "first_browser              213451 non-null object\n",
      "country_destination        213451 non-null object\n",
      "dtypes: datetime64[ns](1), float64(1), int64(2), object(12)\n",
      "memory usage: 26.1+ MB\n"
     ]
    }
   ],
   "source": [
    "train.info()"
   ]
  },
  {
   "cell_type": "code",
   "execution_count": 25,
   "metadata": {},
   "outputs": [],
   "source": [
    "# 计算每个注册日期有多少人注册账户\n",
    "dac_train = \n",
    "dac_test = "
   ]
  },
  {
   "cell_type": "code",
   "execution_count": 26,
   "metadata": {},
   "outputs": [],
   "source": [
    "# 找到所有注册日期值\n",
    "dac_train_date = \n",
    "dac_test_date = "
   ]
  },
  {
   "cell_type": "code",
   "execution_count": 27,
   "metadata": {},
   "outputs": [],
   "source": [
    "# 计算注册日期距离初始日期的天数\n",
    "dac_train_day = \n",
    "dac_test_day = "
   ]
  },
  {
   "cell_type": "code",
   "execution_count": 28,
   "metadata": {
    "scrolled": true
   },
   "outputs": [
    {
     "data": {
      "text/plain": [
       "<matplotlib.legend.Legend at 0x197931cb9b0>"
      ]
     },
     "execution_count": 28,
     "metadata": {},
     "output_type": "execute_result"
    },
    {
     "data": {
      "image/png": "[encoded data removed]",
      "text/plain": [
       "<Figure size 432x288 with 1 Axes>"
      ]
     },
     "metadata": {
      "needs_background": "light"
     },
     "output_type": "display_data"
    }
   ],
   "source": [
    "# 做图，横轴是注册日期距离初始日期的天数，纵轴是注册用户量\n",
    "\n",
    "\n",
    "plt.title(\"Accounts created vs day\")\n",
    "plt.xlabel(\"Days\")\n",
    "plt.ylabel(\"Accounts created\")\n",
    "plt.legend(loc = 'upper left')"
   ]
  },
  {
   "cell_type": "markdown",
   "metadata": {},
   "source": [
    "### 定义一个函数，功能为绘制每个类别变量(函数参数中的feature) barplot"
   ]
  },
  {
   "cell_type": "code",
   "execution_count": 34,
   "metadata": {},
   "outputs": [],
   "source": [
    "def lookup_feature(feature, data_train = train, data_test = test, figsize=(8,8),saveimg = False): \n",
    "    # 提取特征，值计数\n",
    "    train_feat = \n",
    "    test_feat = \n",
    "    # 创建画布和子图\n",
    "   \n",
    "    # 画图,分别绘制训练集和测试集图\n",
    "    # 训练集\n",
    "    \n",
    "    plt.xticks(rotation=90)\n",
    "    # 测试集\n",
    "    \n",
    "    plt.xticks(rotation=90)\n",
    "    # 设置格式\n",
    "    ax1.set_title(feature + ' of training dataset')\n",
    "    ax2.set_title(feature + ' of test dataset')\n",
    "    ax1.set_ylabel('Counts')\n",
    "    #自动调整图像空隙\n",
    "    plt.tight_layout()\n",
    "    # 保存图片\n",
    "    if saveimg == True:\n",
    "        # 图片名称\n",
    "        figname = feature + \".png\"\n",
    "        #判断images目录里是否不存在\n",
    "        if not os.path.exists('./images'):\n",
    "            # 如果不存在,创建一个目录\n",
    "            os.makedirs('./images')\n",
    "            # 保存图像\n",
    "            fig_feature.savefig('./images/'+figname, dpi = 75)"
   ]
  },
  {
   "cell_type": "code",
   "execution_count": 35,
   "metadata": {},
   "outputs": [
    {
     "data": {
      "image/png": "[encoded data removed]",
      "text/plain": [
       "<Figure size 576x576 with 2 Axes>"
      ]
     },
     "metadata": {
      "needs_background": "light"
     },
     "output_type": "display_data"
    }
   ],
   "source": [
    "lookup_feature('gender', saveimg = True)"
   ]
  },
  {
   "cell_type": "code",
   "execution_count": 141,
   "metadata": {},
   "outputs": [
    {
     "data": {
      "image/png": "[encoded data removed]",
      "text/plain": [
       "<Figure size 576x576 with 2 Axes>"
      ]
     },
     "metadata": {
      "needs_background": "light"
     },
     "output_type": "display_data"
    }
   ],
   "source": [
    "lookup_feature('signup_method')"
   ]
  },
  {
   "cell_type": "code",
   "execution_count": 142,
   "metadata": {},
   "outputs": [
    {
     "data": {
      "image/png": "[encoded data removed]",
      "text/plain": [
       "<Figure size 576x576 with 2 Axes>"
      ]
     },
     "metadata": {
      "needs_background": "light"
     },
     "output_type": "display_data"
    }
   ],
   "source": [
    "lookup_feature('signup_flow')"
   ]
  },
  {
   "cell_type": "code",
   "execution_count": 143,
   "metadata": {},
   "outputs": [
    {
     "data": {
      "image/png": "[encoded data removed]",
      "text/plain": [
       "<Figure size 576x576 with 2 Axes>"
      ]
     },
     "metadata": {
      "needs_background": "light"
     },
     "output_type": "display_data"
    }
   ],
   "source": [
    "lookup_feature('language')"
   ]
  },
  {
   "cell_type": "code",
   "execution_count": 144,
   "metadata": {},
   "outputs": [
    {
     "data": {
      "image/png": "[encoded data removed]",
      "text/plain": [
       "<Figure size 576x576 with 2 Axes>"
      ]
     },
     "metadata": {
      "needs_background": "light"
     },
     "output_type": "display_data"
    }
   ],
   "source": [
    "lookup_feature('affiliate_channel')"
   ]
  },
  {
   "cell_type": "code",
   "execution_count": 145,
   "metadata": {},
   "outputs": [
    {
     "data": {
      "image/png": "[encoded data removed]",
      "text/plain": [
       "<Figure size 576x576 with 2 Axes>"
      ]
     },
     "metadata": {
      "needs_background": "light"
     },
     "output_type": "display_data"
    }
   ],
   "source": [
    "lookup_feature('signup_app')"
   ]
  },
  {
   "cell_type": "code",
   "execution_count": 146,
   "metadata": {},
   "outputs": [
    {
     "data": {
      "image/png": "[encoded data removed]",
      "text/plain": [
       "<Figure size 576x576 with 2 Axes>"
      ]
     },
     "metadata": {
      "needs_background": "light"
     },
     "output_type": "display_data"
    }
   ],
   "source": [
    "lookup_feature('first_browser')"
   ]
  },
  {
   "cell_type": "markdown",
   "metadata": {},
   "source": [
    "#### 把首次活跃时间变成时间格式"
   ]
  },
  {
   "cell_type": "code",
   "execution_count": 24,
   "metadata": {},
   "outputs": [
    {
     "data": {
      "text/plain": [
       "0        2009-03-19 04:32:55\n",
       "1        2009-05-23 17:48:09\n",
       "2        2009-06-09 23:12:47\n",
       "3        2009-10-31 06:01:29\n",
       "4        2009-12-08 06:11:05\n",
       "5        2010-01-01 21:56:19\n",
       "6        2010-01-02 01:25:58\n",
       "7        2010-01-03 19:19:05\n",
       "8        2010-01-04 00:42:11\n",
       "9        2010-01-04 02:37:58\n",
       "10       2010-01-04 19:42:51\n",
       "11       2010-01-05 05:18:12\n",
       "12       2010-01-05 06:08:59\n",
       "13       2010-01-05 08:32:59\n",
       "14       2010-01-07 05:58:20\n",
       "15       2010-01-07 20:45:55\n",
       "16       2010-01-07 21:51:25\n",
       "17       2010-01-07 22:46:25\n",
       "18       2010-01-08 01:56:41\n",
       "19       2010-01-10 01:08:17\n",
       "20       2010-01-10 15:21:20\n",
       "21       2010-01-10 22:09:41\n",
       "22       2010-01-11 03:14:38\n",
       "23       2010-01-11 22:40:15\n",
       "24       2010-01-11 23:08:08\n",
       "25       2010-01-12 13:14:44\n",
       "26       2010-01-12 15:54:20\n",
       "27       2010-01-12 20:59:49\n",
       "28       2010-01-13 04:46:50\n",
       "29       2010-01-13 06:43:33\n",
       "                 ...        \n",
       "213421   2014-06-30 23:11:37\n",
       "213422   2014-06-30 23:12:46\n",
       "213423   2014-06-30 23:15:48\n",
       "213424   2014-06-30 23:18:59\n",
       "213425   2014-06-30 23:21:19\n",
       "213426   2014-06-30 23:23:31\n",
       "213427   2014-06-30 23:25:39\n",
       "213428   2014-06-30 23:26:34\n",
       "213429   2014-06-30 23:27:12\n",
       "213430   2014-06-30 23:31:32\n",
       "213431   2014-06-30 23:32:03\n",
       "213432   2014-06-30 23:32:24\n",
       "213433   2014-06-30 23:34:27\n",
       "213434   2014-06-30 23:36:40\n",
       "213435   2014-06-30 23:38:51\n",
       "213436   2014-06-30 23:41:13\n",
       "213437   2014-06-30 23:42:43\n",
       "213438   2014-06-30 23:44:29\n",
       "213439   2014-06-30 23:47:29\n",
       "213440   2014-06-30 23:49:33\n",
       "213441   2014-06-30 23:51:51\n",
       "213442   2014-06-30 23:53:09\n",
       "213443   2014-06-30 23:53:40\n",
       "213444   2014-06-30 23:53:52\n",
       "213445   2014-06-30 23:55:47\n",
       "213446   2014-06-30 23:56:36\n",
       "213447   2014-06-30 23:57:19\n",
       "213448   2014-06-30 23:57:54\n",
       "213449   2014-06-30 23:58:22\n",
       "213450   2014-06-30 23:58:24\n",
       "Name: timestamp_first_active, Length: 213451, dtype: datetime64[ns]"
      ]
     },
     "execution_count": 24,
     "metadata": {},
     "output_type": "execute_result"
    }
   ],
   "source": [
    "train['timestamp_first_active'] = \n",
    "train['timestamp_first_active']    "
   ]
  }
 ],
 "metadata": {
  "kernelspec": {
   "display_name": "Python [default]",
   "language": "python",
   "name": "python3"
  },
  "language_info": {
   "codemirror_mode": {
    "name": "ipython",
    "version": 3
   },
   "file_extension": ".py",
   "mimetype": "text/x-python",
   "name": "python",
   "nbconvert_exporter": "python",
   "pygments_lexer": "ipython3",
   "version": "3.6.2"
  }
 },
 "nbformat": 4,
 "nbformat_minor": 2
}

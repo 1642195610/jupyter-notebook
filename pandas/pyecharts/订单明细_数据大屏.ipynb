{
 "cells": [
  {
   "cell_type": "code",
   "execution_count": 1,
   "metadata": {},
   "outputs": [],
   "source": [
    "import numpy as np\n",
    "import pandas as pd\n",
    "from pyecharts.charts import Bar\n",
    "from pyecharts.charts import Line\n",
    "from pyecharts.charts import Map\n",
    "from pyecharts.charts import Pie\n",
    "from pyecharts.charts import Grid\n",
    "from pyecharts.charts import Timeline\n",
    "from pyecharts.globals import ThemeType\n",
    "from pyecharts import options as opts"
   ]
  },
  {
   "cell_type": "code",
   "execution_count": 2,
   "metadata": {
    "scrolled": true
   },
   "outputs": [
    {
     "data": {
      "text/html": [
       "<div>\n",
       "<style scoped>\n",
       "    .dataframe tbody tr th:only-of-type {\n",
       "        vertical-align: middle;\n",
       "    }\n",
       "\n",
       "    .dataframe tbody tr th {\n",
       "        vertical-align: top;\n",
       "    }\n",
       "\n",
       "    .dataframe thead th {\n",
       "        text-align: right;\n",
       "    }\n",
       "</style>\n",
       "<table border=\"1\" class=\"dataframe\">\n",
       "  <thead>\n",
       "    <tr style=\"text-align: right;\">\n",
       "      <th></th>\n",
       "      <th>下单日期</th>\n",
       "      <th>销售</th>\n",
       "      <th>团队</th>\n",
       "      <th>金额</th>\n",
       "      <th>购买产品类别</th>\n",
       "      <th>数量</th>\n",
       "      <th>单价</th>\n",
       "      <th>订单编号</th>\n",
       "      <th>客户ID</th>\n",
       "      <th>客户省份</th>\n",
       "    </tr>\n",
       "  </thead>\n",
       "  <tbody>\n",
       "    <tr>\n",
       "      <th>0</th>\n",
       "      <td>2017-01-01</td>\n",
       "      <td>张三</td>\n",
       "      <td>销售1部</td>\n",
       "      <td>4050</td>\n",
       "      <td>自行车</td>\n",
       "      <td>2</td>\n",
       "      <td>2025</td>\n",
       "      <td>SO45266</td>\n",
       "      <td>29955</td>\n",
       "      <td>广东</td>\n",
       "    </tr>\n",
       "    <tr>\n",
       "      <th>1</th>\n",
       "      <td>2017-01-01</td>\n",
       "      <td>张三</td>\n",
       "      <td>销售1部</td>\n",
       "      <td>6120</td>\n",
       "      <td>自行车</td>\n",
       "      <td>3</td>\n",
       "      <td>2040</td>\n",
       "      <td>SO45266</td>\n",
       "      <td>29955</td>\n",
       "      <td>广东</td>\n",
       "    </tr>\n",
       "    <tr>\n",
       "      <th>2</th>\n",
       "      <td>2017-01-01</td>\n",
       "      <td>张三</td>\n",
       "      <td>销售1部</td>\n",
       "      <td>4050</td>\n",
       "      <td>自行车</td>\n",
       "      <td>2</td>\n",
       "      <td>2025</td>\n",
       "      <td>SO45266</td>\n",
       "      <td>29955</td>\n",
       "      <td>广东</td>\n",
       "    </tr>\n",
       "    <tr>\n",
       "      <th>3</th>\n",
       "      <td>2017-01-01</td>\n",
       "      <td>张三</td>\n",
       "      <td>销售1部</td>\n",
       "      <td>715</td>\n",
       "      <td>配件</td>\n",
       "      <td>1</td>\n",
       "      <td>715</td>\n",
       "      <td>SO45266</td>\n",
       "      <td>29955</td>\n",
       "      <td>广东</td>\n",
       "    </tr>\n",
       "    <tr>\n",
       "      <th>4</th>\n",
       "      <td>2017-01-01</td>\n",
       "      <td>张三</td>\n",
       "      <td>销售1部</td>\n",
       "      <td>4050</td>\n",
       "      <td>自行车</td>\n",
       "      <td>2</td>\n",
       "      <td>2025</td>\n",
       "      <td>SO45266</td>\n",
       "      <td>29955</td>\n",
       "      <td>广东</td>\n",
       "    </tr>\n",
       "  </tbody>\n",
       "</table>\n",
       "</div>"
      ],
      "text/plain": [
       "        下单日期  销售    团队    金额 购买产品类别  数量    单价     订单编号   客户ID 客户省份\n",
       "0 2017-01-01  张三  销售1部  4050    自行车   2  2025  SO45266  29955   广东\n",
       "1 2017-01-01  张三  销售1部  6120    自行车   3  2040  SO45266  29955   广东\n",
       "2 2017-01-01  张三  销售1部  4050    自行车   2  2025  SO45266  29955   广东\n",
       "3 2017-01-01  张三  销售1部   715     配件   1   715  SO45266  29955   广东\n",
       "4 2017-01-01  张三  销售1部  4050    自行车   2  2025  SO45266  29955   广东"
      ]
     },
     "execution_count": 2,
     "metadata": {},
     "output_type": "execute_result"
    }
   ],
   "source": [
    "d = pd.read_excel('订单明细.xlsx')\n",
    "d.head()"
   ]
  },
  {
   "cell_type": "code",
   "execution_count": 3,
   "metadata": {
    "scrolled": true
   },
   "outputs": [
    {
     "data": {
      "text/plain": [
       "下单日期      0\n",
       "销售        0\n",
       "团队        0\n",
       "金额        0\n",
       "购买产品类别    0\n",
       "数量        0\n",
       "单价        0\n",
       "订单编号      0\n",
       "客户ID      0\n",
       "客户省份      0\n",
       "dtype: int64"
      ]
     },
     "execution_count": 3,
     "metadata": {},
     "output_type": "execute_result"
    }
   ],
   "source": [
    "d.isnull().sum()"
   ]
  },
  {
   "cell_type": "code",
   "execution_count": 4,
   "metadata": {},
   "outputs": [
    {
     "data": {
      "text/plain": [
       "下单日期      datetime64[ns]\n",
       "销售                object\n",
       "团队                object\n",
       "金额                 int64\n",
       "购买产品类别            object\n",
       "数量                 int64\n",
       "单价                 int64\n",
       "订单编号              object\n",
       "客户ID               int64\n",
       "客户省份              object\n",
       "dtype: object"
      ]
     },
     "execution_count": 4,
     "metadata": {},
     "output_type": "execute_result"
    }
   ],
   "source": [
    "d.dtypes"
   ]
  },
  {
   "cell_type": "code",
   "execution_count": 5,
   "metadata": {},
   "outputs": [
    {
     "data": {
      "text/html": [
       "<div>\n",
       "<style scoped>\n",
       "    .dataframe tbody tr th:only-of-type {\n",
       "        vertical-align: middle;\n",
       "    }\n",
       "\n",
       "    .dataframe tbody tr th {\n",
       "        vertical-align: top;\n",
       "    }\n",
       "\n",
       "    .dataframe thead th {\n",
       "        text-align: right;\n",
       "    }\n",
       "</style>\n",
       "<table border=\"1\" class=\"dataframe\">\n",
       "  <thead>\n",
       "    <tr style=\"text-align: right;\">\n",
       "      <th></th>\n",
       "      <th>下单日期</th>\n",
       "      <th>销售</th>\n",
       "      <th>团队</th>\n",
       "      <th>金额</th>\n",
       "      <th>购买产品类别</th>\n",
       "      <th>数量</th>\n",
       "      <th>单价</th>\n",
       "      <th>订单编号</th>\n",
       "      <th>客户ID</th>\n",
       "      <th>客户省份</th>\n",
       "      <th>month</th>\n",
       "    </tr>\n",
       "  </thead>\n",
       "  <tbody>\n",
       "    <tr>\n",
       "      <th>0</th>\n",
       "      <td>2017-01-01</td>\n",
       "      <td>张三</td>\n",
       "      <td>销售1部</td>\n",
       "      <td>4050</td>\n",
       "      <td>自行车</td>\n",
       "      <td>2</td>\n",
       "      <td>2025</td>\n",
       "      <td>SO45266</td>\n",
       "      <td>29955</td>\n",
       "      <td>广东</td>\n",
       "      <td>1</td>\n",
       "    </tr>\n",
       "    <tr>\n",
       "      <th>1</th>\n",
       "      <td>2017-01-01</td>\n",
       "      <td>张三</td>\n",
       "      <td>销售1部</td>\n",
       "      <td>6120</td>\n",
       "      <td>自行车</td>\n",
       "      <td>3</td>\n",
       "      <td>2040</td>\n",
       "      <td>SO45266</td>\n",
       "      <td>29955</td>\n",
       "      <td>广东</td>\n",
       "      <td>1</td>\n",
       "    </tr>\n",
       "    <tr>\n",
       "      <th>2</th>\n",
       "      <td>2017-01-01</td>\n",
       "      <td>张三</td>\n",
       "      <td>销售1部</td>\n",
       "      <td>4050</td>\n",
       "      <td>自行车</td>\n",
       "      <td>2</td>\n",
       "      <td>2025</td>\n",
       "      <td>SO45266</td>\n",
       "      <td>29955</td>\n",
       "      <td>广东</td>\n",
       "      <td>1</td>\n",
       "    </tr>\n",
       "    <tr>\n",
       "      <th>3</th>\n",
       "      <td>2017-01-01</td>\n",
       "      <td>张三</td>\n",
       "      <td>销售1部</td>\n",
       "      <td>715</td>\n",
       "      <td>配件</td>\n",
       "      <td>1</td>\n",
       "      <td>715</td>\n",
       "      <td>SO45266</td>\n",
       "      <td>29955</td>\n",
       "      <td>广东</td>\n",
       "      <td>1</td>\n",
       "    </tr>\n",
       "    <tr>\n",
       "      <th>4</th>\n",
       "      <td>2017-01-01</td>\n",
       "      <td>张三</td>\n",
       "      <td>销售1部</td>\n",
       "      <td>4050</td>\n",
       "      <td>自行车</td>\n",
       "      <td>2</td>\n",
       "      <td>2025</td>\n",
       "      <td>SO45266</td>\n",
       "      <td>29955</td>\n",
       "      <td>广东</td>\n",
       "      <td>1</td>\n",
       "    </tr>\n",
       "  </tbody>\n",
       "</table>\n",
       "</div>"
      ],
      "text/plain": [
       "        下单日期  销售    团队    金额 购买产品类别  数量    单价     订单编号   客户ID 客户省份  month\n",
       "0 2017-01-01  张三  销售1部  4050    自行车   2  2025  SO45266  29955   广东      1\n",
       "1 2017-01-01  张三  销售1部  6120    自行车   3  2040  SO45266  29955   广东      1\n",
       "2 2017-01-01  张三  销售1部  4050    自行车   2  2025  SO45266  29955   广东      1\n",
       "3 2017-01-01  张三  销售1部   715     配件   1   715  SO45266  29955   广东      1\n",
       "4 2017-01-01  张三  销售1部  4050    自行车   2  2025  SO45266  29955   广东      1"
      ]
     },
     "execution_count": 5,
     "metadata": {},
     "output_type": "execute_result"
    }
   ],
   "source": [
    "d['month'] =  d['下单日期'].dt.month\n",
    "d.head()"
   ]
  },
  {
   "cell_type": "code",
   "execution_count": 6,
   "metadata": {},
   "outputs": [
    {
     "data": {
      "text/html": [
       "<div>\n",
       "<style scoped>\n",
       "    .dataframe tbody tr th:only-of-type {\n",
       "        vertical-align: middle;\n",
       "    }\n",
       "\n",
       "    .dataframe tbody tr th {\n",
       "        vertical-align: top;\n",
       "    }\n",
       "\n",
       "    .dataframe thead th {\n",
       "        text-align: right;\n",
       "    }\n",
       "</style>\n",
       "<table border=\"1\" class=\"dataframe\">\n",
       "  <thead>\n",
       "    <tr style=\"text-align: right;\">\n",
       "      <th></th>\n",
       "      <th>month</th>\n",
       "      <th>金额</th>\n",
       "    </tr>\n",
       "  </thead>\n",
       "  <tbody>\n",
       "    <tr>\n",
       "      <th>0</th>\n",
       "      <td>1</td>\n",
       "      <td>3970328</td>\n",
       "    </tr>\n",
       "    <tr>\n",
       "      <th>1</th>\n",
       "      <td>2</td>\n",
       "      <td>1475406</td>\n",
       "    </tr>\n",
       "    <tr>\n",
       "      <th>2</th>\n",
       "      <td>3</td>\n",
       "      <td>2976158</td>\n",
       "    </tr>\n",
       "    <tr>\n",
       "      <th>3</th>\n",
       "      <td>4</td>\n",
       "      <td>1769989</td>\n",
       "    </tr>\n",
       "    <tr>\n",
       "      <th>4</th>\n",
       "      <td>5</td>\n",
       "      <td>3092393</td>\n",
       "    </tr>\n",
       "    <tr>\n",
       "      <th>5</th>\n",
       "      <td>6</td>\n",
       "      <td>4113755</td>\n",
       "    </tr>\n",
       "    <tr>\n",
       "      <th>6</th>\n",
       "      <td>7</td>\n",
       "      <td>3427028</td>\n",
       "    </tr>\n",
       "    <tr>\n",
       "      <th>7</th>\n",
       "      <td>8</td>\n",
       "      <td>2177541</td>\n",
       "    </tr>\n",
       "    <tr>\n",
       "      <th>8</th>\n",
       "      <td>9</td>\n",
       "      <td>3455153</td>\n",
       "    </tr>\n",
       "    <tr>\n",
       "      <th>9</th>\n",
       "      <td>10</td>\n",
       "      <td>2546983</td>\n",
       "    </tr>\n",
       "    <tr>\n",
       "      <th>10</th>\n",
       "      <td>11</td>\n",
       "      <td>1873731</td>\n",
       "    </tr>\n",
       "    <tr>\n",
       "      <th>11</th>\n",
       "      <td>12</td>\n",
       "      <td>2830593</td>\n",
       "    </tr>\n",
       "  </tbody>\n",
       "</table>\n",
       "</div>"
      ],
      "text/plain": [
       "    month       金额\n",
       "0       1  3970328\n",
       "1       2  1475406\n",
       "2       3  2976158\n",
       "3       4  1769989\n",
       "4       5  3092393\n",
       "5       6  4113755\n",
       "6       7  3427028\n",
       "7       8  2177541\n",
       "8       9  3455153\n",
       "9      10  2546983\n",
       "10     11  1873731\n",
       "11     12  2830593"
      ]
     },
     "execution_count": 6,
     "metadata": {},
     "output_type": "execute_result"
    }
   ],
   "source": [
    "da_line = d.groupby(by = ['month'],as_index = False)['金额'].sum()\n",
    "da_line"
   ]
  },
  {
   "cell_type": "code",
   "execution_count": 7,
   "metadata": {},
   "outputs": [
    {
     "data": {
      "text/plain": [
       "['1月', '2月', '3月', '4月', '5月', '6月', '7月', '8月', '9月', '10月', '11月', '12月']"
      ]
     },
     "execution_count": 7,
     "metadata": {},
     "output_type": "execute_result"
    }
   ],
   "source": [
    "timelist = da_line['month'].apply(lambda x:str(x)+'月')\n",
    "timelist = list(timelist)\n",
    "timelist"
   ]
  },
  {
   "cell_type": "code",
   "execution_count": 8,
   "metadata": {},
   "outputs": [],
   "source": [
    "def get(month: str):\n",
    "    # 条状图\n",
    "    maxnum = d.groupby(by = ['month'])['金额'].sum().max()\n",
    "    minnum = d.groupby(by = ['month'])['金额'].sum().min()\n",
    "    da_line_y = list(da_line['金额'])\n",
    "    da_bar = d.groupby(by = ['month','销售'],as_index = False)['金额'].sum()\n",
    "    data = da_bar[da_bar['month'] == int(month[0])]\n",
    "#     return data \n",
    "#     return list(data['销售'])\n",
    "#     return list(data['金额'])\n",
    "    x = list(data['销售'])\n",
    "    x\n",
    "    y = list(data['金额'])\n",
    "    y\n",
    "    bar = (\n",
    "            Bar()\n",
    "            .add_xaxis(xaxis_data = x)\n",
    "            .add_yaxis('金额',y,label_opts = opts.LabelOpts(is_show = True,position = 'right',formatter = \"{b}: {c}\"))\n",
    "            .reversal_axis()\n",
    "            .set_global_opts(\n",
    "                xaxis_opts=opts.AxisOpts(max_=maxnum,axislabel_opts=opts.LabelOpts(is_show = False)),\n",
    "#                 title_opts = opts.TitleOpts(title = str(month[0]),subtitle = '每个销售'),\n",
    "#                 xaxis_opts = opts.AxisOpts(axislabel_opts = {'rotate':90}),\n",
    "                legend_opts = opts.LegendOpts(is_show = False),\n",
    "                yaxis_opts=opts.AxisOpts(axislabel_opts=opts.AxisOpts(is_show = False)),\n",
    "                visualmap_opts=opts.VisualMapOpts(\n",
    "                is_calculable=True,\n",
    "                dimension=0,\n",
    "                pos_left='10',\n",
    "                pos_top='top',\n",
    "                range_text=['high','low'],\n",
    "                range_color=['orange','red','yellow'],\n",
    "                min_ = minnum,\n",
    "                max_ = maxnum\n",
    "                                    )\n",
    "            )\n",
    "        )\n",
    "#     return bar.render_notebook()\n",
    "\n",
    "    # 折线图\n",
    "    res = []\n",
    "    i = 0\n",
    "    for xx in timelist:\n",
    "        if xx == month:\n",
    "            res.append(da_line_y[i])\n",
    "        else:\n",
    "            res.append('')\n",
    "        i += 1\n",
    "    line = (\n",
    "        Line()\n",
    "        .add_xaxis(timelist)\n",
    "        .add_yaxis(series_name = \"\",\n",
    "                   y_axis = da_line_y)\n",
    "        .add_yaxis(series_name = \"\",\n",
    "                   y_axis = res,\n",
    "                  markpoint_opts = opts.MarkPointOpts(data = [opts.MarkPointItem(type_ = 'max')]))\n",
    "        .set_global_opts(\n",
    "#                 title_opts = opts.TitleOpts(title = str(month),subtitle = '每个销售'),\n",
    "                xaxis_opts = opts.AxisOpts(axislabel_opts = {'rotate':90}),\n",
    "                legend_opts = opts.LegendOpts(is_show = False)\n",
    "            )\n",
    "        .set_series_opts(\n",
    "            label_opts = opts.LabelOpts(is_show = False)\n",
    "        )\n",
    "    )\n",
    "#     return line.render_notebook()\n",
    "\n",
    "    # 南丁格尔图---饼图\n",
    "    da_pie = d.groupby(by = ['购买产品类别','month'],as_index = False)['金额'].sum()\n",
    "    da_pie\n",
    "    pie_x = list(da_pie[da_pie['month'] == int(month[0])]['购买产品类别'])\n",
    "    pie_y = list(da_pie[da_pie['month'] == int(month[0])]['金额'])\n",
    "    r = [p for p in zip(pie_x,pie_y)]\n",
    "    pie = (Pie()\n",
    "           .add(\n",
    "               '南丁格尔图', #提示框内容\n",
    "               r,\n",
    "               radius=['15%','30%'],# 半径\n",
    "               center=['80%','80%'],\n",
    "               rosetype='radius' # 扇片大小\n",
    "           )\n",
    "           .set_global_opts(\n",
    "#                title_opts = opts.TitleOpts(title = str(month[0]),subtitle = '每个销售'),\n",
    "               legend_opts = opts.LegendOpts(is_show = False)\n",
    "           )\n",
    "           .set_series_opts(\n",
    "               label_opts = opts.LabelOpts(formatter = \"{b}: {d}%\")# a:提示框的内容,b:数据系列的名字,c:数据,d:当前占全部的百分比\n",
    "           )\n",
    "    )\n",
    "#     return pie.render_notebook()\n",
    "\n",
    "    # 地图   \n",
    "    da_map = d.groupby(by = ['客户省份','month'],as_index = False)['金额'].sum()\n",
    "    map_x = list(da_map[da_map['month'] == 5]['客户省份'])\n",
    "    map_y = list(da_map[da_map['month'] == 5]['金额'])\n",
    "    m = [a for a in zip(map_x,map_y)]\n",
    "    mp = (\n",
    "        Map()\n",
    "        .add(\n",
    "            series_name = \"\",\n",
    "            data_pair = m,\n",
    "            center = [119.5,34.5],\n",
    "            is_map_symbol_show = False\n",
    "        )\n",
    "        .set_global_opts(\n",
    "            title_opts = opts.TitleOpts(title = month + '各省份销售总金额',\n",
    "                                        pos_left = 'center',\n",
    "                                        pos_top = 'top',\n",
    "                                        title_textstyle_opts = opts.TextStyleOpts(font_size = 30)),\n",
    "            visualmap_opts = opts.VisualMapOpts(\n",
    "                range_text = ['high','low'],\n",
    "                max_ = maxnum,\n",
    "                min_ = minnum,\n",
    "                dimension = 0\n",
    "            )\n",
    "        )\n",
    "    )\n",
    "#     return mp.render_notebook()\n",
    "\n",
    "    grid = (\n",
    "        Grid()\n",
    "        .add(\n",
    "            bar,\n",
    "            grid_opts = opts.GridOpts(pos_left='10',pos_right='45%',pos_top='50%',pos_bottom='5')\n",
    "        )\n",
    "        .add(\n",
    "            line,\n",
    "            grid_opts = opts.GridOpts(pos_left='65%',pos_right='80',pos_top='10%',pos_bottom='50%')\n",
    "        )\n",
    "        .add(\n",
    "            pie,\n",
    "            grid_opts = opts.GridOpts(pos_left='10%',pos_top='80%')\n",
    "        )\n",
    "        .add(\n",
    "            mp,\n",
    "            grid_opts = opts.GridOpts()\n",
    "        )\n",
    "    )\n",
    "#     return grid.render_notebook()\n",
    "    return grid\n",
    "\n"
   ]
  },
  {
   "cell_type": "code",
   "execution_count": 9,
   "metadata": {},
   "outputs": [
    {
     "data": {
      "text/plain": [
       "'C:\\\\Users\\\\JZY\\\\bf\\\\Desktop\\\\135\\\\pycharm高级\\\\jupyter notebook\\\\jupyter-notebook\\\\pandas\\\\pyecharts\\\\销售明细.html'"
      ]
     },
     "execution_count": 9,
     "metadata": {},
     "output_type": "execute_result"
    }
   ],
   "source": [
    "if __name__ == \"__main__\":\n",
    "    timeline = Timeline(\n",
    "        init_opts = opts.InitOpts(width = \"1915px\",height = '900px',theme = ThemeType.DARK)\n",
    "    )\n",
    "    for y in timelist:\n",
    "        g = get(y)\n",
    "        timeline.add(g,time_point = str(y))\n",
    "    timeline.add_schema(\n",
    "        orient='vertical',\n",
    "        is_auto_play=True,\n",
    "        is_inverse=True,\n",
    "        play_interval=500,\n",
    "        pos_left='null',\n",
    "        pos_right='5',\n",
    "        pos_top='20',\n",
    "        pos_bottom='20',\n",
    "        width='60',\n",
    "        label_opts=opts.LabelOpts(is_show=True, color='#fff')\n",
    "    )\n",
    "timeline.render('销售明细.html')\n",
    "#     timeline.render_notebook()"
   ]
  },
  {
   "cell_type": "code",
   "execution_count": null,
   "metadata": {},
   "outputs": [],
   "source": [
    "# da_pie = d.groupby(by = ['购买产品类别','month'],as_index = False)['金额'].sum()\n",
    "# da_pie\n",
    "# pie_x = list(da_pie[da_pie['month'] == 1]['购买产品类别'])\n",
    "# pie_x\n",
    "# pie_y = list(da_pie[da_pie['month'] == 1]['金额'])\n",
    "# pie_y\n",
    "# r = [p for p in zip(pie_x,pie_y)]\n",
    "# r"
   ]
  },
  {
   "cell_type": "code",
   "execution_count": null,
   "metadata": {
    "scrolled": true
   },
   "outputs": [],
   "source": [
    "# da_map = d.groupby(by = ['客户省份','month'],as_index = False)['金额'].sum()\n",
    "# da_map"
   ]
  },
  {
   "cell_type": "code",
   "execution_count": null,
   "metadata": {
    "scrolled": true
   },
   "outputs": [],
   "source": [
    "# map_x = list(da_map[da_map['month'] == 1]['客户省份'])\n",
    "# map_x\n",
    "# map_y = list(da_map[da_map['month'] == 1]['金额'])\n",
    "# map_y\n",
    "# m = [a for a in zip(map_x,map_y)]\n",
    "# m"
   ]
  },
  {
   "cell_type": "code",
   "execution_count": null,
   "metadata": {},
   "outputs": [],
   "source": [
    "# da_map = d.groupby(by = ['客户省份','month'],as_index = False)['金额'].sum()\n",
    "# map_x = list(da_map[da_map['month'] == 5]['客户省份'])\n",
    "# map_y = list(da_map[da_map['month'] == 5]['金额'])\n",
    "# m = [a for a in zip(map_x,map_y)]\n",
    "# m"
   ]
  },
  {
   "cell_type": "code",
   "execution_count": null,
   "metadata": {},
   "outputs": [],
   "source": [
    "# pie_x = list(da_pie[da_pie['month'] == 1]['购买产品类别'])\n",
    "# pie_y = list(da_pie[da_pie['month'] == 1]['金额'])\n",
    "# r = [p for p in zip(pie_x,pie_y)]\n",
    "# pie = (Pie()\n",
    "#        .add(\n",
    "#            '南丁格尔图', #提示框内容\n",
    "#            r,\n",
    "#            radius=['30%','60%'],# 半径\n",
    "#            rosetype='radius' # 扇片大小\n",
    "#        )\n",
    "#        .set_global_opts(\n",
    "#            title_opts = opts.TitleOpts(title = '我是主标题',subtitle = '我是副标题')\n",
    "#        )\n",
    "#        .set_series_opts(\n",
    "#            label_opts = opts.LabelOpts(formatter = \"{b}: {d}%\")# a:提示框的内容,b:数据系列的名字,c:数据,d:当前占全部的百分比\n",
    "#        )\n",
    "# )\n",
    "# pie.render_notebook()"
   ]
  },
  {
   "cell_type": "code",
   "execution_count": null,
   "metadata": {},
   "outputs": [],
   "source": [
    "# maxnum = d.groupby(by = ['month'])['金额'].sum().max()\n",
    "# minnum = d.groupby(by = ['month'])['金额'].sum().min()"
   ]
  },
  {
   "cell_type": "code",
   "execution_count": null,
   "metadata": {
    "scrolled": false
   },
   "outputs": [],
   "source": [
    "# get('6月')"
   ]
  },
  {
   "cell_type": "code",
   "execution_count": null,
   "metadata": {},
   "outputs": [],
   "source": [
    "# da = d.groupby(by = ['销售'])['金额'].sum()\n",
    "# da"
   ]
  },
  {
   "cell_type": "code",
   "execution_count": null,
   "metadata": {},
   "outputs": [],
   "source": [
    "# da_x = list(da.index)\n",
    "# da_x"
   ]
  },
  {
   "cell_type": "code",
   "execution_count": null,
   "metadata": {},
   "outputs": [],
   "source": [
    "# da_y = list(da.values)\n",
    "# da_y"
   ]
  },
  {
   "cell_type": "code",
   "execution_count": null,
   "metadata": {},
   "outputs": [],
   "source": [
    "# da_bar = d.groupby(by = ['month','销售'],as_index = False)['金额'].sum()\n",
    "# da_bar"
   ]
  },
  {
   "cell_type": "code",
   "execution_count": null,
   "metadata": {},
   "outputs": [],
   "source": [
    "# da_bar[da_bar['month'] == 1]"
   ]
  },
  {
   "cell_type": "code",
   "execution_count": null,
   "metadata": {},
   "outputs": [],
   "source": [
    "# da_line_y = list(da_line['金额'])\n",
    "# da_line_y"
   ]
  },
  {
   "cell_type": "code",
   "execution_count": null,
   "metadata": {},
   "outputs": [],
   "source": [
    "# da_bar = d.groupby(by = ['month','销售'],as_index = False)['金额'].sum()\n",
    "# data = da_bar[da_bar['month'] == 1]"
   ]
  },
  {
   "cell_type": "code",
   "execution_count": null,
   "metadata": {},
   "outputs": [],
   "source": [
    "# x = list(data['销售'])\n",
    "# x\n",
    "# y = list(data['金额'])\n",
    "# y\n",
    "# bar = (\n",
    "#         Bar()\n",
    "#         .add_xaxis(x)\n",
    "#         .add_yaxis('金额',y)\n",
    "#         .set_global_opts(\n",
    "#             title_opts = opts.TitleOpts(title = str(1)+'月',subtitle = '每个销售'),\n",
    "#             xaxis_opts = opts.AxisOpts(axislabel_opts = {'rotate':90})\n",
    "#         )\n",
    "#     )\n",
    "# bar.render_notebook()"
   ]
  }
 ],
 "metadata": {
  "kernelspec": {
   "display_name": "Python 3",
   "language": "python",
   "name": "python3"
  },
  "language_info": {
   "codemirror_mode": {
    "name": "ipython",
    "version": 3
   },
   "file_extension": ".py",
   "mimetype": "text/x-python",
   "name": "python",
   "nbconvert_exporter": "python",
   "pygments_lexer": "ipython3",
   "version": "3.8.3"
  }
 },
 "nbformat": 4,
 "nbformat_minor": 4
}

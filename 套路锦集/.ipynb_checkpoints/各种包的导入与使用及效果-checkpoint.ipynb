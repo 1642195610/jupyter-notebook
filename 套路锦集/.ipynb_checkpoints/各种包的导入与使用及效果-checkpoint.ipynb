{
 "cells": [
  {
   "cell_type": "code",
   "execution_count": 1,
   "metadata": {},
   "outputs": [],
   "source": [
    "# 隐藏警告信息\n",
    "import warnings\n",
    "warnings.filterwarnings(action = \"ignore\")"
   ]
  },
  {
   "cell_type": "code",
   "execution_count": 2,
   "metadata": {},
   "outputs": [],
   "source": [
    "import numpy as np"
   ]
  },
  {
   "cell_type": "code",
   "execution_count": 3,
   "metadata": {},
   "outputs": [],
   "source": [
    "import pandas as pd"
   ]
  },
  {
   "cell_type": "code",
   "execution_count": 4,
   "metadata": {},
   "outputs": [],
   "source": [
    "from datetime import datetime"
   ]
  },
  {
   "cell_type": "code",
   "execution_count": 5,
   "metadata": {},
   "outputs": [],
   "source": [
    "from dateutil import parser"
   ]
  },
  {
   "cell_type": "code",
   "execution_count": 6,
   "metadata": {},
   "outputs": [],
   "source": [
    "import pymysql"
   ]
  },
  {
   "cell_type": "code",
   "execution_count": 7,
   "metadata": {},
   "outputs": [],
   "source": [
    "import seaborn as sns"
   ]
  },
  {
   "cell_type": "code",
   "execution_count": 8,
   "metadata": {},
   "outputs": [],
   "source": [
    "import json"
   ]
  },
  {
   "cell_type": "code",
   "execution_count": 9,
   "metadata": {},
   "outputs": [],
   "source": [
    "import matplotlib.pyplot as plt\n",
    "plt.rcParams['font.sans-serif'] = ['SimHei']\n",
    "# 设置字体"
   ]
  },
  {
   "cell_type": "code",
   "execution_count": 10,
   "metadata": {},
   "outputs": [],
   "source": [
    "# 负号\n",
    "plt.rcParams['axes.unicode_minus'] = False"
   ]
  },
  {
   "cell_type": "code",
   "execution_count": 11,
   "metadata": {},
   "outputs": [],
   "source": [
    "# merge 融合函数\n",
    "class display(object):\n",
    "    template = \"\"\"<div style=\"float: left; padding: 10px;\">\n",
    "    <p style='font-family:\"Courier New\", Courier, monospace'>{0}</p>{1}\n",
    "    </div>\"\"\"\n",
    "    def __init__(self, *args):\n",
    "        self.args = args\n",
    "        \n",
    "    def _repr_html_(self):\n",
    "        return '\\n'.join(self.template.format(a, eval(a)._repr_html_())\n",
    "                         for a in self.args)\n",
    "    \n",
    "    def __repr__(self):\n",
    "        return '\\n\\n'.join(a + '\\n' + repr(eval(a))\n",
    "                           for a in self.args)"
   ]
  },
  {
   "cell_type": "markdown",
   "metadata": {},
   "source": [
    "# 找空值 \n",
    "## data[data['release_date'].isnull()]"
   ]
  },
  {
   "cell_type": "code",
   "execution_count": 12,
   "metadata": {},
   "outputs": [],
   "source": [
    "from pyecharts.charts import Bar\n",
    "from pyecharts import options as opts"
   ]
  },
  {
   "cell_type": "code",
   "execution_count": 13,
   "metadata": {},
   "outputs": [],
   "source": [
    "# 从模型选择包里导入数据集切分模块\n",
    "from sklearn.model_selection import train_test_split\n",
    "\n",
    "# 带L2正则\n",
    "from sklearn.linear_model import Ridge,RidgeCV \n",
    "\n",
    "# 从度量包里导入均方误差的度量模块\n",
    "from sklearn.metrics import mean_squared_error\n",
    "\n",
    "# 带L1正则,导入第三方模块中的函数\n",
    "from sklearn.linear_model import Lasso,LassoCV \n",
    "\n",
    "# 导入系统模块\n",
    "import os\n",
    "\n",
    "# 从预处理包里导入多项式特征处理模块\n",
    "from sklearn.preprocessing import PolynomialFeatures \n",
    "\n",
    "# 从线性模型里导入线性分类器\n",
    "from sklearn.linear_model import LinearRegression\n",
    "\n",
    "# 从预处理包里导入标准化处理模块\n",
    "from sklearn.preprocessing import StandardScaler\n",
    "\n",
    "# 从预处理包里导入归一化处理模块\n",
    "from sklearn.preprocessing import MinMaxScaler \n",
    "\n",
    "# 导入流水线模块\n",
    "from sklearn.pipeline import Pipeline "
   ]
  },
  {
   "cell_type": "code",
   "execution_count": 14,
   "metadata": {},
   "outputs": [],
   "source": [
    "# 分类报告\n",
    "from sklearn.metrics import classification_report\n",
    "\n",
    "# 准确率\n",
    "from sklearn.metrics import accuracy_score\n",
    "\n",
    "# 精确率\n",
    "from sklearn.metrics import precision_score\n",
    "\n",
    "# 召回率\n",
    "from sklearn.metrics import recall_score\n",
    "\n",
    "# roc 评分\n",
    "from sklearn.metrics import roc_auc_score\n",
    "\n",
    "# 分类\n",
    "from sklearn.metrics import classification\n",
    "\n",
    "# 混淆矩阵\n",
    "from sklearn.metrics import confusion_matrix"
   ]
  },
  {
   "cell_type": "code",
   "execution_count": 15,
   "metadata": {},
   "outputs": [],
   "source": [
    "# 解决torch画图,终端服务\n",
    "\n",
    "import os\n",
    "os.environ[\"KMP_DUPLICATE_LIB_OK\"]=\"TRUE\""
   ]
  },
  {
   "cell_type": "code",
   "execution_count": 16,
   "metadata": {},
   "outputs": [],
   "source": [
    "# 使用工具\n",
    "import torch.utils.data as Data"
   ]
  },
  {
   "cell_type": "code",
   "execution_count": 17,
   "metadata": {},
   "outputs": [],
   "source": [
    "# 升级numpy\n",
    "# pip install -U numpy"
   ]
  },
  {
   "cell_type": "code",
   "execution_count": 18,
   "metadata": {},
   "outputs": [],
   "source": [
    "# 升级 pip\n",
    "# python -m pip install --upgrade pip"
   ]
  },
  {
   "cell_type": "code",
   "execution_count": 19,
   "metadata": {},
   "outputs": [],
   "source": [
    "# 预处理包\n",
    "from sklearn.preprocessing import \\\n",
    "PolynomialFeatures, \\\n",
    "StandardScaler, \\\n",
    "RobustScaler, \\\n",
    "Normalizer, \\\n",
    "MinMaxScaler, \\\n",
    "OneHotEncoder, \\\n",
    "LabelEncoder"
   ]
  },
  {
   "cell_type": "markdown",
   "metadata": {},
   "source": [
    "# 预处理包\n",
    "### from sklearn.preprocessing import \\\n",
    "### PolynomialFeatures, \\ # 多项式特征处理模块\n",
    "### StandardScaler, \\ # 标准化处理模块\n",
    "### RobustScaler, \\ # 稳定器\n",
    "### Normalizer, \\ # 归一化模块\n",
    "### MinMaxScaler, \\ # 归一化模块\n",
    "### OneHotEncoder, \\ # 独热编码器 \n",
    "### LabelEncoder # 标签编码器"
   ]
  },
  {
   "cell_type": "code",
   "execution_count": 20,
   "metadata": {},
   "outputs": [],
   "source": [
    "# 线性模型包\n",
    "from sklearn.linear_model import \\\n",
    "Ridge, \\\n",
    "RidgeCV, \\\n",
    "Lasso, \\\n",
    "LassoCV, \\\n",
    "LinearRegression, \\\n",
    "LogisticRegression"
   ]
  },
  {
   "cell_type": "markdown",
   "metadata": {},
   "source": [
    "# 线性模型包\n",
    "### from sklearn.linear_model import \\\n",
    "### Ridge, \\ # 岭回归带L2正则的线性回归\n",
    "### RidgeCV, \\ # 帮助找最优alpha\n",
    "### Lasso, \\ # Lasso回归带L1正则的线形回归\n",
    "### LassoCV, \\ # 帮助找最优alpha\n",
    "### LinearRegression, \\ # 线性回归分类器\n",
    "### LogisticRegression # 逻辑回归分类器"
   ]
  },
  {
   "cell_type": "code",
   "execution_count": 21,
   "metadata": {},
   "outputs": [],
   "source": [
    "# 度量包\n",
    "from sklearn.metrics import \\\n",
    "mean_squared_error, \\\n",
    "precision_score, \\\n",
    "recall_score, \\\n",
    "accuracy_score, \\\n",
    "f1_score, \\\n",
    "roc_auc_score, \\\n",
    "confusion_matrix"
   ]
  },
  {
   "cell_type": "markdown",
   "metadata": {},
   "source": [
    "# 度量包\n",
    "### from sklearn.metrics import \\\n",
    "### mean_squared_error, \\ # 均方误差\n",
    "### precision_score, \\ # 精确率\n",
    "### recall_score, \\ # 召回率\n",
    "### accuracy_score, \\ # 准确率\n",
    "### f1_score, \\ # 调和均值\n",
    "### roc_auc_score, \\ # roc,auc值的度量\n",
    "### confusion_matrix # 混淆矩阵"
   ]
  },
  {
   "cell_type": "code",
   "execution_count": 22,
   "metadata": {},
   "outputs": [],
   "source": [
    "# 模型包\n",
    "from sklearn.model_selection import \\\n",
    "train_test_split"
   ]
  },
  {
   "cell_type": "markdown",
   "metadata": {},
   "source": [
    "# 模型包\n",
    "### from sklearn.model_selection import \\\n",
    "### train_test_split # 数据集切分"
   ]
  },
  {
   "cell_type": "code",
   "execution_count": 23,
   "metadata": {},
   "outputs": [],
   "source": [
    "# 流水线包 -- 管道\n",
    "from sklearn.pipeline import \\\n",
    "Pipeline # 流水线"
   ]
  },
  {
   "cell_type": "markdown",
   "metadata": {},
   "source": [
    "# 流水线包 -- 管道\n",
    "### from sklearn.pipeline import \\\n",
    "### Pipeline # 流水线"
   ]
  },
  {
   "cell_type": "code",
   "execution_count": null,
   "metadata": {},
   "outputs": [],
   "source": []
  },
  {
   "cell_type": "code",
   "execution_count": null,
   "metadata": {},
   "outputs": [],
   "source": []
  }
 ],
 "metadata": {
  "kernelspec": {
   "display_name": "Python 3",
   "language": "python",
   "name": "python3"
  },
  "language_info": {
   "codemirror_mode": {
    "name": "ipython",
    "version": 3
   },
   "file_extension": ".py",
   "mimetype": "text/x-python",
   "name": "python",
   "nbconvert_exporter": "python",
   "pygments_lexer": "ipython3",
   "version": "3.8.3"
  }
 },
 "nbformat": 4,
 "nbformat_minor": 4
}

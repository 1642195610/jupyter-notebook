{
 "cells": [
  {
   "cell_type": "code",
   "execution_count": null,
   "metadata": {},
   "outputs": [],
   "source": [
    "import numpy as np\n",
    "import pandas as pd\n",
    "import matplotlib.pyplot as plt\n",
    "import seaborn as sns\n",
    "plt.rcParams['font.sans-serif'] = ['SemHei']\n",
    "plt.rcParams['axes.unicode_minus'] = False\n",
    "import warnings\n",
    "warnings.filterwarnings('ignore')"
   ]
  },
  {
   "cell_type": "markdown",
   "metadata": {},
   "source": [
    "# 数组的创建"
   ]
  },
  {
   "cell_type": "code",
   "execution_count": null,
   "metadata": {},
   "outputs": [],
   "source": [
    "1.np.array(列表|元组)\n",
    "2.np.arange(start,end,step)\n",
    "3.np.linspace(start,end,points,endpoint)\n",
    "4.np.random.randn()\n",
    "5.np.random.random()\n",
    "6.np.random.randint()\n",
    "7.np.random.rand(shape|size)\n",
    "8.np.zeros(tuple)\n",
    "9.np.zeros_like(arr)\n",
    "10.np.ones(tuple)\n",
    "11.np.ones_like(arr)"
   ]
  },
  {
   "cell_type": "markdown",
   "metadata": {},
   "source": [
    "# pandas_Series 创建"
   ]
  },
  {
   "cell_type": "code",
   "execution_count": null,
   "metadata": {},
   "outputs": [],
   "source": [
    "pd.Series(字典|列表,dtype,index)"
   ]
  },
  {
   "cell_type": "markdown",
   "metadata": {},
   "source": [
    "- 属性"
   ]
  },
  {
   "cell_type": "code",
   "execution_count": null,
   "metadata": {},
   "outputs": [],
   "source": [
    "ser\n",
    "    .index\n",
    "    .values\n",
    "    .dtype"
   ]
  },
  {
   "cell_type": "markdown",
   "metadata": {},
   "source": [
    "- 方法"
   ]
  },
  {
   "cell_type": "code",
   "execution_count": null,
   "metadata": {},
   "outputs": [],
   "source": [
    "pd.isnull()\n",
    "ser\n",
    "    .astype()\n",
    "    .map(字典|函数)\n",
    "    .apply(函数)"
   ]
  },
  {
   "cell_type": "markdown",
   "metadata": {},
   "source": [
    "# DataFrame 创建"
   ]
  },
  {
   "cell_type": "code",
   "execution_count": null,
   "metadata": {},
   "outputs": [],
   "source": [
    "pd.DataFrame(data,index,columns,dict)\n",
    "key-->列名\n",
    "values-->列数"
   ]
  },
  {
   "cell_type": "code",
   "execution_count": null,
   "metadata": {},
   "outputs": [],
   "source": [
    "df\n",
    "    .info()\n",
    "    .describe()\n",
    "    .dropna(subset,axis = 1|0,how='any'|'all')\n",
    "    .fillna(\n",
    "        values|dict:key-->列名value-->待填充的空值|\n",
    "        method = 'ffill'|'bfill',\n",
    "        limit\n",
    "           )\n",
    "    .duplicated()\n",
    "    .drop_duplicates(\n",
    "        subset,\n",
    "        keep = 'first'|'last',\n",
    "        inplace = False|True\n",
    "    )\n",
    "    .sort_index()\n",
    "    .sort_values(\n",
    "        by = 字符串|列表,\n",
    "        ascending = False|True\n",
    "                )\n",
    "    .set_index(keys=字符串|列表)\n",
    "    .reset_index()\n",
    "    .groupby(\n",
    "        by=str|list,\n",
    "        as_index = False|True,\n",
    "        group_keys = False|True\n",
    "    ).aggregate('sum')|\n",
    "        .transform('sum')|\n",
    "        .apply().unstack(level)行转列|\n",
    "                .stack(level)"
   ]
  },
  {
   "cell_type": "code",
   "execution_count": null,
   "metadata": {},
   "outputs": [],
   "source": [
    "pd\n",
    "    .merge(\n",
    "        df1,\n",
    "        df2,\n",
    "        left_on|\n",
    "        right_on|\n",
    "        left_index = True|\n",
    "        right_index = True\n",
    "        how = 'left'|'right'|'inner'|'outer',\n",
    "        suffixes = (str,str)\n",
    ")\n",
    "    .concat(axis)\n",
    "    .cut(\n",
    "        字段:field,\n",
    "        bins = value|列表,\n",
    "        labels = 列表:分桶后待标记的Series\n",
    ")\n",
    "    .qcut(q = 列表)\n",
    "    read_csv(\n",
    "        path,\n",
    "        seq,\n",
    "        encoding,\n",
    "        parse_date={'新列名':[对应列]},\n",
    "        comment,\n",
    "        .to_datetime(\n",
    "            数据,\n",
    "            format = '%y%m%d',\n",
    "            errors = 'raise'|'ignore'|\n",
    "        )\n",
    "    )\n",
    "    read_excel()\n",
    "    read_json()\n",
    "    read_sql()\n",
    "df[''].value_counts() #排好序的Series\n",
    "\n"
   ]
  },
  {
   "cell_type": "markdown",
   "metadata": {},
   "source": [
    "# 转时间"
   ]
  },
  {
   "cell_type": "code",
   "execution_count": null,
   "metadata": {},
   "outputs": [],
   "source": [
    "df['']\n",
    "    .apply(lambda x:parser.parse(x))\n",
    "    .astype('datetime64[ns]')\n",
    "    .strptime()把字符串解析成时间\n",
    "    .strftime()把时间格式化成字符串"
   ]
  },
  {
   "cell_type": "code",
   "execution_count": null,
   "metadata": {},
   "outputs": [],
   "source": [
    "pt.pivot_table(\n",
    "    data,# 数据\n",
    "    index,\n",
    "    columns,\n",
    "    values, # 待观察的列\n",
    "    aggfunc = np.max|列表|字典\n",
    ")"
   ]
  },
  {
   "cell_type": "code",
   "execution_count": null,
   "metadata": {},
   "outputs": [],
   "source": [
    "df\n",
    "    .columns-->数组\n",
    "    .shape-->形状\n",
    "    .dtypes-->列的类型\n",
    "    .index\n",
    "索引\n",
    "    1.df['列名']\n",
    "    2.df.列名\n",
    "    3.df.loc[行名,列名]\n",
    "    4.df.iloc[行数,列数]\n",
    "    "
   ]
  },
  {
   "cell_type": "markdown",
   "metadata": {},
   "source": [
    "# 线图:数据变化趋势"
   ]
  },
  {
   "cell_type": "code",
   "execution_count": null,
   "metadata": {},
   "outputs": [],
   "source": [
    "plt.plot(\n",
    "    x, # x轴\n",
    "    y, # y轴\n",
    "    marker, # 线的标记点\n",
    "    lw, # 线宽\n",
    "    color, # 线的颜色\n",
    "    linestyle, # 线形\n",
    "    label # 图例\n",
    ")\n",
    "plt.legend() # 显示图例\n",
    "plt.axis(\"equal\") # 使x轴和y轴数据量一致(就像压扁)\n",
    "plt.xlabel(\"x轴\") # x轴标签\n",
    "plt.ylabel(\"y轴\") # y轴标签\n",
    "plt.xlim(0,10) # xzhou的数据范围\n",
    "plt.ylim(-2,2) # y轴的数据范围\n",
    "plt.axis([0,10,-2,2]) # 相当xlim,ylim"
   ]
  },
  {
   "cell_type": "code",
   "execution_count": null,
   "metadata": {},
   "outputs": [],
   "source": [
    "plt.plot(\n",
    "    x, # x轴\n",
    "    np.cos(x), # y轴\n",
    "    marker = '2',# 线的标记点\n",
    "    lw=3, #线宽\n",
    "    color = 'r', #颜色\n",
    "    linestyle = 'solid', #线形\n",
    "    label = 'cos(x)' #图例\n",
    ")\n",
    "plt.legend() # 显示图例\n",
    "plt.axis('equal') # 扁平\n",
    "plt.xlabel('x轴') # x轴标签\n",
    "plt.ylabel('y轴') # y轴标签\n",
    "plt.xlim(0,10) # x轴的数据范围\n",
    "plt.ylim(-2,2) # y轴的数据范围"
   ]
  },
  {
   "cell_type": "markdown",
   "metadata": {},
   "source": [
    "# 散点图:两个变量之间的关系"
   ]
  },
  {
   "cell_type": "code",
   "execution_count": null,
   "metadata": {},
   "outputs": [],
   "source": [
    "plt.scatter(\n",
    "    x, # x轴\n",
    "    y, # y轴\n",
    "    s = 100, # 标记点里边的大小\n",
    "    c = 'blue', # 标记点的颜色\n",
    "    linewidths = 30, # 膜的大小\n",
    "    edgecolors = 'red', # 膜的颜色\n",
    "    alpha = 0.3 # 透明度\n",
    ")"
   ]
  },
  {
   "cell_type": "code",
   "execution_count": null,
   "metadata": {},
   "outputs": [],
   "source": [
    "plt.scatter(\n",
    "    x,\n",
    "    y,\n",
    "    alpha = 0.3,# 透明度\n",
    "    s = 1000,# 里面的大小(蓝色)\n",
    "    c = 'blue',#标记点的颜色(蓝色)\n",
    "    linewidths = 30,# 膜的大小(红色)\n",
    "    edgecolors = 'red' # 膜的颜色(红色)\n",
    ")"
   ]
  },
  {
   "cell_type": "markdown",
   "metadata": {},
   "source": [
    "# 柱状图:数据的分布"
   ]
  },
  {
   "cell_type": "code",
   "execution_count": null,
   "metadata": {},
   "outputs": [],
   "source": [
    "plt.hist(\n",
    "    data, # 数据\n",
    "    bins = 30, # 柱子的数量\n",
    "    alpha = 0.9 # 透明度\n",
    ")\n",
    "plt.show() # 显示"
   ]
  },
  {
   "cell_type": "code",
   "execution_count": null,
   "metadata": {},
   "outputs": [],
   "source": [
    "plt.hist(\n",
    "    data, # 数据\n",
    "    bins = 30,# 柱子的数量\n",
    "    alpha = 0.9 # 透明度\n",
    ")\n",
    "plt.show()# 显示"
   ]
  },
  {
   "cell_type": "markdown",
   "metadata": {},
   "source": [
    "# 条形图:计数"
   ]
  },
  {
   "cell_type": "code",
   "execution_count": null,
   "metadata": {},
   "outputs": [],
   "source": [
    "plt.bar(\n",
    "    ['a','b','c'], # x轴刻度标签\n",
    "    data, # 数据\n",
    "    label, # 图例\n",
    "    bottom = g # 条形图的数据(纵向堆积)\n",
    ")"
   ]
  },
  {
   "cell_type": "code",
   "execution_count": null,
   "metadata": {},
   "outputs": [],
   "source": [
    "plt.bar(\n",
    "    ['a','b','c','d','e'],# x轴刻度标签\n",
    "    data # 数据\n",
    ")\n",
    "plt.show()"
   ]
  },
  {
   "cell_type": "markdown",
   "metadata": {},
   "source": [
    "# 子图"
   ]
  },
  {
   "cell_type": "code",
   "execution_count": null,
   "metadata": {
    "scrolled": true
   },
   "outputs": [],
   "source": [
    "# 第一种\n",
    "for i in range(1,4): # 子图是从1开始\n",
    "    plt.subplot(3,1,i)# 3行,一列,第i个子图"
   ]
  },
  {
   "cell_type": "code",
   "execution_count": null,
   "metadata": {
    "scrolled": true
   },
   "outputs": [],
   "source": [
    "# 第二种\n",
    "fig = plt.figure(figsize)\n",
    "# 调整子图距离\n",
    "fig.subplots_adjust(hspace = 0.5,wspace = 0.5)\n",
    "for i in range(1,4):\n",
    "    ax = fig.add_subplot(3,1,i)# 3行,1列,第i个子图"
   ]
  },
  {
   "cell_type": "code",
   "execution_count": null,
   "metadata": {
    "scrolled": true
   },
   "outputs": [],
   "source": [
    "# 第三种\n",
    "fig = plt.figure(figsize)\n",
    "fig,ax = plt.subplots(3,1) # 3行, 1列"
   ]
  },
  {
   "cell_type": "code",
   "execution_count": null,
   "metadata": {},
   "outputs": [],
   "source": [
    "sns\n",
    "    .kdeplot(列)\n",
    "    .distplot(列)\n",
    "    .jointplot(x,y,data,kind = 'reg')\n",
    "    .pairplot(hue='增加的系列,用不同颜色表示出来')\n",
    "    .FacetGrid()"
   ]
  },
  {
   "cell_type": "code",
   "execution_count": null,
   "metadata": {},
   "outputs": [],
   "source": [
    "# multivariate_normal 协方差矩阵\n",
    "# 协方差:衡量两个变量之间的相似度\n",
    "# 协方差越大,两个变量相互影响越大\n",
    "\n",
    "# 核密度图\n",
    "for col in 'xy':\n",
    "    plt.hist(dd[col],bins = 50,alpha = 0.6)\n",
    "# 2个变量之间的分布关系"
   ]
  },
  {
   "cell_type": "code",
   "execution_count": null,
   "metadata": {},
   "outputs": [],
   "source": [
    "# x和y的关系\n",
    "import warnings\n",
    "warnings.filterwarnings('ignore')\n",
    "sns.kdeplot(d)"
   ]
  },
  {
   "cell_type": "code",
   "execution_count": null,
   "metadata": {},
   "outputs": [],
   "source": [
    "a = np.random.randn(10000)\n",
    "a2 = np.random.rand(1000)\n",
    "sns.distplot(a)\n",
    "sns.distplot(a2)"
   ]
  },
  {
   "cell_type": "code",
   "execution_count": null,
   "metadata": {},
   "outputs": [],
   "source": [
    "# jointplot 联合图\n",
    "# 两个变量之间的联合分布\n",
    "sns.jointplot('x','y',d,kind = 'kde')"
   ]
  },
  {
   "cell_type": "code",
   "execution_count": null,
   "metadata": {},
   "outputs": [],
   "source": [
    "# 对图 pairplot\n",
    "# hue = 'species' 图里的数据类别,species里面有3个类别\n",
    "sns.pairplot(iris,hue = 'species',height = 2.5)"
   ]
  },
  {
   "cell_type": "code",
   "execution_count": null,
   "metadata": {},
   "outputs": [],
   "source": [
    "# boxplot 箱线图\n",
    "sns.boxplot(x = 'species',y ='sepal_length',data = iris)"
   ]
  },
  {
   "cell_type": "code",
   "execution_count": null,
   "metadata": {},
   "outputs": [],
   "source": [
    "# violinplot 小提琴图\n",
    "sns.violinplot(x = 'species',y ='sepal_length',data = iris)"
   ]
  },
  {
   "cell_type": "code",
   "execution_count": null,
   "metadata": {},
   "outputs": [],
   "source": [
    "# 格子图\n",
    "g = sns.FacetGrid(t,row = 'sex',col = 'time',margin_titles=True)\n",
    "g.map(plt.hist,'total_bill',bins = np.linspace(0,70,15))"
   ]
  },
  {
   "cell_type": "code",
   "execution_count": null,
   "metadata": {},
   "outputs": [],
   "source": [
    "# pd.to_datetime()\n",
    "# 第一种 一串数字转时间\n",
    "# 构造首次激活列\n",
    "from datetime import datetime\n",
    "pd.to_datetime(train['timestamp_first_active'],\n",
    "              format = '%Y%m%d%H%M%S')\n",
    "data['first_active'] = train['timestamp_first_active']. \\\n",
    "apply(lambda x:parse(str(x)))\n",
    "data.head()"
   ]
  },
  {
   "cell_type": "code",
   "execution_count": null,
   "metadata": {},
   "outputs": [],
   "source": [
    "# parser.parse()\n",
    "# 第二种 一串数字转时间 先变str,再parse()转换\n",
    "# 构造首次激活列\n",
    "from dateutil import parser\n",
    "data['first_active'] = train['timestamp_first_active']. \\\n",
    "apply(lambda x:parser.parse(str(x)))\n",
    "data.head()"
   ]
  },
  {
   "cell_type": "code",
   "execution_count": null,
   "metadata": {},
   "outputs": [],
   "source": [
    "#datetime.strptime()\n",
    "# 第三种 一串数字转时间\n",
    "from datetime import datetime\n",
    "data['first_active'] = train['timestamp_first_active']. \\\n",
    "apply(lambda x:datetime.strptime(str(x),\"%Y%m%d%H%M%S\"))\n",
    "data.head()"
   ]
  },
  {
   "cell_type": "code",
   "execution_count": null,
   "metadata": {},
   "outputs": [],
   "source": [
    "# 一串数字转时间 先变str,再parse()转换\n",
    "# 例子:20090319043255 --> 2009-03-19 04:32:55\n",
    "train['timestamp_first_active'] = train['timestamp_first_active']. \\\n",
    "apply(lambda x:parse(str(x)))"
   ]
  },
  {
   "cell_type": "code",
   "execution_count": null,
   "metadata": {},
   "outputs": [],
   "source": [
    "# 构造工作日特征 isoweekday()\n",
    "data['weekday'] = data.first_active.apply(lambda x:x.isoweekday())\n",
    "data.head()"
   ]
  },
  {
   "cell_type": "code",
   "execution_count": null,
   "metadata": {},
   "outputs": [],
   "source": [
    "# 构造工作日特征 日期格式.isoweekday()\n",
    "from datetime import datetime\n",
    "datetime(2020,11,11).isoweekday()"
   ]
  },
  {
   "cell_type": "code",
   "execution_count": null,
   "metadata": {},
   "outputs": [],
   "source": [
    "# 显示空值的个数: null_counts=True\n",
    "# 显示数据类型: verbose = True\n",
    "数据.info(null_counts=True,verbose=True)"
   ]
  },
  {
   "cell_type": "code",
   "execution_count": null,
   "metadata": {},
   "outputs": [],
   "source": [
    "# 独热编码\n",
    "import pandas as pd\n",
    "dr = pd.get_dummies(待独热编码的列,prefix ='前缀')\n",
    "# 和源数据合并\n",
    "源数据表名字 = pd.concat((源数据表名字,dr),axis = 1)"
   ]
  },
  {
   "cell_type": "code",
   "execution_count": null,
   "metadata": {},
   "outputs": [],
   "source": [
    "# 生成季节函数\n",
    "def season(param):\n",
    "    if param in {3,4,5}:\n",
    "        return \"spring\"\n",
    "    elif param in {6,7,8}:\n",
    "        return 'summer'\n",
    "    elif param in {9,10,11}:\n",
    "        return 'autumn'\n",
    "    else:\n",
    "        return 'winter'"
   ]
  },
  {
   "cell_type": "code",
   "execution_count": null,
   "metadata": {},
   "outputs": [],
   "source": [
    "# 独热编码函数\n",
    "def drbm(data,col):\n",
    "    df = 'df_'\n",
    "    df += col\n",
    "    df = pd.get_dummies(data[col],prefix = col)\n",
    "    data = pd.concat((data,df),axis = 1,ignore_index = False)\n",
    "    return data"
   ]
  },
  {
   "cell_type": "markdown",
   "metadata": {},
   "source": [
    "* 数据不是正太分布,作对数变换后,类似正太分布"
   ]
  },
  {
   "cell_type": "code",
   "execution_count": null,
   "metadata": {},
   "outputs": [],
   "source": [
    "# 对数变换\n",
    "np.log2(sessions.action.value_counts()).plot(kind='hist',bins=50)"
   ]
  },
  {
   "cell_type": "code",
   "execution_count": null,
   "metadata": {},
   "outputs": [],
   "source": [
    "from scipy import stats\n",
    "# 查看用户行为的分布\n",
    "# stats.boxcox(数据,待操作的列,相对操作-->例如:value_counts())\n",
    "# Box-Cox变换可以明显地改善数据的正态性、对称性\n",
    "pd.DataFrame(stats.boxcox(sessions.action.value_counts())[0]).plot(kind='hist',bins=50)"
   ]
  },
  {
   "cell_type": "code",
   "execution_count": null,
   "metadata": {},
   "outputs": [],
   "source": []
  },
  {
   "cell_type": "markdown",
   "metadata": {},
   "source": [
    "* 特征工程\n",
    "    * 1.通过计数的方式计算特征"
   ]
  },
  {
   "cell_type": "markdown",
   "metadata": {},
   "source": [
    "# 转换时间的4种方法:"
   ]
  },
  {
   "cell_type": "code",
   "execution_count": null,
   "metadata": {},
   "outputs": [],
   "source": [
    "# 第一种:datetime.strptime(str,格式)\n",
    "from datetime import datetime\n",
    "datetime.strptime('20201111090655','%Y%m%d%H%M%S')"
   ]
  },
  {
   "cell_type": "code",
   "execution_count": null,
   "metadata": {},
   "outputs": [],
   "source": [
    "# 第二种:pd.to_datetime(str,format=格式)\n",
    "import pandas as pd\n",
    "pd.to_datetime('20201111090655',format = '%Y%m%d%H%M%S')"
   ]
  },
  {
   "cell_type": "code",
   "execution_count": null,
   "metadata": {},
   "outputs": [],
   "source": [
    "# 第三种:parser.parse(str)\n",
    "from dateutil import parser\n",
    "parser.parse('20201111090655')"
   ]
  },
  {
   "cell_type": "code",
   "execution_count": null,
   "metadata": {},
   "outputs": [],
   "source": [
    "# 第四种:datetime(格式: int年,int月,int日)\n",
    "from datetime import datetime\n",
    "datetime(2020,11,11,9,6,55)"
   ]
  },
  {
   "cell_type": "markdown",
   "metadata": {},
   "source": [
    "* 转时间4种方法:\n",
    "    #### from datetime import datetime\n",
    "    * 第一种:datetime.strptime(str,格式)\n",
    "        * str = \"年月日时分秒\"\n",
    "        * 格式 = \"%Y%m%d%H%M%S\"\n",
    "    #### import pandas as pd\n",
    "    * 第二种:pd.to_datetime(str,format=格式)\n",
    "        * str = \"年月日时分秒\"\n",
    "        * 格式 = \"%Y%m%d%H%M%S\"\n",
    "    #### from dateutil import parser\n",
    "    * 第三种:parser.parse(str)\n",
    "        * str = \"年月日时分秒\"\n",
    "    #### from datetime import datetime\n",
    "    * 第四种:datetime(格式: int年,int月,int日)\n",
    "        * 格式 = int型(2020,11,11,9,6,55)"
   ]
  },
  {
   "cell_type": "code",
   "execution_count": null,
   "metadata": {},
   "outputs": [],
   "source": [
    "# 加列名 第一种 数据.index.names = [名字]\n",
    "# 多级索引\n",
    "md3 = pd.DataFrame(p,index = m3,columns = ['populations'])\n",
    "md3.index.names = ['city','year']\n",
    "md3"
   ]
  },
  {
   "cell_type": "code",
   "execution_count": null,
   "metadata": {},
   "outputs": [],
   "source": [
    "# 加列名 第二种 数据.reset_index().rename(columns = [名字]\n",
    "# 多级索引\n",
    "md3 = pd.DataFrame(p,index = m3,columns = ['populations']).reset_index()\n",
    "md3.rename(columns = {'level_0':'city','level_1':'year'},inplace = True)\n",
    "md3"
   ]
  },
  {
   "cell_type": "code",
   "execution_count": null,
   "metadata": {},
   "outputs": [],
   "source": [
    "from pyecharts.charts import Bar\n",
    "from pyecharts.charts import Line\n",
    "from pyecharts import options as opts"
   ]
  },
  {
   "cell_type": "markdown",
   "metadata": {},
   "source": [
    "# pyecharts--->Bar 条状图"
   ]
  },
  {
   "cell_type": "code",
   "execution_count": null,
   "metadata": {
    "scrolled": true
   },
   "outputs": [],
   "source": [
    "# 条状图 Bar\n",
    "# 横坐标数据\n",
    "cate = ['Apple', 'Huawei', 'Xiaomi', 'Oppo', 'Vivo', 'Meizu'] # 横坐标数据\n",
    "data1 = [123, 153, 89, 107, 98, 23]  # 纵坐标1数据\n",
    "data2 = [56, 77, 93, 68, 45, 67] # 纵坐标2\n",
    "\n",
    "from pyecharts.charts import Bar\n",
    "from pyecharts import options as opts\n",
    "\n",
    "# set_global_opts\n",
    "# is_show = False # 图例选项True-->显示,False-->不显示\n",
    "# 工具箱toolbox_opts = opts.ToolboxOpts(pos_left = '90%',orient = 'vertical')\n",
    "# 提示框 tooltip_opts = opts.TooltipOpts(is_show = True, background_color = 'red')\n",
    "# 缩放框 datazoom_opts = opts.DataZoomOpts(is_show = True)\n",
    "# 距离左边界的距离 pos_left = '90%'\n",
    "\n",
    "# set_series_opts\n",
    "# 数据标签 label_opts=opts.LabelOpts(is_show = False), # 数据值标签每个柱子上的数字\n",
    "# 数据点 markpoint_opts = opts.MarkPointOpts(data = [opts.MarkPointItem(type_ =\"max\",name='最大值')]), # 数据点\n",
    "# 数据线 markline_opts = opts.MarkLineOpts(data = [opts.MarkLineItem(type_ ='min',name = '最小值')]) # 数据线\n",
    "bar = (Bar()\n",
    "       .add_xaxis(cate)# cate: list[str]\n",
    "       .add_yaxis('第一个图例系列',data1)#data1: list[int]\n",
    "       .add_yaxis('第二个图例系列',data2)#data2: list[int]\n",
    "       .set_series_opts(\n",
    "           label_opts = opts.LabelOpts(is_show = False), # 数据值标签每个柱子上的数字\n",
    "           markpoint_opts = opts.MarkPointOpts(data = [opts.MarkPointItem(type_ = 'max',name = '最大值')]) , # 数据点\n",
    "           markline_opts = opts.MarkLineOpts(data = [opts.MarkLineItem(type_ ='min',name = '最小值')]) # 数据线\n",
    "       )\n",
    "       .set_global_opts(\n",
    "           title_opts = opts.TitleOpts(title='主标题',subtitle='副标题'), # 标题选项\n",
    "            legend_opts = opts.LegendOpts(is_show = False), # 图例选项True-->显示,False-->不显示\n",
    "           toolbox_opts = opts.ToolboxOpts(pos_left = '96%',orient = 'vertical'), # 工具箱选项\n",
    "           tooltip_opts = opts.TooltipOpts(is_show = True, background_color = 'blue'), # 提示框选项\n",
    "           datazoom_opts = opts.DataZoomOpts(is_show = True), # 缩放框选项\n",
    "           xaxis_opts = opts.AxisOpts(axislabel_opts = {'rotate':45})# 横坐标旋转45度,以解决横坐标显示不完全的问题\n",
    "                       )\n",
    "      )\n",
    "bar.render_notebook() # 渲染图像\n",
    "# bar.render('Bar.html') # 保存成html"
   ]
  },
  {
   "cell_type": "markdown",
   "metadata": {},
   "source": [
    "[![BxBSYV.png](https://s3.ax1x.com/2020/11/12/BxBSYV.png)](https://imgchr.com/i/BxBSYV)"
   ]
  },
  {
   "cell_type": "markdown",
   "metadata": {},
   "source": [
    "# pyecharts--->Line 折线图 "
   ]
  },
  {
   "cell_type": "code",
   "execution_count": null,
   "metadata": {
    "scrolled": true
   },
   "outputs": [],
   "source": [
    "# 折线图 Line\n",
    "# 横坐标数据\n",
    "cate = ['Apple', 'Huawei', 'Xiaomi', 'Oppo', 'Vivo', 'Meizu'] # 横坐标数据\n",
    "data1 = [123, 153, 89, 107, 98, 23]  # 纵坐标1数据\n",
    "data2 = [56, 77, 93, 68, 45, 67] # 纵坐标2\n",
    "\n",
    "from pyecharts.charts import Line\n",
    "from pyecharts import options as opts\n",
    "\n",
    "# set_global_opts\n",
    "# is_show = False # 图例选项True-->显示,False-->不显示\n",
    "# 工具箱toolbox_opts = opts.ToolboxOpts(pos_left = '90%',orient = 'vertical')vartical 垂直,pos_left 工具箱距离左边界的距离\n",
    "# 提示框 tooltip_opts = opts.TooltipOpts(is_show = True, background_color = 'red')\n",
    "# 缩放框 datazoom_opts = opts.DataZoomOpts(is_show = True)\n",
    "# 距离左边界的距离 pos_left = '90%'\n",
    "\n",
    "# set_series_opts\n",
    "# 数据标签 label_opts=opts.LabelOpts(is_show = False), # 数据值标签每个柱子上的数字\n",
    "# 数据点 markpoint_opts = opts.MarkPointOpts(data = [opts.MarkPointItem(type_ =\"max\",name='最大值')]), # 数据点\n",
    "# 数据线 markline_opts = opts.MarkLineOpts(data = [opts.MarkLineItem(type_ ='min',name = '最小值')]) # 数据线\n",
    "line = (Line()\n",
    "       .add_xaxis(cate)# cate: list[str]\n",
    "       .add_yaxis('第一个图例系列',data1,is_smooth = True)# 是否光滑 data1: list[int]\n",
    "       .add_yaxis('第二个图例系列',data2,is_smooth = True)# 是否光滑 data2: list[int]\n",
    "       .set_series_opts(\n",
    "           label_opts = opts.LabelOpts(is_show = False), # 数据值标签每个柱子上的数字\n",
    "           markpoint_opts = opts.MarkPointOpts(data = [opts.MarkPointItem(type_ = 'max',name = '最大值')]) , # 数据点\n",
    "           markline_opts = opts.MarkLineOpts(data = [opts.MarkLineItem(type_ ='min',name = '最小值')]) # 数据线\n",
    "       )\n",
    "       .set_global_opts(\n",
    "           title_opts = opts.TitleOpts(title='主标题',subtitle='副标题'), # 标题选项\n",
    "            legend_opts = opts.LegendOpts(is_show = False), # 图例选项True-->显示,False-->不显示\n",
    "           toolbox_opts = opts.ToolboxOpts(pos_left = '90%',orient = 'vertical'), # 工具箱选项\n",
    "           tooltip_opts = opts.TooltipOpts(is_show = True, background_color = 'blue'), # 提示框选项\n",
    "           datazoom_opts = opts.DataZoomOpts(is_show = True), # 缩放框选项\n",
    "           xaxis_opts = opts.AxisOpts(axislabel_opts = {'rotate':45})# 横坐标旋转45度,以解决横坐标显示不完全的问题\n",
    "                       )\n",
    "      )\n",
    "line.render_notebook() # 渲染图像\n",
    "# line.render('Bar.html') # 保存成html"
   ]
  },
  {
   "cell_type": "markdown",
   "metadata": {},
   "source": [
    "[![BxBGTI.png](https://s3.ax1x.com/2020/11/12/BxBGTI.png)](https://imgchr.com/i/BxBGTI)"
   ]
  },
  {
   "cell_type": "markdown",
   "metadata": {},
   "source": [
    "* 连续性数据离散化方法:\n",
    "    * 1. 引用别人的函数cut,qcut\n",
    "    * 2. 自定义函数"
   ]
  },
  {
   "cell_type": "markdown",
   "metadata": {},
   "source": [
    "# pyecharts--->Funnel 漏斗图 "
   ]
  },
  {
   "cell_type": "code",
   "execution_count": null,
   "metadata": {},
   "outputs": [],
   "source": [
    "cate = ['访问','注册','加入购物车','提交订单','付款成功']\n",
    "data = [30398,15230,10045,8109,5698]\n",
    "\n",
    "from pyecharts.charts import Funnel\n",
    "from pyecharts import options as opts\n",
    "\n",
    "funnel = (Funnel()\n",
    "          .add(\n",
    "              '漏斗图',# 提示框内容\n",
    "              [i for i in zip(cate,data)],# 数据\n",
    "              sort_ = 'descending',\n",
    "              label_opts = opts.LabelOpts(position = 'inside')\n",
    "          )\n",
    "          .set_global_opts(\n",
    "              title_opts = opts.TitleOpts(title = '我是主标题',subtitle = '我是副标题'),\n",
    "              legend_opts = opts.LegendOpts(is_show = True),\n",
    "              toolbox_opts = opts.ToolboxOpts(pos_left = '96%',orient = 'vartical'),\n",
    "              tooltip_opts = opts.TooltipOpts(background_color = 'blue')\n",
    "          )\n",
    ")\n",
    "funnel.render_notebook()"
   ]
  },
  {
   "cell_type": "markdown",
   "metadata": {},
   "source": [
    "[![BxBd1S.png](https://s3.ax1x.com/2020/11/12/BxBd1S.png)](https://imgchr.com/i/BxBd1S)"
   ]
  },
  {
   "cell_type": "markdown",
   "metadata": {},
   "source": [
    "# pyecharts--->Pie 南丁格尔图 --- 饼图"
   ]
  },
  {
   "cell_type": "code",
   "execution_count": null,
   "metadata": {
    "scrolled": true
   },
   "outputs": [],
   "source": [
    "cate = ['访问','注册','加入购物车','提交订单','付款成功']\n",
    "data = [30398,15230,10045,8109,5698]\n",
    "\n",
    "from pyecharts.charts import Pie\n",
    "from pyecharts import options as opts\n",
    "\n",
    "pie = (Pie()\n",
    "       .add(\n",
    "           '南丁格尔图', #提示框内容\n",
    "           [z for z in zip(cate,data)],\n",
    "           radius=['30%','60%'],# 半径\n",
    "           rosetype='radius' # 扇片大小\n",
    "       )\n",
    "       .set_global_opts(\n",
    "           title_opts = opts.TitleOpts(title = '我是主标题',subtitle = '我是副标题')\n",
    "       )\n",
    "       .set_series_opts(\n",
    "           label_opts = opts.LabelOpts(formatter = \"{b}: {d}%\")# a:提示框的内容,b:数据系列的名字,c:数据,d:当前占全部的百分比\n",
    "       )\n",
    ")\n",
    "pie.render_notebook()"
   ]
  },
  {
   "cell_type": "markdown",
   "metadata": {},
   "source": [
    "[![BxB0XQ.png](https://s3.ax1x.com/2020/11/12/BxB0XQ.png)](https://imgchr.com/i/BxB0XQ)"
   ]
  },
  {
   "cell_type": "markdown",
   "metadata": {},
   "source": [
    "# pyecharts--->Map 地图 "
   ]
  },
  {
   "cell_type": "code",
   "execution_count": null,
   "metadata": {
    "scrolled": true
   },
   "outputs": [],
   "source": [
    "from pyecharts.charts import Map\n",
    "from pyecharts import options as opts\n",
    "import random\n",
    "\n",
    "a = ['北京','上海','广州']\n",
    "data = [[i,random.randint(50,150)] for i in a]\n",
    "\n",
    "n_map = (Map()\n",
    "       .add('名字',# 提示框内容\n",
    "            data, # 数据\n",
    "            maptype = 'china', # 国家名称\n",
    "            zoom = 1 # 缩放大小\n",
    "       )\n",
    "       .set_global_opts(\n",
    "           title_opts = opts.TitleOpts(\n",
    "               title = '我是主标题',\n",
    "               title_textstyle_opts = opts.TextStyleOpts(font_size = 30),#字体大小\n",
    "               pos_left = 'center'\n",
    "           ),\n",
    "           visualmap_opts = opts.VisualMapOpts(max_ = 180,is_piecewise = True),# 视觉映射选项\n",
    "           legend_opts = opts.LegendOpts(is_show = False)\n",
    "       )\n",
    ")\n",
    "n_map.render_notebook()"
   ]
  },
  {
   "cell_type": "markdown",
   "metadata": {},
   "source": [
    "[![BxBDmj.png](https://s3.ax1x.com/2020/11/12/BxBDmj.png)](https://imgchr.com/i/BxBDmj)"
   ]
  },
  {
   "cell_type": "markdown",
   "metadata": {},
   "source": [
    "# pyecharts--->Gauge 仪表板 "
   ]
  },
  {
   "cell_type": "code",
   "execution_count": null,
   "metadata": {
    "scrolled": true
   },
   "outputs": [],
   "source": [
    "from pyecharts.charts import Gauge\n",
    "from pyecharts import options as opts\n",
    "\n",
    "gauge = (Gauge()\n",
    "         .add(\n",
    "             '完成率',# 标题\n",
    "             [(\"\",90),(\"\",60)], # 数据,指针个数:几个tuple()\n",
    "             is_clock_wise=False # 变成一圈\n",
    "         )\n",
    "         .set_global_opts(\n",
    "             title_opts = opts.TitleOpts(title = '仪表板')\n",
    "         )\n",
    ")\n",
    "gauge.render_notebook()"
   ]
  },
  {
   "cell_type": "markdown",
   "metadata": {},
   "source": [
    "[![BxBct0.png](https://s3.ax1x.com/2020/11/12/BxBct0.png)](https://imgchr.com/i/BxBct0)"
   ]
  },
  {
   "cell_type": "markdown",
   "metadata": {},
   "source": [
    "# pyecharts--->Timeline 时间轴 "
   ]
  },
  {
   "cell_type": "code",
   "execution_count": null,
   "metadata": {
    "scrolled": true
   },
   "outputs": [],
   "source": [
    "cate = ['Apple', 'Huawei', 'Xiaomi', 'Oppo', 'Vivo', 'Meizu'] # 横坐标数据\n",
    "\n",
    "from pyecharts.charts import Timeline\n",
    "from pyecharts.charts import Bar\n",
    "from pyecharts import options as opts\n",
    "import random\n",
    "tl = Timeline() # 添加时间线\n",
    "for i in range(2015,2021):\n",
    "    bar = (Bar()\n",
    "           .add_xaxis(cate)\n",
    "           .add_yaxis('线上',[random.randint(100,200) for _ in cate])\n",
    "           .add_yaxis('门店',[random.randint(150,200) for _ in cate])\n",
    "           .set_global_opts(title_opts = opts.TitleOpts(title = '手机品牌{}年营业额'.format(i)))\n",
    ")\n",
    "    tl.add(bar,\"{}年\".format(i)) # 时间线添加条状图\n",
    "tl.render_notebook()"
   ]
  },
  {
   "cell_type": "markdown",
   "metadata": {},
   "source": [
    "[![BxBfcF.png](https://s3.ax1x.com/2020/11/12/BxBfcF.png)](https://imgchr.com/i/BxBfcF)"
   ]
  },
  {
   "cell_type": "code",
   "execution_count": null,
   "metadata": {},
   "outputs": [],
   "source": [
    "# 保存图像函数\n",
    "import os\n",
    "# 传的是文件名加后缀\n",
    "root_dir = \".\" # 根目录\n",
    "model_id = \"linear_models\" # 一个文件夹\n",
    "def save_fig(fig_id,tight_layout = True):\n",
    "    path = os.path.join(root_dir, \"images\", model_id)\n",
    "    if not os.path.exists(path):\n",
    "        os.makedirs(path)\n",
    "    path = os.path.join(path,fig_id)\n",
    "    print(path)\n",
    "    print(\"Saving figure\",fig_id)\n",
    "    plt.savefig(path, format = 'png',dpi = 300)"
   ]
  },
  {
   "cell_type": "code",
   "execution_count": null,
   "metadata": {},
   "outputs": [],
   "source": [
    "import numpy as np\n",
    "from sklearn.metrics import mean_squared_error\n",
    "from sklearn.model_selection import train_test_split\n",
    "from sklearn.linear_model import LinearRegression\n",
    "from sklearn.preprocessing import PolynomialFeatures\n",
    "from sklearn.preprocessing import StandardScaler\n",
    "from sklearn.preprocessing import MinMaxScaler\n",
    "from sklearn.pipeline import Pipeline\n",
    "import matplotlib.pyplot as plt\n",
    "import os\n",
    "\n",
    "\n",
    "\n",
    "# 拟合模型\n",
    "for style,width,degree in (('g-',1,300),('b--',2,2),('r-+',2,1)):\n",
    "    polybig_features = PolynomialFeatures(degree = degree,include_bias = False)\n",
    "    std_scaler = StandardScaler()\n",
    "    mm_scaler = MinMaxScaler()\n",
    "    lin_reg = LinearRegression()\n",
    "    polynomial_regression = Pipeline([\n",
    "        ('poly_features',polybig_features),\n",
    "        ('std_scaler',std_scaler),\n",
    "        ('lin_reg',lin_reg),\n",
    "    ])\n",
    "    polynomial_regression.fit(x,y)\n",
    "    y_newbig = polynomial_regression.predict(x_new)\n",
    "    plt.plot(x_new,y_newbig,style,label = str(degree),linewidth = width)\n",
    "    \n",
    "plt.plot(x,y,'b.',linewidth=3)\n",
    "plt.legend(loc = 'upper left')\n",
    "plt.xlabel('$x_1$',fontsize = 18)\n",
    "plt.ylabel(\"$y$\",fontsize = 18)\n",
    "plt.axis([-3,3,0,10])\n",
    "save_png('拟合图.png')\n",
    "plt.show()\n",
    "\n",
    "\n",
    "\n",
    "# 画学习曲线函数\n",
    "def plot_learning_curves(model,x,y):\n",
    "    x_tr,x_val,y_tr,y_val = train_test_split(x,y,test_size = 0.2,random_state = 10)\n",
    "    tr_error = []\n",
    "    val_error = []\n",
    "    for m in range(1,len(x_tr)):\n",
    "        model.fit(x_tr[:m],y_tr[:m])\n",
    "        y_tr_pre = model.predict(x_tr[:m])\n",
    "        y_val_pre = model.predict(x_val)\n",
    "        tr_error.append(mean_squared_error(y_tr[:m],y_tr_pre))\n",
    "        val_error.append(mean_squared_error(y_val,y_val_pre))\n",
    "        \n",
    "    plt.plot(np.sqrt(tr_error),'r-+',linewidth = 2,label = 'train')\n",
    "    plt.plot(np.sqrt(val_error),'b-',linewidth = 3,label = 'val')\n",
    "    plt.legend(loc = 'upper right',fontsize = 14)\n",
    "    plt.xlabel(\"Training set size\",fontsize = 14)\n",
    "    plt.ylabel('RMSE',fontsize = 14)"
   ]
  },
  {
   "cell_type": "code",
   "execution_count": null,
   "metadata": {},
   "outputs": [],
   "source": []
  },
  {
   "cell_type": "code",
   "execution_count": null,
   "metadata": {},
   "outputs": [],
   "source": []
  },
  {
   "cell_type": "code",
   "execution_count": null,
   "metadata": {},
   "outputs": [],
   "source": []
  },
  {
   "cell_type": "code",
   "execution_count": null,
   "metadata": {},
   "outputs": [],
   "source": []
  },
  {
   "cell_type": "code",
   "execution_count": null,
   "metadata": {},
   "outputs": [],
   "source": []
  },
  {
   "cell_type": "code",
   "execution_count": null,
   "metadata": {},
   "outputs": [],
   "source": []
  },
  {
   "cell_type": "code",
   "execution_count": null,
   "metadata": {},
   "outputs": [],
   "source": []
  },
  {
   "cell_type": "code",
   "execution_count": null,
   "metadata": {},
   "outputs": [],
   "source": []
  },
  {
   "cell_type": "code",
   "execution_count": null,
   "metadata": {},
   "outputs": [],
   "source": []
  },
  {
   "cell_type": "code",
   "execution_count": null,
   "metadata": {},
   "outputs": [],
   "source": []
  }
 ],
 "metadata": {
  "kernelspec": {
   "display_name": "Python 3",
   "language": "python",
   "name": "python3"
  },
  "language_info": {
   "codemirror_mode": {
    "name": "ipython",
    "version": 3
   },
   "file_extension": ".py",
   "mimetype": "text/x-python",
   "name": "python",
   "nbconvert_exporter": "python",
   "pygments_lexer": "ipython3",
   "version": "3.8.3"
  }
 },
 "nbformat": 4,
 "nbformat_minor": 4
}

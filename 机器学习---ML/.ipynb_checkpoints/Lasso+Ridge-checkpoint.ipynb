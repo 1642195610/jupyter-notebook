{
 "cells": [
  {
   "cell_type": "code",
   "execution_count": 1,
   "metadata": {},
   "outputs": [],
   "source": [
    "import pandas as pd\n",
    "import numpy as np\n",
    "from sklearn.model_selection import train_test_split\n",
    "from sklearn.linear_model import Ridge,RidgeCV\n",
    "from sklearn.metrics import mean_squared_error\n",
    "import matplotlib.pyplot as plt"
   ]
  },
  {
   "cell_type": "code",
   "execution_count": 2,
   "metadata": {},
   "outputs": [
    {
     "data": {
      "text/html": [
       "<div>\n",
       "<style scoped>\n",
       "    .dataframe tbody tr th:only-of-type {\n",
       "        vertical-align: middle;\n",
       "    }\n",
       "\n",
       "    .dataframe tbody tr th {\n",
       "        vertical-align: top;\n",
       "    }\n",
       "\n",
       "    .dataframe thead th {\n",
       "        text-align: right;\n",
       "    }\n",
       "</style>\n",
       "<table border=\"1\" class=\"dataframe\">\n",
       "  <thead>\n",
       "    <tr style=\"text-align: right;\">\n",
       "      <th></th>\n",
       "      <th>AGE</th>\n",
       "      <th>SEX</th>\n",
       "      <th>BMI</th>\n",
       "      <th>BP</th>\n",
       "      <th>S1</th>\n",
       "      <th>S2</th>\n",
       "      <th>S3</th>\n",
       "      <th>S4</th>\n",
       "      <th>S5</th>\n",
       "      <th>S6</th>\n",
       "      <th>Y</th>\n",
       "    </tr>\n",
       "  </thead>\n",
       "  <tbody>\n",
       "    <tr>\n",
       "      <th>0</th>\n",
       "      <td>59</td>\n",
       "      <td>2</td>\n",
       "      <td>32.1</td>\n",
       "      <td>101.0</td>\n",
       "      <td>157</td>\n",
       "      <td>93.2</td>\n",
       "      <td>38.0</td>\n",
       "      <td>4.0</td>\n",
       "      <td>4.8598</td>\n",
       "      <td>87</td>\n",
       "      <td>151</td>\n",
       "    </tr>\n",
       "    <tr>\n",
       "      <th>1</th>\n",
       "      <td>48</td>\n",
       "      <td>1</td>\n",
       "      <td>21.6</td>\n",
       "      <td>87.0</td>\n",
       "      <td>183</td>\n",
       "      <td>103.2</td>\n",
       "      <td>70.0</td>\n",
       "      <td>3.0</td>\n",
       "      <td>3.8918</td>\n",
       "      <td>69</td>\n",
       "      <td>75</td>\n",
       "    </tr>\n",
       "    <tr>\n",
       "      <th>2</th>\n",
       "      <td>72</td>\n",
       "      <td>2</td>\n",
       "      <td>30.5</td>\n",
       "      <td>93.0</td>\n",
       "      <td>156</td>\n",
       "      <td>93.6</td>\n",
       "      <td>41.0</td>\n",
       "      <td>4.0</td>\n",
       "      <td>4.6728</td>\n",
       "      <td>85</td>\n",
       "      <td>141</td>\n",
       "    </tr>\n",
       "    <tr>\n",
       "      <th>3</th>\n",
       "      <td>24</td>\n",
       "      <td>1</td>\n",
       "      <td>25.3</td>\n",
       "      <td>84.0</td>\n",
       "      <td>198</td>\n",
       "      <td>131.4</td>\n",
       "      <td>40.0</td>\n",
       "      <td>5.0</td>\n",
       "      <td>4.8903</td>\n",
       "      <td>89</td>\n",
       "      <td>206</td>\n",
       "    </tr>\n",
       "    <tr>\n",
       "      <th>4</th>\n",
       "      <td>50</td>\n",
       "      <td>1</td>\n",
       "      <td>23.0</td>\n",
       "      <td>101.0</td>\n",
       "      <td>192</td>\n",
       "      <td>125.4</td>\n",
       "      <td>52.0</td>\n",
       "      <td>4.0</td>\n",
       "      <td>4.2905</td>\n",
       "      <td>80</td>\n",
       "      <td>135</td>\n",
       "    </tr>\n",
       "  </tbody>\n",
       "</table>\n",
       "</div>"
      ],
      "text/plain": [
       "   AGE  SEX   BMI     BP   S1     S2    S3   S4      S5  S6    Y\n",
       "0   59    2  32.1  101.0  157   93.2  38.0  4.0  4.8598  87  151\n",
       "1   48    1  21.6   87.0  183  103.2  70.0  3.0  3.8918  69   75\n",
       "2   72    2  30.5   93.0  156   93.6  41.0  4.0  4.6728  85  141\n",
       "3   24    1  25.3   84.0  198  131.4  40.0  5.0  4.8903  89  206\n",
       "4   50    1  23.0  101.0  192  125.4  52.0  4.0  4.2905  80  135"
      ]
     },
     "execution_count": 2,
     "metadata": {},
     "output_type": "execute_result"
    }
   ],
   "source": [
    "d = pd.read_excel('diabetes.xlsx')\n",
    "d.head()"
   ]
  },
  {
   "cell_type": "code",
   "execution_count": 3,
   "metadata": {},
   "outputs": [
    {
     "data": {
      "text/plain": [
       "(442, 11)"
      ]
     },
     "execution_count": 3,
     "metadata": {},
     "output_type": "execute_result"
    }
   ],
   "source": [
    "d.shape"
   ]
  },
  {
   "cell_type": "code",
   "execution_count": 4,
   "metadata": {},
   "outputs": [],
   "source": [
    "p = d.columns[2:-1]\n",
    "x_tr,x_te,y_tr,y_te = train_test_split(d[p],d['Y'],test_size = 0.2,random_state = 42)"
   ]
  },
  {
   "cell_type": "code",
   "execution_count": 5,
   "metadata": {},
   "outputs": [
    {
     "data": {
      "text/plain": [
       "array([1.00000000e-05, 1.46779927e-04, 2.15443469e-03, 3.16227766e-02,\n",
       "       4.64158883e-01, 6.81292069e+00, 1.00000000e+02])"
      ]
     },
     "execution_count": 5,
     "metadata": {},
     "output_type": "execute_result"
    }
   ],
   "source": [
    "np.logspace(-5,2,7)"
   ]
  },
  {
   "cell_type": "markdown",
   "metadata": {},
   "source": [
    "# Ridge L2正则"
   ]
  },
  {
   "cell_type": "code",
   "execution_count": 6,
   "metadata": {
    "scrolled": false
   },
   "outputs": [
    {
     "name": "stdout",
     "output_type": "stream",
     "text": [
      "[1.e-04 1.e-03 1.e-02 1.e-01 1.e+00 1.e+01 1.e+02]\n",
      "alpha为0.0001时,模型的参数为[ 6.36217894  1.04962901 -1.2053784   0.789477    0.7031552   6.71338198\n",
      " 69.27734502  0.1600002 ]\n",
      "54.62275155170124\n",
      "0.43685173081079576\n",
      "alpha为0.001时,模型的参数为[ 6.3713308   1.04823759 -1.10369249  0.69891149  0.58199764  6.35650546\n",
      " 66.65469842  0.16355391]\n",
      "54.58320798022421\n",
      "0.437666806307204\n",
      "alpha为0.01时,模型的参数为[ 6.38595061e+00  1.04015196e+00 -6.09567278e-01  2.59914633e-01\n",
      " -3.31487601e-03  4.69399462e+00  5.37064348e+01  1.86188181e-01]\n",
      "54.41361044409811\n",
      "0.4411558705559817\n",
      "alpha为0.1时,模型的参数为[ 5.93252085  1.00494412 -0.14002193 -0.12950342 -0.52979135  3.75360055\n",
      " 38.62909604  0.28357195]\n",
      "54.08974740845148\n",
      "0.44778841498278454\n",
      "alpha为1.0时,模型的参数为[ 3.54587625e+00  7.23330650e-01 -2.17629862e-03 -6.06076743e-02\n",
      " -5.29216785e-01  4.18033622e+00  2.30268348e+01  4.64640004e-01]\n",
      "54.978970968502075\n",
      "0.42948269656457105\n",
      "alpha为10.0时,模型的参数为[ 0.86031741  0.19434948  0.02561076  0.01872715 -0.17553586  1.78899918\n",
      "  6.29866672  0.18858244]\n",
      "65.62110917781027\n",
      "0.18723921583942105\n",
      "alpha为100.0时,模型的参数为[ 0.1048552   0.02399307  0.00421845  0.003681   -0.02269025  0.24589244\n",
      "  0.7964492   0.02513988]\n",
      "72.15981641964947\n",
      "0.017197061753582044\n"
     ]
    }
   ],
   "source": [
    "l = np.logspace(-4,2,7) # alpha 可取值的范围\n",
    "print(l)\n",
    "ridge_cofficients = []\n",
    "for li in l:\n",
    "    ridge = Ridge(alpha = li,normalize = True)\n",
    "    ridge.fit(x_tr,y_tr)\n",
    "    print(\"alpha为{}时,模型的参数为{}\".format(li,ridge.coef_))\n",
    "    ridge_cofficients.append(ridge.coef_)\n",
    "    y_pred = ridge.predict(x_te)\n",
    "    print(np.sqrt(mean_squared_error(y_pred,y_te)))\n",
    "    print(ridge.score(x_te,y_te))"
   ]
  },
  {
   "cell_type": "code",
   "execution_count": 7,
   "metadata": {
    "scrolled": false
   },
   "outputs": [
    {
     "name": "stdout",
     "output_type": "stream",
     "text": [
      "[1.e-04 1.e-03 1.e-02 1.e-01 1.e+00 1.e+01 1.e+02]\n",
      "alpha为0.0001时,模型的参数为[ 6.36217894  1.04962901 -1.2053784   0.789477    0.7031552   6.71338198\n",
      " 69.27734502  0.1600002 ]\n",
      "测试集表现 54.52538095516335\n",
      "训练集表现 54.62275155170124\n",
      "0.43685173081079576\n",
      "alpha为0.001时,模型的参数为[ 6.3713308   1.04823759 -1.10369249  0.69891149  0.58199764  6.35650546\n",
      " 66.65469842  0.16355391]\n",
      "测试集表现 54.52798306127649\n",
      "训练集表现 54.58320798022421\n",
      "0.437666806307204\n",
      "alpha为0.01时,模型的参数为[ 6.38595061e+00  1.04015196e+00 -6.09567278e-01  2.59914633e-01\n",
      " -3.31487601e-03  4.69399462e+00  5.37064348e+01  1.86188181e-01]\n",
      "测试集表现 54.60086324390709\n",
      "训练集表现 54.41361044409811\n",
      "0.4411558705559817\n",
      "alpha为0.1时,模型的参数为[ 5.93252085  1.00494412 -0.14002193 -0.12950342 -0.52979135  3.75360055\n",
      " 38.62909604  0.28357195]\n",
      "测试集表现 54.85711490746437\n",
      "训练集表现 54.08974740845148\n",
      "0.44778841498278454\n",
      "alpha为1.0时,模型的参数为[ 3.54587625e+00  7.23330650e-01 -2.17629862e-03 -6.06076743e-02\n",
      " -5.29216785e-01  4.18033622e+00  2.30268348e+01  4.64640004e-01]\n",
      "测试集表现 57.89523526228964\n",
      "训练集表现 54.978970968502075\n",
      "0.42948269656457105\n",
      "alpha为10.0时,模型的参数为[ 0.86031741  0.19434948  0.02561076  0.01872715 -0.17553586  1.78899918\n",
      "  6.29866672  0.18858244]\n",
      "测试集表现 70.29871048679065\n",
      "训练集表现 65.62110917781027\n",
      "0.18723921583942105\n",
      "alpha为100.0时,模型的参数为[ 0.1048552   0.02399307  0.00421845  0.003681   -0.02269025  0.24589244\n",
      "  0.7964492   0.02513988]\n",
      "测试集表现 76.89586026987384\n",
      "训练集表现 72.15981641964947\n",
      "0.017197061753582044\n"
     ]
    }
   ],
   "source": [
    "l = np.logspace(-4,2,7)\n",
    "print(l)\n",
    "ridge_c = []\n",
    "for li in l:\n",
    "    ridge = Ridge(alpha = li,normalize = True)\n",
    "    ridge.fit(x_tr,y_tr)\n",
    "    print(f\"alpha为{li}时,模型的参数为{ridge.coef_}\")\n",
    "    ridge_c.append(ridge.coef_)\n",
    "    y_predict = ridge.predict(x_te)\n",
    "    y_trc = ridge.predict(x_tr)\n",
    "    print(\"测试集表现\",np.sqrt(mean_squared_error(y_trc,y_tr)))\n",
    "    print(\"训练集表现\",np.sqrt(mean_squared_error(y_predict,y_te)))\n",
    "    print(ridge.score(x_te,y_te))"
   ]
  },
  {
   "cell_type": "code",
   "execution_count": 8,
   "metadata": {},
   "outputs": [
    {
     "data": {
      "text/plain": [
       "0.01"
      ]
     },
     "execution_count": 8,
     "metadata": {},
     "output_type": "execute_result"
    }
   ],
   "source": [
    "ridge_cv = RidgeCV(alphas = l,normalize = True,scoring = \"neg_mean_squared_error\",cv = 10)\n",
    "ridge_cv.fit(x_tr,y_tr)\n",
    "ridge_best_lambda = ridge_cv.alpha_\n",
    "ridge_best_lambda"
   ]
  },
  {
   "cell_type": "code",
   "execution_count": 9,
   "metadata": {},
   "outputs": [
    {
     "name": "stdout",
     "output_type": "stream",
     "text": [
      "<bound method BaseEstimator.get_params of Ridge(alpha=0.01, normalize=True)>\n",
      "-315.40895615491524\n",
      "Intercept   -315.408956\n",
      "BMI            6.385951\n",
      "BP             1.040152\n",
      "S1            -0.609567\n",
      "S2             0.259915\n",
      "S3            -0.003315\n",
      "S4             4.693995\n",
      "S5            53.706435\n",
      "S6             0.186188\n",
      "dtype: float64\n"
     ]
    },
    {
     "data": {
      "text/plain": [
       "54.41361044409811"
      ]
     },
     "execution_count": 9,
     "metadata": {},
     "output_type": "execute_result"
    }
   ],
   "source": [
    "ridge = Ridge(alpha = ridge_best_lambda,normalize = True)\n",
    "ridge.fit(x_tr,y_tr)\n",
    "print(ridge.get_params)\n",
    "print(ridge.intercept_)\n",
    "res = pd.Series(index = ['Intercept']+x_tr.columns.tolist(),data = [ridge.intercept_]+ridge.coef_.tolist())\n",
    "print(res)\n",
    "ridge_predict = ridge.predict(x_te)\n",
    "rmse = np.sqrt(mean_squared_error(ridge_predict,y_te))\n",
    "rmse"
   ]
  },
  {
   "cell_type": "markdown",
   "metadata": {},
   "source": [
    "# Lasso"
   ]
  },
  {
   "cell_type": "code",
   "execution_count": 10,
   "metadata": {},
   "outputs": [],
   "source": [
    "from sklearn.linear_model import Lasso,LassoCV"
   ]
  },
  {
   "cell_type": "code",
   "execution_count": 11,
   "metadata": {},
   "outputs": [
    {
     "name": "stdout",
     "output_type": "stream",
     "text": [
      "rmse:  54.624290591449714\n",
      "score  0.43681999605719823\n",
      "rmse:  54.59381582442069\n",
      "score  0.43744821444473436\n",
      "rmse:  54.39435570967788\n",
      "score  0.44155130439603407\n",
      "rmse:  53.81148747983527\n",
      "score  0.4534554081801806\n",
      "rmse:  57.36443592947208\n",
      "score  0.37890066844011316\n",
      "rmse:  73.22249283682244\n",
      "score  -0.011962984778542296\n",
      "rmse:  73.22249283682244\n",
      "score  -0.011962984778542296\n"
     ]
    }
   ],
   "source": [
    "lasso_c = []\n",
    "for li in l:\n",
    "    lasso = Lasso(alpha = li,normalize = True,max_iter = 10000)\n",
    "    lasso.fit(x_tr,y_tr)\n",
    "    lasso_c.append(lasso.coef_)\n",
    "    y_predict = lasso.predict(x_te)\n",
    "    print('rmse: ',np.sqrt(mean_squared_error(y_predict,y_te)))\n",
    "    print('score ',lasso.score(x_te,y_te))"
   ]
  },
  {
   "cell_type": "code",
   "execution_count": 12,
   "metadata": {},
   "outputs": [
    {
     "data": {
      "text/plain": [
       "[array([ 6.36175124,  1.04959927, -1.20973356,  0.7935963 ,  0.7075359 ,\n",
       "         6.71637845, 69.4005112 ,  0.15965832]),\n",
       " array([ 6.3686747 ,  1.04781697, -1.13627689,  0.73031633,  0.61265619,\n",
       "         6.34631024, 67.60794114,  0.16040339]),\n",
       " array([ 6.43071566,  1.03372862, -0.61190052,  0.26263704, -0.        ,\n",
       "         4.47266438, 54.3986701 ,  0.16498722]),\n",
       " array([ 6.31311161,  0.9484286 , -0.14197766, -0.        , -0.60533421,\n",
       "         0.        , 42.84736988,  0.08643639]),\n",
       " array([ 4.80757524,  0.18032824,  0.        ,  0.        , -0.        ,\n",
       "         0.        , 25.64966584,  0.        ]),\n",
       " array([ 0.,  0.,  0.,  0., -0.,  0.,  0.,  0.]),\n",
       " array([ 0.,  0.,  0.,  0., -0.,  0.,  0.,  0.])]"
      ]
     },
     "execution_count": 12,
     "metadata": {},
     "output_type": "execute_result"
    }
   ],
   "source": [
    "lasso_c"
   ]
  },
  {
   "cell_type": "code",
   "execution_count": 13,
   "metadata": {},
   "outputs": [
    {
     "data": {
      "text/plain": [
       "0.1"
      ]
     },
     "execution_count": 13,
     "metadata": {},
     "output_type": "execute_result"
    }
   ],
   "source": [
    "lasso_cv = LassoCV(alphas = l,normalize = True,max_iter = 10000)\n",
    "lasso_cv.fit(x_tr,y_tr)\n",
    "lasso_best_alpha = lasso_cv.alpha_\n",
    "lasso_best_alpha"
   ]
  },
  {
   "cell_type": "code",
   "execution_count": 14,
   "metadata": {},
   "outputs": [
    {
     "data": {
      "text/plain": [
       "Intercept   -254.483329\n",
       "BMI            6.313112\n",
       "BP             0.948429\n",
       "S1            -0.141978\n",
       "S2            -0.000000\n",
       "S3            -0.605334\n",
       "S4             0.000000\n",
       "S5            42.847370\n",
       "S6             0.086436\n",
       "dtype: float64"
      ]
     },
     "execution_count": 14,
     "metadata": {},
     "output_type": "execute_result"
    }
   ],
   "source": [
    "lasso = Lasso(alpha = lasso_best_alpha,normalize = True,max_iter = 10000)\n",
    "lasso.fit(x_tr,y_tr)\n",
    "pd.Series(index = ['Intercept']+x_tr.columns.tolist(),data = [lasso.intercept_]+lasso.coef_.tolist())"
   ]
  },
  {
   "cell_type": "code",
   "execution_count": 15,
   "metadata": {},
   "outputs": [
    {
     "data": {
      "text/plain": [
       "53.81148747983527"
      ]
     },
     "execution_count": 15,
     "metadata": {},
     "output_type": "execute_result"
    }
   ],
   "source": [
    "lasso_predict = lasso.predict(x_te)\n",
    "rmse = np.sqrt(mean_squared_error(y_te,lasso_predict))\n",
    "rmse"
   ]
  },
  {
   "cell_type": "markdown",
   "metadata": {},
   "source": [
    "# 学习曲线"
   ]
  },
  {
   "cell_type": "code",
   "execution_count": 16,
   "metadata": {},
   "outputs": [],
   "source": [
    "import os\n",
    "# 传的是文件名加后缀\n",
    "root_dir = \".\" # 根目录\n",
    "model_id = \"linear_models\" # 一个文件夹\n",
    "def save_fig(fig_id,tight_layout = True):\n",
    "    path = os.path.join(root_dir, \"images\", model_id)\n",
    "    if not os.path.exists(path):\n",
    "        os.makedirs(path)\n",
    "    path = os.path.join(path,fig_id)\n",
    "    print(path)\n",
    "    print(\"Saving figure\",fig_id)\n",
    "    plt.savefig(path, format = 'png',dpi = 300)"
   ]
  },
  {
   "cell_type": "code",
   "execution_count": 17,
   "metadata": {},
   "outputs": [],
   "source": [
    "import os\n",
    "\n",
    "root_dir = '.'\n",
    "model_id = 'models'\n",
    "\n",
    "def save_png(fig_id,is_save = True):\n",
    "    path = os.path.join(root_dir,'images',model_id)\n",
    "    if not os.path.exists(path):\n",
    "        os.makedirs(path)\n",
    "    path = os.path.join(path,fig_id)\n",
    "    print(path)\n",
    "    print(\"正在保存中\",fig_id)\n",
    "    plt.savefig(path,format = 'png',dpi = 300)"
   ]
  },
  {
   "cell_type": "code",
   "execution_count": 18,
   "metadata": {},
   "outputs": [],
   "source": [
    "import os\n",
    "\n",
    "root_dir = '.'\n",
    "model = 'models'\n",
    "\n",
    "def save(fig_id,is_save = True):\n",
    "    path = os.path.join(root_dir,'image',model)\n",
    "    if not os.path.exists(path):\n",
    "        os.makedirs(path)\n",
    "    path = os.path.join(path,fig_id)\n",
    "    plt.savefig(path,format = 'png',dpi = 300)"
   ]
  },
  {
   "cell_type": "code",
   "execution_count": 19,
   "metadata": {},
   "outputs": [],
   "source": [
    "np.random.seed(42)\n",
    "x = 2 * np.random.rand(100,1)\n",
    "y = 4+3*x+np.random.randn(100,1)"
   ]
  },
  {
   "cell_type": "code",
   "execution_count": 20,
   "metadata": {},
   "outputs": [
    {
     "name": "stdout",
     "output_type": "stream",
     "text": [
      ".\\images\\models\\ceshi.png\n",
      "Saving figure ceshi.png\n",
      ".\\images\\models\\sss.png\n",
      "正在保存中 sss.png\n"
     ]
    },
    {
     "data": {
      "image/png": "[encoded data removed]",
      "text/plain": [
       "<Figure size 432x288 with 1 Axes>"
      ]
     },
     "metadata": {
      "needs_background": "light"
     },
     "output_type": "display_data"
    }
   ],
   "source": [
    "plt.scatter(x,y,color = 'green')\n",
    "plt.xlabel(\"$x_1$\",fontsize = 18)\n",
    "plt.ylabel(\"$y$\",rotation = 0,fontsize = 18)\n",
    "plt.axis([0,2,0,15])\n",
    "save_fig(\"ceshi.png\")\n",
    "save_png('sss.png')\n",
    "save('aa.png')\n",
    "plt.show()"
   ]
  },
  {
   "cell_type": "code",
   "execution_count": 21,
   "metadata": {},
   "outputs": [],
   "source": [
    "np.random.seed(42)\n",
    "m = 100\n",
    "x = 6*np.random.rand(m,1)-3\n",
    "y = 0.5*x**2+x+2+np.random.randn(m,1)"
   ]
  },
  {
   "cell_type": "code",
   "execution_count": 22,
   "metadata": {},
   "outputs": [
    {
     "data": {
      "text/plain": [
       "(100, 1)"
      ]
     },
     "execution_count": 22,
     "metadata": {},
     "output_type": "execute_result"
    }
   ],
   "source": [
    "x.shape"
   ]
  },
  {
   "cell_type": "code",
   "execution_count": 23,
   "metadata": {},
   "outputs": [
    {
     "name": "stdout",
     "output_type": "stream",
     "text": [
      ".\\images\\models\\uadratic_data_plot.png\n",
      "Saving figure uadratic_data_plot.png\n"
     ]
    },
    {
     "data": {
      "image/png": "[encoded data removed]",
      "text/plain": [
       "<Figure size 432x288 with 1 Axes>"
      ]
     },
     "metadata": {
      "needs_background": "light"
     },
     "output_type": "display_data"
    }
   ],
   "source": [
    "plt.plot(x,y,'b.')\n",
    "plt.xlabel(\"$x_1$\",fontsize = 18)\n",
    "plt.ylabel(\"$y$\",rotation = 0,fontsize = 18)\n",
    "plt.axis([-3,3,0,10])\n",
    "save_fig(\"uadratic_data_plot.png\")\n",
    "plt.show()"
   ]
  },
  {
   "cell_type": "code",
   "execution_count": 24,
   "metadata": {},
   "outputs": [
    {
     "data": {
      "image/png": "[encoded data removed]",
      "text/plain": [
       "<Figure size 432x288 with 1 Axes>"
      ]
     },
     "metadata": {
      "needs_background": "light"
     },
     "output_type": "display_data"
    }
   ],
   "source": [
    "plt.plot(x,y,'b.')\n",
    "plt.axis([-3,3,0,10])\n",
    "plt.show()"
   ]
  },
  {
   "cell_type": "code",
   "execution_count": 25,
   "metadata": {},
   "outputs": [],
   "source": [
    "from sklearn.preprocessing import PolynomialFeatures\n",
    "# 多项式包"
   ]
  },
  {
   "cell_type": "code",
   "execution_count": 26,
   "metadata": {},
   "outputs": [],
   "source": [
    "from sklearn.linear_model import LinearRegression"
   ]
  },
  {
   "cell_type": "code",
   "execution_count": 27,
   "metadata": {},
   "outputs": [
    {
     "data": {
      "text/plain": [
       "PolynomialFeatures(include_bias=False)"
      ]
     },
     "execution_count": 27,
     "metadata": {},
     "output_type": "execute_result"
    }
   ],
   "source": [
    "# 常数项 include_bias = False\n",
    "poly_features = PolynomialFeatures(degree = 2,include_bias = False)\n",
    "x_poly = poly_features.fit_transform(x)\n",
    "poly_features"
   ]
  },
  {
   "cell_type": "code",
   "execution_count": 28,
   "metadata": {
    "scrolled": true
   },
   "outputs": [
    {
     "data": {
      "text/plain": [
       "array([[-7.52759287e-01,  5.66646544e-01],\n",
       "       [ 2.70428584e+00,  7.31316190e+00],\n",
       "       [ 1.39196365e+00,  1.93756281e+00],\n",
       "       [ 5.91950905e-01,  3.50405874e-01],\n",
       "       [-2.06388816e+00,  4.25963433e+00],\n",
       "       [-2.06403288e+00,  4.26023172e+00],\n",
       "       [-2.65149833e+00,  7.03044338e+00],\n",
       "       [ 2.19705687e+00,  4.82705891e+00],\n",
       "       [ 6.06690070e-01,  3.68072842e-01],\n",
       "       [ 1.24843547e+00,  1.55859111e+00],\n",
       "       [-2.87649303e+00,  8.27421218e+00],\n",
       "       [ 2.81945911e+00,  7.94934969e+00],\n",
       "       [ 1.99465584e+00,  3.97865194e+00],\n",
       "       [-1.72596534e+00,  2.97895634e+00],\n",
       "       [-1.90905020e+00,  3.64447265e+00],\n",
       "       [-1.89957294e+00,  3.60837736e+00],\n",
       "       [-1.17454654e+00,  1.37955958e+00],\n",
       "       [ 1.48538590e-01,  2.20637127e-02],\n",
       "       [-4.08329888e-01,  1.66733298e-01],\n",
       "       [-1.25262516e+00,  1.56906979e+00],\n",
       "       [ 6.71117368e-01,  4.50398522e-01],\n",
       "       [-2.16303684e+00,  4.67872835e+00],\n",
       "       [-1.24713211e+00,  1.55533850e+00],\n",
       "       [-8.01828940e-01,  6.42929649e-01],\n",
       "       [-2.63580095e-01,  6.94744663e-02],\n",
       "       [ 1.71105577e+00,  2.92771184e+00],\n",
       "       [-1.80195731e+00,  3.24705014e+00],\n",
       "       [ 8.54066305e-02,  7.29429253e-03],\n",
       "       [ 5.54487413e-01,  3.07456291e-01],\n",
       "       [-2.72129752e+00,  7.40546021e+00],\n",
       "       [ 6.45269111e-01,  4.16372226e-01],\n",
       "       [-1.97685526e+00,  3.90795671e+00],\n",
       "       [-2.60969044e+00,  6.81048420e+00],\n",
       "       [ 2.69331322e+00,  7.25393612e+00],\n",
       "       [ 2.79379220e+00,  7.80527485e+00],\n",
       "       [ 1.85038409e+00,  3.42392128e+00],\n",
       "       [-1.17231738e+00,  1.37432805e+00],\n",
       "       [-2.41396732e+00,  5.82723820e+00],\n",
       "       [ 1.10539816e+00,  1.22190509e+00],\n",
       "       [-3.59085038e-01,  1.28942064e-01],\n",
       "       [-2.26777059e+00,  5.14278345e+00],\n",
       "       [-2.89385393e-02,  8.37439059e-04],\n",
       "       [-2.79366887e+00,  7.80458577e+00],\n",
       "       [ 2.45592241e+00,  6.03155490e+00],\n",
       "       [-1.44732011e+00,  2.09473550e+00],\n",
       "       [ 9.75133706e-01,  9.50885745e-01],\n",
       "       [-1.12973354e+00,  1.27629788e+00],\n",
       "       [ 1.20408127e-01,  1.44981171e-02],\n",
       "       [ 2.80261676e-01,  7.85466071e-02],\n",
       "       [-1.89087327e+00,  3.57540171e+00],\n",
       "       [ 2.81750777e+00,  7.93835001e+00],\n",
       "       [ 1.65079694e+00,  2.72513054e+00],\n",
       "       [ 2.63699365e+00,  6.95373551e+00],\n",
       "       [ 2.36896410e+00,  5.61199092e+00],\n",
       "       [ 5.87399873e-01,  3.45038611e-01],\n",
       "       [ 2.53124541e+00,  6.40720333e+00],\n",
       "       [-2.46904499e+00,  6.09618315e+00],\n",
       "       [-1.82410283e+00,  3.32735112e+00],\n",
       "       [-2.72863627e+00,  7.44545588e+00],\n",
       "       [-1.04801802e+00,  1.09834176e+00],\n",
       "       [-6.67936262e-01,  4.46138850e-01],\n",
       "       [-1.37190581e+00,  1.88212555e+00],\n",
       "       [ 1.97242505e+00,  3.89046060e+00],\n",
       "       [-8.59480040e-01,  7.38705939e-01],\n",
       "       [-1.31439294e+00,  1.72762881e+00],\n",
       "       [ 2.56176499e-01,  6.56263986e-02],\n",
       "       [-2.15445465e+00,  4.64167484e+00],\n",
       "       [ 1.81318188e+00,  3.28762855e+00],\n",
       "       [-2.55269614e+00,  6.51625757e+00],\n",
       "       [ 2.92132162e+00,  8.53412001e+00],\n",
       "       [ 1.63346862e+00,  2.66821972e+00],\n",
       "       [-1.80770591e+00,  3.26780066e+00],\n",
       "       [-2.96686730e+00,  8.80230156e+00],\n",
       "       [ 1.89276857e+00,  3.58257286e+00],\n",
       "       [ 1.24114406e+00,  1.54043859e+00],\n",
       "       [ 1.37404301e+00,  1.88799419e+00],\n",
       "       [ 1.62762208e+00,  2.64915364e+00],\n",
       "       [-2.55573209e+00,  6.53176651e+00],\n",
       "       [-8.49205629e-01,  7.21150200e-01],\n",
       "       [-2.30478564e+00,  5.31203686e+00],\n",
       "       [ 2.17862056e+00,  4.74638752e+00],\n",
       "       [ 7.39788761e-01,  5.47287411e-01],\n",
       "       [-1.01461185e+00,  1.02943721e+00],\n",
       "       [-2.61864990e+00,  6.85732729e+00],\n",
       "       [-1.13410607e+00,  1.28619658e+00],\n",
       "       [-1.04890007e+00,  1.10019135e+00],\n",
       "       [ 1.37763707e+00,  1.89788390e+00],\n",
       "       [ 8.25344828e-01,  6.81194085e-01],\n",
       "       [ 2.32327646e+00,  5.39761349e+00],\n",
       "       [-1.66710449e-01,  2.77923738e-02],\n",
       "       [-2.28243452e+00,  5.20950736e+00],\n",
       "       [ 1.27946872e+00,  1.63704021e+00],\n",
       "       [ 1.56471029e+00,  2.44831830e+00],\n",
       "       [ 3.67663185e-01,  1.35176218e-01],\n",
       "       [ 1.62580308e+00,  2.64323565e+00],\n",
       "       [-3.72264218e-02,  1.38580648e-03],\n",
       "       [ 1.36396976e-01,  1.86041351e-02],\n",
       "       [-4.34753890e-01,  1.89010945e-01],\n",
       "       [-2.84748524e+00,  8.10817219e+00],\n",
       "       [-2.35265144e+00,  5.53496879e+00]])"
      ]
     },
     "execution_count": 28,
     "metadata": {},
     "output_type": "execute_result"
    }
   ],
   "source": [
    "x_poly # x , x^ 2"
   ]
  },
  {
   "cell_type": "code",
   "execution_count": 29,
   "metadata": {},
   "outputs": [
    {
     "data": {
      "text/plain": [
       "array([[0.93366893, 0.56456263]])"
      ]
     },
     "execution_count": 29,
     "metadata": {},
     "output_type": "execute_result"
    }
   ],
   "source": [
    "lin_reg = LinearRegression()\n",
    "lin_reg.fit(x_poly,y)\n",
    "lin_reg.coef_"
   ]
  },
  {
   "cell_type": "code",
   "execution_count": 30,
   "metadata": {},
   "outputs": [
    {
     "name": "stdout",
     "output_type": "stream",
     "text": [
      ".\\images\\models\\quadratic_predictions_plot.png\n",
      "正在保存中 quadratic_predictions_plot.png\n"
     ]
    },
    {
     "data": {
      "image/png": "[encoded data removed]",
      "text/plain": [
       "<Figure size 432x288 with 1 Axes>"
      ]
     },
     "metadata": {
      "needs_background": "light"
     },
     "output_type": "display_data"
    }
   ],
   "source": [
    "x_new = np.linspace(-3,3,100).reshape(100,1)\n",
    "x_new_poly = poly_features.transform(x_new)\n",
    "y_new = lin_reg.predict(x_new_poly)\n",
    "plt.plot(x,y,'b.')\n",
    "plt.plot(x_new,y_new,'r-',linewidth = 2,label = 'Predictions')\n",
    "plt.xlabel('$x_1$',fontsize = 18)\n",
    "plt.ylabel(\"$y$\",rotation = 0,fontsize = 18)\n",
    "plt.legend(loc = 'upper left',fontsize = 14)\n",
    "plt.axis([-3,3,0,10])\n",
    "save_png('quadratic_predictions_plot.png')\n",
    "plt.show()"
   ]
  },
  {
   "cell_type": "code",
   "execution_count": 31,
   "metadata": {},
   "outputs": [],
   "source": [
    "from sklearn.preprocessing import StandardScaler"
   ]
  },
  {
   "cell_type": "code",
   "execution_count": 32,
   "metadata": {},
   "outputs": [],
   "source": [
    "from sklearn.preprocessing import MinMaxScaler"
   ]
  },
  {
   "cell_type": "code",
   "execution_count": 33,
   "metadata": {},
   "outputs": [],
   "source": [
    "from sklearn.pipeline import Pipeline\n",
    "# 流水线包"
   ]
  },
  {
   "cell_type": "code",
   "execution_count": 34,
   "metadata": {},
   "outputs": [
    {
     "name": "stdout",
     "output_type": "stream",
     "text": [
      ".\\images\\models\\high_degree_polynomials_plot.png\n",
      "正在保存中 high_degree_polynomials_plot.png\n"
     ]
    },
    {
     "data": {
      "image/png": "[encoded data removed]",
      "text/plain": [
       "<Figure size 432x288 with 1 Axes>"
      ]
     },
     "metadata": {
      "needs_background": "light"
     },
     "output_type": "display_data"
    }
   ],
   "source": [
    "for style,width,degree in (('g-',1,30),('b--',2,2),('r-+',2,1)):\n",
    "    polybig_features = PolynomialFeatures(degree = degree,include_bias = False)\n",
    "    std_scaler = StandardScaler()\n",
    "    mm_scaler = MinMaxScaler()\n",
    "    lin_reg = LinearRegression()\n",
    "    polynomial_regression = Pipeline([\n",
    "        ('poly_features',polybig_features),\n",
    "        ('std_scaler',std_scaler),\n",
    "        ('lin_reg',lin_reg),\n",
    "    ])\n",
    "    polynomial_regression.fit(x,y)\n",
    "    y_newbig = polynomial_regression.predict(x_new)\n",
    "    plt.plot(x_new,y_newbig,style,label = str(degree),linewidth = width)\n",
    "    \n",
    "plt.plot(x,y,'b.',linewidth=3)\n",
    "plt.legend(loc = 'upper left')\n",
    "plt.xlabel('$x_1$',fontsize = 18)\n",
    "plt.ylabel(\"$y$\",fontsize = 18)\n",
    "plt.axis([-3,3,0,10])\n",
    "save_png('high_degree_polynomials_plot.png')\n",
    "plt.show()"
   ]
  },
  {
   "cell_type": "code",
   "execution_count": 35,
   "metadata": {},
   "outputs": [
    {
     "name": "stdout",
     "output_type": "stream",
     "text": [
      ".\\images\\models\\high_degree_polynomials_plot.png\n",
      "正在保存中 high_degree_polynomials_plot.png\n"
     ]
    },
    {
     "data": {
      "image/png": "[encoded data removed]",
      "text/plain": [
       "<Figure size 432x288 with 1 Axes>"
      ]
     },
     "metadata": {
      "needs_background": "light"
     },
     "output_type": "display_data"
    }
   ],
   "source": [
    "for style,width,degree in (('g-',1,300),('b--',2,2),('r-+',2,1)):\n",
    "    polybig_features = PolynomialFeatures(degree = degree,include_bias = False)\n",
    "    std_scaler = StandardScaler()\n",
    "    mm_scaler = MinMaxScaler()\n",
    "    lin_reg = LinearRegression()\n",
    "    polynomial_regression = Pipeline([\n",
    "        ('poly_features',polybig_features),\n",
    "        ('std_scaler',std_scaler),\n",
    "        ('lin_reg',lin_reg),\n",
    "    ])\n",
    "    polynomial_regression.fit(x,y)\n",
    "    y_newbig = polynomial_regression.predict(x_new)\n",
    "    plt.plot(x_new,y_newbig,style,label = str(degree),linewidth = width)\n",
    "    \n",
    "plt.plot(x,y,'b.',linewidth=3)\n",
    "plt.legend(loc = 'upper left')\n",
    "plt.xlabel('$x_1$',fontsize = 18)\n",
    "plt.ylabel(\"$y$\",fontsize = 18)\n",
    "plt.axis([-3,3,0,10])\n",
    "save_png('high_degree_polynomials_plot.png')\n",
    "plt.show()"
   ]
  },
  {
   "cell_type": "code",
   "execution_count": 36,
   "metadata": {},
   "outputs": [],
   "source": [
    "from sklearn.metrics import mean_squared_error"
   ]
  },
  {
   "cell_type": "code",
   "execution_count": 37,
   "metadata": {},
   "outputs": [],
   "source": [
    "from sklearn.model_selection import train_test_split"
   ]
  },
  {
   "cell_type": "code",
   "execution_count": 38,
   "metadata": {},
   "outputs": [],
   "source": [
    "from sklearn.linear_model import LinearRegression"
   ]
  },
  {
   "cell_type": "code",
   "execution_count": 39,
   "metadata": {},
   "outputs": [],
   "source": [
    "def plot_learning_curves(model,x,y):\n",
    "    x_tr,x_val,y_tr,y_val = train_test_split(x,y,test_size = 0.2,random_state = 10)\n",
    "    tr_error = []\n",
    "    val_error = []\n",
    "    for m in range(1,len(x_tr)):\n",
    "        model.fit(x_tr[:m],y_tr[:m])\n",
    "        y_tr_pre = model.predict(x_tr[:m])\n",
    "        y_val_pre = model.predict(x_val)\n",
    "        tr_error.append(mean_squared_error(y_tr[:m],y_tr_pre))\n",
    "        val_error.append(mean_squared_error(y_val,y_val_pre))\n",
    "        \n",
    "    plt.plot(np.sqrt(tr_error),'r-+',linewidth = 2,label = 'train')\n",
    "    plt.plot(np.sqrt(val_error),'b-',linewidth = 3,label = 'val')\n",
    "    plt.legend(loc = 'upper right',fontsize = 14)\n",
    "    plt.xlabel(\"Training set size\",fontsize = 14)\n",
    "    plt.ylabel('RMSE',fontsize = 14)"
   ]
  },
  {
   "cell_type": "code",
   "execution_count": 40,
   "metadata": {},
   "outputs": [
    {
     "name": "stdout",
     "output_type": "stream",
     "text": [
      ".\\images\\models\\underfitting_learning_curves_plot.png\n",
      "正在保存中 underfitting_learning_curves_plot.png\n"
     ]
    },
    {
     "data": {
      "image/png": "[encoded data removed]",
      "text/plain": [
       "<Figure size 432x288 with 1 Axes>"
      ]
     },
     "metadata": {
      "needs_background": "light"
     },
     "output_type": "display_data"
    }
   ],
   "source": [
    "lin_reg = LinearRegression()\n",
    "plot_learning_curves(lin_reg,x,y)\n",
    "plt.axis([0,80,0,3])\n",
    "save_png('underfitting_learning_curves_plot.png')\n",
    "plt.show()"
   ]
  },
  {
   "cell_type": "code",
   "execution_count": 41,
   "metadata": {},
   "outputs": [
    {
     "name": "stdout",
     "output_type": "stream",
     "text": [
      ".\\images\\models\\underfitting_learning_curves_plot_x_poly.png\n",
      "正在保存中 underfitting_learning_curves_plot_x_poly.png\n"
     ]
    },
    {
     "data": {
      "image/png": "[encoded data removed]",
      "text/plain": [
       "<Figure size 432x288 with 1 Axes>"
      ]
     },
     "metadata": {
      "needs_background": "light"
     },
     "output_type": "display_data"
    }
   ],
   "source": [
    "lin_reg = LinearRegression()\n",
    "plot_learning_curves(lin_reg,x_poly,y)\n",
    "plt.axis([0,80,0,3])\n",
    "save_png('underfitting_learning_curves_plot_x_poly.png')\n",
    "plt.show()"
   ]
  },
  {
   "cell_type": "markdown",
   "metadata": {},
   "source": []
  },
  {
   "cell_type": "code",
   "execution_count": 42,
   "metadata": {},
   "outputs": [],
   "source": []
  },
  {
   "cell_type": "code",
   "execution_count": null,
   "metadata": {},
   "outputs": [],
   "source": []
  }
 ],
 "metadata": {
  "kernelspec": {
   "display_name": "Python 3",
   "language": "python",
   "name": "python3"
  },
  "language_info": {
   "codemirror_mode": {
    "name": "ipython",
    "version": 3
   },
   "file_extension": ".py",
   "mimetype": "text/x-python",
   "name": "python",
   "nbconvert_exporter": "python",
   "pygments_lexer": "ipython3",
   "version": "3.8.3"
  }
 },
 "nbformat": 4,
 "nbformat_minor": 4
}

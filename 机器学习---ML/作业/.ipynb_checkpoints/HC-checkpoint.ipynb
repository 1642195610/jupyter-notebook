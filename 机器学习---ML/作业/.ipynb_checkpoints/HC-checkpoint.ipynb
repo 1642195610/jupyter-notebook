{
 "cells": [
  {
   "cell_type": "code",
   "execution_count": 1,
   "metadata": {},
   "outputs": [],
   "source": [
    "# 1.\n",
    "import numpy as np\n",
    "import pandas as pd\n",
    "import warnings\n",
    "warnings.filterwarnings(action = 'ignore')\n",
    "from sklearn.preprocessing import LabelEncoder\n",
    "from sklearn.model_selection import train_test_split\n",
    "from sklearn.linear_model import LogisticRegression\n",
    "from sklearn.metrics import classification_report"
   ]
  },
  {
   "cell_type": "code",
   "execution_count": 5,
   "metadata": {},
   "outputs": [],
   "source": [
    "# 数据处理\n",
    "import numpy as np\n",
    "import pandas as pd\n",
    "# 数据切分\n",
    "from sklearn.model_selection import train_test_split\n",
    "# 预处理包\n",
    "from sklearn.preprocessing import LabelEncoder\n",
    "\n",
    "# 导入模型\n",
    "from sklearn.linear_model import LogisticRegression\n",
    "\n",
    "from sklearn.metrics import classification_report"
   ]
  },
  {
   "cell_type": "code",
   "execution_count": 2,
   "metadata": {},
   "outputs": [
    {
     "data": {
      "text/html": [
       "<div>\n",
       "<style scoped>\n",
       "    .dataframe tbody tr th:only-of-type {\n",
       "        vertical-align: middle;\n",
       "    }\n",
       "\n",
       "    .dataframe tbody tr th {\n",
       "        vertical-align: top;\n",
       "    }\n",
       "\n",
       "    .dataframe thead th {\n",
       "        text-align: right;\n",
       "    }\n",
       "</style>\n",
       "<table border=\"1\" class=\"dataframe\">\n",
       "  <thead>\n",
       "    <tr style=\"text-align: right;\">\n",
       "      <th></th>\n",
       "      <th>ID</th>\n",
       "      <th>30日武汉接触史</th>\n",
       "      <th>确诊患者密切接触史</th>\n",
       "      <th>是否干咳</th>\n",
       "      <th>体温是否超过警戒值</th>\n",
       "      <th>是否乏力</th>\n",
       "      <th>健康码</th>\n",
       "    </tr>\n",
       "  </thead>\n",
       "  <tbody>\n",
       "    <tr>\n",
       "      <th>0</th>\n",
       "      <td>1</td>\n",
       "      <td>0</td>\n",
       "      <td>1</td>\n",
       "      <td>0</td>\n",
       "      <td>0</td>\n",
       "      <td>0</td>\n",
       "      <td>红</td>\n",
       "    </tr>\n",
       "    <tr>\n",
       "      <th>1</th>\n",
       "      <td>2</td>\n",
       "      <td>0</td>\n",
       "      <td>0</td>\n",
       "      <td>0</td>\n",
       "      <td>0</td>\n",
       "      <td>1</td>\n",
       "      <td>绿</td>\n",
       "    </tr>\n",
       "    <tr>\n",
       "      <th>2</th>\n",
       "      <td>3</td>\n",
       "      <td>1</td>\n",
       "      <td>0</td>\n",
       "      <td>0</td>\n",
       "      <td>1</td>\n",
       "      <td>1</td>\n",
       "      <td>红</td>\n",
       "    </tr>\n",
       "    <tr>\n",
       "      <th>3</th>\n",
       "      <td>4</td>\n",
       "      <td>0</td>\n",
       "      <td>0</td>\n",
       "      <td>0</td>\n",
       "      <td>1</td>\n",
       "      <td>0</td>\n",
       "      <td>黄</td>\n",
       "    </tr>\n",
       "    <tr>\n",
       "      <th>4</th>\n",
       "      <td>5</td>\n",
       "      <td>1</td>\n",
       "      <td>0</td>\n",
       "      <td>1</td>\n",
       "      <td>0</td>\n",
       "      <td>1</td>\n",
       "      <td>红</td>\n",
       "    </tr>\n",
       "  </tbody>\n",
       "</table>\n",
       "</div>"
      ],
      "text/plain": [
       "   ID  30日武汉接触史  确诊患者密切接触史  是否干咳  体温是否超过警戒值  是否乏力 健康码\n",
       "0   1         0          1     0          0     0   红\n",
       "1   2         0          0     0          0     1   绿\n",
       "2   3         1          0     0          1     1   红\n",
       "3   4         0          0     0          1     0   黄\n",
       "4   5         1          0     1          0     1   红"
      ]
     },
     "execution_count": 2,
     "metadata": {},
     "output_type": "execute_result"
    }
   ],
   "source": [
    "# 2.\n",
    "data = pd.read_excel('健康码.xlsx')\n",
    "data.head()"
   ]
  },
  {
   "cell_type": "code",
   "execution_count": 6,
   "metadata": {
    "scrolled": true
   },
   "outputs": [
    {
     "data": {
      "text/html": [
       "<div>\n",
       "<style scoped>\n",
       "    .dataframe tbody tr th:only-of-type {\n",
       "        vertical-align: middle;\n",
       "    }\n",
       "\n",
       "    .dataframe tbody tr th {\n",
       "        vertical-align: top;\n",
       "    }\n",
       "\n",
       "    .dataframe thead th {\n",
       "        text-align: right;\n",
       "    }\n",
       "</style>\n",
       "<table border=\"1\" class=\"dataframe\">\n",
       "  <thead>\n",
       "    <tr style=\"text-align: right;\">\n",
       "      <th></th>\n",
       "      <th>ID</th>\n",
       "      <th>30日武汉接触史</th>\n",
       "      <th>确诊患者密切接触史</th>\n",
       "      <th>是否干咳</th>\n",
       "      <th>体温是否超过警戒值</th>\n",
       "      <th>是否乏力</th>\n",
       "      <th>健康码</th>\n",
       "    </tr>\n",
       "  </thead>\n",
       "  <tbody>\n",
       "    <tr>\n",
       "      <th>0</th>\n",
       "      <td>1</td>\n",
       "      <td>0</td>\n",
       "      <td>1</td>\n",
       "      <td>0</td>\n",
       "      <td>0</td>\n",
       "      <td>0</td>\n",
       "      <td>红</td>\n",
       "    </tr>\n",
       "    <tr>\n",
       "      <th>1</th>\n",
       "      <td>2</td>\n",
       "      <td>0</td>\n",
       "      <td>0</td>\n",
       "      <td>0</td>\n",
       "      <td>0</td>\n",
       "      <td>1</td>\n",
       "      <td>绿</td>\n",
       "    </tr>\n",
       "    <tr>\n",
       "      <th>2</th>\n",
       "      <td>3</td>\n",
       "      <td>1</td>\n",
       "      <td>0</td>\n",
       "      <td>0</td>\n",
       "      <td>1</td>\n",
       "      <td>1</td>\n",
       "      <td>红</td>\n",
       "    </tr>\n",
       "    <tr>\n",
       "      <th>3</th>\n",
       "      <td>4</td>\n",
       "      <td>0</td>\n",
       "      <td>0</td>\n",
       "      <td>0</td>\n",
       "      <td>1</td>\n",
       "      <td>0</td>\n",
       "      <td>黄</td>\n",
       "    </tr>\n",
       "    <tr>\n",
       "      <th>4</th>\n",
       "      <td>5</td>\n",
       "      <td>1</td>\n",
       "      <td>0</td>\n",
       "      <td>1</td>\n",
       "      <td>0</td>\n",
       "      <td>1</td>\n",
       "      <td>红</td>\n",
       "    </tr>\n",
       "  </tbody>\n",
       "</table>\n",
       "</div>"
      ],
      "text/plain": [
       "   ID  30日武汉接触史  确诊患者密切接触史  是否干咳  体温是否超过警戒值  是否乏力 健康码\n",
       "0   1         0          1     0          0     0   红\n",
       "1   2         0          0     0          0     1   绿\n",
       "2   3         1          0     0          1     1   红\n",
       "3   4         0          0     0          1     0   黄\n",
       "4   5         1          0     1          0     1   红"
      ]
     },
     "execution_count": 6,
     "metadata": {},
     "output_type": "execute_result"
    }
   ],
   "source": [
    "data = pd.read_excel('健康码.xlsx')\n",
    "data.head()"
   ]
  },
  {
   "cell_type": "code",
   "execution_count": 116,
   "metadata": {},
   "outputs": [
    {
     "data": {
      "text/plain": [
       "array([0, 1, 0, 2, 0, 2, 2, 1, 0, 1, 2, 0, 1, 0, 0, 2, 0, 1, 0, 1, 2, 1,\n",
       "       1, 0, 0, 2, 2, 2, 1, 0, 1, 0, 0, 1, 0, 1, 0, 1, 2, 0, 0, 0, 2, 1,\n",
       "       2, 1, 2, 1, 1, 0, 0, 1, 0, 2, 0, 2, 2, 1, 0, 1, 2, 0, 1, 0, 0, 2,\n",
       "       0, 1, 0, 1, 2, 1, 1, 0, 0, 2, 2, 2, 1, 0, 1, 0, 0, 1, 0, 1, 0, 1,\n",
       "       2, 0, 0, 0, 2, 1, 2, 1, 2, 1, 1, 0])"
      ]
     },
     "execution_count": 116,
     "metadata": {},
     "output_type": "execute_result"
    }
   ],
   "source": [
    "# 3.\n",
    "labelencoder = LabelEncoder()\n",
    "labelencoder.fit_transform(data['健康码'])"
   ]
  },
  {
   "cell_type": "markdown",
   "metadata": {},
   "source": [
    "### 标签编码方式"
   ]
  },
  {
   "cell_type": "code",
   "execution_count": 7,
   "metadata": {},
   "outputs": [
    {
     "data": {
      "text/plain": [
       "array([0, 1, 0, 2, 0, 2, 2, 1, 0, 1, 2, 0, 1, 0, 0, 2, 0, 1, 0, 1, 2, 1,\n",
       "       1, 0, 0, 2, 2, 2, 1, 0, 1, 0, 0, 1, 0, 1, 0, 1, 2, 0, 0, 0, 2, 1,\n",
       "       2, 1, 2, 1, 1, 0, 0, 1, 0, 2, 0, 2, 2, 1, 0, 1, 2, 0, 1, 0, 0, 2,\n",
       "       0, 1, 0, 1, 2, 1, 1, 0, 0, 2, 2, 2, 1, 0, 1, 0, 0, 1, 0, 1, 0, 1,\n",
       "       2, 0, 0, 0, 2, 1, 2, 1, 2, 1, 1, 0])"
      ]
     },
     "execution_count": 7,
     "metadata": {},
     "output_type": "execute_result"
    }
   ],
   "source": [
    "le = LabelEncoder()\n",
    "le.fit_transform(data['健康码'])"
   ]
  },
  {
   "cell_type": "code",
   "execution_count": 117,
   "metadata": {},
   "outputs": [
    {
     "data": {
      "text/html": [
       "<div>\n",
       "<style scoped>\n",
       "    .dataframe tbody tr th:only-of-type {\n",
       "        vertical-align: middle;\n",
       "    }\n",
       "\n",
       "    .dataframe tbody tr th {\n",
       "        vertical-align: top;\n",
       "    }\n",
       "\n",
       "    .dataframe thead th {\n",
       "        text-align: right;\n",
       "    }\n",
       "</style>\n",
       "<table border=\"1\" class=\"dataframe\">\n",
       "  <thead>\n",
       "    <tr style=\"text-align: right;\">\n",
       "      <th></th>\n",
       "      <th>ID</th>\n",
       "      <th>30日武汉接触史</th>\n",
       "      <th>确诊患者密切接触史</th>\n",
       "      <th>是否干咳</th>\n",
       "      <th>体温是否超过警戒值</th>\n",
       "      <th>是否乏力</th>\n",
       "      <th>健康码</th>\n",
       "    </tr>\n",
       "  </thead>\n",
       "  <tbody>\n",
       "    <tr>\n",
       "      <th>0</th>\n",
       "      <td>1</td>\n",
       "      <td>0</td>\n",
       "      <td>1</td>\n",
       "      <td>0</td>\n",
       "      <td>0</td>\n",
       "      <td>0</td>\n",
       "      <td>0</td>\n",
       "    </tr>\n",
       "    <tr>\n",
       "      <th>1</th>\n",
       "      <td>2</td>\n",
       "      <td>0</td>\n",
       "      <td>0</td>\n",
       "      <td>0</td>\n",
       "      <td>0</td>\n",
       "      <td>1</td>\n",
       "      <td>1</td>\n",
       "    </tr>\n",
       "    <tr>\n",
       "      <th>2</th>\n",
       "      <td>3</td>\n",
       "      <td>1</td>\n",
       "      <td>0</td>\n",
       "      <td>0</td>\n",
       "      <td>1</td>\n",
       "      <td>1</td>\n",
       "      <td>0</td>\n",
       "    </tr>\n",
       "    <tr>\n",
       "      <th>3</th>\n",
       "      <td>4</td>\n",
       "      <td>0</td>\n",
       "      <td>0</td>\n",
       "      <td>0</td>\n",
       "      <td>1</td>\n",
       "      <td>0</td>\n",
       "      <td>2</td>\n",
       "    </tr>\n",
       "    <tr>\n",
       "      <th>4</th>\n",
       "      <td>5</td>\n",
       "      <td>1</td>\n",
       "      <td>0</td>\n",
       "      <td>1</td>\n",
       "      <td>0</td>\n",
       "      <td>1</td>\n",
       "      <td>0</td>\n",
       "    </tr>\n",
       "  </tbody>\n",
       "</table>\n",
       "</div>"
      ],
      "text/plain": [
       "   ID  30日武汉接触史  确诊患者密切接触史  是否干咳  体温是否超过警戒值  是否乏力  健康码\n",
       "0   1         0          1     0          0     0    0\n",
       "1   2         0          0     0          0     1    1\n",
       "2   3         1          0     0          1     1    0\n",
       "3   4         0          0     0          1     0    2\n",
       "4   5         1          0     1          0     1    0"
      ]
     },
     "execution_count": 117,
     "metadata": {},
     "output_type": "execute_result"
    }
   ],
   "source": [
    "# 4.\n",
    "data['健康码'] = labelencoder.fit_transform(data['健康码'])\n",
    "data.head()"
   ]
  },
  {
   "cell_type": "code",
   "execution_count": 8,
   "metadata": {},
   "outputs": [
    {
     "data": {
      "text/html": [
       "<div>\n",
       "<style scoped>\n",
       "    .dataframe tbody tr th:only-of-type {\n",
       "        vertical-align: middle;\n",
       "    }\n",
       "\n",
       "    .dataframe tbody tr th {\n",
       "        vertical-align: top;\n",
       "    }\n",
       "\n",
       "    .dataframe thead th {\n",
       "        text-align: right;\n",
       "    }\n",
       "</style>\n",
       "<table border=\"1\" class=\"dataframe\">\n",
       "  <thead>\n",
       "    <tr style=\"text-align: right;\">\n",
       "      <th></th>\n",
       "      <th>ID</th>\n",
       "      <th>30日武汉接触史</th>\n",
       "      <th>确诊患者密切接触史</th>\n",
       "      <th>是否干咳</th>\n",
       "      <th>体温是否超过警戒值</th>\n",
       "      <th>是否乏力</th>\n",
       "      <th>健康码</th>\n",
       "    </tr>\n",
       "  </thead>\n",
       "  <tbody>\n",
       "    <tr>\n",
       "      <th>0</th>\n",
       "      <td>1</td>\n",
       "      <td>0</td>\n",
       "      <td>1</td>\n",
       "      <td>0</td>\n",
       "      <td>0</td>\n",
       "      <td>0</td>\n",
       "      <td>0</td>\n",
       "    </tr>\n",
       "    <tr>\n",
       "      <th>1</th>\n",
       "      <td>2</td>\n",
       "      <td>0</td>\n",
       "      <td>0</td>\n",
       "      <td>0</td>\n",
       "      <td>0</td>\n",
       "      <td>1</td>\n",
       "      <td>1</td>\n",
       "    </tr>\n",
       "    <tr>\n",
       "      <th>2</th>\n",
       "      <td>3</td>\n",
       "      <td>1</td>\n",
       "      <td>0</td>\n",
       "      <td>0</td>\n",
       "      <td>1</td>\n",
       "      <td>1</td>\n",
       "      <td>0</td>\n",
       "    </tr>\n",
       "    <tr>\n",
       "      <th>3</th>\n",
       "      <td>4</td>\n",
       "      <td>0</td>\n",
       "      <td>0</td>\n",
       "      <td>0</td>\n",
       "      <td>1</td>\n",
       "      <td>0</td>\n",
       "      <td>2</td>\n",
       "    </tr>\n",
       "    <tr>\n",
       "      <th>4</th>\n",
       "      <td>5</td>\n",
       "      <td>1</td>\n",
       "      <td>0</td>\n",
       "      <td>1</td>\n",
       "      <td>0</td>\n",
       "      <td>1</td>\n",
       "      <td>0</td>\n",
       "    </tr>\n",
       "  </tbody>\n",
       "</table>\n",
       "</div>"
      ],
      "text/plain": [
       "   ID  30日武汉接触史  确诊患者密切接触史  是否干咳  体温是否超过警戒值  是否乏力  健康码\n",
       "0   1         0          1     0          0     0    0\n",
       "1   2         0          0     0          0     1    1\n",
       "2   3         1          0     0          1     1    0\n",
       "3   4         0          0     0          1     0    2\n",
       "4   5         1          0     1          0     1    0"
      ]
     },
     "execution_count": 8,
     "metadata": {},
     "output_type": "execute_result"
    }
   ],
   "source": [
    "# 对健康码列进行labelEncoder\n",
    "data['健康码'] = \n",
    "data.head()"
   ]
  },
  {
   "cell_type": "code",
   "execution_count": 3,
   "metadata": {},
   "outputs": [],
   "source": [
    "# 5.\n",
    "def get_color(col):\n",
    "    if col == \"红\":\n",
    "        return 0\n",
    "    elif col == \"绿\":\n",
    "        return 1\n",
    "    elif col == \"黄\":\n",
    "        return 2"
   ]
  },
  {
   "cell_type": "code",
   "execution_count": 76,
   "metadata": {},
   "outputs": [],
   "source": [
    "# 自定义函数对健康码列进行编码\n",
    "def get_color(x):\n"
   ]
  },
  {
   "cell_type": "code",
   "execution_count": 4,
   "metadata": {},
   "outputs": [
    {
     "data": {
      "text/html": [
       "<div>\n",
       "<style scoped>\n",
       "    .dataframe tbody tr th:only-of-type {\n",
       "        vertical-align: middle;\n",
       "    }\n",
       "\n",
       "    .dataframe tbody tr th {\n",
       "        vertical-align: top;\n",
       "    }\n",
       "\n",
       "    .dataframe thead th {\n",
       "        text-align: right;\n",
       "    }\n",
       "</style>\n",
       "<table border=\"1\" class=\"dataframe\">\n",
       "  <thead>\n",
       "    <tr style=\"text-align: right;\">\n",
       "      <th></th>\n",
       "      <th>ID</th>\n",
       "      <th>30日武汉接触史</th>\n",
       "      <th>确诊患者密切接触史</th>\n",
       "      <th>是否干咳</th>\n",
       "      <th>体温是否超过警戒值</th>\n",
       "      <th>是否乏力</th>\n",
       "      <th>健康码</th>\n",
       "    </tr>\n",
       "  </thead>\n",
       "  <tbody>\n",
       "    <tr>\n",
       "      <th>0</th>\n",
       "      <td>1</td>\n",
       "      <td>0</td>\n",
       "      <td>1</td>\n",
       "      <td>0</td>\n",
       "      <td>0</td>\n",
       "      <td>0</td>\n",
       "      <td>0</td>\n",
       "    </tr>\n",
       "    <tr>\n",
       "      <th>1</th>\n",
       "      <td>2</td>\n",
       "      <td>0</td>\n",
       "      <td>0</td>\n",
       "      <td>0</td>\n",
       "      <td>0</td>\n",
       "      <td>1</td>\n",
       "      <td>1</td>\n",
       "    </tr>\n",
       "    <tr>\n",
       "      <th>2</th>\n",
       "      <td>3</td>\n",
       "      <td>1</td>\n",
       "      <td>0</td>\n",
       "      <td>0</td>\n",
       "      <td>1</td>\n",
       "      <td>1</td>\n",
       "      <td>0</td>\n",
       "    </tr>\n",
       "    <tr>\n",
       "      <th>3</th>\n",
       "      <td>4</td>\n",
       "      <td>0</td>\n",
       "      <td>0</td>\n",
       "      <td>0</td>\n",
       "      <td>1</td>\n",
       "      <td>0</td>\n",
       "      <td>2</td>\n",
       "    </tr>\n",
       "    <tr>\n",
       "      <th>4</th>\n",
       "      <td>5</td>\n",
       "      <td>1</td>\n",
       "      <td>0</td>\n",
       "      <td>1</td>\n",
       "      <td>0</td>\n",
       "      <td>1</td>\n",
       "      <td>0</td>\n",
       "    </tr>\n",
       "  </tbody>\n",
       "</table>\n",
       "</div>"
      ],
      "text/plain": [
       "   ID  30日武汉接触史  确诊患者密切接触史  是否干咳  体温是否超过警戒值  是否乏力  健康码\n",
       "0   1         0          1     0          0     0    0\n",
       "1   2         0          0     0          0     1    1\n",
       "2   3         1          0     0          1     1    0\n",
       "3   4         0          0     0          1     0    2\n",
       "4   5         1          0     1          0     1    0"
      ]
     },
     "execution_count": 4,
     "metadata": {},
     "output_type": "execute_result"
    }
   ],
   "source": [
    "# 6.\n",
    "data['健康码'] = data['健康码'].apply(lambda x:get_color(x))\n",
    "data.head()"
   ]
  },
  {
   "cell_type": "code",
   "execution_count": 77,
   "metadata": {
    "scrolled": true
   },
   "outputs": [],
   "source": [
    "data['健康码'] = \n",
    "data.head()"
   ]
  },
  {
   "cell_type": "markdown",
   "metadata": {},
   "source": [
    "### 构造数据集"
   ]
  },
  {
   "cell_type": "code",
   "execution_count": 5,
   "metadata": {},
   "outputs": [
    {
     "data": {
      "text/plain": [
       "['30日武汉接触史', '确诊患者密切接触史', '是否干咳', '体温是否超过警戒值', '是否乏力']"
      ]
     },
     "execution_count": 5,
     "metadata": {},
     "output_type": "execute_result"
    }
   ],
   "source": [
    "# 7.\n",
    "x_col = [x for x in data.columns if x not in ['ID','健康码']]\n",
    "x_col"
   ]
  },
  {
   "cell_type": "code",
   "execution_count": 9,
   "metadata": {},
   "outputs": [
    {
     "data": {
      "text/plain": [
       "['30日武汉接触史', '确诊患者密切接触史', '是否干咳', '体温是否超过警戒值', '是否乏力']"
      ]
     },
     "execution_count": 9,
     "metadata": {},
     "output_type": "execute_result"
    }
   ],
   "source": [
    "# 使用列表推导式筛选除ID,健康码之外的特征列\n",
    "x_col = \n",
    "x_col"
   ]
  },
  {
   "cell_type": "code",
   "execution_count": 6,
   "metadata": {},
   "outputs": [],
   "source": [
    "# 8.\n",
    "x = data.loc[:,x_col]\n",
    "y = data.loc[:,'健康码']\n",
    "x_train,x_test,y_train,y_test = train_test_split(x,y,test_size = 0.25,random_state = 42)"
   ]
  },
  {
   "cell_type": "code",
   "execution_count": 15,
   "metadata": {},
   "outputs": [],
   "source": [
    "# 赋值特征列\n",
    "X = \n",
    "# 找到标签列\n",
    "y = \n",
    "# 切分数据集 特征先切分后编码\n"
   ]
  },
  {
   "cell_type": "code",
   "execution_count": 7,
   "metadata": {
    "scrolled": false
   },
   "outputs": [
    {
     "data": {
      "text/plain": [
       "0.9333333333333333"
      ]
     },
     "execution_count": 7,
     "metadata": {},
     "output_type": "execute_result"
    }
   ],
   "source": [
    "# 9.\n",
    "logisticregression = LogisticRegression()\n",
    "logisticregression.fit(x_train,y_train)\n",
    "y_predict = logisticregression.predict(x_test)\n",
    "logisticregression.score(x_train,y_train)"
   ]
  },
  {
   "cell_type": "code",
   "execution_count": 16,
   "metadata": {
    "scrolled": true
   },
   "outputs": [
    {
     "name": "stderr",
     "output_type": "stream",
     "text": [
      "C:\\Users\\Master\\Anaconda3\\lib\\site-packages\\sklearn\\linear_model\\logistic.py:469: FutureWarning: Default multi_class will be changed to 'auto' in 0.22. Specify the multi_class option to silence this warning.\n",
      "  \"this warning.\", FutureWarning)\n"
     ]
    }
   ],
   "source": [
    "# 初始化一个分类模型\n",
    "\n",
    "# 模型去拟合数据\n",
    "\n",
    "# 预测\n"
   ]
  },
  {
   "cell_type": "code",
   "execution_count": 17,
   "metadata": {},
   "outputs": [
    {
     "data": {
      "text/plain": [
       "0.96"
      ]
     },
     "execution_count": 17,
     "metadata": {},
     "output_type": "execute_result"
    }
   ],
   "source": [
    "lr.score()"
   ]
  },
  {
   "cell_type": "code",
   "execution_count": 8,
   "metadata": {},
   "outputs": [
    {
     "data": {
      "text/plain": [
       "83    1\n",
       "53    2\n",
       "70    2\n",
       "45    1\n",
       "44    2\n",
       "39    0\n",
       "22    1\n",
       "80    1\n",
       "10    2\n",
       "0     0\n",
       "18    0\n",
       "30    1\n",
       "73    0\n",
       "33    1\n",
       "90    0\n",
       "4     0\n",
       "76    2\n",
       "77    2\n",
       "12    1\n",
       "31    0\n",
       "55    2\n",
       "88    2\n",
       "26    2\n",
       "42    2\n",
       "69    1\n",
       "Name: 健康码, dtype: int64"
      ]
     },
     "execution_count": 8,
     "metadata": {},
     "output_type": "execute_result"
    }
   ],
   "source": [
    "# 10.\n",
    "y_test"
   ]
  },
  {
   "cell_type": "code",
   "execution_count": 12,
   "metadata": {},
   "outputs": [
    {
     "data": {
      "text/plain": [
       "19    1\n",
       "14    0\n",
       "43    1\n",
       "37    1\n",
       "66    0\n",
       "3     2\n",
       "79    0\n",
       "41    0\n",
       "38    2\n",
       "68    0\n",
       "2     0\n",
       "1     1\n",
       "60    2\n",
       "53    2\n",
       "95    1\n",
       "74    0\n",
       "92    2\n",
       "26    2\n",
       "59    1\n",
       "46    2\n",
       "90    0\n",
       "70    2\n",
       "50    0\n",
       "44    2\n",
       "76    2\n",
       "Name: 健康码, dtype: int32"
      ]
     },
     "execution_count": 12,
     "metadata": {},
     "output_type": "execute_result"
    }
   ],
   "source": [
    "y_test"
   ]
  },
  {
   "cell_type": "code",
   "execution_count": 9,
   "metadata": {},
   "outputs": [
    {
     "data": {
      "text/plain": [
       "array([1, 2, 2, 1, 2, 0, 1, 1, 1, 0, 0, 1, 0, 1, 0, 0, 2, 2, 1, 0, 2, 2,\n",
       "       2, 2, 1], dtype=int64)"
      ]
     },
     "execution_count": 9,
     "metadata": {},
     "output_type": "execute_result"
    }
   ],
   "source": [
    "# 11.\n",
    "y_predict"
   ]
  },
  {
   "cell_type": "code",
   "execution_count": 13,
   "metadata": {},
   "outputs": [
    {
     "data": {
      "text/plain": [
       "array([1, 0, 1, 1, 0, 1, 0, 0, 2, 0, 0, 1, 1, 1, 1, 0, 2, 1, 1, 0, 0, 2,\n",
       "       0, 2, 1])"
      ]
     },
     "execution_count": 13,
     "metadata": {},
     "output_type": "execute_result"
    }
   ],
   "source": [
    "pred"
   ]
  },
  {
   "cell_type": "code",
   "execution_count": 10,
   "metadata": {},
   "outputs": [
    {
     "name": "stdout",
     "output_type": "stream",
     "text": [
      "              precision    recall  f1-score   support\n",
      "\n",
      "           0       1.00      1.00      1.00         7\n",
      "           1       0.89      1.00      0.94         8\n",
      "           2       1.00      0.90      0.95        10\n",
      "\n",
      "    accuracy                           0.96        25\n",
      "   macro avg       0.96      0.97      0.96        25\n",
      "weighted avg       0.96      0.96      0.96        25\n",
      "\n"
     ]
    }
   ],
   "source": [
    "# 12.\n",
    "print(classification_report(y_test,y_predict))"
   ]
  },
  {
   "cell_type": "code",
   "execution_count": 86,
   "metadata": {
    "scrolled": true
   },
   "outputs": [
    {
     "name": "stdout",
     "output_type": "stream",
     "text": [
      "              precision    recall  f1-score   support\n",
      "\n",
      "           0       0.90      1.00      0.95         9\n",
      "           1       0.55      1.00      0.71         6\n",
      "           2       1.00      0.40      0.57        10\n",
      "\n",
      "    accuracy                           0.76        25\n",
      "   macro avg       0.82      0.80      0.74        25\n",
      "weighted avg       0.85      0.76      0.74        25\n",
      "\n"
     ]
    }
   ],
   "source": [
    "print()"
   ]
  },
  {
   "cell_type": "code",
   "execution_count": 11,
   "metadata": {},
   "outputs": [
    {
     "data": {
      "text/plain": [
       "array([[0.03428123, 0.81050579, 0.15521297],\n",
       "       [0.16603219, 0.31319256, 0.52077525],\n",
       "       [0.1698009 , 0.2289779 , 0.60122121],\n",
       "       [0.03428123, 0.81050579, 0.15521297],\n",
       "       [0.1698009 , 0.2289779 , 0.60122121],\n",
       "       [0.62155907, 0.06059593, 0.317845  ],\n",
       "       [0.03428123, 0.81050579, 0.15521297],\n",
       "       [0.08951105, 0.6586063 , 0.25188264],\n",
       "       [0.29733988, 0.50823006, 0.19443007],\n",
       "       [0.67335585, 0.24619611, 0.08044804],\n",
       "       [0.95814108, 0.0253264 , 0.01653252],\n",
       "       [0.08951105, 0.6586063 , 0.25188264],\n",
       "       [0.62917977, 0.08580278, 0.28501745],\n",
       "       [0.03428123, 0.81050579, 0.15521297],\n",
       "       [0.95814108, 0.0253264 , 0.01653252],\n",
       "       [0.62155907, 0.06059593, 0.317845  ],\n",
       "       [0.16603219, 0.31319256, 0.52077525],\n",
       "       [0.1698009 , 0.2289779 , 0.60122121],\n",
       "       [0.08951105, 0.6586063 , 0.25188264],\n",
       "       [0.89871557, 0.07633378, 0.02495065],\n",
       "       [0.16603219, 0.31319256, 0.52077525],\n",
       "       [0.28276761, 0.16599626, 0.55123612],\n",
       "       [0.16603219, 0.31319256, 0.52077525],\n",
       "       [0.39093128, 0.0130895 , 0.59597922],\n",
       "       [0.03428123, 0.81050579, 0.15521297]])"
      ]
     },
     "execution_count": 11,
     "metadata": {},
     "output_type": "execute_result"
    }
   ],
   "source": [
    "# 13.\n",
    "y_score = logisticregression.predict_proba(x_test)\n",
    "y_score"
   ]
  },
  {
   "cell_type": "code",
   "execution_count": 42,
   "metadata": {},
   "outputs": [],
   "source": [
    "# 预测测试集的每类的概率\n",
    "y_score = "
   ]
  },
  {
   "cell_type": "code",
   "execution_count": 43,
   "metadata": {},
   "outputs": [
    {
     "data": {
      "text/plain": [
       "array([[0.14166272, 0.35734946, 0.50098782],\n",
       "       [0.85523847, 0.01906955, 0.12569198],\n",
       "       [0.52444651, 0.02129642, 0.45425706],\n",
       "       [0.14166272, 0.35734946, 0.50098782],\n",
       "       [0.16538688, 0.25186284, 0.58275028],\n",
       "       [0.05275399, 0.68432971, 0.2629163 ],\n",
       "       [0.90377889, 0.06173202, 0.03448909],\n",
       "       [0.57103861, 0.09344304, 0.33551835],\n",
       "       [0.57400263, 0.05466658, 0.37133078],\n",
       "       [0.05275399, 0.68432971, 0.2629163 ],\n",
       "       [0.14166272, 0.35734946, 0.50098782],\n",
       "       [0.39433657, 0.0144437 , 0.59121973],\n",
       "       [0.19247337, 0.63399585, 0.17353078],\n",
       "       [0.77388387, 0.00440238, 0.22171375],\n",
       "       [0.12330543, 0.55024514, 0.32644943],\n",
       "       [0.12330543, 0.55024514, 0.32644943],\n",
       "       [0.05275399, 0.68432971, 0.2629163 ],\n",
       "       [0.66986813, 0.26534431, 0.06478756],\n",
       "       [0.05275399, 0.68432971, 0.2629163 ],\n",
       "       [0.90377889, 0.06173202, 0.03448909],\n",
       "       [0.05275399, 0.68432971, 0.2629163 ],\n",
       "       [0.12330543, 0.55024514, 0.32644943],\n",
       "       [0.14166272, 0.35734946, 0.50098782],\n",
       "       [0.12330543, 0.55024514, 0.32644943],\n",
       "       [0.05275399, 0.68432971, 0.2629163 ]])"
      ]
     },
     "execution_count": 43,
     "metadata": {},
     "output_type": "execute_result"
    }
   ],
   "source": [
    "y_score"
   ]
  },
  {
   "cell_type": "code",
   "execution_count": null,
   "metadata": {},
   "outputs": [],
   "source": []
  }
 ],
 "metadata": {
  "kernelspec": {
   "display_name": "Python 3",
   "language": "python",
   "name": "python3"
  },
  "language_info": {
   "codemirror_mode": {
    "name": "ipython",
    "version": 3
   },
   "file_extension": ".py",
   "mimetype": "text/x-python",
   "name": "python",
   "nbconvert_exporter": "python",
   "pygments_lexer": "ipython3",
   "version": "3.8.3"
  }
 },
 "nbformat": 4,
 "nbformat_minor": 2
}

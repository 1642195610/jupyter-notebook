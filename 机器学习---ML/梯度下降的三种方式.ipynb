{
 "cells": [
  {
   "cell_type": "code",
   "execution_count": 1,
   "metadata": {},
   "outputs": [],
   "source": [
    "import numpy as np"
   ]
  },
  {
   "cell_type": "code",
   "execution_count": 2,
   "metadata": {},
   "outputs": [],
   "source": [
    "import matplotlib.pyplot as plt\n",
    "%matplotlib inline\n",
    "import warnings\n",
    "warnings.filterwarnings(action = 'ignore')"
   ]
  },
  {
   "cell_type": "code",
   "execution_count": 3,
   "metadata": {},
   "outputs": [],
   "source": [
    "root_dir = \".\" # 根目录\n",
    "model_id = \"linear_models\" # 一个文件夹"
   ]
  },
  {
   "cell_type": "code",
   "execution_count": 4,
   "metadata": {},
   "outputs": [],
   "source": [
    "import os"
   ]
  },
  {
   "cell_type": "markdown",
   "metadata": {},
   "source": [
    "- 当前文件夹\n",
    "- 当前文件夹里面的文件夹\n",
    "- 定义保存函数\n",
    "- 组装保存目录\n",
    "- 判断是否存在保存目录\n",
    "- 不存在就创建\n",
    "- 再拼接上保存到文件"
   ]
  },
  {
   "cell_type": "code",
   "execution_count": 5,
   "metadata": {},
   "outputs": [],
   "source": [
    "# 传的是文件名加后缀\n",
    "def save_fig(fig_id,tight_layout = True):\n",
    "    path = os.path.join(root_dir, \"images\", model_id)\n",
    "    if not os.path.exists(path):\n",
    "        os.makedirs(path)\n",
    "    path = os.path.join(path,fig_id)\n",
    "    print(path)\n",
    "    print(\"Saving figure\",fig_id)\n",
    "    plt.savefig(path, format = 'png',dpi = 300)"
   ]
  },
  {
   "cell_type": "code",
   "execution_count": 6,
   "metadata": {},
   "outputs": [],
   "source": [
    "np.random.seed(42)\n",
    "x = 2 * np.random.rand(100,1)\n",
    "y = 4+3*x+np.random.randn(100,1)"
   ]
  },
  {
   "cell_type": "code",
   "execution_count": 7,
   "metadata": {},
   "outputs": [
    {
     "name": "stdout",
     "output_type": "stream",
     "text": [
      ".\\images\\linear_models\\linera_scatter.png\n",
      "Saving figure linera_scatter.png\n"
     ]
    },
    {
     "data": {
      "image/png": "[encoded data removed]",
      "text/plain": [
       "<Figure size 432x288 with 1 Axes>"
      ]
     },
     "metadata": {
      "needs_background": "light"
     },
     "output_type": "display_data"
    }
   ],
   "source": [
    "plt.scatter(x,y,color = 'green')\n",
    "plt.xlabel(\"$x_1$\",fontsize = 18)\n",
    "plt.ylabel(\"$y$\",rotation = 0,fontsize = 18)\n",
    "plt.axis([0,2,0,15])\n",
    "save_fig(\"linera_scatter.png\")\n",
    "plt.show()"
   ]
  },
  {
   "cell_type": "code",
   "execution_count": 8,
   "metadata": {
    "scrolled": true
   },
   "outputs": [
    {
     "data": {
      "text/plain": [
       "array([[0.74908024],\n",
       "       [1.90142861],\n",
       "       [1.46398788],\n",
       "       [1.19731697],\n",
       "       [0.31203728],\n",
       "       [0.31198904],\n",
       "       [0.11616722],\n",
       "       [1.73235229],\n",
       "       [1.20223002],\n",
       "       [1.41614516],\n",
       "       [0.04116899],\n",
       "       [1.9398197 ],\n",
       "       [1.66488528],\n",
       "       [0.42467822],\n",
       "       [0.36364993],\n",
       "       [0.36680902],\n",
       "       [0.60848449],\n",
       "       [1.04951286],\n",
       "       [0.86389004],\n",
       "       [0.58245828],\n",
       "       [1.22370579],\n",
       "       [0.27898772],\n",
       "       [0.5842893 ],\n",
       "       [0.73272369],\n",
       "       [0.91213997],\n",
       "       [1.57035192],\n",
       "       [0.39934756],\n",
       "       [1.02846888],\n",
       "       [1.18482914],\n",
       "       [0.09290083],\n",
       "       [1.2150897 ],\n",
       "       [0.34104825],\n",
       "       [0.13010319],\n",
       "       [1.89777107],\n",
       "       [1.93126407],\n",
       "       [1.6167947 ],\n",
       "       [0.60922754],\n",
       "       [0.19534423],\n",
       "       [1.36846605],\n",
       "       [0.88030499],\n",
       "       [0.24407647],\n",
       "       [0.99035382],\n",
       "       [0.06877704],\n",
       "       [1.8186408 ],\n",
       "       [0.51755996],\n",
       "       [1.32504457],\n",
       "       [0.62342215],\n",
       "       [1.04013604],\n",
       "       [1.09342056],\n",
       "       [0.36970891],\n",
       "       [1.93916926],\n",
       "       [1.55026565],\n",
       "       [1.87899788],\n",
       "       [1.7896547 ],\n",
       "       [1.19579996],\n",
       "       [1.84374847],\n",
       "       [0.176985  ],\n",
       "       [0.39196572],\n",
       "       [0.09045458],\n",
       "       [0.65066066],\n",
       "       [0.77735458],\n",
       "       [0.54269806],\n",
       "       [1.65747502],\n",
       "       [0.71350665],\n",
       "       [0.56186902],\n",
       "       [1.08539217],\n",
       "       [0.28184845],\n",
       "       [1.60439396],\n",
       "       [0.14910129],\n",
       "       [1.97377387],\n",
       "       [1.54448954],\n",
       "       [0.39743136],\n",
       "       [0.01104423],\n",
       "       [1.63092286],\n",
       "       [1.41371469],\n",
       "       [1.45801434],\n",
       "       [1.54254069],\n",
       "       [0.1480893 ],\n",
       "       [0.71693146],\n",
       "       [0.23173812],\n",
       "       [1.72620685],\n",
       "       [1.24659625],\n",
       "       [0.66179605],\n",
       "       [0.1271167 ],\n",
       "       [0.62196464],\n",
       "       [0.65036664],\n",
       "       [1.45921236],\n",
       "       [1.27511494],\n",
       "       [1.77442549],\n",
       "       [0.94442985],\n",
       "       [0.23918849],\n",
       "       [1.42648957],\n",
       "       [1.5215701 ],\n",
       "       [1.1225544 ],\n",
       "       [1.54193436],\n",
       "       [0.98759119],\n",
       "       [1.04546566],\n",
       "       [0.85508204],\n",
       "       [0.05083825],\n",
       "       [0.21578285]])"
      ]
     },
     "execution_count": 8,
     "metadata": {},
     "output_type": "execute_result"
    }
   ],
   "source": [
    "x"
   ]
  },
  {
   "cell_type": "code",
   "execution_count": 9,
   "metadata": {
    "scrolled": true
   },
   "outputs": [
    {
     "data": {
      "text/plain": [
       "array([[ 6.33428778],\n",
       "       [ 9.40527849],\n",
       "       [ 8.48372443],\n",
       "       [ 5.60438199],\n",
       "       [ 4.71643995],\n",
       "       [ 5.29307969],\n",
       "       [ 5.82639572],\n",
       "       [ 8.67878666],\n",
       "       [ 6.79819647],\n",
       "       [ 7.74667842],\n",
       "       [ 5.03890908],\n",
       "       [10.14821022],\n",
       "       [ 8.46489564],\n",
       "       [ 5.7873021 ],\n",
       "       [ 5.18802735],\n",
       "       [ 6.06907205],\n",
       "       [ 5.12340036],\n",
       "       [ 6.82087644],\n",
       "       [ 6.19956196],\n",
       "       [ 4.28385989],\n",
       "       [ 7.96723765],\n",
       "       [ 5.09801844],\n",
       "       [ 5.75798135],\n",
       "       [ 5.96358393],\n",
       "       [ 5.32104916],\n",
       "       [ 8.29041045],\n",
       "       [ 4.85532818],\n",
       "       [ 6.28312936],\n",
       "       [ 7.3932017 ],\n",
       "       [ 4.68275333],\n",
       "       [ 9.53145501],\n",
       "       [ 5.19772255],\n",
       "       [ 4.64785995],\n",
       "       [ 9.61886731],\n",
       "       [ 7.87502098],\n",
       "       [ 8.82387021],\n",
       "       [ 5.88791282],\n",
       "       [ 7.0492748 ],\n",
       "       [ 7.91303719],\n",
       "       [ 6.9424623 ],\n",
       "       [ 4.69751764],\n",
       "       [ 5.80238342],\n",
       "       [ 5.34915394],\n",
       "       [10.20785545],\n",
       "       [ 6.34371184],\n",
       "       [ 7.06574625],\n",
       "       [ 7.27306077],\n",
       "       [ 5.71855706],\n",
       "       [ 7.86711877],\n",
       "       [ 7.29958236],\n",
       "       [ 8.82697144],\n",
       "       [ 8.08449921],\n",
       "       [ 9.73664501],\n",
       "       [ 8.86548845],\n",
       "       [ 6.03673644],\n",
       "       [ 9.59980838],\n",
       "       [ 3.4686513 ],\n",
       "       [ 5.64948961],\n",
       "       [ 3.3519395 ],\n",
       "       [ 7.50191639],\n",
       "       [ 5.54881045],\n",
       "       [ 5.30603267],\n",
       "       [ 9.78594227],\n",
       "       [ 4.90965564],\n",
       "       [ 5.91306699],\n",
       "       [ 8.56331925],\n",
       "       [ 3.23806212],\n",
       "       [ 8.99781574],\n",
       "       [ 4.70718666],\n",
       "       [10.70314449],\n",
       "       [ 7.3965179 ],\n",
       "       [ 3.87183748],\n",
       "       [ 4.55507427],\n",
       "       [ 9.18975324],\n",
       "       [ 8.49163691],\n",
       "       [ 8.72049122],\n",
       "       [ 7.94759736],\n",
       "       [ 4.67652161],\n",
       "       [ 6.44386684],\n",
       "       [ 3.98086294],\n",
       "       [11.04439507],\n",
       "       [ 8.21362168],\n",
       "       [ 4.79408465],\n",
       "       [ 5.03790371],\n",
       "       [ 4.89121226],\n",
       "       [ 6.73818454],\n",
       "       [ 9.53623265],\n",
       "       [ 7.00466251],\n",
       "       [10.28665258],\n",
       "       [ 7.24607048],\n",
       "       [ 5.53962564],\n",
       "       [10.17626171],\n",
       "       [ 8.31932218],\n",
       "       [ 6.61392702],\n",
       "       [ 7.73628865],\n",
       "       [ 6.14696329],\n",
       "       [ 7.05929527],\n",
       "       [ 6.90639808],\n",
       "       [ 4.42920556],\n",
       "       [ 5.47453181]])"
      ]
     },
     "execution_count": 9,
     "metadata": {},
     "output_type": "execute_result"
    }
   ],
   "source": [
    "y"
   ]
  },
  {
   "cell_type": "code",
   "execution_count": 10,
   "metadata": {},
   "outputs": [],
   "source": [
    "# 1.导包\n",
    "from sklearn.linear_model import LinearRegression"
   ]
  },
  {
   "cell_type": "code",
   "execution_count": 14,
   "metadata": {},
   "outputs": [
    {
     "name": "stdout",
     "output_type": "stream",
     "text": [
      "斜率:[[2.77011339]]\n",
      "截距:[4.21509616]\n"
     ]
    },
    {
     "data": {
      "text/plain": [
       "array([[4.21509616],\n",
       "       [9.75532293]])"
      ]
     },
     "execution_count": 14,
     "metadata": {},
     "output_type": "execute_result"
    }
   ],
   "source": [
    "# 2.创建线性回归对象\n",
    "lin_reg =  LinearRegression()\n",
    "# 3.拟合数据\n",
    "lin_reg.fit(x,y)\n",
    "# 看一下学出的参数\n",
    "print(f\"斜率:{lin_reg.coef_}\")\n",
    "# 看一下截距,和y轴的交叉点\n",
    "print(f\"截距:{lin_reg.intercept_}\")\n",
    "# 4.训练数据\n",
    "x_new = np.array([[0],[2]])\n",
    "# 5.对测试集进行预测\n",
    "lin_reg.predict(x_new)"
   ]
  },
  {
   "cell_type": "code",
   "execution_count": 15,
   "metadata": {
    "scrolled": true
   },
   "outputs": [
    {
     "data": {
      "text/plain": [
       "array([[1.        , 0.74908024],\n",
       "       [1.        , 1.90142861],\n",
       "       [1.        , 1.46398788],\n",
       "       [1.        , 1.19731697],\n",
       "       [1.        , 0.31203728],\n",
       "       [1.        , 0.31198904],\n",
       "       [1.        , 0.11616722],\n",
       "       [1.        , 1.73235229],\n",
       "       [1.        , 1.20223002],\n",
       "       [1.        , 1.41614516],\n",
       "       [1.        , 0.04116899],\n",
       "       [1.        , 1.9398197 ],\n",
       "       [1.        , 1.66488528],\n",
       "       [1.        , 0.42467822],\n",
       "       [1.        , 0.36364993],\n",
       "       [1.        , 0.36680902],\n",
       "       [1.        , 0.60848449],\n",
       "       [1.        , 1.04951286],\n",
       "       [1.        , 0.86389004],\n",
       "       [1.        , 0.58245828],\n",
       "       [1.        , 1.22370579],\n",
       "       [1.        , 0.27898772],\n",
       "       [1.        , 0.5842893 ],\n",
       "       [1.        , 0.73272369],\n",
       "       [1.        , 0.91213997],\n",
       "       [1.        , 1.57035192],\n",
       "       [1.        , 0.39934756],\n",
       "       [1.        , 1.02846888],\n",
       "       [1.        , 1.18482914],\n",
       "       [1.        , 0.09290083],\n",
       "       [1.        , 1.2150897 ],\n",
       "       [1.        , 0.34104825],\n",
       "       [1.        , 0.13010319],\n",
       "       [1.        , 1.89777107],\n",
       "       [1.        , 1.93126407],\n",
       "       [1.        , 1.6167947 ],\n",
       "       [1.        , 0.60922754],\n",
       "       [1.        , 0.19534423],\n",
       "       [1.        , 1.36846605],\n",
       "       [1.        , 0.88030499],\n",
       "       [1.        , 0.24407647],\n",
       "       [1.        , 0.99035382],\n",
       "       [1.        , 0.06877704],\n",
       "       [1.        , 1.8186408 ],\n",
       "       [1.        , 0.51755996],\n",
       "       [1.        , 1.32504457],\n",
       "       [1.        , 0.62342215],\n",
       "       [1.        , 1.04013604],\n",
       "       [1.        , 1.09342056],\n",
       "       [1.        , 0.36970891],\n",
       "       [1.        , 1.93916926],\n",
       "       [1.        , 1.55026565],\n",
       "       [1.        , 1.87899788],\n",
       "       [1.        , 1.7896547 ],\n",
       "       [1.        , 1.19579996],\n",
       "       [1.        , 1.84374847],\n",
       "       [1.        , 0.176985  ],\n",
       "       [1.        , 0.39196572],\n",
       "       [1.        , 0.09045458],\n",
       "       [1.        , 0.65066066],\n",
       "       [1.        , 0.77735458],\n",
       "       [1.        , 0.54269806],\n",
       "       [1.        , 1.65747502],\n",
       "       [1.        , 0.71350665],\n",
       "       [1.        , 0.56186902],\n",
       "       [1.        , 1.08539217],\n",
       "       [1.        , 0.28184845],\n",
       "       [1.        , 1.60439396],\n",
       "       [1.        , 0.14910129],\n",
       "       [1.        , 1.97377387],\n",
       "       [1.        , 1.54448954],\n",
       "       [1.        , 0.39743136],\n",
       "       [1.        , 0.01104423],\n",
       "       [1.        , 1.63092286],\n",
       "       [1.        , 1.41371469],\n",
       "       [1.        , 1.45801434],\n",
       "       [1.        , 1.54254069],\n",
       "       [1.        , 0.1480893 ],\n",
       "       [1.        , 0.71693146],\n",
       "       [1.        , 0.23173812],\n",
       "       [1.        , 1.72620685],\n",
       "       [1.        , 1.24659625],\n",
       "       [1.        , 0.66179605],\n",
       "       [1.        , 0.1271167 ],\n",
       "       [1.        , 0.62196464],\n",
       "       [1.        , 0.65036664],\n",
       "       [1.        , 1.45921236],\n",
       "       [1.        , 1.27511494],\n",
       "       [1.        , 1.77442549],\n",
       "       [1.        , 0.94442985],\n",
       "       [1.        , 0.23918849],\n",
       "       [1.        , 1.42648957],\n",
       "       [1.        , 1.5215701 ],\n",
       "       [1.        , 1.1225544 ],\n",
       "       [1.        , 1.54193436],\n",
       "       [1.        , 0.98759119],\n",
       "       [1.        , 1.04546566],\n",
       "       [1.        , 0.85508204],\n",
       "       [1.        , 0.05083825],\n",
       "       [1.        , 0.21578285]])"
      ]
     },
     "execution_count": 15,
     "metadata": {},
     "output_type": "execute_result"
    }
   ],
   "source": [
    "x_b = np.hstack((np.ones((100,1)),x))\n",
    "x_b"
   ]
  },
  {
   "cell_type": "code",
   "execution_count": 17,
   "metadata": {},
   "outputs": [
    {
     "data": {
      "text/plain": [
       "array([[0.        , 2.77011339]])"
      ]
     },
     "execution_count": 17,
     "metadata": {},
     "output_type": "execute_result"
    }
   ],
   "source": [
    "lin_reg = LinearRegression()\n",
    "lin_reg.fit(x_b,y)\n",
    "lin_reg.coef_"
   ]
  },
  {
   "cell_type": "code",
   "execution_count": 18,
   "metadata": {
    "scrolled": true
   },
   "outputs": [
    {
     "data": {
      "text/plain": [
       "array([[0.7948113 , 0.74908024],\n",
       "       [0.50263709, 1.90142861],\n",
       "       [0.57690388, 1.46398788],\n",
       "       [0.49251769, 1.19731697],\n",
       "       [0.19524299, 0.31203728],\n",
       "       [0.72245212, 0.31198904],\n",
       "       [0.28077236, 0.11616722],\n",
       "       [0.02431597, 1.73235229],\n",
       "       [0.6454723 , 1.20223002],\n",
       "       [0.17711068, 1.41614516],\n",
       "       [0.94045858, 0.04116899],\n",
       "       [0.95392858, 1.9398197 ],\n",
       "       [0.91486439, 1.66488528],\n",
       "       [0.3701587 , 0.42467822],\n",
       "       [0.01545662, 0.36364993],\n",
       "       [0.92831856, 0.36680902],\n",
       "       [0.42818415, 0.60848449],\n",
       "       [0.96665482, 1.04951286],\n",
       "       [0.96361998, 0.86389004],\n",
       "       [0.85300946, 0.58245828],\n",
       "       [0.29444889, 1.22370579],\n",
       "       [0.38509773, 0.27898772],\n",
       "       [0.85113667, 0.5842893 ],\n",
       "       [0.31692201, 0.73272369],\n",
       "       [0.16949275, 0.91213997],\n",
       "       [0.55680126, 1.57035192],\n",
       "       [0.93615477, 0.39934756],\n",
       "       [0.6960298 , 1.02846888],\n",
       "       [0.57006117, 1.18482914],\n",
       "       [0.09717649, 0.09290083],\n",
       "       [0.61500723, 1.2150897 ],\n",
       "       [0.99005385, 0.34104825],\n",
       "       [0.14008402, 0.13010319],\n",
       "       [0.51832965, 1.89777107],\n",
       "       [0.87737307, 1.93126407],\n",
       "       [0.74076862, 1.6167947 ],\n",
       "       [0.69701574, 0.60922754],\n",
       "       [0.70248408, 0.19534423],\n",
       "       [0.35949115, 1.36846605],\n",
       "       [0.29359184, 0.88030499],\n",
       "       [0.80936116, 0.24407647],\n",
       "       [0.81011339, 0.99035382],\n",
       "       [0.86707232, 0.06877704],\n",
       "       [0.91324055, 1.8186408 ],\n",
       "       [0.5113424 , 0.51755996],\n",
       "       [0.50151629, 1.32504457],\n",
       "       [0.79829518, 0.62342215],\n",
       "       [0.64996393, 1.04013604],\n",
       "       [0.70196688, 1.09342056],\n",
       "       [0.79579267, 0.36970891],\n",
       "       [0.89000534, 1.93916926],\n",
       "       [0.33799516, 1.55026565],\n",
       "       [0.37558295, 1.87899788],\n",
       "       [0.09398194, 1.7896547 ],\n",
       "       [0.57828014, 1.19579996],\n",
       "       [0.03594227, 1.84374847],\n",
       "       [0.46559802, 0.176985  ],\n",
       "       [0.54264463, 0.39196572],\n",
       "       [0.28654125, 0.09045458],\n",
       "       [0.59083326, 0.65066066],\n",
       "       [0.03050025, 0.77735458],\n",
       "       [0.03734819, 0.54269806],\n",
       "       [0.82260056, 1.65747502],\n",
       "       [0.36019064, 0.71350665],\n",
       "       [0.12706051, 0.56186902],\n",
       "       [0.52224326, 1.08539217],\n",
       "       [0.76999355, 0.28184845],\n",
       "       [0.21582103, 1.60439396],\n",
       "       [0.62289048, 0.14910129],\n",
       "       [0.08534746, 1.97377387],\n",
       "       [0.05168172, 1.54448954],\n",
       "       [0.53135463, 0.39743136],\n",
       "       [0.54063512, 0.01104423],\n",
       "       [0.6374299 , 1.63092286],\n",
       "       [0.72609133, 1.41371469],\n",
       "       [0.97585208, 1.45801434],\n",
       "       [0.51630035, 1.54254069],\n",
       "       [0.32295647, 0.1480893 ],\n",
       "       [0.79518619, 0.71693146],\n",
       "       [0.27083225, 0.23173812],\n",
       "       [0.43897142, 1.72620685],\n",
       "       [0.07845638, 1.24659625],\n",
       "       [0.02535074, 0.66179605],\n",
       "       [0.96264841, 0.1271167 ],\n",
       "       [0.83598012, 0.62196464],\n",
       "       [0.69597421, 0.65036664],\n",
       "       [0.40895294, 1.45921236],\n",
       "       [0.17329432, 1.27511494],\n",
       "       [0.15643704, 1.77442549],\n",
       "       [0.2502429 , 0.94442985],\n",
       "       [0.54922666, 0.23918849],\n",
       "       [0.71459592, 1.42648957],\n",
       "       [0.66019738, 1.5215701 ],\n",
       "       [0.2799339 , 1.1225544 ],\n",
       "       [0.95486528, 1.54193436],\n",
       "       [0.73789692, 0.98759119],\n",
       "       [0.55435405, 1.04546566],\n",
       "       [0.61172075, 0.85508204],\n",
       "       [0.41960006, 0.05083825],\n",
       "       [0.24773099, 0.21578285]])"
      ]
     },
     "execution_count": 18,
     "metadata": {},
     "output_type": "execute_result"
    }
   ],
   "source": [
    "x_c = np.hstack((np.random.rand(100).reshape(-1,1),x))\n",
    "x_c"
   ]
  },
  {
   "cell_type": "code",
   "execution_count": 19,
   "metadata": {},
   "outputs": [
    {
     "data": {
      "text/plain": [
       "array([[0.27276244, 2.7738843 ]])"
      ]
     },
     "execution_count": 19,
     "metadata": {},
     "output_type": "execute_result"
    }
   ],
   "source": [
    "lin_reg = LinearRegression()\n",
    "lin_reg.fit(x_c,y)\n",
    "lin_reg.coef_"
   ]
  },
  {
   "cell_type": "code",
   "execution_count": 26,
   "metadata": {
    "scrolled": true
   },
   "outputs": [
    {
     "data": {
      "text/plain": [
       "array([[0.1642658 , 0.81457472, 0.74908024],\n",
       "       [0.66519722, 0.52306542, 1.90142861],\n",
       "       [0.35883048, 0.87720054, 1.46398788],\n",
       "       [0.39244511, 0.81659944, 1.19731697],\n",
       "       [0.43913491, 0.37694443, 0.31203728],\n",
       "       [0.46267979, 0.30137787, 0.31198904],\n",
       "       [0.74760938, 0.50272039, 0.11616722],\n",
       "       [0.2322127 , 0.89957457, 1.73235229],\n",
       "       [0.38389122, 0.54355286, 1.20223002],\n",
       "       [0.90647211, 0.624238  , 1.41614516],\n",
       "       [0.11689804, 0.93983212, 0.04116899],\n",
       "       [0.62770805, 0.33490561, 1.9398197 ],\n",
       "       [0.13927207, 0.79402519, 1.66488528],\n",
       "       [0.62007276, 0.53346109, 0.42467822],\n",
       "       [0.89389258, 0.78859721, 0.36364993],\n",
       "       [0.15167488, 0.31172207, 0.36680902],\n",
       "       [0.24848914, 0.74394629, 0.60848449],\n",
       "       [0.03353243, 0.56988968, 1.04951286],\n",
       "       [0.76245869, 0.87676564, 0.86389004],\n",
       "       [0.34208175, 0.8212573 , 0.58245828],\n",
       "       [0.11063174, 0.84645229, 1.22370579],\n",
       "       [0.12748866, 0.39728729, 0.27898772],\n",
       "       [0.79729537, 0.14991743, 0.5842893 ],\n",
       "       [0.2292514 , 0.72225257, 0.73272369],\n",
       "       [0.72003654, 0.64114763, 0.91213997],\n",
       "       [0.69394844, 0.54272444, 1.57035192],\n",
       "       [0.25179906, 0.34569599, 0.39934756],\n",
       "       [0.18159772, 0.90845056, 1.02846888],\n",
       "       [0.58339179, 0.40085142, 1.18482914],\n",
       "       [0.4620058 , 0.94728334, 0.09290083],\n",
       "       [0.1533514 , 0.58622983, 1.2150897 ],\n",
       "       [0.50588868, 0.61145424, 0.34104825],\n",
       "       [0.01811018, 0.87212391, 0.13010319],\n",
       "       [0.93211828, 0.56513318, 1.89777107],\n",
       "       [0.69665082, 0.92249938, 1.93126407],\n",
       "       [0.70723863, 0.15253904, 1.6167947 ],\n",
       "       [0.57628836, 0.60671505, 0.60922754],\n",
       "       [0.42413067, 0.73644424, 0.19534423],\n",
       "       [0.93436701, 0.92556851, 1.36846605],\n",
       "       [0.45083937, 0.11323805, 0.88030499],\n",
       "       [0.9848412 , 0.83889809, 0.24407647],\n",
       "       [0.12466268, 0.92084188, 0.99035382],\n",
       "       [0.86989636, 0.51883806, 0.06877704],\n",
       "       [0.59127544, 0.3990027 , 1.8186408 ],\n",
       "       [0.05476164, 0.33519724, 0.51755996],\n",
       "       [0.80285345, 0.00463202, 1.32504457],\n",
       "       [0.33349917, 0.39816869, 0.62342215],\n",
       "       [0.5373956 , 0.91985562, 1.04013604],\n",
       "       [0.34634599, 0.3469532 , 1.09342056],\n",
       "       [0.73750125, 0.45221794, 0.36970891],\n",
       "       [0.22460482, 0.45243952, 1.93916926],\n",
       "       [0.14085702, 0.17638699, 1.55026565],\n",
       "       [0.49836777, 0.41892545, 1.87899788],\n",
       "       [0.9148459 , 0.3623939 , 1.7896547 ],\n",
       "       [0.58058835, 0.63226429, 1.19579996],\n",
       "       [0.01309446, 0.66353737, 1.84374847],\n",
       "       [0.17803597, 0.96107032, 0.176985  ],\n",
       "       [0.14866273, 0.41462412, 0.39196572],\n",
       "       [0.08534967, 0.99687425, 0.09045458],\n",
       "       [0.50219501, 0.59538502, 0.65066066],\n",
       "       [0.06707648, 0.74996047, 0.77735458],\n",
       "       [0.20990559, 0.89805429, 0.54269806],\n",
       "       [0.20513964, 0.19068772, 1.65747502],\n",
       "       [0.03654967, 0.47206695, 0.71350665],\n",
       "       [0.56484113, 0.06570864, 0.56186902],\n",
       "       [0.77552762, 0.45328883, 1.08539217],\n",
       "       [0.52439027, 0.44076275, 0.28184845],\n",
       "       [0.40076306, 0.55964033, 1.60439396],\n",
       "       [0.15524025, 0.18192813, 0.14910129],\n",
       "       [0.86178562, 0.94611546, 1.97377387],\n",
       "       [0.37330932, 0.27074467, 1.54448954],\n",
       "       [0.64399954, 0.40873417, 0.39743136],\n",
       "       [0.02538636, 0.1561526 , 0.01104423],\n",
       "       [0.71597223, 0.65892394, 1.63092286],\n",
       "       [0.02709599, 0.22197216, 1.41371469],\n",
       "       [0.2310748 , 0.67189274, 1.45801434],\n",
       "       [0.01971054, 0.10410858, 1.54254069],\n",
       "       [0.79991609, 0.17854466, 0.1480893 ],\n",
       "       [0.65274611, 0.23818278, 0.71693146],\n",
       "       [0.09944139, 0.24317219, 0.23173812],\n",
       "       [0.72226693, 0.85569647, 1.72620685],\n",
       "       [0.83021986, 0.39718353, 1.24659625],\n",
       "       [0.66808514, 0.2049843 , 0.66179605],\n",
       "       [0.29314773, 0.89633582, 0.1271167 ],\n",
       "       [0.01300192, 0.08550853, 0.62196464],\n",
       "       [0.20788626, 0.0265322 , 0.65036664],\n",
       "       [0.18143544, 0.58304156, 1.45921236],\n",
       "       [0.42142455, 0.89267171, 1.27511494],\n",
       "       [0.81744356, 0.34181735, 1.77442549],\n",
       "       [0.25942343, 0.37969241, 0.94442985],\n",
       "       [0.59029494, 0.26806364, 0.23918849],\n",
       "       [0.62414891, 0.40941165, 1.42648957],\n",
       "       [0.55204718, 0.43612653, 1.5215701 ],\n",
       "       [0.29446576, 0.94845331, 1.1225544 ],\n",
       "       [0.76360579, 0.14011318, 1.54193436],\n",
       "       [0.86846798, 0.4874312 , 0.98759119],\n",
       "       [0.89455223, 0.79985526, 1.04546566],\n",
       "       [0.4252135 , 0.02246931, 0.85508204],\n",
       "       [0.26867736, 0.54163421, 0.05083825],\n",
       "       [0.63347822, 0.25788769, 0.21578285]])"
      ]
     },
     "execution_count": 26,
     "metadata": {},
     "output_type": "execute_result"
    }
   ],
   "source": [
    "x_d = np.hstack((np.random.rand(200).reshape(-1,2),x))\n",
    "x_d"
   ]
  },
  {
   "cell_type": "code",
   "execution_count": 27,
   "metadata": {},
   "outputs": [
    {
     "data": {
      "text/plain": [
       "array([[ 0.315595  , -0.46508808,  2.74596403]])"
      ]
     },
     "execution_count": 27,
     "metadata": {},
     "output_type": "execute_result"
    }
   ],
   "source": [
    "lin_reg = LinearRegression()\n",
    "lin_reg.fit(x_d,y)\n",
    "lin_reg.coef_"
   ]
  },
  {
   "cell_type": "markdown",
   "metadata": {},
   "source": [
    "# 批量梯度下降"
   ]
  },
  {
   "cell_type": "code",
   "execution_count": 29,
   "metadata": {},
   "outputs": [],
   "source": [
    "eta = 0.1 # 步长\n",
    "n = 1000 # 迭代次数\n",
    "m = 100 # 数据量\n",
    "theta = np.random.randn(2,1) # 初始化参数\n",
    "for _ in range(n):\n",
    "    gradients = (1/m) * x_b.T.dot(x_b.dot(theta) - y)\n",
    "    theta = theta - eta * gradients"
   ]
  },
  {
   "cell_type": "code",
   "execution_count": 30,
   "metadata": {},
   "outputs": [
    {
     "name": "stdout",
     "output_type": "stream",
     "text": [
      "[[0]\n",
      " [2]]\n",
      "[[1. 0.]\n",
      " [1. 2.]]\n"
     ]
    }
   ],
   "source": [
    "x_new = np.array([[0],[2]])\n",
    "x_new_b = np.c_[np.ones((2,1)),x_new] # c_连接作用\n",
    "print(x_new)\n",
    "print(x_new_b)"
   ]
  },
  {
   "cell_type": "code",
   "execution_count": 31,
   "metadata": {},
   "outputs": [
    {
     "data": {
      "text/plain": [
       "array([[4.21509611],\n",
       "       [9.75532296]])"
      ]
     },
     "execution_count": 31,
     "metadata": {},
     "output_type": "execute_result"
    }
   ],
   "source": [
    "x_new_b.dot(theta)"
   ]
  },
  {
   "cell_type": "code",
   "execution_count": 32,
   "metadata": {},
   "outputs": [
    {
     "data": {
      "text/plain": [
       "array([[4.21509611],\n",
       "       [2.77011342]])"
      ]
     },
     "execution_count": 32,
     "metadata": {},
     "output_type": "execute_result"
    }
   ],
   "source": [
    "theta"
   ]
  },
  {
   "cell_type": "code",
   "execution_count": 33,
   "metadata": {},
   "outputs": [
    {
     "data": {
      "text/plain": [
       "array([4.34289184])"
      ]
     },
     "execution_count": 33,
     "metadata": {},
     "output_type": "execute_result"
    }
   ],
   "source": [
    "lin_reg.intercept_"
   ]
  },
  {
   "cell_type": "code",
   "execution_count": 35,
   "metadata": {},
   "outputs": [
    {
     "data": {
      "text/plain": [
       "array([[0.        , 2.77011339]])"
      ]
     },
     "execution_count": 35,
     "metadata": {},
     "output_type": "execute_result"
    }
   ],
   "source": [
    "# fit_intercept = True 截距项单独考虑\n",
    "lin_reg = LinearRegression(fit_intercept = True)\n",
    "lin_reg.fit(x_b,y)\n",
    "lin_reg.coef_"
   ]
  },
  {
   "cell_type": "code",
   "execution_count": 34,
   "metadata": {},
   "outputs": [
    {
     "data": {
      "text/plain": [
       "array([[4.21509616, 2.77011339]])"
      ]
     },
     "execution_count": 34,
     "metadata": {},
     "output_type": "execute_result"
    }
   ],
   "source": [
    "# fit_intercept = False 截距项不单独考虑\n",
    "lin_reg = LinearRegression(fit_intercept = False)\n",
    "lin_reg.fit(x_b,y)\n",
    "lin_reg.coef_"
   ]
  },
  {
   "cell_type": "code",
   "execution_count": 39,
   "metadata": {},
   "outputs": [],
   "source": [
    "theta_path_bgd = []\n",
    "def plot_gradient_descent(theta,eta,theta_path = None):\n",
    "    m = len(x_b)\n",
    "    plt.plot(x,y,\"r.\")\n",
    "    n = 1000\n",
    "    for it in range(n):\n",
    "        if it < 10:\n",
    "            y_predict = x_new_b.dot(theta)\n",
    "            plt.plot(x_new,y_predict,\"b-\")\n",
    "        gradients = 2/m * x_b.T.dot(x_b.dot(theta) - y)\n",
    "        theta = theta - eta * gradients\n",
    "        if theta_path is not None:\n",
    "            theta_path.append(theta)\n",
    "    plt.xlabel(\"$x_1$\",fontsize = 18)\n",
    "    plt.axis([0,2,0,15])\n",
    "    # \"$$\"就变成公式形式\n",
    "    plt.title(r\"$\\eta = {}$\".format(eta),fontsize = 16)"
   ]
  },
  {
   "cell_type": "code",
   "execution_count": 40,
   "metadata": {},
   "outputs": [
    {
     "name": "stdout",
     "output_type": "stream",
     "text": [
      ".\\images\\linear_models\\gradient_descent_plot\n",
      "Saving figure gradient_descent_plot\n"
     ]
    },
    {
     "data": {
      "image/png": "[encoded data removed]",
      "text/plain": [
       "<Figure size 720x288 with 3 Axes>"
      ]
     },
     "metadata": {
      "needs_background": "light"
     },
     "output_type": "display_data"
    }
   ],
   "source": [
    "np.random.seed(42)\n",
    "theta = np.random.randn(2,1)\n",
    "\n",
    "plt.figure(figsize = (10,4))\n",
    "\n",
    "plt.subplot(131);\n",
    "plot_gradient_descent(theta,eta = 0.02)\n",
    "plt.ylabel('$y$',rotation = 0,fontsize = 18)\n",
    "\n",
    "plt.subplot(132);\n",
    "plot_gradient_descent(theta,eta = 0.1,theta_path = theta_path_bgd)\n",
    "\n",
    "plt.subplot(133);\n",
    "plot_gradient_descent(theta,eta = 0.5)\n",
    "\n",
    "save_fig('gradient_descent_plot')\n",
    "plt.show()"
   ]
  },
  {
   "cell_type": "markdown",
   "metadata": {},
   "source": [
    "# 随机梯度下降"
   ]
  },
  {
   "cell_type": "code",
   "execution_count": 46,
   "metadata": {},
   "outputs": [],
   "source": [
    "theta_path_sgd = []\n",
    "m = len(x_b)\n",
    "np.random.seed(42)"
   ]
  },
  {
   "cell_type": "code",
   "execution_count": 47,
   "metadata": {},
   "outputs": [
    {
     "name": "stdout",
     "output_type": "stream",
     "text": [
      ".\\images\\linear_models\\sgd_plot\n",
      "Saving figure sgd_plot\n"
     ]
    },
    {
     "data": {
      "image/png": "[encoded data removed]",
      "text/plain": [
       "<Figure size 432x288 with 1 Axes>"
      ]
     },
     "metadata": {
      "needs_background": "light"
     },
     "output_type": "display_data"
    }
   ],
   "source": [
    "n_epochs = 50\n",
    "\n",
    "theta = np.random.randn(2,1)\n",
    "\n",
    "for epoch in range(n_epochs):\n",
    "    for i in range(m):\n",
    "        if epoch == 0 and i < 10:\n",
    "            y_predict = x_new_b.dot(theta)\n",
    "            plt.plot(x_new, y_predict,'b-')\n",
    "        xi = x_b[i:i+1]\n",
    "        yi = y[i:i+1]\n",
    "        gradients = 2 * xi.T.dot(xi.dot(theta) - yi)\n",
    "        eta = 0.1\n",
    "        theta = theta - eta * gradients\n",
    "        theta_path_sgd.append(theta)\n",
    "        \n",
    "plt.plot(x,y,'b.')\n",
    "plt.xlabel('$x_1$',fontsize = 18)\n",
    "plt.ylabel('$y$',rotation = 0,fontsize = 18)\n",
    "plt.axis([0,2,0,15])\n",
    "save_fig('sgd_plot')\n",
    "plt.show()"
   ]
  },
  {
   "cell_type": "markdown",
   "metadata": {},
   "source": [
    "# 小批量梯度下降"
   ]
  },
  {
   "cell_type": "code",
   "execution_count": 58,
   "metadata": {},
   "outputs": [
    {
     "name": "stdout",
     "output_type": "stream",
     "text": [
      ".\\images\\linear_models\\sgd_plot\n",
      "Saving figure sgd_plot\n"
     ]
    },
    {
     "data": {
      "image/png": "[encoded data removed]",
      "text/plain": [
       "<Figure size 432x288 with 1 Axes>"
      ]
     },
     "metadata": {
      "needs_background": "light"
     },
     "output_type": "display_data"
    }
   ],
   "source": [
    "theta_path_mgd = []\n",
    "\n",
    "n = 50\n",
    "min_size = 20\n",
    "\n",
    "np.random.seed(42)\n",
    "theta = np.random.randn(2,1)\n",
    "\n",
    "for e in range(n):\n",
    "    # 洗牌\n",
    "    shu = np.random.permutation(m)\n",
    "    x_b_shu = x_b[shu]\n",
    "    y_shu = y[shu]\n",
    "    for i in range(0,m,min_size):\n",
    "        xi = x_b_shu[i:i + min_size]\n",
    "        yi = y_shu[i:i + min_size]\n",
    "        gradients = 2/min_size * xi.T.dot(xi.dot(theta) - yi)\n",
    "        eta = 0.1\n",
    "        theta = theta - eta * gradients\n",
    "        theta_path_mgd.append(theta)\n",
    "        \n",
    "plt.plot(x,y,'b.')\n",
    "plt.xlabel('$x$',fontsize = 18)\n",
    "plt.ylabel('$y$',rotation = 0,fontsize = 18)\n",
    "plt.axis([0,2,0,15])\n",
    "save_fig('sgd_plot')\n",
    "plt.show()"
   ]
  },
  {
   "cell_type": "code",
   "execution_count": 51,
   "metadata": {},
   "outputs": [],
   "source": [
    "theta_path_bgd = np.array(theta_path_bgd)\n",
    "theta_path_sgd = np.array(theta_path_sgd)\n",
    "theta_path_mgd = np.array(theta_path_mgd)"
   ]
  },
  {
   "cell_type": "code",
   "execution_count": 52,
   "metadata": {},
   "outputs": [
    {
     "name": "stdout",
     "output_type": "stream",
     "text": [
      ".\\images\\linear_models\\gradient_descent_paths_plot\n",
      "Saving figure gradient_descent_paths_plot\n"
     ]
    },
    {
     "data": {
      "image/png": "[encoded data removed]",
      "text/plain": [
       "<Figure size 504x288 with 1 Axes>"
      ]
     },
     "metadata": {
      "needs_background": "light"
     },
     "output_type": "display_data"
    }
   ],
   "source": [
    "plt.figure(figsize = (7,4))\n",
    "plt.plot(theta_path_sgd[:,0],theta_path_sgd[:,1],'r-s',linewidth = 1,label = 'Stochastic')\n",
    "plt.plot(theta_path_mgd[:,0],theta_path_mgd[:,1],'g-+',linewidth = 2,label = 'Mini-batch')\n",
    "plt.plot(theta_path_bgd[:,0],theta_path_bgd[:,1],'b-o',linewidth = 3,label = 'Batch')\n",
    "plt.legend(loc = 'upper left',fontsize = 16)\n",
    "plt.xlabel(r'$\\theta_0$',fontsize = 20)\n",
    "plt.ylabel(r'$\\theta_1$',fontsize = 20,rotation = 0)\n",
    "plt.axis([2.5,4.5,2.3,3.9])\n",
    "save_fig('gradient_descent_paths_plot')\n",
    "plt.show()"
   ]
  },
  {
   "cell_type": "code",
   "execution_count": null,
   "metadata": {},
   "outputs": [],
   "source": []
  }
 ],
 "metadata": {
  "kernelspec": {
   "display_name": "Python 3",
   "language": "python",
   "name": "python3"
  },
  "language_info": {
   "codemirror_mode": {
    "name": "ipython",
    "version": 3
   },
   "file_extension": ".py",
   "mimetype": "text/x-python",
   "name": "python",
   "nbconvert_exporter": "python",
   "pygments_lexer": "ipython3",
   "version": "3.8.3"
  }
 },
 "nbformat": 4,
 "nbformat_minor": 4
}

{
 "cells": [
  {
   "cell_type": "code",
   "execution_count": 1,
   "metadata": {},
   "outputs": [],
   "source": [
    "import numpy as np\n",
    "import pandas as pd\n",
    "import warnings\n",
    "warnings.filterwarnings(action = 'ignore')\n",
    "import matplotlib.pyplot as plt\n",
    "import seaborn as sns"
   ]
  },
  {
   "cell_type": "code",
   "execution_count": 11,
   "metadata": {},
   "outputs": [],
   "source": [
    "from sklearn.model_selection import GridSearchCV\n",
    "from sklearn.metrics import classification_report\n",
    "from sklearn.model_selection import train_test_split"
   ]
  },
  {
   "cell_type": "code",
   "execution_count": 26,
   "metadata": {},
   "outputs": [],
   "source": [
    "from mlxtend.feature_selection import \\\n",
    "SequentialFeatureSelector as SFS"
   ]
  },
  {
   "cell_type": "code",
   "execution_count": 9,
   "metadata": {},
   "outputs": [],
   "source": [
    "from mlxtend.data import wine_data"
   ]
  },
  {
   "cell_type": "code",
   "execution_count": 12,
   "metadata": {
    "scrolled": true
   },
   "outputs": [
    {
     "data": {
      "text/plain": [
       "(array([[1.423e+01, 1.710e+00, 2.430e+00, ..., 1.040e+00, 3.920e+00,\n",
       "         1.065e+03],\n",
       "        [1.320e+01, 1.780e+00, 2.140e+00, ..., 1.050e+00, 3.400e+00,\n",
       "         1.050e+03],\n",
       "        [1.316e+01, 2.360e+00, 2.670e+00, ..., 1.030e+00, 3.170e+00,\n",
       "         1.185e+03],\n",
       "        ...,\n",
       "        [1.327e+01, 4.280e+00, 2.260e+00, ..., 5.900e-01, 1.560e+00,\n",
       "         8.350e+02],\n",
       "        [1.317e+01, 2.590e+00, 2.370e+00, ..., 6.000e-01, 1.620e+00,\n",
       "         8.400e+02],\n",
       "        [1.413e+01, 4.100e+00, 2.740e+00, ..., 6.100e-01, 1.600e+00,\n",
       "         5.600e+02]]),\n",
       " array([0, 0, 0, 0, 0, 0, 0, 0, 0, 0, 0, 0, 0, 0, 0, 0, 0, 0, 0, 0, 0, 0,\n",
       "        0, 0, 0, 0, 0, 0, 0, 0, 0, 0, 0, 0, 0, 0, 0, 0, 0, 0, 0, 0, 0, 0,\n",
       "        0, 0, 0, 0, 0, 0, 0, 0, 0, 0, 0, 0, 0, 0, 0, 1, 1, 1, 1, 1, 1, 1,\n",
       "        1, 1, 1, 1, 1, 1, 1, 1, 1, 1, 1, 1, 1, 1, 1, 1, 1, 1, 1, 1, 1, 1,\n",
       "        1, 1, 1, 1, 1, 1, 1, 1, 1, 1, 1, 1, 1, 1, 1, 1, 1, 1, 1, 1, 1, 1,\n",
       "        1, 1, 1, 1, 1, 1, 1, 1, 1, 1, 1, 1, 1, 1, 1, 1, 1, 1, 1, 1, 2, 2,\n",
       "        2, 2, 2, 2, 2, 2, 2, 2, 2, 2, 2, 2, 2, 2, 2, 2, 2, 2, 2, 2, 2, 2,\n",
       "        2, 2, 2, 2, 2, 2, 2, 2, 2, 2, 2, 2, 2, 2, 2, 2, 2, 2, 2, 2, 2, 2,\n",
       "        2, 2]))"
      ]
     },
     "execution_count": 12,
     "metadata": {},
     "output_type": "execute_result"
    }
   ],
   "source": [
    "wine_data()"
   ]
  },
  {
   "cell_type": "code",
   "execution_count": 13,
   "metadata": {},
   "outputs": [],
   "source": [
    "x,y = wine_data()"
   ]
  },
  {
   "cell_type": "code",
   "execution_count": 15,
   "metadata": {},
   "outputs": [
    {
     "data": {
      "text/plain": [
       "(178, 13)"
      ]
     },
     "execution_count": 15,
     "metadata": {},
     "output_type": "execute_result"
    }
   ],
   "source": [
    "x.shape"
   ]
  },
  {
   "cell_type": "code",
   "execution_count": 16,
   "metadata": {},
   "outputs": [],
   "source": [
    "from sklearn.tree import DecisionTreeClassifier"
   ]
  },
  {
   "cell_type": "code",
   "execution_count": 17,
   "metadata": {},
   "outputs": [],
   "source": [
    "x_tr,x_te,y_tr,y_te = train_test_split(x,\n",
    "                                           y,\n",
    "                                           test_size = 0.2,\n",
    "                                           random_state = 42)"
   ]
  },
  {
   "cell_type": "code",
   "execution_count": 21,
   "metadata": {},
   "outputs": [],
   "source": [
    "def getb(estimator,params,x_tr,x_te,y_tr,y_te):\n",
    "    grid = GridSearchCV(estimator,\n",
    "                        params,\n",
    "                        cv = 5,\n",
    "                        refit = True)\n",
    "    grid.fit(x_tr,y_tr)\n",
    "    y_pre = grid.predict(x_te)\n",
    "    print(classification_report(y_te,y_pre))\n",
    "    print(grid.best_params_)"
   ]
  },
  {
   "cell_type": "code",
   "execution_count": 24,
   "metadata": {},
   "outputs": [
    {
     "data": {
      "text/plain": [
       "SequentialFeatureSelector(estimator=DecisionTreeClassifier(random_state=42),\n",
       "                          k_features=9)"
      ]
     },
     "execution_count": 24,
     "metadata": {},
     "output_type": "execute_result"
    }
   ],
   "source": [
    "clf = DecisionTreeClassifier(random_state = 42)\n",
    "sfs = SFS(estimator = clf,\n",
    "          k_features = 9,# 最好的几个特征\n",
    "          forward = True)\n",
    "sfs.fit(x_tr,y_tr)"
   ]
  },
  {
   "cell_type": "code",
   "execution_count": 25,
   "metadata": {
    "scrolled": true
   },
   "outputs": [
    {
     "data": {
      "text/plain": [
       "{1: {'feature_idx': (6,),\n",
       "  'cv_scores': array([0.75862069, 0.82758621, 0.75      , 0.71428571, 0.78571429]),\n",
       "  'avg_score': 0.7672413793103449,\n",
       "  'feature_names': ('6',)},\n",
       " 2: {'feature_idx': (6, 9),\n",
       "  'cv_scores': array([0.86206897, 0.86206897, 0.89285714, 0.92857143, 0.89285714]),\n",
       "  'avg_score': 0.8876847290640395,\n",
       "  'feature_names': ('6', '9')},\n",
       " 3: {'feature_idx': (4, 6, 9),\n",
       "  'cv_scores': array([0.93103448, 0.96551724, 0.82142857, 0.96428571, 0.89285714]),\n",
       "  'avg_score': 0.9150246305418721,\n",
       "  'feature_names': ('4', '6', '9')},\n",
       " 4: {'feature_idx': (1, 4, 6, 9),\n",
       "  'cv_scores': array([0.93103448, 0.96551724, 0.85714286, 0.96428571, 0.89285714]),\n",
       "  'avg_score': 0.9221674876847292,\n",
       "  'feature_names': ('1', '4', '6', '9')},\n",
       " 5: {'feature_idx': (1, 4, 6, 9, 12),\n",
       "  'cv_scores': array([0.93103448, 0.93103448, 0.89285714, 0.92857143, 0.89285714]),\n",
       "  'avg_score': 0.9152709359605913,\n",
       "  'feature_names': ('1', '4', '6', '9', '12')},\n",
       " 6: {'feature_idx': (1, 4, 6, 8, 9, 12),\n",
       "  'cv_scores': array([0.93103448, 0.93103448, 0.89285714, 0.92857143, 0.92857143]),\n",
       "  'avg_score': 0.9224137931034484,\n",
       "  'feature_names': ('1', '4', '6', '8', '9', '12')},\n",
       " 7: {'feature_idx': (0, 1, 4, 6, 8, 9, 12),\n",
       "  'cv_scores': array([0.93103448, 0.93103448, 0.89285714, 0.92857143, 0.92857143]),\n",
       "  'avg_score': 0.9224137931034484,\n",
       "  'feature_names': ('0', '1', '4', '6', '8', '9', '12')},\n",
       " 8: {'feature_idx': (0, 1, 4, 6, 8, 9, 10, 12),\n",
       "  'cv_scores': array([0.93103448, 0.93103448, 0.89285714, 0.92857143, 0.92857143]),\n",
       "  'avg_score': 0.9224137931034484,\n",
       "  'feature_names': ('0', '1', '4', '6', '8', '9', '10', '12')},\n",
       " 9: {'feature_idx': (0, 1, 2, 4, 6, 8, 9, 10, 12),\n",
       "  'cv_scores': array([0.93103448, 0.93103448, 0.89285714, 0.92857143, 0.89285714]),\n",
       "  'avg_score': 0.9152709359605913,\n",
       "  'feature_names': ('0', '1', '2', '4', '6', '8', '9', '10', '12')}}"
      ]
     },
     "execution_count": 25,
     "metadata": {},
     "output_type": "execute_result"
    }
   ],
   "source": [
    "sfs.subsets_"
   ]
  },
  {
   "cell_type": "code",
   "execution_count": 32,
   "metadata": {},
   "outputs": [
    {
     "data": {
      "text/plain": [
       "[0, 1, 2, 4, 6, 8, 9, 10, 12]"
      ]
     },
     "execution_count": 32,
     "metadata": {},
     "output_type": "execute_result"
    }
   ],
   "source": [
    "list(sfs.subsets_[9][\"feature_idx\"])"
   ]
  },
  {
   "cell_type": "code",
   "execution_count": 36,
   "metadata": {},
   "outputs": [
    {
     "data": {
      "text/plain": [
       "SequentialFeatureSelector(estimator=DecisionTreeClassifier(random_state=42),\n",
       "                          forward=False, k_features=9)"
      ]
     },
     "execution_count": 36,
     "metadata": {},
     "output_type": "execute_result"
    }
   ],
   "source": [
    "clf = DecisionTreeClassifier(random_state = 42)\n",
    "sfs = SFS(estimator = clf,\n",
    "          k_features = 9,# 最好的几个特征\n",
    "          forward = False)\n",
    "sfs.fit(x_tr,y_tr)"
   ]
  },
  {
   "cell_type": "code",
   "execution_count": 37,
   "metadata": {
    "scrolled": true
   },
   "outputs": [
    {
     "data": {
      "text/plain": [
       "{13: {'feature_idx': (0, 1, 2, 3, 4, 5, 6, 7, 8, 9, 10, 11, 12),\n",
       "  'cv_scores': array([0.93103448, 0.93103448, 0.89285714, 0.92857143, 0.89285714]),\n",
       "  'avg_score': 0.9152709359605913,\n",
       "  'feature_names': ('0',\n",
       "   '1',\n",
       "   '2',\n",
       "   '3',\n",
       "   '4',\n",
       "   '5',\n",
       "   '6',\n",
       "   '7',\n",
       "   '8',\n",
       "   '9',\n",
       "   '10',\n",
       "   '11',\n",
       "   '12')},\n",
       " 12: {'feature_idx': (0, 1, 2, 3, 4, 5, 6, 7, 8, 9, 10, 12),\n",
       "  'cv_scores': array([0.93103448, 0.93103448, 0.89285714, 0.92857143, 0.92857143]),\n",
       "  'avg_score': 0.9224137931034484,\n",
       "  'feature_names': ('0',\n",
       "   '1',\n",
       "   '2',\n",
       "   '3',\n",
       "   '4',\n",
       "   '5',\n",
       "   '6',\n",
       "   '7',\n",
       "   '8',\n",
       "   '9',\n",
       "   '10',\n",
       "   '12')},\n",
       " 11: {'feature_idx': (0, 1, 2, 3, 4, 5, 6, 7, 8, 10, 12),\n",
       "  'cv_scores': array([0.96551724, 0.96551724, 0.96428571, 0.89285714, 0.89285714]),\n",
       "  'avg_score': 0.9362068965517242,\n",
       "  'feature_names': ('0', '1', '2', '3', '4', '5', '6', '7', '8', '10', '12')},\n",
       " 10: {'feature_idx': (0, 1, 3, 4, 5, 6, 7, 8, 10, 12),\n",
       "  'cv_scores': array([0.89655172, 0.96551724, 0.96428571, 0.89285714, 0.92857143]),\n",
       "  'avg_score': 0.9295566502463055,\n",
       "  'feature_names': ('0', '1', '3', '4', '5', '6', '7', '8', '10', '12')},\n",
       " 9: {'feature_idx': (0, 1, 3, 4, 6, 7, 8, 10, 12),\n",
       "  'cv_scores': array([0.96551724, 0.96551724, 0.96428571, 0.89285714, 0.89285714]),\n",
       "  'avg_score': 0.9362068965517242,\n",
       "  'feature_names': ('0', '1', '3', '4', '6', '7', '8', '10', '12')}}"
      ]
     },
     "execution_count": 37,
     "metadata": {},
     "output_type": "execute_result"
    }
   ],
   "source": [
    "sfs.subsets_"
   ]
  },
  {
   "cell_type": "code",
   "execution_count": 35,
   "metadata": {},
   "outputs": [],
   "source": [
    "from sklearn.pipeline import Pipeline"
   ]
  },
  {
   "cell_type": "code",
   "execution_count": 44,
   "metadata": {},
   "outputs": [
    {
     "name": "stdout",
     "output_type": "stream",
     "text": [
      "{'sfsc__k_features': [1, 2, 3, 4, 5, 6, 7, 8, 9, 10, 11, 12, 13], 'clfc__max_depth': [4, 6, 8], 'clfc__random_state': [0, 42, 90, 120]}\n",
      "              precision    recall  f1-score   support\n",
      "\n",
      "           0       1.00      0.93      0.96        14\n",
      "           1       0.88      1.00      0.93        14\n",
      "           2       1.00      0.88      0.93         8\n",
      "\n",
      "    accuracy                           0.94        36\n",
      "   macro avg       0.96      0.93      0.94        36\n",
      "weighted avg       0.95      0.94      0.94        36\n",
      "\n",
      "{'clfc__max_depth': 4, 'clfc__random_state': 0, 'sfsc__k_features': 13}\n"
     ]
    }
   ],
   "source": [
    "sfs_p = {\n",
    "    'sfsc__k_features':list(range(1,14)),\n",
    "    \"clfc__max_depth\":[4,6,8],\n",
    "    \"clfc__random_state\":[0,42,90,120]}\n",
    "print(sfs_p)\n",
    "pipe = Pipeline([(\"sfsc\",sfs),(\"clfc\",clf)])\n",
    "getb(pipe,sfs_p,x_tr,x_te,y_tr,y_te)"
   ]
  },
  {
   "cell_type": "code",
   "execution_count": null,
   "metadata": {},
   "outputs": [],
   "source": []
  }
 ],
 "metadata": {
  "kernelspec": {
   "display_name": "Python 3",
   "language": "python",
   "name": "python3"
  },
  "language_info": {
   "codemirror_mode": {
    "name": "ipython",
    "version": 3
   },
   "file_extension": ".py",
   "mimetype": "text/x-python",
   "name": "python",
   "nbconvert_exporter": "python",
   "pygments_lexer": "ipython3",
   "version": "3.8.3"
  }
 },
 "nbformat": 4,
 "nbformat_minor": 4
}
